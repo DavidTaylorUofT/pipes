{
 "cells": [
  {
   "cell_type": "markdown",
   "metadata": {},
   "source": [
    "<p> The program is the following work of Model 1, Here I present a more complex network</p>\n",
    "<p> All data about pipes are estimated and assigned based on a rough map</p>"
   ]
  },
  {
   "cell_type": "code",
   "execution_count": 1,
   "metadata": {
    "collapsed": false
   },
   "outputs": [
    {
     "name": "stdout",
     "output_type": "stream",
     "text": [
      "Populating the interactive namespace from numpy and matplotlib\n"
     ]
    }
   ],
   "source": [
    "import sys\n",
    "sys.path.append(\"..\")    \n",
    "from allthethings import PyNetwork, PyPipe_ps\n",
    "from allthethings import PyBC_opt_dh\n",
    "import numpy as np\n",
    "import matplotlib.pyplot as plt\n",
    "%pylab inline\n",
    "from writeit import *\n",
    "import pickle\n",
    "import time\n",
    "from __future__ import division \n",
    "import pickle"
   ]
  },
  {
   "cell_type": "code",
   "execution_count": 2,
   "metadata": {
    "collapsed": true
   },
   "outputs": [],
   "source": [
    "# Build Model\n",
    "fi = \"../indata/Model2/Model2_Epipe-2.0.inp\"    \n",
    "fc = \"../indata/Model2/Model2_Epipe-2.0.config\" \n",
    "mtype=1\n",
    "n0=PyNetwork(fi,fc,mtype)"
   ]
  },
  {
   "cell_type": "code",
   "execution_count": 3,
   "metadata": {
    "collapsed": false
   },
   "outputs": [
    {
     "name": "stdout",
     "output_type": "stream",
     "text": [
      "[  50.   50.   50.   50.   50.  100.  100.  100.  100.]\n",
      "0.02\n",
      "The total run time is 248.124468 s, the total volume change is 14.066513 7.949091 cubic meters\n",
      "2401\n"
     ]
    }
   ],
   "source": [
    "# no longer to create .inp file and .config file\n",
    "\n",
    "l1=100\n",
    "mtype =1\n",
    "from time import sleep\n",
    "for ratio in [2]:\n",
    "    l2 = int(l1*ratio)\n",
    "    Ls = np.array([l1]*5+[l2]*4)  #no comma between numbers\n",
    "    print Ls/2\n",
    "    fi = \"../indata/Model2/Model2_Epipe_l_%d_%d.inp\"%(l1,l2)\n",
    "    fc = \"../indata/Model2/Model2_Epipe_l_%d_%d.config\"%(l1,l2)\n",
    "    n1=PyNetwork(fi,fc,mtype)\n",
    "\n",
    "    v = 2\n",
    "    Q_in1 = list(n1.Ds[0]**2*pi/4*v*np.ones(int(n1.M*0.7)))\n",
    "    Q_in2 = list(np.zeros(int(n1.M*0.3)+1))\n",
    "    Q_in = Q_in1+Q_in2\n",
    "    jt = n1.nodeTypes\n",
    "    dt = n1.T/n1.M  \n",
    "    print dt\n",
    "    aa=arange(0,len(jt)) \n",
    "    for j in range(len(aa[n1.nodeTypes==1])):#find the junction1s and set boundary value time series to .1*(pipe diameter)\n",
    "        bvt = n1.Ds[5]*np.ones(n1.M+1)\n",
    "        n1.setbVal(j,bvt) \n",
    "    n1.setbVal(0,Q_in)\n",
    "    n1.setbVal(1,n1.Ds[4]*np.ones(n1.M+1))\n",
    "\n",
    "    Np = n1.Nedges # number of pipes\n",
    "    p1 = PyPipe_ps(n1.Ns[0], n1.Ds[0],n1.Ls[0], n1.M, n1.a[0])      \n",
    "    h0 = p1.AofH(10,False)\n",
    "    A00 = h0*np.ones(n1.Ns[0])  \n",
    "    Q00 = Q_in[0]*np.ones(n1.Ns[0])\n",
    "    h1 = p1.AofH(0.01,False)\n",
    "    n1.setIC(0,A00,Q00) \n",
    "    for k in range(2,Np):                     #pipe number starts from 0, ends at Np-1. Here from 2 to Np-1\n",
    "        A00 = h1*np.ones(n1.Ns[k])  #set other pipes to 1e-3*(pipe diameter) to avoid near-zero roundoff issues\n",
    "        Q00 = np.zeros(n1.Ns[k])\n",
    "        n1.setIC(k, A00, Q00) \n",
    "    \n",
    "    V0 = n1.getTotalVolume()                 \n",
    "    n1.runForwardProblem(dt) \n",
    "    V1= n1.getTotalVolume()\n",
    "    print \"The total run time is %f s, the total volume change is %f %f cubic meters\" %(n1.solve_time, V1,V0)\n",
    "\n",
    "    # 0.  Create Data\n",
    "\n",
    "    # H [time step][pipe][grid] shows pressure head at a certain time step along a certain pipe with certain grid\n",
    "    t_store_interval = 1\n",
    "    M_store_interval = int(t_store_interval/dt)\n",
    "    H = [] \n",
    "    for time in xrange(0,n1.M+1,M_store_interval):\n",
    "        H_t = [] \n",
    "        for pipe in xrange(0,9):\n",
    "            H_t_pipe = n1.pressureSpaceSeries(pipe,time)\n",
    "            H_t.append(H_t_pipe)\n",
    "        H.append(H_t)\n",
    "    print len(H)\n",
    "    # x [pipe][grid] create x axis for a certain pipe using grids\n",
    "    x_interest=[]\n",
    "    for pipe in xrange(0,9): \n",
    "        x = np.linspace(0,n1.Ls[pipe],n1.Ns[pipe])\n",
    "        x_interest.append(x)\n",
    "    Data={\"H\":H,\"x\":x_interest}\n",
    "\n",
    "    file=open(\"/home/xin/pipes/examples/output_data/EpipeFig/length_ratio=%.2f\"%(1/ratio),\"wb\")\n",
    "    pickle.dump(Data,file)\n",
    "    file.close()\n",
    "    n1.reset()\n",
    "    sleep(30)"
   ]
  },
  {
   "cell_type": "code",
   "execution_count": null,
   "metadata": {
    "collapsed": false
   },
   "outputs": [],
   "source": [
    "Ds=n0.Ds\n",
    "Mrs=n0.Mrs\n",
    "jt=n0.nodeTypes     # number of pipes connecting to a certain junction\n",
    "# all pipes are opening except the inflow pipe\n",
    "bv=[0]*len(jt)\n",
    "bt=[1]\n",
    "r=[0]\n",
    "for i in xrange(1,len(jt)):\n",
    "    if jt[i]==1:\n",
    "        bt.append(2)\n",
    "        r.append(0)\n",
    "    else:\n",
    "        bt.append(0)\n",
    "        r.append(1)\n",
    "Np=n0.Nedges        #number of pipes\n",
    "h0s=[0.001]*Np\n",
    "q0s=[0.000]*Np      # carefully set it, it can determine if the model can be run \n",
    "T=2400\n",
    "a=90\n",
    "#M = int(T*a/(mdx*.8))\n",
    "Mi= 10000\n",
    "M = 200000\n",
    "#M= (M+Mi-M%Mi)  \n",
    "elevs=[1,1,1,1,1,1,0,0,0,0]\n",
    "\n"
   ]
  },
  {
   "cell_type": "code",
   "execution_count": null,
   "metadata": {
    "collapsed": true
   },
   "outputs": [],
   "source": [
    "def rewritePipes(fn, oldinp, Ns, Ls, Mrs, Ds, jt, bt, bv, r, h0s, q0s, T, M, Mi, a,elevs):\n",
    "    newconfig = fn + (\".config\")\n",
    "    newinp = fn + \".inp\"\n",
    "#    Mi = 10\n",
    "# config file section titles\n",
    "    Ptitle = \"[PIPE_INFO]\\n\\\n",
    ";-------------------------------------------\\n\\\n",
    ";initial  initial\\n; ID    N       h       Q\\n\\\n",
    ";-------------------------------------------\\n\"\n",
    "    Jtitle = \"[JUNCTION_INFO]\\\n",
    ";-------------------------------------------------------------------------------------\\n\\\n",
    ";{-----for junction1s-----} | {--for junction2s--} | {------for junction3s-------}|\\n\\\n",
    ";ID     jtype   bvaltype  bval   reflect   | offset   valveopen   | offset01   offset02   offset12 |\\n\\\n",
    ";------------------------------------------------------------------------------------\\n\"\n",
    "    Ttitle = \"[TIME_INFO]\\\n",
    ";---------------------------------------\\n\\\n",
    ";T (s)           M        Mi     a  (m/s)\\n\\\n",
    ";-----------------------------------------\\n\"\n",
    "    \n",
    "# open config file and write\n",
    "    with open(newconfig, 'w') as fw:\n",
    "        fw.write(Ptitle)\n",
    "        for j in range(len(Ns)):\n",
    "            fw.write(\"%d    %d   %2.5f   %2.3f\\n\" %\n",
    "                     (j, int(Ns[j]), h0s[j], q0s[j]))\n",
    "        fw.write(\"\\n\")\n",
    "        fw.write(Jtitle)\n",
    "        for k in range(len(jt)):\n",
    "            fw.write(\"%d     %d     %d     %d     %d     %d     %d     %d     %d     %d\\n\" % (\n",
    "                k, jt[k], bt[k], bv[k], r[k], 0, 1, 0, 0, 0))\n",
    "        fw.write(\"\\n\")\n",
    "        fw.write(Ttitle)\n",
    "        fw.write(\"%3.3f       %d         %d        %.1f\" % (T, M, Mi, a))\n",
    "    fw.close()\n",
    "# now open old inp file and change pipe properties, leaving everthing else\n",
    "# the same\n",
    "    count = 0\n",
    "    count1 = 0\n",
    "    count2 = 0\n",
    "    with open(oldinp, 'r') as fold:\n",
    "        with open(newinp, 'wb') as fnew:\n",
    "            for line in fold:\n",
    "                s = line.split()\n",
    "                if '[' in line:\n",
    "                    fnew.write(line)\n",
    "                    count += 1\n",
    "                elif (count ==2) and len(s) >1 and (';' not in s[0]): \n",
    "                    fnew.write(\"%d %15s %2.3f %15s0 %30s ;\\n\"%(count1,\" \",elevs[count1],\" \",\" \"))\n",
    "                    count1 +=1\n",
    "                    #print count1\n",
    "                    if count1>=len(jt):\n",
    "                        count+=1   \n",
    "                elif (count < 6) and len(s) > 1 and (';' not in s[0]):\n",
    "                    #print 'yes'\n",
    "                    fnew.write(\"%s %23s %s %23s %s %17s %4.1d %10s %2.2f %10s %1.4f %10s 0 %12s open\\n\" % \\\n",
    "                                (s[0],\" \",s[1],\" \", s[2],\" \", Ls[count2],\" \", Ds[count2],\" \", Mrs[count2],\"\",\"\"))\n",
    "                    count2 += 1\n",
    "                    if count2 >= len(Ns):\n",
    "                        count += 1\n",
    "                else:\n",
    "                    fnew.write(line)\n",
    "    #print \"new files are %s and %s\" % (newinp, newconfig)\n",
    "    return (newinp, newconfig)"
   ]
  },
  {
   "cell_type": "code",
   "execution_count": null,
   "metadata": {
    "collapsed": false
   },
   "outputs": [],
   "source": [
    "l1=100\n",
    "for ratio in [2]:\n",
    "    if ratio == 2:  # The error message requires to increase dt\n",
    "        M = 120000\n",
    "    l2 = int(l1*ratio)\n",
    "    Ls = np.array([l1]*5+[l2]*4)  #no comma between numbers\n",
    "    print Ls/2\n",
    "    Ns = [int(l) for l in Ls/2] \n",
    "    mdx = min([Ls[i]/Ns[i] for i in range (Np)])\n",
    "    fn = \"../indata/Model2/Model2_Epipe_l_%d_%d\"%(l1,l2)           # new file name for .inp and .config\n",
    "    oldinp = \"../indata/Model2/Model2_Epipe-2.0.inp\"                   # old inp file\n",
    "    (fi2,fc2) = rewritePipes(fn,oldinp, Ns, Ls, Mrs, Ds, jt, bt, bv, r, h0s, q0s, T, M, Mi, a, elevs)\n",
    "#fi = \"../indata/Model2/Model2_Epipe_r_%.2f_%.2f.inp\"%(r1,r2)\n",
    "#fc = \"../indata/Model2/Model2_Epipe_r_%.2f_%.2f.config\"%(r1,r2)\n",
    "    n1=PyNetwork(fi2,fc2,mtype)\n",
    "    v = 2\n",
    "    Q_in1 = list(n1.Ds[0]**2*pi/4*v*np.ones(int(n1.M*0.7)))\n",
    "    Q_in2 = list(np.zeros(int(n1.M*0.3)+1))\n",
    "    Q_in = Q_in1+Q_in2\n",
    "    jt = n1.nodeTypes\n",
    "    dt = n1.T/n1.M  \n",
    "    print dt\n",
    "    aa=arange(0,len(jt)) \n",
    "    for j in range(len(aa[n1.nodeTypes==1])):#find the junction1s and set boundary value time series to .1*(pipe diameter)\n",
    "        bvt = n1.Ds[5]*np.ones(n1.M+1)\n",
    "        n1.setbVal(j,bvt) \n",
    "    n1.setbVal(0,Q_in)\n",
    "    n1.setbVal(1,n1.Ds[4]*np.ones(n1.M+1))\n",
    "\n",
    "    V0 = n1.getTotalVolume()                 \n",
    "    n1.runForwardProblem(dt) \n",
    "    V1= n1.getTotalVolume()\n",
    "    print \"The total run time is %f s, the total volume change is %f %f cubic meters\" %(n1.solve_time, V1,V0)\n",
    "\n",
    "    # 0.  Create Data\n",
    "\n",
    "    # H [time step][pipe][grid] shows pressure head at a certain time step along a certain pipe with certain grid\n",
    "    t_store_interval = 1\n",
    "    M_store_interval = int(t_store_interval/dt)\n",
    "    H = [] \n",
    "    for time in xrange(0,n1.M+1,M_store_interval):\n",
    "        H_t = [] \n",
    "        for pipe in xrange(0,9):\n",
    "            H_t_pipe = n1.pressureSpaceSeries(pipe,time)\n",
    "            H_t.append(H_t_pipe)\n",
    "        H.append(H_t)\n",
    "    print len(H)\n",
    "    # x [pipe][grid] create x axis for a certain pipe using grids\n",
    "    x_interest=[]\n",
    "    for pipe in xrange(0,9): \n",
    "        x = np.linspace(0,n1.Ls[pipe],n1.Ns[pipe])\n",
    "        x_interest.append(x)\n",
    "    Data={\"H\":H,\"x\":x_interest}\n",
    "\n",
    "    file=open(\"/home/xin/pipes/examples/output_data/EpipeFig/length_ratio=%.2f\"%(1/ratio),\"wb\")\n",
    "    pickle.dump(Data,file)\n",
    "    file.close()\n",
    "    n1.reset()"
   ]
  },
  {
   "cell_type": "code",
   "execution_count": 1,
   "metadata": {
    "collapsed": false
   },
   "outputs": [],
   "source": [
    "from time import sleep\n",
    "sleep(4)\n"
   ]
  },
  {
   "cell_type": "code",
   "execution_count": null,
   "metadata": {
    "collapsed": true
   },
   "outputs": [],
   "source": []
  }
 ],
 "metadata": {
  "kernelspec": {
   "display_name": "Python 2",
   "language": "python",
   "name": "python2"
  },
  "language_info": {
   "codemirror_mode": {
    "name": "ipython",
    "version": 2
   },
   "file_extension": ".py",
   "mimetype": "text/x-python",
   "name": "python",
   "nbconvert_exporter": "python",
   "pygments_lexer": "ipython2",
   "version": "2.7.11"
  }
 },
 "nbformat": 4,
 "nbformat_minor": 0
}
