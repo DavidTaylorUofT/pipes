{
 "cells": [
  {
   "cell_type": "code",
   "execution_count": 1,
   "metadata": {
    "collapsed": false
   },
   "outputs": [
    {
     "name": "stdout",
     "output_type": "stream",
     "text": [
      "Populating the interactive namespace from numpy and matplotlib\n"
     ]
    }
   ],
   "source": [
    "import sys\n",
    "sys.path.append(\"..\")\n",
    "from allthethings import PyNetwork, PyPipe_ps\n",
    "from allthethings import PyBC_opt_dh\n",
    "import numpy as np\n",
    "import matplotlib.pyplot as plt\n",
    "%pylab inline\n",
    "from scipy import optimize\n",
    "from writeit import rewritePipes"
   ]
  },
  {
   "cell_type": "code",
   "execution_count": 2,
   "metadata": {
    "collapsed": false
   },
   "outputs": [
    {
     "name": "stdout",
     "output_type": "stream",
     "text": [
      "30000\n"
     ]
    }
   ],
   "source": [
    "btype = 0   #specifying A (btype =0) or 'Q (btype = 0) at boundary?\n",
    "case = 1## should be 0,1, or 2\n",
    "\n",
    "D = .1            #pipe diameter (m)\n",
    "Mr = 0.007        #manning roughness coeffs\n",
    "T = 24           #simulation time (s)\n",
    "a = 100            #pressure wavespeed\n",
    "Ltot = 48\n",
    "\n",
    "if case ==0: # with 3 free elevation nodes\n",
    "    Np = 4\n",
    "    Nn = Np+1\n",
    "    oldinp = \"../indata/DFDpleasework5.inp\"\n",
    "\n",
    "if case ==1: #with 5 free elevation nodes\n",
    "    Np =6\n",
    "    Nn = Np+1\n",
    "    oldinp = \"../indata/DFDpleasework7.inp\"\n",
    "\n",
    "if case ==2: #with 5 free elevation nodes\n",
    "    Np = 8\n",
    "    Nn = Np+1\n",
    "    oldinp = \"../indata/DFDpleasework4.inp\"\n",
    "\n",
    "Ndof = Nn-2\n",
    "    \n",
    "L = Ltot/float(Np)\n",
    "N = 2*int(L)\n",
    "dx = L/float(N)\n",
    "M = max(int(T*a/(dx*.8))*5,1)\n",
    "Qin =0.0087\n",
    "Ain =  0.00793018096379\n",
    "\n",
    "if btype==0:\n",
    "    bval = Ain\n",
    "else:\n",
    "    bval = Qin\n",
    "\n",
    "fn = \"../indata/optim_elev_test\"\n",
    "params= (D,N,L,Mr,T,M,a,bval,Qin,Np,fn,oldinp,case,btype)\n",
    "print M"
   ]
  },
  {
   "cell_type": "code",
   "execution_count": 3,
   "metadata": {
    "collapsed": false
   },
   "outputs": [],
   "source": [
    "def f(z,*params):\n",
    "    D,N,L,Mr,T,M,a,bval,Qin,Np,fn,oldinp,case,btype = params\n",
    "    if case==0:\n",
    "        e0,e1,e2 = z\n",
    "        elevs = [10,e0,e1,e2,5]\n",
    "    elif case ==1:\n",
    "        e0,e1,e2,e3,e4 = z\n",
    "        elevs = [10,e0,e1,e2,e3,e4,5]\n",
    "    elif case ==2:\n",
    "        e0,e1,e2,e3,e4,e5,e6 = z\n",
    "        elevs = [10,e0,e1,e2,e3,e4,e5,e6,5]#junction elevations\n",
    "\n",
    "    if btype ==0:\n",
    "        h0 =0\n",
    "    else:\n",
    "        h0 = 0.00328335033016\n",
    "    Nn = len(elevs)\n",
    "    dt = T/float(M)\n",
    "    Ns = [N]*Np\n",
    "    Ls = [L]*Np\n",
    "    Mrs = [Mr]*Np  #manning roughness coeffs\n",
    "    Ds = [D]*Np      #pipe diameter (m) \n",
    "    h0s = [h0]*Np    #IC for h\n",
    "    q0s = [0]*Np    #IC for Q\n",
    "    jt = [1]+[2]*(Nn-2)+[1]  #for DFDpleasework2.inp\n",
    "    bt = [1]*Nn\n",
    "    bt[0] = btype\n",
    "    bv = [0]+[1]*(Nn-1)\n",
    "    r =  [0]+[1]*(Nn-2)+[-1]\n",
    "    \n",
    "    (fi, fc) = rewritePipes(fn,oldinp, Ns, Ls, Mrs, Ds, jt, bt, bv, r, h0s, q0s, T, M, a, elevs)\n",
    "    n1 = PyNetwork(fi,fc,1)\n",
    "\n",
    "    b00 = bval*np.ones(M+1)\n",
    "    n1.setbVal(0,b00)\n",
    "    if btype==0:\n",
    "        A00 = np.ones(N)*bval\n",
    "        Q00 = np.ones(N)*Qin\n",
    "        n1.setIC(0,Q00,A00)\n",
    "    n1.runForwardProblem(dt)\n",
    "    H = sum([n1.getAveGradH(i) for i in range(M+1)])\n",
    "    #print \"elevs = [10,%f, %f, %f, 6, %f, %f, 10] and H = %f\"%(e0,e1,e2,e3,e4,H)\n",
    "    return H"
   ]
  },
  {
   "cell_type": "code",
   "execution_count": 4,
   "metadata": {
    "collapsed": false
   },
   "outputs": [
    {
     "name": "stdout",
     "output_type": "stream",
     "text": [
      "(7.4643727973945415, 9.80259174889677, 9.296424397966927, 6.0367223277284232, 8.7115065726709204)\n",
      "362595.992716\n"
     ]
    }
   ],
   "source": [
    "#z0 = (10,8,7)\n",
    "#z0 = (7,7,8,8)\n",
    "#z0 = (7,7,7,8,8,8)\n",
    "\n",
    "z0 = tuple(np.random.rand(Ndof)*5+5)\n",
    "print z0\n",
    "\n",
    "print f(z0,*params)"
   ]
  },
  {
   "cell_type": "code",
   "execution_count": 5,
   "metadata": {
    "collapsed": false
   },
   "outputs": [],
   "source": [
    "if case==0:\n",
    "    cons = ({'type': 'ineq', 'fun': lambda x:  x[0] -4},\n",
    "        {'type': 'ineq', 'fun': lambda x: -x[0] +12},\n",
    "        {'type': 'ineq', 'fun': lambda x:  x[1] -4},\n",
    "        {'type': 'ineq', 'fun': lambda x: -x[1] +12},\n",
    "        {'type': 'ineq', 'fun': lambda x:  x[2] -4},\n",
    "        {'type': 'ineq', 'fun': lambda x: -x[2] +12},\n",
    "       )\n",
    "elif case==1:\n",
    "    cons = ({'type': 'ineq', 'fun': lambda x:  x[0] -4},\n",
    "        {'type': 'ineq', 'fun': lambda x: -x[0] +12},\n",
    "        {'type': 'ineq', 'fun': lambda x:  x[1] -4},\n",
    "        {'type': 'ineq', 'fun': lambda x: -x[1] +12},\n",
    "        {'type': 'ineq', 'fun': lambda x:  x[2] -4},\n",
    "        {'type': 'ineq', 'fun': lambda x: -x[2] +12},\n",
    "        {'type': 'ineq', 'fun': lambda x:  x[3] -4},\n",
    "        {'type': 'ineq', 'fun': lambda x: -x[3] +12},\n",
    "       )\n",
    "elif case==2:\n",
    "    cons = ({'type': 'ineq', 'fun': lambda x:  x[0] -4},\n",
    "        {'type': 'ineq', 'fun': lambda x: -x[0] +12},\n",
    "        {'type': 'ineq', 'fun': lambda x:  x[1] -4},\n",
    "        {'type': 'ineq', 'fun': lambda x: -x[1] +12},\n",
    "        {'type': 'ineq', 'fun': lambda x:  x[2] -4},\n",
    "        {'type': 'ineq', 'fun': lambda x: -x[2] +12},\n",
    "        {'type': 'ineq', 'fun': lambda x:  x[3] -4},\n",
    "        {'type': 'ineq', 'fun': lambda x: -x[3] +12},\n",
    "        {'type': 'ineq', 'fun': lambda x:  x[4] -4},\n",
    "        {'type': 'ineq', 'fun': lambda x: -x[4] +12},\n",
    "        {'type': 'ineq', 'fun': lambda x:  x[5] -4},\n",
    "        {'type': 'ineq', 'fun': lambda x: -x[5] +12},\n",
    "       )"
   ]
  },
  {
   "cell_type": "code",
   "execution_count": 6,
   "metadata": {
    "collapsed": false
   },
   "outputs": [],
   "source": [
    "class MyBounds(object):\n",
    "    def __init__(self, xmax=[12]*Ndof, xmin=[4]*Ndof):\n",
    "        self.xmax = np.array(xmax) \n",
    "        self.xmin = np.array(xmin)\n",
    "    def __call__(self, **kwargs):\n",
    "        x = kwargs[\"x_new\"]\n",
    "        tmax = bool(np.all(x <= self.xmax))\n",
    "        tmin = bool(np.all(x >= self.xmin))\n",
    "        return tmax and tmin"
   ]
  },
  {
   "cell_type": "code",
   "execution_count": 7,
   "metadata": {
    "collapsed": true
   },
   "outputs": [],
   "source": [
    "def print_f(x,f,accepted):\n",
    "    print \"f = %f x = %s, accepted = %d\"%(f,str(x), int(accepted))"
   ]
  },
  {
   "cell_type": "code",
   "execution_count": 8,
   "metadata": {
    "collapsed": false
   },
   "outputs": [
    {
     "name": "stdout",
     "output_type": "stream",
     "text": [
      "f = 102922.571411 x = [ 9.0719375   8.95248307  7.99925478  7.04006476  5.95515965], accepted = 1\n",
      "f = 96744.051607 x = [ 9.41005566  8.64325624  7.85429409  7.06443113  5.78930093], accepted = 1\n",
      "f = 90365.842986 x = [ 9.18326698  8.54969128  7.71578023  6.87834213  5.83499414], accepted = 1\n",
      "f = 81705.600172 x = [ 9.16683328  8.34944474  7.51535234  6.68008208  5.83378629], accepted = 1\n",
      "f = 85630.476452 x = [ 8.96189555  8.16229347  7.37066909  6.58047669  5.79018668], accepted = 0\n"
     ]
    },
    {
     "name": "stderr",
     "output_type": "stream",
     "text": [
      "/Users/lieba/anaconda/lib/python2.7/site-packages/scipy/optimize/_basinhopping.py:290: RuntimeWarning: overflow encountered in exp\n",
      "  w = min(1.0, np.exp(-(energy_new - energy_old) * self.beta))\n"
     ]
    }
   ],
   "source": [
    "minimizer_kwargs = {\"method\": \"COBYLA\",\"constraints\":cons,\"args\":params}\n",
    "np.random.seed(555)\n",
    "mybounds = MyBounds()\n",
    "ret = optimize.basinhopping(f, z0,  minimizer_kwargs=minimizer_kwargs,\n",
    "                   niter=5, accept_test = mybounds, callback=print_f)\n",
    "\n",
    "#res = optimize.anneal(f, z, args=params, schedule='boltzmann',\n",
    "#                          full_output=True, maxiter=50, lower=20,\n",
    "#                          upper=250, dwell=50, disp=True, feps = 1e-3)"
   ]
  },
  {
   "cell_type": "code",
   "execution_count": 9,
   "metadata": {
    "collapsed": false
   },
   "outputs": [
    {
     "data": {
      "text/plain": [
       "                  nfev: 555\n",
       " minimization_failures: 0\n",
       "                   fun: 81705.60017191933\n",
       "                     x: array([ 9.16683328,  8.34944474,  7.51535234,  6.68008208,  5.83378629])\n",
       "               message: ['requested number of basinhopping iterations completed successfully']\n",
       "                   nit: 5"
      ]
     },
     "execution_count": 9,
     "metadata": {},
     "output_type": "execute_result"
    }
   ],
   "source": [
    "ret\n"
   ]
  },
  {
   "cell_type": "code",
   "execution_count": 10,
   "metadata": {
    "collapsed": false
   },
   "outputs": [
    {
     "name": "stdout",
     "output_type": "stream",
     "text": [
      "24\n"
     ]
    }
   ],
   "source": [
    "f0 = f(z0,*params)\n",
    "ff = ret.fun\n",
    "print T"
   ]
  },
  {
   "cell_type": "code",
   "execution_count": 11,
   "metadata": {
    "collapsed": false
   },
   "outputs": [
    {
     "name": "stdout",
     "output_type": "stream",
     "text": [
      "Np = &6\n",
      "Nfev = &555\n",
      "z_0= &[7.4643727973945415, 9.80259174889677, 9.296424397966927, 6.0367223277284232, 8.7115065726709204]\n",
      "z_f =& [9.1668332830646904, 8.3494447385242765, 7.5153523397735409, 6.680082075403897, 5.8337862899544168]\n",
      "f_0 =& 362595.992716, f_f = 81705.600172, f_f/f_0=0.225335\n"
     ]
    }
   ],
   "source": [
    "print \"Np = &%d\"%Np\n",
    "print \"Nfev = &%d\"%ret.nfev\n",
    "print \"z_0= &%s\"%(str(list(z0)))\n",
    "print \"z_f =& %s\"%(str(list(ret.x)))\n",
    "print \"f_0 =& %f, f_f = %f, f_f/f_0=%f\"%(f0,ff,ff/f0)"
   ]
  },
  {
   "cell_type": "code",
   "execution_count": null,
   "metadata": {
    "collapsed": false
   },
   "outputs": [],
   "source": [
    "print \"z_0&= %s\"%(str(z0))\n",
    "print \"z_f& = %s\"%(str(ret.x))\n",
    "print \"f_0& = %f, f_f = %f, f_f/f_0=%f\"%(f0,ff,ff/f0)"
   ]
  },
  {
   "cell_type": "code",
   "execution_count": 15,
   "metadata": {
    "collapsed": false
   },
   "outputs": [
    {
     "ename": "SyntaxError",
     "evalue": "invalid syntax (<ipython-input-15-9684ddbf2250>, line 2)",
     "output_type": "error",
     "traceback": [
      "\u001b[0;36m  File \u001b[0;32m\"<ipython-input-15-9684ddbf2250>\"\u001b[0;36m, line \u001b[0;32m2\u001b[0m\n\u001b[0;31m    Np = &6\u001b[0m\n\u001b[0m         ^\u001b[0m\n\u001b[0;31mSyntaxError\u001b[0m\u001b[0;31m:\u001b[0m invalid syntax\n"
     ]
    }
   ],
   "source": [
    "\n",
    "Np = &6\n",
    "Nfev = &340\n",
    "z_0= &[7.5, 6.5, 7.5, 8.5]\n",
    "z_f =& [8.7409181741445288, 6.4482813556630605, 7.8603789169278508, 7.8071324922307346]\n",
    "f_0 =& 625689.371403, f_f = 110665.153922, f_f/f_0=0.176869"
   ]
  },
  {
   "cell_type": "code",
   "execution_count": 14,
   "metadata": {
    "collapsed": false
   },
   "outputs": [
    {
     "data": {
      "text/plain": [
       "array([ 8.93812713,  7.63065119,  6.71595473,  6.9738486 ,  7.95737693,\n",
       "        9.0219969 ])"
      ]
     },
     "execution_count": 14,
     "metadata": {},
     "output_type": "execute_result"
    }
   ],
   "source": [
    "ret.x"
   ]
  }
 ],
 "metadata": {
  "kernelspec": {
   "display_name": "Python 2",
   "language": "python",
   "name": "python2"
  },
  "language_info": {
   "codemirror_mode": {
    "name": "ipython",
    "version": 2
   },
   "file_extension": ".py",
   "mimetype": "text/x-python",
   "name": "python",
   "nbconvert_exporter": "python",
   "pygments_lexer": "ipython2",
   "version": "2.7.10"
  }
 },
 "nbformat": 4,
 "nbformat_minor": 0
}
