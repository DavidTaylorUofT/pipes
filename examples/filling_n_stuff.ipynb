{
 "cells": [
  {
   "cell_type": "code",
   "execution_count": 1,
   "metadata": {
    "collapsed": false
   },
   "outputs": [
    {
     "name": "stdout",
     "output_type": "stream",
     "text": [
      "Populating the interactive namespace from numpy and matplotlib\n"
     ]
    }
   ],
   "source": [
    "import sys\n",
    "sys.path.append(\"..\")\n",
    "from allthethings import PyNetwork, PyPipe_ps\n",
    "from allthethings import PyBC_opt_dh\n",
    "import numpy as np\n",
    "import matplotlib.pyplot as plt\n",
    "from writeit import rewritePipes\n",
    "%pylab inline"
   ]
  },
  {
   "cell_type": "code",
   "execution_count": 2,
   "metadata": {
    "collapsed": true
   },
   "outputs": [],
   "source": [
    "def idx_t(i,j,n,N):\n",
    "    return (2*(N+2)*n+(N+2)*i+j)"
   ]
  },
  {
   "cell_type": "code",
   "execution_count": 22,
   "metadata": {
    "collapsed": false
   },
   "outputs": [
    {
     "name": "stdout",
     "output_type": "stream",
     "text": [
      "new files are ../indata/testfill.inp and ../indata/testfill.config\n",
      "Inflow Volume = 159.34\n",
      "new files are ../indata/testfill.inp and ../indata/testfill.config\n",
      "Inflow Volume = 159.58\n",
      "new files are ../indata/testfill.inp and ../indata/testfill.config\n",
      "Inflow Volume = 159.89\n",
      "new files are ../indata/testfill.inp and ../indata/testfill.config\n",
      "Inflow Volume = 160.08\n",
      "new files are ../indata/testfill.inp and ../indata/testfill.config\n",
      "Inflow Volume = 160.44\n"
     ]
    }
   ],
   "source": [
    "mtype =1\n",
    "Np=2\n",
    "Mrs = [0.002]*Np\n",
    "Ds = [1.]*Np\n",
    "jt = [1,2,1]\n",
    "bt = [1,1,1]\n",
    "bv = [0,0,0]\n",
    "r =  [-1,0,1]\n",
    "h0s =[0.]*Np\n",
    "q0s =[0.]*Np\n",
    "\n",
    "Ls = [100.,100]\n",
    "Ns = [int(L) for L in Ls]\n",
    "T = 60\n",
    "M = 7200\n",
    "Mi =10\n",
    "a = 100\n",
    "elevs = [0,0,0]\n",
    "H = []\n",
    "N = Ns[0]\n",
    "dt = T/float(M)\n",
    "A0 = 0.792325375237 #corresponds to H = 10(verify?)\n",
    "Qin = A0*np.ones(M+1)\n",
    "a0 = A0*np.ones(N+1)\n",
    "q0 = np.ones(N+1)\n",
    "q1 = np.zeros(N+1)\n",
    "fn = \"../indata/testfill\"\n",
    "oldinp = \"../indata/2pipes.inp\"\n",
    "for ii in range(5):\n",
    "    a1 = .1*ii*np.ones(N+1)\n",
    "    (fi, fc) = rewritePipes(fn,oldinp, Ns, Ls, Mrs, Ds, jt, bt, bv, r, h0s, q0s, T, M, a,elevs)\n",
    "    n0 = PyNetwork(fi, fc, mtype)\n",
    "    n0.setIC(0,a0,q0)\n",
    "    n0.setIC(1,a1,q1)\n",
    "    n0.setbVal(0,Qin)\n",
    "    n0.runForwardProblem(dt) \n",
    "    print \"Inflow Volume = %.2f\"%n0.getTotalVolume()\n",
    "    p0 = PyPipe_ps(Ns[0], Ds[0], Ls[0], M, a)\n",
    "    qf = n0.qhist(1)\n",
    "    Nstar = 10\n",
    "    H.append([p0.pbar(qf[idx_t(0,Nstar,n,Ns[0])],False) for n in range(M+1)])"
   ]
  },
  {
   "cell_type": "code",
   "execution_count": 23,
   "metadata": {
    "collapsed": false
   },
   "outputs": [
    {
     "data": {
      "text/plain": [
       "(0, 25)"
      ]
     },
     "execution_count": 23,
     "metadata": {},
     "output_type": "execute_result"
    },
    {
     "data": {
      "image/png": "[encoded data removed]",
      "text/plain": [
       "<matplotlib.figure.Figure at 0x107f53950>"
      ]
     },
     "metadata": {},
     "output_type": "display_data"
    }
   ],
   "source": [
    "from matplotlib import cm\n",
    "import matplotlib.colors as colors\n",
    "cmap = cm.get_cmap('ocean')\n",
    "cnorm =colors.Normalize(vmin=0, vmax = len(H)+1)\n",
    "scalarMap = cm.ScalarMappable(norm =cnorm, cmap= cmap)\n",
    "t = np.linspace(0,n0.T,n0.M+1)\n",
    "for kk in range(len(H)):\n",
    "    cval = scalarMap.to_rgba(kk)\n",
    "    plot(t,H[kk],color = cval, label = \"p0 = %.2f m\"%p0.pbar(.1*kk,False))\n",
    "legend(loc = \"upper left\")\n",
    "title(\"Manning coeff = %.3f\"%Mrs[1])\n",
    "gca().set_ylim(0,25)"
   ]
  },
  {
   "cell_type": "code",
   "execution_count": 24,
   "metadata": {
    "collapsed": false
   },
   "outputs": [
    {
     "name": "stdout",
     "output_type": "stream",
     "text": [
      "0.792325375237\n",
      "10.0000001486\n"
     ]
    }
   ],
   "source": [
    "print p0.AofH(10,True)\n",
    "print p0.HofA(A0,True)"
   ]
  },
  {
   "cell_type": "code",
   "execution_count": 21,
   "metadata": {
    "collapsed": false
   },
   "outputs": [
    {
     "data": {
      "text/plain": [
       "[100.00000000000024, 100.00000000000016]"
      ]
     },
     "execution_count": 21,
     "metadata": {},
     "output_type": "execute_result"
    }
   ],
   "source": [
    "n0.cmax"
   ]
  },
  {
   "cell_type": "code",
   "execution_count": 37,
   "metadata": {
    "collapsed": true
   },
   "outputs": [],
   "source": [
    "dx = Ls[0]/Ns[0]"
   ]
  },
  {
   "cell_type": "code",
   "execution_count": 38,
   "metadata": {
    "collapsed": false
   },
   "outputs": [
    {
     "name": "stdout",
     "output_type": "stream",
     "text": [
      "0.833333333333\n"
     ]
    }
   ],
   "source": [
    "print n0.cmax[0]*dt/dx"
   ]
  },
  {
   "cell_type": "code",
   "execution_count": null,
   "metadata": {
    "collapsed": true
   },
   "outputs": [],
   "source": []
  }
 ],
 "metadata": {
  "kernelspec": {
   "display_name": "Python 2",
   "language": "python",
   "name": "python2"
  },
  "language_info": {
   "codemirror_mode": {
    "name": "ipython",
    "version": 2
   },
   "file_extension": ".py",
   "mimetype": "text/x-python",
   "name": "python",
   "nbconvert_exporter": "python",
   "pygments_lexer": "ipython2",
   "version": "2.7.9"
  }
 },
 "nbformat": 4,
 "nbformat_minor": 0
}
