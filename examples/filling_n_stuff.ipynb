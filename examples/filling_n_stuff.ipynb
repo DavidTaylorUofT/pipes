{
 "cells": [
  {
   "cell_type": "code",
   "execution_count": 1,
   "metadata": {
    "collapsed": false
   },
   "outputs": [
    {
     "ename": "ImportError",
     "evalue": "No module named numpy",
     "output_type": "error",
     "traceback": [
      "\u001b[0;31m---------------------------------------------------------------------------\u001b[0m",
      "\u001b[0;31mImportError\u001b[0m                               Traceback (most recent call last)",
      "\u001b[0;32m<ipython-input-1-145d4fb4efdc>\u001b[0m in \u001b[0;36m<module>\u001b[0;34m()\u001b[0m\n\u001b[1;32m      1\u001b[0m \u001b[0;32mimport\u001b[0m \u001b[0msys\u001b[0m\u001b[0;34m\u001b[0m\u001b[0m\n\u001b[1;32m      2\u001b[0m \u001b[0msys\u001b[0m\u001b[0;34m.\u001b[0m\u001b[0mpath\u001b[0m\u001b[0;34m.\u001b[0m\u001b[0mappend\u001b[0m\u001b[0;34m(\u001b[0m\u001b[0;34m\"..\"\u001b[0m\u001b[0;34m)\u001b[0m\u001b[0;34m\u001b[0m\u001b[0m\n\u001b[0;32m----> 3\u001b[0;31m \u001b[0;32mfrom\u001b[0m \u001b[0mallthethings\u001b[0m \u001b[0;32mimport\u001b[0m \u001b[0mPyNetwork\u001b[0m\u001b[0;34m,\u001b[0m \u001b[0mPyPipe_ps\u001b[0m\u001b[0;34m\u001b[0m\u001b[0m\n\u001b[0m\u001b[1;32m      4\u001b[0m \u001b[0;32mfrom\u001b[0m \u001b[0mallthethings\u001b[0m \u001b[0;32mimport\u001b[0m \u001b[0mPyBC_opt_dh\u001b[0m\u001b[0;34m\u001b[0m\u001b[0m\n\u001b[1;32m      5\u001b[0m \u001b[0;32mimport\u001b[0m \u001b[0mnumpy\u001b[0m \u001b[0;32mas\u001b[0m \u001b[0mnp\u001b[0m\u001b[0;34m\u001b[0m\u001b[0m\n",
      "\u001b[0;32m__init__.pxd\u001b[0m in \u001b[0;36minit allthethings (allthethings.cpp:13881)\u001b[0;34m()\u001b[0m\n",
      "\u001b[0;31mImportError\u001b[0m: No module named numpy"
     ]
    }
   ],
   "source": [
    "import sys\n",
    "sys.path.append(\"..\")\n",
    "from allthethings import PyNetwork, PyPipe_ps\n",
    "from allthethings import PyBC_opt_dh\n",
    "import numpy as np\n",
    "import matplotlib.pyplot as plt\n",
    "from writeit import rewritePipes\n",
    "%pylab inline"
   ]
  },
  {
   "cell_type": "code",
   "execution_count": null,
   "metadata": {
    "collapsed": true
   },
   "outputs": [],
   "source": [
    "def idx_t(i,j,n,N):\n",
    "    return (2*(N+2)*n+(N+2)*i+j)"
   ]
  },
  {
   "cell_type": "code",
   "execution_count": null,
   "metadata": {
    "collapsed": false
   },
   "outputs": [],
   "source": [
    "mtype =1\n",
    "Np=2\n",
    "\n",
    "Ds = [1.]*Np\n",
    "jt = [1,2,1]\n",
    "bt = [1,1,1]\n",
    "bv = [0,0,0]\n",
    "r =  [-1,0,1]\n",
    "h0s =[0.]*Np\n",
    "q0s =[0.]*Np\n",
    "\n",
    "Ls = [100.,100]\n",
    "Ns = [int(L) for L in Ls]\n",
    "T = 60\n",
    "M = 7200\n",
    "Mi =10\n",
    "a = 100\n",
    "elevs = [0,0,0]\n",
    "H = []\n",
    "N = Ns[0]\n",
    "dt = T/float(M)\n",
    "A0 = 0.792325375237 #corresponds to H = 10(verify?)\n",
    "Qin = A0*np.ones(M+1)\n",
    "a0 = A0*np.ones(N+1)\n",
    "q0 = np.ones(N+1)\n",
    "q1 = np.zeros(N+1)\n",
    "fn = \"../indata/testfill\"\n",
    "oldinp = \"../indata/2pipes.inp\"\n",
    "Mrtest=[0.00, 0.008, 0.015]\n",
    "for jj in range(3):\n",
    "    Mr = Mrtest[jj]\n",
    "    Mrs = [Mr]*Np\n",
    "    for ii in range(5):\n",
    "        a1 = .1*ii*np.ones(N+1)\n",
    "        (fi, fc) = rewritePipes(fn,oldinp, Ns, Ls, Mrs, Ds, jt, bt, bv, r, h0s, q0s, T, M, a,elevs)\n",
    "        n0 = PyNetwork(fi, fc, mtype)\n",
    "        n0.setIC(0,a0,q0)\n",
    "        n0.setIC(1,a1,q1)\n",
    "        n0.setbVal(0,Qin)\n",
    "        V0 = n0.getTotalVolume()\n",
    "        n0.runFo\n",
    "        rwardProblem(dt) \n",
    "        print \"Manning coeff = %.3f and a0/Af = %.3f\"%(Mr,a1[0])\n",
    "        print \"Inflow Volume = %.2f\"%(n0.getTotalVolume()-V0)\n",
    "        p0 = PyPipe_ps(Ns[0], Ds[0], Ls[0], M, a)\n",
    "        qf = n0.qhist(1)\n",
    "        Nstar = 10\n",
    "        H.append([p0.pbar(qf[idx_t(0,Nstar,n,Ns[0])],False) for n in range(M+1)])"
   ]
  },
  {
   "cell_type": "code",
   "execution_count": null,
   "metadata": {
    "collapsed": false
   },
   "outputs": [],
   "source": [
    "fig, ax = plt.subplots(figsize = (10,10),nrows=3)\n",
    "from matplotlib import cm\n",
    "import matplotlib.colors as colors\n",
    "cmap = cm.get_cmap('ocean')\n",
    "cnorm =colors.Normalize(vmin=0, vmax = len(H)+1)\n",
    "scalarMap = cm.ScalarMappable(norm =cnorm, cmap= cmap)\n",
    "t = np.linspace(0,n0.T,n0.M+1)\n",
    "for j in range(3):    \n",
    "    for kk in range(5):\n",
    "        cval = scalarMap.to_rgba(kk)\n",
    "        ax[j].plot(t,H[kk],color = cval, label = \"p0 = %.2f m\"%p0.pbar(.1*kk,False))\n",
    "    legend(loc = \"upper left\")\n",
    "    ax[j].set_title(\"Manning coeff = %.3f\"%Mrtest[j])\n",
    "    ax[j].set_ylim(0,25)\n",
    "    ax[j].set_ylabel(r'$\\bar{p}$ (m)')\n",
    "    ax[j].set_xlabel('t')"
   ]
  },
  {
   "cell_type": "code",
   "execution_count": null,
   "metadata": {
    "collapsed": false
   },
   "outputs": [],
   "source": [
    "print p0.AofH(10,True)\n",
    "print p0.HofA(A0,True)"
   ]
  },
  {
   "cell_type": "code",
   "execution_count": null,
   "metadata": {
    "collapsed": false
   },
   "outputs": [],
   "source": [
    "p2 = [p0.pbar(qf[idx_t(0,k,500,Ns[0])],False) for k in range(N)]\n",
    "x = linspace(0,Ls[0],N)\n",
    "plot(x,p2)"
   ]
  },
  {
   "cell_type": "code",
   "execution_count": null,
   "metadata": {
    "collapsed": true
   },
   "outputs": [],
   "source": [
    "pldx = Ls[0]/Ns[0]"
   ]
  },
  {
   "cell_type": "code",
   "execution_count": null,
   "metadata": {
    "collapsed": false
   },
   "outputs": [],
   "source": [
    "print n0.cmax[0]*dt/dx"
   ]
  },
  {
   "cell_type": "code",
   "execution_count": null,
   "metadata": {
    "collapsed": false
   },
   "outputs": [],
   "source": [
    "print N"
   ]
  },
  {
   "cell_type": "code",
   "execution_count": null,
   "metadata": {
    "collapsed": true
   },
   "outputs": [],
   "source": []
  }
 ],
 "metadata": {
  "kernelspec": {
   "display_name": "Python 2",
   "language": "python",
   "name": "python2"
  },
  "language_info": {
   "codemirror_mode": {
    "name": "ipython",
    "version": 2
   },
   "file_extension": ".py",
   "mimetype": "text/x-python",
   "name": "python",
   "nbconvert_exporter": "python",
   "pygments_lexer": "ipython2",
   "version": "2.7.10"
  }
 },
 "nbformat": 4,
 "nbformat_minor": 0
}
