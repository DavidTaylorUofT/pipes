{
 "cells": [
  {
   "cell_type": "code",
   "execution_count": 1,
   "metadata": {
    "collapsed": false
   },
   "outputs": [
    {
     "name": "stdout",
     "output_type": "stream",
     "text": [
      "Populating the interactive namespace from numpy and matplotlib\n"
     ]
    }
   ],
   "source": [
    "import sys\n",
    "sys.path.append(\"..\")\n",
    "from allthethings import PyNetwork, PyPipe_ps\n",
    "from allthethings import PyBC_opt_dh\n",
    "import numpy as np\n",
    "import matplotlib.pyplot as plt\n",
    "%pylab inline\n",
    "from scipy import optimize\n",
    "from writeit import rewritePipes"
   ]
  },
  {
   "cell_type": "code",
   "execution_count": 2,
   "metadata": {
    "collapsed": true
   },
   "outputs": [],
   "source": [
    "def idx_t(i,j,n,N):\n",
    "    return (2*(N+2)*n+(N+2)*i+j)"
   ]
  },
  {
   "cell_type": "code",
   "execution_count": 3,
   "metadata": {
    "collapsed": false
   },
   "outputs": [],
   "source": [
    "#pipes up to first triple J\n",
    "#oldinp = \"../indata/justslopes.inp\"\n",
    "#oldconfig = \"../indata/justslopes.config\"\n",
    "#all pipes in \"backbone\"\n",
    "oldinp = \"../indata/justslopes2.inp\"\n",
    "oldconfig = \"../indata/justslopes2.config\"\n",
    "#add one triple J and see what happens\n",
    "#oldinp = \"../indata/notquitejustslopes.inp\"\n",
    "#oldconfig = \"../indata/notquitejustslopes.config\"\n",
    "#add 3 triple Js...\n",
    "#oldinp = \"../indata/notquitejustslopes3.inp\"\n",
    "#oldconfig = \"../indata/notquitejustslopes3.config\"\n",
    "fn = \"../indata/justslopesnew\"\n",
    "n0 = PyNetwork(oldinp, oldconfig,1)\n"
   ]
  },
  {
   "cell_type": "code",
   "execution_count": 4,
   "metadata": {
    "collapsed": false
   },
   "outputs": [
    {
     "name": "stdout",
     "output_type": "stream",
     "text": [
      "60\n",
      "15010\n",
      "0.399733510993\n",
      "10\n",
      "T = 60.000000\n",
      "T = 60.000000\n",
      "0.399733510993\n",
      "28\n",
      "(1501, 2028)\n"
     ]
    }
   ],
   "source": [
    "Ls = n0.Ls\n",
    "Ds = n0.Ds\n",
    "T = 60\n",
    "Mi = 10   #number of time steps in between writes\n",
    "Nt = 1\n",
    "Ttot = Nt*T\n",
    "Np = n0.Nedges\n",
    "a = 100\n",
    "Ns = [int(l) for l in Ls]\n",
    "dx = [Ls[i]/Ns[i] for i in range(Np)]\n",
    "M = int(T*a/(max(dx)*.8))*2\n",
    "M = (M+Mi-M%Mi)  #round it up to be an even multiple of Mi\n",
    "jt = n0.nodeTypes\n",
    "Nn = len(jt)\n",
    "bt = [1]*Nn\n",
    "bv = [0]*Nn\n",
    "r = [1]*Nn\n",
    "r[0] = 0\n",
    "#r[16] = -1\n",
    "bt[0] =0\n",
    "h0s = [0]*Np\n",
    "h0s = [.1*d*d/4*np.pi for d in Ds]\n",
    "q0s = [1]*Np\n",
    "Mrs =[0.007]*Np\n",
    "#Mrs =[0.015]*Np\n",
    "print T\n",
    "print M\n",
    "Nstar =1 #measuring point for each pipe\n",
    "#Hs =np.ndarray((Np,M/Mi*Nt))  #old way\n",
    "print (T/float(M))/min(dx)*a\n",
    "print min(Ns)\n",
    "elevs = [127.10, 126.19, 98.76, 91.44, 83.82, \n",
    "         78.029, 70.74, 61.26, 53.95, 57.9, \n",
    "         58.52, 60.05, 60.66, 62.79, 63.70, 73.15, 76.81]\n",
    "elevs2 = [127.10, 126.19, 98.76, 91.44, 83.82, \n",
    "         78.029, 70.74, 61.26, 53.95, 57.9, \n",
    "         58.52, 60.05, 60.66, 62.79, 63.70, \n",
    "          73.15, 76.81,86.260, 87.480,96.320,\n",
    "          97.230 ,  101.800 ,  101.800, 101.190 , \n",
    "          101.500 ,103.950 , 117.960, 129.840]\n",
    "elevs3 = elevs2+[75,84,120]\n",
    "#elevs2.append(53.2)\n",
    "#elevs2.append(57.1)\n",
    "#elevs2.append(84.)\n",
    "#elevs2.append(120.)\n",
    "elevs = elevs2\n",
    "print \"T = %f\"%T\n",
    "dt = T/float(M)\n",
    "print \"T = %f\"%T\n",
    "print (T/float(M))/min(dx)*a\n",
    "print len(elevs)\n",
    "#new way of storing info\n",
    "Hs =np.zeros((M/Mi*Nt,sum(Ns)))#[H0(t0), H1(t0),,,H7(t0);H0(t1)...; ]\n",
    "Us =np.zeros((M/Mi*Nt,sum(Ns)))#\n",
    "print shape(Hs)"
   ]
  },
  {
   "cell_type": "code",
   "execution_count": 5,
   "metadata": {
    "collapsed": false
   },
   "outputs": [
    {
     "name": "stdout",
     "output_type": "stream",
     "text": [
      "0    116\n",
      "1    214\n",
      "2    57\n",
      "3    62\n",
      "4    70\n",
      "5    37\n",
      "6    73\n",
      "7    77\n",
      "8    75\n",
      "9    101\n",
      "10    77\n",
      "11    82\n",
      "12    41\n",
      "13    39\n",
      "14    75\n",
      "15    108\n",
      "16    58\n",
      "17    40\n",
      "18    58\n",
      "19    19\n",
      "20    20\n",
      "21    256\n",
      "22    130\n",
      "23    10\n",
      "24    60\n",
      "25    13\n",
      "26    60\n",
      "60\n"
     ]
    }
   ],
   "source": [
    "fn = \"../indata/Alameda_subset\"\n",
    "(fi, fc) = rewritePipes(fn,oldinp, Ns, Ls, Mrs, Ds, jt, bt, bv, r, h0s, q0s, T, M, a, elevs)\n",
    "n1 = PyNetwork(fi,fc,1)\n",
    "dt = n1.T/float(n1.M)\n",
    "Q00 = 0.0087\n",
    "A00 = 0.00796866547379\n",
    "for i in range(0,Np):\n",
    "    Ai = ((Ds[i]**2)/4.)*np.pi\n",
    "    A0 = .05*Ai*ones(n1.Ns[i])\n",
    "    Q0 = 0*np.ones(n1.Ns[i])\n",
    "    n1.setIC(i,A0,Q0)\n",
    "n1.setIC(0,A00*np.ones(n1.Ns[0]), Q00*np.ones(n1.Ns[0]))\n",
    "#n1.setIC(1,A00*np.ones(n1.Ns[1]), Q00*np.ones(n1.Ns[1]))\n",
    "Qb = 0.00796866547379*np.ones(M+1)  #A = 100\n",
    "#Qb = 0.00785856898757*np.ones(M+1)  #A=500\n",
    "#A00= 0.00789169645378\n",
    "#Q0 = A00*np.ones(M+1)\n",
    "n1.setbVal(0,Qb)\n",
    "for i in range(n1.Nedges):\n",
    "    print \"%d    %d\" %(i,n1.Ns[i])\n",
    "#p0 = PyPipe_ps(n1.Ns[11],n1.Ds[11], n1.Ls[11],M, a)\n",
    "print T"
   ]
  },
  {
   "cell_type": "code",
   "execution_count": 6,
   "metadata": {
    "collapsed": false
   },
   "outputs": [
    {
     "name": "stdout",
     "output_type": "stream",
     "text": [
      "T =60.000000\n",
      "0\n",
      "[1.5194024785036342, 3.587746310804757]\n",
      "CPU times: user 4min 3s, sys: 1.09 s, total: 4min 4s\n",
      "Wall time: 4min 4s\n"
     ]
    }
   ],
   "source": [
    "%%time \n",
    "Vs = [n1.getTotalVolume()]\n",
    "for m in range(Nt):\n",
    "    n1.runForwardProblem(dt)\n",
    "    print \"T =%f\" %(T*(m+1))\n",
    "    Ntot = 0\n",
    "    for j in range(Np):\n",
    "        N = n1.Ns[j]\n",
    "        p0 = PyPipe_ps(N,n1.Ds[j], n1.Ls[j],M,a)\n",
    "        qh = n1.qhist(j)\n",
    "        for n in range(1,M+1,Mi):\n",
    "            Htemp=[p0.pbar(qh[idx_t(0,k,n,N)],False) for k in range(1,N+1)]\n",
    "            Utemp = [qh[idx_t(1,k,n,N)]/qh[idx_t(0,k,n,N)] for k in range(1,N+1)]\n",
    "            Hs[(n-1)/Mi+m*(M/Mi),Ntot:Ntot+N] = Htemp\n",
    "            Us[(n-1)/Mi+m*(M/Mi),Ntot:Ntot+N] = Utemp\n",
    "        Ntot+=N\n",
    "        #Htemp2 = [p0.pbar(qh[idx_t(0,Nstar,n,n1.Ns[j])],False) for n in range(1,M+1,Mi)]\n",
    "        #Hs2[j,m*(M/Mi):(M/Mi)*(m+1)] = Htemp2\n",
    "    Vs.append(n1.getTotalVolume()) \n",
    "    print m\n",
    "    print Vs\n",
    "    n1.reset()"
   ]
  },
  {
   "cell_type": "code",
   "execution_count": 8,
   "metadata": {
    "collapsed": false
   },
   "outputs": [
    {
     "name": "stdout",
     "output_type": "stream",
     "text": [
      "a = 100.000000 m/s\n",
      "inflow volume = 546.40 gallons\n",
      "system volume = 3384.52 gallons\n",
      "214.0\n"
     ]
    },
    {
     "data": {
      "image/png": "[encoded data removed]",
      "text/plain": [
       "<matplotlib.figure.Figure at 0x152d744d0>"
      ]
     },
     "metadata": {},
     "output_type": "display_data"
    }
   ],
   "source": [
    "m2psi = 1.42\n",
    "from matplotlib import cm\n",
    "import matplotlib.colors as colors  \n",
    "cNorm  = colors.Normalize(vmin=0, vmax=Np+1)\n",
    "fig,ax = plt.subplots(figsize=(15,10))\n",
    "scalarMap = cm.ScalarMappable(norm=cNorm, cmap=cm.get_cmap('ocean'))\n",
    "t = linspace(0,Ttot,M/Mi*Nt)\n",
    "interesting = arange(0,Np)\n",
    "#interesting = arange(0,12)\n",
    "for i in interesting:\n",
    "    cval = scalarMap.to_rgba(i)\n",
    "    ax.plot(t,Hs[:,sum(Ns[0:i])+1],label= 'pipe %d'%(i),color=cval)\n",
    "#xticks(linspace(280,290,11))\n",
    "grid(True)\n",
    "xlabel('t')\n",
    "ylabel('pressure head (psi)')\n",
    "legend(loc = 'upper left')\n",
    "Sv = 0\n",
    "for i in range(Np):\n",
    "    Sv+=((n1.Ds[i]**2)/4)*np.pi*n1.Ls[i]\n",
    "m32gal=264.172052\n",
    "print \"a = %f m/s\" %a\n",
    "print \"inflow volume = %.2f gallons\"%((Vs[-1]-Vs[0])*m32gal)\n",
    "print \"system volume = %.2f gallons\"%(Sv*m32gal)\n",
    "title(\"a = %.f m/s, base .inp file = %s\"%(a, oldinp))\n",
    "#ax.set_ylim((0,1))\n",
    "#ax.set_xlim(0,100)\n",
    "savefig(\"../../../Desktop/alameda_subset.png\",type =\"png\")\n",
    "print Ls[1]"
   ]
  },
  {
   "cell_type": "code",
   "execution_count": null,
   "metadata": {
    "collapsed": false
   },
   "outputs": [],
   "source": [
    "Ltot = 0\n",
    "elevs = elevs2\n",
    "E = elevs[0]\n",
    "xs = []\n",
    "fig,ax = plt.subplots(figsize=(20,5))\n",
    "for k in range(Np):\n",
    "    L = n1.Ls[k]\n",
    "    x = linspace(0,L)\n",
    "    cval = scalarMap.to_rgba(k)\n",
    "    ax.plot(x+Ltot,x*(elevs[k+1]-elevs[k])/L+E,color = cval, lw = 2)\n",
    "    xs.append(Ltot)\n",
    "    Ltot+=L\n",
    "    E = elevs[k+1]\n",
    "xs.append(Ltot)\n",
    "ax.set_xticks(xs);\n",
    "ax.xaxis.grid(True)\n",
    "ax.set_xticklabels(arange(0,Nn+1));\n",
    "ax.set_xlim(0,Ltot)\n",
    "ylabel('elevation (m)')\n",
    "xlabel('junction')\n",
    "#savefig('elev_profile.png', type = \"png\")"
   ]
  },
  {
   "cell_type": "code",
   "execution_count": null,
   "metadata": {
    "collapsed": false
   },
   "outputs": [],
   "source": [
    "print M/Mi*Nt\n",
    "fig,ax = plt.subplots(figsize=(20,5))\n",
    "for m in range(1):\n",
    "    Ltot = 0\n",
    "    for j in range(0,Np):\n",
    "        MM = m*1000+1\n",
    "        N = n1.Ns[j]\n",
    "        #p0 = PyPipe_ps(N,n1.Ds[j], n1.Ls[j],M,a)\n",
    "        ##qh = n1.qhist(j)\n",
    "        #H2 = [p0.pbar(qh[idx_t(0,k,MM,N)],False) for k in range(0,N)]\n",
    "        x = linspace(Ltot,Ltot+n1.Ls[j],n1.Ns[j])\n",
    "        #print size(H2)\n",
    "        #ax[m].plot(x,H2, color = scalarMap.to_rgba(m), label = '%.1f'%(float(MM)*dt))\n",
    "        ax.plot(x,Hs[80000,sum(Ns[0:j]):sum(Ns[0:j+1])],'k')\n",
    "        Ltot+= n1.Ls[j]\n",
    "#legend()\n",
    "#gca().set_xticks(xs);\n",
    "#gca().xaxis.grid(True)\n",
    "gca().set_xticklabels(arange(0,Nn+1));\n",
    "#ylim(0,2)\n",
    "xlim(0,sum(Ls))"
   ]
  },
  {
   "cell_type": "code",
   "execution_count": 29,
   "metadata": {
    "collapsed": true
   },
   "outputs": [],
   "source": [
    "import pickle\n",
    "import time\n",
    "Note = \"initial condition is 0 everywhere except pipe 0, where it's (A0,Q00) with A0 =0.00793. \\\n",
    "    boundary condition is A specified s.t. H=10 at node 0.\\\n",
    "    all other junctions have r = -1 \\\n",
    "    base inp file is %s\"%oldinp"
   ]
  },
  {
   "cell_type": "code",
   "execution_count": 30,
   "metadata": {
    "collapsed": false
   },
   "outputs": [],
   "source": [
    "solve_t = (n1.solve_time)*Nt\n",
    "t = time.localtime()\n",
    "s = \"%d_%d_%d_%d_%d_%d\"%(tuple([t[i] for i in range(6)]))\n",
    "f1=  open('results_saved_at%s.pkl'%s,'wb')\n",
    "data = {'Hs':Hs, 'elevs':elevs,'T':T,'Tot':Ttot,\n",
    "        'conns': n1.conn, \n",
    "        'Ds': n1.Ds, \n",
    "        'Ls':n1.Ls,\n",
    "        'Ns':n1.Ns,\n",
    "        'Mrs':Mrs,\n",
    "        'M':M, \n",
    "        'Nt': Nt,\n",
    "        'Ttot':Ttot,\n",
    "        'r':r, \n",
    "        'bt':bt,\n",
    "        'bv':bv,\n",
    "        'Mi': Mi, 'a':a, 'solve_t':solve_t, 'Q00': Q00,\n",
    "        'notes':Note,\n",
    "       'system_time':'CPU times: user 2h 57min 17s, sys: 25.3 s, total: 2h 57min 43s Wall time: 2h 57min 44s'}\n",
    "pickle.dump(data,f1)\n",
    "f1.close()"
   ]
  },
  {
   "cell_type": "code",
   "execution_count": 31,
   "metadata": {
    "collapsed": false
   },
   "outputs": [
    {
     "name": "stdout",
     "output_type": "stream",
     "text": [
      "1241488\n",
      "26\n",
      "1241488\n"
     ]
    }
   ],
   "source": [
    "print size(qh)\n",
    "print j\n",
    "print (Ns[j]+2)*2*(M+2)"
   ]
  },
  {
   "cell_type": "code",
   "execution_count": 30,
   "metadata": {
    "collapsed": false
   },
   "outputs": [
    {
     "name": "stdout",
     "output_type": "stream",
     "text": [
      "0     23.499061\n",
      "1     63.502307\n",
      "2     73.985159\n",
      "3     84.834550\n",
      "4     93.263489\n",
      "5     103.190279\n",
      "6     116.355938\n",
      "7     126.588427\n",
      "8     122.237428\n",
      "9     122.321981\n",
      "10     121.043838\n",
      "11     120.991548\n",
      "12     118.622231\n",
      "13     117.775998\n",
      "14     106.163725\n",
      "15     102.306658\n",
      "16     90.428647\n",
      "17     89.108780\n",
      "18     77.940075\n",
      "19     76.839095\n",
      "20     71.279947\n",
      "21     309.300807\n",
      "22     339.007934\n",
      "23     340.832303\n",
      "24     350.840880\n",
      "25     339.002908\n",
      "26     338.541643\n"
     ]
    }
   ],
   "source": [
    "for k in range(Np):\n",
    "    print \"%d     %f\"%(k,m2psi*Hs[80030,sum(Ns[0:k+1])-1])"
   ]
  },
  {
   "cell_type": "code",
   "execution_count": 32,
   "metadata": {
    "collapsed": false
   },
   "outputs": [
    {
     "data": {
      "text/plain": [
       "[<matplotlib.lines.Line2D at 0x10f236c90>]"
      ]
     },
     "execution_count": 32,
     "metadata": {},
     "output_type": "execute_result"
    },
    {
     "data": {
      "image/png": "[encoded data removed]",
      "text/plain": [
       "<matplotlib.figure.Figure at 0x133bc5ad0>"
      ]
     },
     "metadata": {},
     "output_type": "display_data"
    }
   ],
   "source": [
    "j = 16\n",
    "Nstar=50\n",
    "qh = n1.qhist(j)\n",
    "p0 = PyPipe_ps(n1.Ns[j],n1.Ds[j], n1.Ls[j],M,a)\n",
    "Htemp = [p0.pbar(qh[idx_t(0,Nstar,n,n1.Ns[j])],False) for n in range(1,M+1,Mi)]\n",
    "plot(Htemp)"
   ]
  },
  {
   "cell_type": "code",
   "execution_count": 24,
   "metadata": {
    "collapsed": false
   },
   "outputs": [
    {
     "name": "stdout",
     "output_type": "stream",
     "text": [
      "57542.09252\n"
     ]
    }
   ],
   "source": [
    "print n1.solve_time*Nt"
   ]
  },
  {
   "cell_type": "code",
   "execution_count": 31,
   "metadata": {
    "collapsed": false
   },
   "outputs": [
    {
     "name": "stdout",
     "output_type": "stream",
     "text": [
      "[127.1, 126.19, 98.76, 91.44, 83.82, 78.029, 70.74, 61.26, 53.95, 57.9, 58.52, 60.05, 60.66, 62.79, 63.7, 73.15, 76.81, 86.26, 87.48, 96.32, 97.23, 101.8, 101.8, 101.19, 101.5, 103.95, 117.96, 129.84]\n"
     ]
    }
   ],
   "source": [
    "print elevs"
   ]
  },
  {
   "cell_type": "code",
   "execution_count": null,
   "metadata": {
    "collapsed": true
   },
   "outputs": [],
   "source": []
  }
 ],
 "metadata": {
  "kernelspec": {
   "display_name": "Python 2",
   "language": "python",
   "name": "python2"
  },
  "language_info": {
   "codemirror_mode": {
    "name": "ipython",
    "version": 2
   },
   "file_extension": ".py",
   "mimetype": "text/x-python",
   "name": "python",
   "nbconvert_exporter": "python",
   "pygments_lexer": "ipython2",
   "version": "2.7.10"
  }
 },
 "nbformat": 4,
 "nbformat_minor": 0
}
