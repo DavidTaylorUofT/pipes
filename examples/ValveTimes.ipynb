{
 "cells": [
  {
   "cell_type": "code",
   "execution_count": 108,
   "metadata": {
    "collapsed": false
   },
   "outputs": [
    {
     "name": "stdout",
     "output_type": "stream",
     "text": [
      "Populating the interactive namespace from numpy and matplotlib\n"
     ]
    }
   ],
   "source": [
    "import sys\n",
    "sys.path.append(\"..\")\n",
    "from allthethings import PyNetwork, PyPipe_ps\n",
    "from allthethings import PyBC_opt_dh\n",
    "import numpy as np\n",
    "import matplotlib.pyplot as plt\n",
    "from writeit import rewritePipes\n",
    "%pylab inline"
   ]
  },
  {
   "cell_type": "code",
   "execution_count": 109,
   "metadata": {
    "collapsed": true
   },
   "outputs": [],
   "source": [
    "def idx_t(i,j,n,N):\n",
    "    return (2*(N+2)*n+(N+2)*i+j)"
   ]
  },
  {
   "cell_type": "code",
   "execution_count": 110,
   "metadata": {
    "collapsed": true
   },
   "outputs": [],
   "source": [
    "fi = \"../indata/eq_outflow_test.inp\" \n",
    "fc =\"../indata/eq_outflow_test.config\" "
   ]
  },
  {
   "cell_type": "code",
   "execution_count": 143,
   "metadata": {
    "collapsed": false
   },
   "outputs": [
    {
     "name": "stdout",
     "output_type": "stream",
     "text": [
      "[1.0, 1.0, 1.0]\n",
      "[1.0, 1.0, 1.0]\n",
      "137.897811144\n"
     ]
    }
   ],
   "source": [
    "n1 = PyNetwork(fi, fc, 1)\n",
    "Np = n1.Nedges\n",
    "A0 = np.ones(n1.Ns[0])*0.00796866547379\n",
    "Q0 = np.ones(n1.Ns[0])*0.0086\n",
    "n1.setIC(0,A0,Q0)\n",
    "M = n1.M\n",
    "Q00 = 0.0087*np.ones(M+1)\n",
    "n1.setbVal(0,Q00)\n",
    "#n1.showCurrentData()\n",
    "print n1.valves\n",
    "#n1.showCurrentData()\n",
    "V0 = np.zeros(M+1)\n",
    "#for k in range(M/2):\n",
    "#    V0[k] = 1 \n",
    "#n1.setValveTimes(0,V0)\n",
    "#n1.setValveTimes(2,V0)\n",
    "print n1.valves\n",
    "print Q00[0]*m32gal*60."
   ]
  },
  {
   "cell_type": "code",
   "execution_count": 144,
   "metadata": {
    "collapsed": false
   },
   "outputs": [
    {
     "name": "stdout",
     "output_type": "stream",
     "text": [
      "0.0796866547379\n"
     ]
    }
   ],
   "source": [
    "V0 =n1.getTotalVolume()\n",
    "print V0 \n",
    "dt = n1.T/float(n1.M)\n",
    "n1.runForwardProblem(dt)"
   ]
  },
  {
   "cell_type": "code",
   "execution_count": 145,
   "metadata": {
    "collapsed": false
   },
   "outputs": [
    {
     "name": "stdout",
     "output_type": "stream",
     "text": [
      "3  28.349781\n",
      "4  28.349781\n",
      "7  28.349781\n",
      "10  10.290060\n",
      "11  10.290060\n",
      "total outflow = 105.629462\n",
      "total inflow = 160.888824\n",
      "initial V = 21.050987\n",
      "final V = 76.306216\n",
      "inflow - outflow 55.259362\n",
      "final- initial= 55.255229\n",
      "0.0\n"
     ]
    },
    {
     "data": {
      "image/png": "[encoded data removed]",
      "text/plain": [
       "<matplotlib.figure.Figure at 0x111938b10>"
      ]
     },
     "metadata": {},
     "output_type": "display_data"
    }
   ],
   "source": [
    "m32gal=264.172052\n",
    "T = n1.T\n",
    "qh = n1.qhist(0)\n",
    "Qin= [qh[idx_t(1,0,n,n1.Ns[0])] for n in range(M+1)]\n",
    "Qh = []\n",
    "t = linspace(0,n1.T,M+1)\n",
    "outflows = [3,4,7,10,11]\n",
    "\"pipe     outflow (gallons)\"\n",
    "for k in outflows:\n",
    "    qh = n1.qhist(k)\n",
    "    Qh.append([qh[idx_t(1,n1.Ns[k],n,n1.Ns[k])] for n in range(M+1)])\n",
    "    plot(t,Qh[-1],label='%d'%k)\n",
    "    print \"%d  %f\"  %(k,sum(Qh[-1])*dt*m32gal)\n",
    "tQin = sum(Qin)*dt*m32gal\n",
    "tQo = sum([sum(Qh[k])*dt*m32gal for k in range(len(Qh))])\n",
    "print \"total outflow = %f\" %(tQo)\n",
    "print \"total inflow = %f\"% ((tQin))\n",
    "print \"initial V = %f\"%(V0*m32gal)\n",
    "print \"final V = %f\"%(n1.getTotalVolume()*m32gal)\n",
    "print \"inflow - outflow %f\"%(tQin-tQo )\n",
    "print \"final- initial= %f\" %((n1.getTotalVolume()-V0)*m32gal)\n",
    "legend()\n",
    "print tQin-m32gal*dt*sum(Q00)"
   ]
  },
  {
   "cell_type": "code",
   "execution_count": 139,
   "metadata": {
    "collapsed": false
   },
   "outputs": [
    {
     "name": "stdout",
     "output_type": "stream",
     "text": [
      "[0.0, 1.0, 1.0]\n",
      "0.609\n",
      "0.609\n",
      "[0.0086999999999999994, 0.0086999999999999994, 0.0086999999999999994, 0.0086999999999999994, 0.0086999999999999994, 0.0086999999999999994, 0.0086999999999999994, 0.0086999999999999994, 0.0086999999999999994, 0.0086999999999999994]\n",
      "0.60903045\n"
     ]
    },
    {
     "data": {
      "text/plain": [
       "[<matplotlib.lines.Line2D at 0x115f00e50>]"
      ]
     },
     "execution_count": 139,
     "metadata": {},
     "output_type": "execute_result"
    },
    {
     "data": {
      "image/png": "[encoded data removed]",
      "text/plain": [
       "<matplotlib.figure.Figure at 0x10c950c50>"
      ]
     },
     "metadata": {},
     "output_type": "display_data"
    }
   ],
   "source": [
    "print n1.valves\n",
    "y = integrate.cumtrapz(Qin, x=None, dx=dt)\n",
    "print y[-1]\n",
    "print T*Q00[0]\n",
    "print Qin[0:10]\n",
    "print sum(Qin)*dt\n",
    "plot(Qin)"
   ]
  },
  {
   "cell_type": "code",
   "execution_count": 56,
   "metadata": {
    "collapsed": false
   },
   "outputs": [
    {
     "name": "stdout",
     "output_type": "stream",
     "text": [
      "[1.0, 1.0, 1.0]\n",
      "At time t = 70.000000\n",
      "Data from pipe 0\n",
      "A           Q\n",
      "0.007294    0.008700\n",
      "0.007294    0.008700\n",
      "0.007294    0.008700\n",
      "0.007293    0.008700\n",
      "0.007291    0.008700\n",
      "0.007287    0.008699\n",
      "0.007280    0.008698\n",
      "0.007269    0.008696\n",
      "0.007254    0.008693\n",
      "0.007235    0.008690\n",
      "Data from pipe 1\n",
      "A           Q\n",
      "0.003151    0.004345\n",
      "0.003150    0.004344\n",
      "0.003149    0.004344\n",
      "0.003148    0.004343\n",
      "0.003148    0.004342\n",
      "0.003147    0.004341\n",
      "0.003146    0.004341\n",
      "0.003144    0.004340\n",
      "0.003143    0.004339\n",
      "0.003142    0.004338\n",
      "Data from pipe 2\n",
      "A           Q\n",
      "0.003141    0.004337\n",
      "0.003139    0.004336\n",
      "0.003137    0.004334\n",
      "0.003136    0.004333\n",
      "0.003134    0.004332\n",
      "0.003132    0.004330\n",
      "0.003130    0.004328\n",
      "0.003127    0.004326\n",
      "0.003124    0.004324\n",
      "0.003122    0.004322\n",
      "Data from pipe 3\n",
      "A           Q\n",
      "0.001534    0.002160\n",
      "0.001533    0.002158\n",
      "0.001532    0.002157\n",
      "0.001530    0.002156\n",
      "0.001528    0.002154\n",
      "0.001526    0.002152\n",
      "0.001525    0.002151\n",
      "0.001522    0.002149\n",
      "0.001520    0.002146\n",
      "0.001518    0.002144\n",
      "Data from pipe 4\n",
      "A           Q\n",
      "0.001534    0.002160\n",
      "0.001533    0.002158\n",
      "0.001532    0.002157\n",
      "0.001530    0.002156\n",
      "0.001528    0.002154\n",
      "0.001526    0.002152\n",
      "0.001525    0.002151\n",
      "0.001522    0.002149\n",
      "0.001520    0.002146\n",
      "0.001518    0.002144\n",
      "Data from pipe 5\n",
      "A           Q\n",
      "0.003151    0.004345\n",
      "0.003150    0.004344\n",
      "0.003149    0.004344\n",
      "0.003148    0.004343\n",
      "0.003148    0.004342\n",
      "0.003147    0.004341\n",
      "0.003146    0.004341\n",
      "0.003144    0.004340\n",
      "0.003143    0.004339\n",
      "0.003142    0.004338\n",
      "Data from pipe 6\n",
      "A           Q\n",
      "0.003141    0.004337\n",
      "0.003139    0.004336\n",
      "0.003137    0.004334\n",
      "0.003136    0.004333\n",
      "0.003134    0.004332\n",
      "0.003132    0.004330\n",
      "0.003130    0.004328\n",
      "0.003127    0.004326\n",
      "0.003124    0.004324\n",
      "0.003122    0.004322\n",
      "Data from pipe 7\n",
      "A           Q\n",
      "0.001534    0.002160\n",
      "0.001533    0.002158\n",
      "0.001532    0.002157\n",
      "0.001530    0.002156\n",
      "0.001528    0.002154\n",
      "0.001526    0.002152\n",
      "0.001525    0.002151\n",
      "0.001522    0.002149\n",
      "0.001520    0.002146\n",
      "0.001518    0.002144\n",
      "Data from pipe 8\n",
      "A           Q\n",
      "0.001534    0.002160\n",
      "0.001533    0.002158\n",
      "0.001532    0.002157\n",
      "0.001530    0.002156\n",
      "0.001528    0.002154\n",
      "0.001526    0.002152\n",
      "0.001525    0.002151\n",
      "0.001522    0.002149\n",
      "0.001520    0.002146\n",
      "0.001518    0.002144\n",
      "Data from pipe 9\n",
      "A           Q\n",
      "0.001515    0.002141\n",
      "0.001512    0.002139\n",
      "0.001509    0.002136\n",
      "0.001505    0.002132\n",
      "0.001501    0.002129\n",
      "0.001497    0.002125\n",
      "0.001493    0.002120\n",
      "0.001488    0.002116\n",
      "0.001483    0.002111\n",
      "0.001478    0.002105\n",
      "Data from pipe 10\n",
      "A           Q\n",
      "0.000737    0.001050\n",
      "0.000734    0.001047\n",
      "0.000731    0.001043\n",
      "0.000728    0.001040\n",
      "0.000724    0.001036\n",
      "0.000720    0.001032\n",
      "0.000716    0.001028\n",
      "0.000712    0.001023\n",
      "0.000708    0.001018\n",
      "0.000703    0.001013\n",
      "Data from pipe 11\n",
      "A           Q\n",
      "0.000737    0.001050\n",
      "0.000734    0.001047\n",
      "0.000731    0.001043\n",
      "0.000728    0.001040\n",
      "0.000724    0.001036\n",
      "0.000720    0.001032\n",
      "0.000716    0.001028\n",
      "0.000712    0.001023\n",
      "0.000708    0.001018\n",
      "0.000703    0.001013\n"
     ]
    }
   ],
   "source": [
    "print n1.valves\n",
    "n1.showCurrentData()\n",
    "\n"
   ]
  },
  {
   "cell_type": "code",
   "execution_count": 9,
   "metadata": {
    "collapsed": false
   },
   "outputs": [
    {
     "name": "stdout",
     "output_type": "stream",
     "text": [
      "[[ 0  1]\n",
      " [ 1  2]\n",
      " [ 2  3]\n",
      " [ 3  4]\n",
      " [ 3  5]\n",
      " [ 1  6]\n",
      " [ 6  7]\n",
      " [ 7  8]\n",
      " [ 7  9]\n",
      " [ 9 10]\n",
      " [10 11]\n",
      " [10 12]]\n"
     ]
    }
   ],
   "source": [
    "print n1.conn\n",
    "#pipes with outflow ends are 3,4,7,10,and 11"
   ]
  },
  {
   "cell_type": "code",
   "execution_count": 32,
   "metadata": {
    "collapsed": false
   },
   "outputs": [
    {
     "name": "stdout",
     "output_type": "stream",
     "text": [
      "../indata/eq_outflow_test.inp\n"
     ]
    }
   ],
   "source": [
    "print fi"
   ]
  },
  {
   "cell_type": "code",
   "execution_count": 48,
   "metadata": {
    "collapsed": false
   },
   "outputs": [
    {
     "name": "stdout",
     "output_type": "stream",
     "text": [
      "0.16\n"
     ]
    }
   ],
   "source": [
    "print (dt*n1.Ns[0]/n1.Ls[0])*n1.a[0]"
   ]
  },
  {
   "cell_type": "code",
   "execution_count": null,
   "metadata": {
    "collapsed": true
   },
   "outputs": [],
   "source": []
  }
 ],
 "metadata": {
  "kernelspec": {
   "display_name": "Python 2",
   "language": "python",
   "name": "python2"
  },
  "language_info": {
   "codemirror_mode": {
    "name": "ipython",
    "version": 2
   },
   "file_extension": ".py",
   "mimetype": "text/x-python",
   "name": "python",
   "nbconvert_exporter": "python",
   "pygments_lexer": "ipython2",
   "version": "2.7.10"
  }
 },
 "nbformat": 4,
 "nbformat_minor": 0
}
