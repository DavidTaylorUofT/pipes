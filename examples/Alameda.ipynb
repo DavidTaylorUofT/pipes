{
 "cells": [
  {
   "cell_type": "code",
   "execution_count": 1,
   "metadata": {
    "collapsed": false
   },
   "outputs": [
    {
     "name": "stdout",
     "output_type": "stream",
     "text": [
      "Populating the interactive namespace from numpy and matplotlib\n"
     ]
    }
   ],
   "source": [
    "import sys\n",
    "sys.path.append(\"..\")\n",
    "from allthethings import PyNetwork, PyPipe_ps\n",
    "from allthethings import PyBC_opt_dh\n",
    "import numpy as np\n",
    "import matplotlib.pyplot as plt\n",
    "%pylab inline\n",
    "from scipy import optimize\n",
    "from writeit import rewritePipes"
   ]
  },
  {
   "cell_type": "code",
   "execution_count": 2,
   "metadata": {
    "collapsed": false
   },
   "outputs": [],
   "source": [
    "fi = \"../indata/Alamedanewer2.0.inp\"\n",
    "fc = \"../indata/Alamedanewer2.0.config\"\n",
    "n0 = PyNetwork(fi,fc,1)\n",
    "m_per_ft = .3048\n",
    "elevs  =[417,414,324,300,275,256,232,201,177,190,192,197,199,206,209,240,252,250,283,289,316,315,334,340,334,332,333,341,387,426,417]"
   ]
  },
  {
   "cell_type": "code",
   "execution_count": 3,
   "metadata": {
    "collapsed": true
   },
   "outputs": [],
   "source": [
    "def idx_t(i,j,n,N):\n",
    "    return (2*(N+2)*n+(N+2)*i+j)"
   ]
  },
  {
   "cell_type": "code",
   "execution_count": 4,
   "metadata": {
    "collapsed": false
   },
   "outputs": [
    {
     "name": "stdout",
     "output_type": "stream",
     "text": [
      "1.05545466667\n"
     ]
    }
   ],
   "source": [
    "#n0.showLayout()\n",
    "Ls_m = [l*m_per_ft for l in n0.Ls]\n",
    "elevs_m = [float(el)*m_per_ft for el in elevs]\n",
    "#elems_m = [el*0. for el in elevs]\n",
    "Ds_m = [D/12 for D in n0.Ds]\n",
    "T = n0.T/10\n",
    "M = n0.M\n",
    "\n",
    "T = 100\n",
    "Np = n0.Nedges\n",
    "a = n0.a[0]\n",
    "a = 100\n",
    "Ns = [int(l) for l in Ls_m]\n",
    "dx = [Ls_m[i]/Ns[i] for i in range(Np)]\n",
    "print max(dx)\n",
    "M = int(T*a/(max(dx)*.8))\n",
    "jt = n0.nodeTypes\n",
    "Nn = len(jt)\n",
    "bt = [1]*Nn\n",
    "bv = [0.]*Nn\n",
    "r = [1]*Nn\n",
    "r[0] = 0\n",
    "bt[0] =1\n",
    "#bt[17]=1\n",
    "#bt[19]=-1\n",
    "#bt[21]=-1\n",
    "#bt[23]=-1\n",
    "h0s = [0]*Np\n",
    "q0s = [0]*Np"
   ]
  },
  {
   "cell_type": "code",
   "execution_count": 5,
   "metadata": {
    "collapsed": false
   },
   "outputs": [
    {
     "name": "stdout",
     "output_type": "stream",
     "text": [
      "new files are ../indata/Alameda_m3.inp and ../indata/Alameda_m3.config\n",
      "0.00785398163397\n",
      "[ 35.  65.  17.  18.  21.  11.  22.  23.  23.  30.  23.  25.  12.  12.  22.\n",
      "  33.  31.  17.  27.  21.  30.  22.  37.  12.  17.   6.   6.  78.  39.]\n",
      "[35 65 17 18 21 11 22 23 23 30 23 25 12 12 22 33 31 17 27 21 30 22 37 12 17\n",
      "  6  6 78 39]\n",
      "[ 0.1   0.1   0.1   0.1   0.1   0.1   0.1   0.1   0.1   0.1   0.1   0.1\n",
      "  0.1   0.1   0.1   0.1   0.05  0.1   0.05  0.1   0.05  0.1   0.1   0.05\n",
      "  0.05  0.05  0.05  0.05  0.05]\n"
     ]
    }
   ],
   "source": [
    "Mrs =[0.007]*Np\n",
    "#print Ds_m\n",
    "fn = \"../indata/Alameda_m3\"\n",
    "oldinp = \"../indata/Alamedanewer2.0.inp\"\n",
    "(fi, fc) = rewritePipes(fn,oldinp, Ns, Ls_m, Mrs, Ds_m, jt, bt, bv, r, h0s, q0s, T, M, a,elevs_m)\n",
    "n1 = PyNetwork(fi,fc,1)\n",
    "dt = n1.T/float(n1.M)\n",
    "P0 = 0\n",
    "Q00 = 0.0087\n",
    "A0 = .00793*np.ones(n1.Ns[P0])\n",
    "#A0 =np.zeros(n1.Ns[P0])\n",
    "Q0 = Q00*np.ones(n1.Ns[P0])\n",
    "n1.setIC(P0,A0, Q0)\n",
    "for i in range(0,Np):\n",
    "    A0 = 0.00*ones(n1.Ns[i])\n",
    "    Q0 = 0.*np.ones(n1.Ns[i])\n",
    "    n1.setIC(i,A0,Q0)\n",
    "Qb = Q00*np.ones(M+1)\n",
    "n1.setbVal(0,Qb)\n",
    "#print dt\n",
    "print n1.Ds[0]**2*pi/(4)\n",
    "print n1.Ls\n",
    "print n1.Ns\n",
    "print n1.Ds"
   ]
  },
  {
   "cell_type": "code",
   "execution_count": 6,
   "metadata": {
    "collapsed": false
   },
   "outputs": [
    {
     "name": "stdout",
     "output_type": "stream",
     "text": [
      "CPU times: user 28.2 s, sys: 9.73 ms, total: 28.2 s\n",
      "Wall time: 28.2 s\n"
     ]
    }
   ],
   "source": [
    "%%time\n",
    "V0 = n1.getTotalVolume()\n",
    "n1.runForwardProblem(dt)\n",
    "Vf = n1.getTotalVolume()\n",
    "\n",
    "Vs =[Vf]"
   ]
  },
  {
   "cell_type": "code",
   "execution_count": 40,
   "metadata": {
    "collapsed": false
   },
   "outputs": [
    {
     "name": "stdout",
     "output_type": "stream",
     "text": [
      "[0.3092233625795807]\n",
      "0.0\n",
      "0.30922336258\n",
      "1.74\n",
      "[16, 17, 18, 19, 20, 21, 22, 23, 24, 25, 26, 27, 28]\n",
      "[ 0.  0.  0.  0.  0.  0.  0.  0.  0.  0.  0.  0.  0.  0.  0.  0.  0.  0.\n",
      "  0.  0.  0.  0.  0.  0.  0.  0.  0.  0.  0.  0.  0.]\n"
     ]
    }
   ],
   "source": [
    "print Vs\n",
    "print V0\n",
    "print Vf-V0\n",
    "print Q00*T\n",
    "Empty=[]\n",
    "A0s =[]\n",
    "for j in range(0,Np):\n",
    "    A0s.append(np.copy(n1.q(j)[0:n1.Ns[j]]))\n",
    "    if sum(A0s[j])<1e-4:\n",
    "        Empty.append(j)\n",
    "print Empty\n",
    "print A0s[16]"
   ]
  },
  {
   "cell_type": "code",
   "execution_count": 32,
   "metadata": {
    "collapsed": false
   },
   "outputs": [
    {
     "name": "stdout",
     "output_type": "stream",
     "text": [
      "T =20.000000, Volume = 0.230564\n",
      "Empty Pipes are\n",
      "[15, 16, 17, 18, 19, 20, 21, 22, 23, 24, 25, 26, 27, 28]\n",
      "CPU times: user 3.32 s, sys: 26.6 ms, total: 3.35 s\n",
      "Wall time: 3.35 s\n"
     ]
    }
   ],
   "source": [
    "%%time\n",
    "M2 = 1\n",
    "Ttot = T\n",
    "for m in range(M2):\n",
    "    A0s = []\n",
    "    Q0s = []\n",
    "    Empty=[]\n",
    "    for j in range(0,Np):\n",
    "        A0s.append(np.copy(n1.q(j)[0:n1.Ns[j]]))\n",
    "        Q0s.append(np.copy(n1.q(j)[n1.Ns[j]:]))\n",
    "        if sum(A0s[j])<1e-4:\n",
    "            Empty.append(j)\n",
    "    #(fi, fc) = rewritePipes(fn,oldinp, Ns, Ls_m, Mrs, Ds_m, jt, bt, bv, r, h0s, q0s, T, M, a,elevs_m)\n",
    "    n1 = PyNetwork(fi,fc,1)\n",
    "    for j in range(0,Np):\n",
    "        A0 = A0s[j]\n",
    "        Q0 = Q0s[j]\n",
    "        n1.setIC(j,A0,Q0)\n",
    "    Qb = Q00*np.ones(M+1)\n",
    "    n1.setbVal(0,Qb)\n",
    "    n1.runForwardProblem(dt)\n",
    "    Vf= n1.getTotalVolume()\n",
    "    Vs.append(Vf)\n",
    "    Ttot+=T\n",
    "    print \"T =%f, Volume = %f\"%(Ttot,Vf)\n",
    "    print \"Empty Pipes are\"\n",
    "    print Empty"
   ]
  },
  {
   "cell_type": "code",
   "execution_count": 10,
   "metadata": {
    "collapsed": false
   },
   "outputs": [
    {
     "name": "stdout",
     "output_type": "stream",
     "text": [
      "[ 0.  0.  0.  0.  0.  0.  0.  0.  0.  0.  0.  0.  0.  0.  0.  0.  0.  0.\n",
      "  0.  0.  0.  0.  0.  0.  0.  0.  0.]\n"
     ]
    }
   ],
   "source": [
    "print A0s[18]"
   ]
  },
  {
   "cell_type": "code",
   "execution_count": 13,
   "metadata": {
    "collapsed": false
   },
   "outputs": [
    {
     "name": "stdout",
     "output_type": "stream",
     "text": [
      "T = 100.00\n"
     ]
    },
    {
     "data": {
      "text/plain": [
       "<matplotlib.text.Text at 0x123330890>"
      ]
     },
     "execution_count": 13,
     "metadata": {},
     "output_type": "execute_result"
    },
    {
     "data": {
      "image/png": "[encoded data removed]",
      "text/plain": [
       "<matplotlib.figure.Figure at 0x112c16490>"
      ]
     },
     "metadata": {},
     "output_type": "display_data"
    }
   ],
   "source": [
    "rc('text', usetex=True)        #for tex rendering. \n",
    "rc('font', **{'family':'serif', 'serif':['Computer Modern Roman'], \n",
    "                                'monospace': ['Computer Modern Typewriter'], 'size'   : 16})\n",
    "from matplotlib import cm\n",
    "import matplotlib.colors as colors\n",
    "cNorm  = colors.Normalize(vmin=0, vmax=Np+1)\n",
    "scalarMap = cm.ScalarMappable(norm=cNorm, cmap=cm.get_cmap('ocean') )\n",
    "print \"T = %.2f\"%T\n",
    "for i in range(0,Np):\n",
    "    p0 = PyPipe_ps(n1.Ns[i], n1.Ds[i], n1.Ls[i], M, a)\n",
    "    qf = n1.qhist(i)\n",
    "    #ah = []\n",
    "    #print i|\n",
    "    #for n in range(M+1):\n",
    "    #    ah.append([qf[idx_t(0,j,n,Ns[i])] for j in range(Ns[i])])\n",
    "    #print (find(ah<0))\n",
    "    Nstar = n1.Ns[i]/2\n",
    "    cval = scalarMap.to_rgba(i)\n",
    "    Af = (n1.Ds[i]**2)/(pi*4)\n",
    "    A= [qf[idx_t(0,Nstar,n,n1.Ns[i])] for n in range(M+1)];\n",
    "    H=[p0.pbar(qf[idx_t(0,Nstar,n,n1.Ns[i])],False) for n in range(M+1)]\n",
    "    t = linspace(0,T,M+1)\n",
    "    plot(t,H, color = cval,label= \"pipe %d\"%i)\n",
    "#legend(loc='upper left')\n",
    "#ylim(0,1)\n",
    "xlabel('t')\n",
    "ylabel(r'$\\bar{p}$')\n",
    "title(r'$\\bar{p}(t)$ at center of each pipe')"
   ]
  },
  {
   "cell_type": "code",
   "execution_count": 30,
   "metadata": {
    "collapsed": false
   },
   "outputs": [
    {
     "name": "stdout",
     "output_type": "stream",
     "text": [
      "0.204500873162\n"
     ]
    }
   ],
   "source": [
    "print n1.getTotalVolume()"
   ]
  },
  {
   "cell_type": "code",
   "execution_count": 29,
   "metadata": {
    "collapsed": false
   },
   "outputs": [
    {
     "data": {
      "image/png": "[encoded data removed]",
      "text/plain": [
       "<matplotlib.figure.Figure at 0x113041f10>"
      ]
     },
     "metadata": {},
     "output_type": "display_data"
    }
   ],
   "source": [
    "\n",
    "t = linspace(0,T,M+1)\n",
    "for i in range(0,1):\n",
    "    p0 = PyPipe_ps(n1.Ns[i], n1.Ds[i], n1.Ls[i], M, a)\n",
    "    qf = n1.qhist(i)\n",
    "    Nstar = 0\n",
    "    cval = scalarMap.to_rgba(i)\n",
    "    Af = (n0.Ds[i]**2)/(pi*4)\n",
    "    Q=[qf[idx_t(0,Nstar,n,n1.Ns[i])] for n in range(M+1)]\n",
    "    plot(t,Q, color = cval,label= \"pipe %d\"%i)\n",
    "#legend(loc='upper right')\n",
    "#print H"
   ]
  },
  {
   "cell_type": "code",
   "execution_count": 25,
   "metadata": {
    "collapsed": false
   },
   "outputs": [
    {
     "name": "stdout",
     "output_type": "stream",
     "text": [
      "0.844451950684\n"
     ]
    }
   ],
   "source": [
    "dx =[n1.Ls[i]/n1.Ns[i] for i in range(Np)]\n",
    "print max([a*dt/d for d in dx])"
   ]
  },
  {
   "cell_type": "code",
   "execution_count": 18,
   "metadata": {
    "collapsed": false
   },
   "outputs": [
    {
     "name": "stdout",
     "output_type": "stream",
     "text": [
      "0.00793018096379\n",
      "18.6738789702\n"
     ]
    }
   ],
   "source": [
    "pp = PyPipe_ps(n1.Ns[0],n1.Ds[0],n1.Ls[0],M,a)\n",
    "print pp.AofH(10,True)\n",
    "print pp.pbar(0.008,True)\n"
   ]
  },
  {
   "cell_type": "code",
   "execution_count": 27,
   "metadata": {
    "collapsed": false
   },
   "outputs": [
    {
     "name": "stdout",
     "output_type": "stream",
     "text": [
      "[17 16]\n",
      "3\n"
     ]
    }
   ],
   "source": [
    "print n1.conn[16]\n",
    "print n1.nodeTypes[16]"
   ]
  },
  {
   "cell_type": "code",
   "execution_count": 21,
   "metadata": {
    "collapsed": false
   },
   "outputs": [
    {
     "name": "stdout",
     "output_type": "stream",
     "text": [
      "0.00785398163397\n",
      "0.1\n"
     ]
    },
    {
     "data": {
      "image/png": "[encoded data removed]",
      "text/plain": [
       "<matplotlib.figure.Figure at 0x1134e0bd0>"
      ]
     },
     "metadata": {},
     "output_type": "display_data"
    }
   ],
   "source": [
    "i = 1\n",
    "p0 = PyPipe_ps(n1.Ns[i], n1.Ds[i], n1.Ls[i], M, a)\n",
    "Af = (n1.Ds[i]**2)*pi/(4)\n",
    "As = linspace(0,Af*1.1,100)\n",
    "pbars= [p0.pbar(A,True) for A in As]\n",
    "plot(As,pbars)\n",
    "print Af\n",
    "print n1.Ds[i]"
   ]
  },
  {
   "cell_type": "code",
   "execution_count": 30,
   "metadata": {
    "collapsed": false
   },
   "outputs": [
    {
     "name": "stdout",
     "output_type": "stream",
     "text": [
      "dV = -0.060104\n",
      "0.27755\n",
      "0.217446361768\n"
     ]
    }
   ],
   "source": [
    "dV = Vf-V0\n",
    "print \"dV = %f\"%(dV)\n",
    "print V0\n",
    "print Vf"
   ]
  },
  {
   "cell_type": "code",
   "execution_count": 32,
   "metadata": {
    "collapsed": false
   },
   "outputs": [
    {
     "name": "stdout",
     "output_type": "stream",
     "text": [
      "[ 0.0016467   0.00145512  0.0013167   0.00121088  0.00112667  0.00105766\n",
      "  0.00099979  0.00095037  0.00090754  0.00086996  0.00083665  0.00080686\n",
      "  0.00078001  0.00075565  0.00073342  0.00071304  0.00069424  0.00067685\n",
      "  0.0006607   0.00064564  0.00063156  0.00061836  0.00060595  0.00059425\n",
      "  0.0005832   0.00057275  0.00056283  0.00055341  0.00054444  0.00053589\n",
      "  0.00052774  0.00051994  0.00051247  0.00050532  0.00049846  0.00049187\n",
      "  0.00048553  0.00047943  0.00047356  0.00046789  0.00046242  0.00045714\n",
      "  0.00045203  0.0004471   0.00044232  0.00043768  0.0004332   0.00042884\n",
      "  0.00042462  0.00042051  0.00041653  0.00041265  0.00040888  0.00040521\n",
      "  0.00040164  0.00039816  0.00039477  0.00039146  0.00038824  0.00038509\n",
      "  0.00038202  0.00037902  0.00037609  0.00037323  0.00037043]\n",
      "[ 0.0087  0.0087  0.0087  0.0087  0.0087  0.0087  0.0087  0.0087  0.0087\n",
      "  0.0087  0.0087  0.0087  0.0087  0.0087  0.0087  0.0087  0.0087  0.0087\n",
      "  0.0087  0.0087  0.0087  0.0087  0.0087]\n"
     ]
    }
   ],
   "source": [
    "print A0s[1]\n",
    "print Q0s[10]"
   ]
  },
  {
   "cell_type": "code",
   "execution_count": 19,
   "metadata": {
    "collapsed": false
   },
   "outputs": [
    {
     "name": "stdout",
     "output_type": "stream",
     "text": [
      "[ 0.  0.  0.  0.  0.  0.  0.  0.  0.  0.  0.  0.  0.  0.  0.  0.  0.  0.\n",
      "  0.  0.  0.  0.  0.  0.  0.  0.  0.  0.  0.  0.  0.  0.  0.  0.  0.  0.\n",
      "  0.  0.  0.  0.  0.  0.  0.  0.  0.  0.  0.  0.  0.  0.  0.  0.  0.  0.]\n"
     ]
    }
   ],
   "source": [
    "q = n1.q(18)\n",
    "print q"
   ]
  },
  {
   "cell_type": "code",
   "execution_count": null,
   "metadata": {
    "collapsed": false
   },
   "outputs": [],
   "source": [
    "for i in range(0,Np):\n",
    "    p0 = PyPipe_ps(n1.Ns[i], n1.Ds[i], n1.Ls[i], M, a)\n",
    "    qf = n1.qhist(i)\n",
    "    #ah = []\n",
    "    #print i|\n",
    "    #for n in range(M+1):\n",
    "    #    ah.append([qf[idx_t(0,j,n,Ns[i])] for j in range(Ns[i])])\n",
    "    #print (find(ah<0))\n",
    "    Nstar = 2\n",
    "    cval = scalarMap.to_rgba(i)\n",
    "    Af = (n1.Ds[i]**2)/(pi*4)\n",
    "    A= [qf[idx_t(0,Nstar,n,n1.Ns[i])] for n in range(M+1)];\n",
    "    H=[p0.pbar(qf[idx_t(0,Nstar,n,n1.Ns[i])],False) for n in range(M+1)]\n",
    "    t = linspace(0,T,M+1)\n",
    "    plot(t,H, color = cval,label= \"pipe %d\"%i)"
   ]
  },
  {
   "cell_type": "code",
   "execution_count": null,
   "metadata": {
    "collapsed": false
   },
   "outputs": [],
   "source": [
    "qh = n1.qhist(0)\n",
    "print [qh[idx_t(0,k,0,n1.Ns[i])] for k in range(35)]"
   ]
  },
  {
   "cell_type": "code",
   "execution_count": null,
   "metadata": {
    "collapsed": false
   },
   "outputs": [],
   "source": [
    "print n1.q(0)[35:]\n",
    "print n1.q(0)[0:35]"
   ]
  },
  {
   "cell_type": "code",
   "execution_count": null,
   "metadata": {
    "collapsed": false
   },
   "outputs": [],
   "source": []
  },
  {
   "cell_type": "code",
   "execution_count": 64,
   "metadata": {
    "collapsed": false
   },
   "outputs": [],
   "source": [
    "A0s =[]\n",
    "Q0s = []\n",
    "A0s.append(np.copy(n1.q(0)[0:n1.Ns[0]]))\n",
    "Q0s.append(np.copy(n1.q(0)[n1.Ns[0]:]))"
   ]
  },
  {
   "cell_type": "code",
   "execution_count": 65,
   "metadata": {
    "collapsed": false
   },
   "outputs": [
    {
     "name": "stdout",
     "output_type": "stream",
     "text": [
      "35\n"
     ]
    }
   ],
   "source": []
  },
  {
   "cell_type": "code",
   "execution_count": null,
   "metadata": {
    "collapsed": true
   },
   "outputs": [],
   "source": []
  }
 ],
 "metadata": {
  "kernelspec": {
   "display_name": "Python 2",
   "language": "python",
   "name": "python2"
  },
  "language_info": {
   "codemirror_mode": {
    "name": "ipython",
    "version": 2
   },
   "file_extension": ".py",
   "mimetype": "text/x-python",
   "name": "python",
   "nbconvert_exporter": "python",
   "pygments_lexer": "ipython2",
   "version": "2.7.10"
  }
 },
 "nbformat": 4,
 "nbformat_minor": 0
}
