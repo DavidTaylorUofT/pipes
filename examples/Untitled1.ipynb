{
 "cells": [
  {
   "cell_type": "code",
   "execution_count": 1,
   "metadata": {
    "collapsed": false
   },
   "outputs": [
    {
     "name": "stdout",
     "output_type": "stream",
     "text": [
      "Populating the interactive namespace from numpy and matplotlib\n"
     ]
    }
   ],
   "source": [
    "import sys\n",
    "sys.path.append(\"..\")\n",
    "from allthethings import PyNetwork, PyPipe_ps\n",
    "from allthethings import PyBC_opt_dh\n",
    "import numpy as np\n",
    "import matplotlib.pyplot as plt\n",
    "%pylab inline\n",
    "from scipy import optimize\n",
    "from writeit import rewritePipes\n"
   ]
  },
  {
   "cell_type": "code",
   "execution_count": 2,
   "metadata": {
    "collapsed": true
   },
   "outputs": [],
   "source": [
    "def MyBounds(**kwargs):\n",
    "        x = kwargs[\"x_new\"]\n",
    "        tmin = bool(np.all(x>=0))\n",
    "        tmax = bool(np.all(x<=200.))\n",
    "        print x\n",
    "        print tmin\n",
    "        print tmax\n",
    "        return (tmax and tmin)"
   ]
  },
  {
   "cell_type": "code",
   "execution_count": 3,
   "metadata": {
    "collapsed": true
   },
   "outputs": [],
   "source": [
    "def print_fun(x, f, accepted):\n",
    "      print(\"at minima %.4f accepted %d\" % (f, int(accepted)))"
   ]
  },
  {
   "cell_type": "code",
   "execution_count": 4,
   "metadata": {
    "collapsed": true
   },
   "outputs": [],
   "source": [
    "D = 1.            #pipe diameter (m)\n",
    "Mr = 0.015        #manning roughness coeffs\n",
    "T = 20            #simulation time (s)\n",
    "M = 320           #number of time steps\n",
    "a = 10            #pressure wavespeed\n",
    "Q00 = 1.#boundary condition at node 0\n",
    "\n",
    "fn = \"../indata/optlength\"\n",
    "oldinp = \"../indata/3pipesL0.inp\"\n",
    "params= (D,Mr,T,M,a,Q00,fn,oldinp)\n"
   ]
  },
  {
   "cell_type": "code",
   "execution_count": 5,
   "metadata": {
    "collapsed": true
   },
   "outputs": [],
   "source": [
    "def f(z,*params):\n",
    "    l1,l2,l3 = z\n",
    "    D,Mr,T,M,a,Q00,fn,oldinp = params\n",
    "    dt = T/float(M)\n",
    "    \n",
    "    Ns = [int(zi*.8/(dt*a)) for zi in z]\n",
    "    Ls = [l1,l2,l3]\n",
    "    Mrs = [Mr]*3  #manning roughness coeffs\n",
    "    Ds = [D]*3      #pipe diameter (m)\n",
    "    elevs = [0,0,0,0];  #junction elevations\n",
    "    h0s = [.8,.8,.8]    #IC for h\n",
    "    q0s = [2.,1.,1.]    #IC for Q\n",
    "    jt = [1,3,1,1]   #junction type\n",
    "    bt = [1,1,1,1]   #boundary type \n",
    "    bv = [0,0,0,0]   #boundary value\n",
    "    r = [0,0,1,1]    #boundary reflect\n",
    "    \n",
    "    (fi, fc) = rewritePipes(fn,oldinp, Ns, Ls, Mrs, Ds, jt, bt, bv, r, h0s, q0s, T, M, a, elevs)\n",
    "    n0 = PyNetwork(fi, fc, 1)\n",
    "    n0.setbVal(0,Q00*np.ones(n0.M+1))\n",
    "\n",
    "    n0.runForwardProblem(dt)\n",
    "    H = mean([n0.getAveGradH(i) for i in range(n0.M+1)])\n",
    "    print \"L = [%f %f %f] and H = %f\"%(l1,l2,l3,H)\n",
    "    return H"
   ]
  },
  {
   "cell_type": "code",
   "execution_count": null,
   "metadata": {
    "collapsed": false
   },
   "outputs": [
    {
     "name": "stdout",
     "output_type": "stream",
     "text": [
      "new files are ../indata/optlength.inp and ../indata/optlength.config\n",
      "L = [150.000000 50.000000 100.000000] and H = 1.791535\n",
      "new files are ../indata/optlength.inp and ../indata/optlength.config\n",
      "L = [150.000000 50.000000 100.000000] and H = 1.791535\n",
      "new files are ../indata/optlength.inp and ../indata/optlength.config\n",
      "L = [150.000000 50.000000 100.000000] and H = 1.791535\n",
      "new files are ../indata/optlength.inp and ../indata/optlength.config\n",
      "L = [150.000000 50.000000 100.000000] and H = 1.791535\n",
      "new files are ../indata/optlength.inp and ../indata/optlength.config\n",
      "L = [150.000000 50.000000 100.000000] and H = 1.791535\n",
      "new files are ../indata/optlength.inp and ../indata/optlength.config\n",
      "L = [149.000000 50.000000 100.000000] and H = 1.791191\n",
      "new files are ../indata/optlength.inp and ../indata/optlength.config\n",
      "L = [149.000000 50.000000 100.000000] and H = 1.791191\n",
      "new files are ../indata/optlength.inp and ../indata/optlength.config\n",
      "L = [149.000000 50.000000 100.000000] and H = 1.791191\n",
      "new files are ../indata/optlength.inp and ../indata/optlength.config\n",
      "L = [149.000000 50.000000 100.000000] and H = 1.791191\n",
      "new files are ../indata/optlength.inp and ../indata/optlength.config\n",
      "L = [149.000000 50.000000 100.000000] and H = 1.791191\n",
      "[149  50 100]\n",
      "True\n",
      "True\n",
      "at minima 1.7912 accepted 1\n",
      "new files are ../indata/optlength.inp and ../indata/optlength.config\n",
      "L = [148.000000 50.000000 100.000000] and H = 1.790963\n",
      "new files are ../indata/optlength.inp and ../indata/optlength.config\n",
      "L = [148.000000 50.000000 100.000000] and H = 1.790963\n",
      "new files are ../indata/optlength.inp and ../indata/optlength.config\n",
      "L = [148.000000 50.000000 100.000000] and H = 1.790963\n",
      "new files are ../indata/optlength.inp and ../indata/optlength.config\n",
      "L = [148.000000 50.000000 100.000000] and H = 1.790963\n",
      "new files are ../indata/optlength.inp and ../indata/optlength.config\n",
      "L = [148.000000 50.000000 100.000000] and H = 1.790963\n",
      "[148  50 100]\n",
      "True\n",
      "True\n",
      "at minima 1.7910 accepted 1\n",
      "new files are ../indata/optlength.inp and ../indata/optlength.config\n",
      "L = [147.000000 49.000000 99.000000] and H = 1.792929\n",
      "new files are ../indata/optlength.inp and ../indata/optlength.config\n",
      "L = [147.000000 49.000000 99.000000] and H = 1.792929"
     ]
    }
   ],
   "source": [
    "%%time\n",
    "x0 = [150,50,100]\n",
    "minimizer_kwargs = {\"method\": \"BFGS\", \"args\":params}\n",
    "ret = optimize.basinhopping(f, x0, minimizer_kwargs=minimizer_kwargs,\n",
    "                   niter=200,accept_test=MyBounds, callback=print_fun)"
   ]
  },
  {
   "cell_type": "code",
   "execution_count": null,
   "metadata": {
    "collapsed": true
   },
   "outputs": [],
   "source": [
    "res"
   ]
  },
  {
   "cell_type": "code",
   "execution_count": null,
   "metadata": {
    "collapsed": true
   },
   "outputs": [],
   "source": []
  }
 ],
 "metadata": {
  "kernelspec": {
   "display_name": "Python 2",
   "language": "python",
   "name": "python2"
  },
  "language_info": {
   "codemirror_mode": {
    "name": "ipython",
    "version": 2
   },
   "file_extension": ".py",
   "mimetype": "text/x-python",
   "name": "python",
   "nbconvert_exporter": "python",
   "pygments_lexer": "ipython2",
   "version": "2.7.10"
  }
 },
 "nbformat": 4,
 "nbformat_minor": 0
}
