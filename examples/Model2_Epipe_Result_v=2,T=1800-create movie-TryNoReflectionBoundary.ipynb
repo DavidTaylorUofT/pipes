{
 "cells": [
  {
   "cell_type": "markdown",
   "metadata": {},
   "source": [
    "<p> manually set node 6-9 as full opening </p>\n",
    "<p> change dt from 0.015s to 0.01s (less than 0.015s, 0.012s also works,try now), which always works</p>\n",
    "<p> Courant Number = 0.54 for dt=0.012s, =0.675 for dt=0.015s, more than 0.675 does not work</p>\n",
    "<p> Increase inflow means decreasing dt </p>\n",
    "<p> Assumption: pipes are equally divided according to grid number (satisfied)</p>"
   ]
  },
  {
   "cell_type": "code",
   "execution_count": 1,
   "metadata": {
    "collapsed": false
   },
   "outputs": [
    {
     "name": "stdout",
     "output_type": "stream",
     "text": [
      "Populating the interactive namespace from numpy and matplotlib\n"
     ]
    }
   ],
   "source": [
    "import sys\n",
    "sys.path.append(\"..\")    \n",
    "from allthethings import PyNetwork, PyPipe_ps\n",
    "from allthethings import PyBC_opt_dh\n",
    "import numpy as np\n",
    "import matplotlib.pyplot as plt\n",
    "#%pylab inline\n",
    "%pylab notebook\n",
    "from writeit import *\n",
    "import pickle\n",
    "import time\n",
    "#from __future__ import division "
   ]
  },
  {
   "cell_type": "code",
   "execution_count": 2,
   "metadata": {
    "collapsed": true
   },
   "outputs": [],
   "source": [
    "fi = \"../indata/Model2/Model2_Epipe_new.inp\"    \n",
    "fc = \"../indata/Model2/Model2_Epipe_new_try-1.config\" \n",
    "mtype=1\n",
    "n1=PyNetwork(fi,fc,mtype)"
   ]
  },
  {
   "cell_type": "code",
   "execution_count": 3,
   "metadata": {
    "collapsed": false
   },
   "outputs": [
    {
     "name": "stdout",
     "output_type": "stream",
     "text": [
      "0.012\n"
     ]
    }
   ],
   "source": [
    "v = 2\n",
    "Q_in = n1.Ds[0]**2*pi/4*v\n",
    "n1.setbVal(0,Q_in*np.ones(n1.M+1))\n",
    "dt = n1.T/n1.M  \n",
    "print dt"
   ]
  },
  {
   "cell_type": "code",
   "execution_count": 4,
   "metadata": {
    "collapsed": false
   },
   "outputs": [
    {
     "name": "stdout",
     "output_type": "stream",
     "text": [
      "The total run time is 125.926784 s, the total volume change is 44.160603 0.019358 cubic meters\n"
     ]
    }
   ],
   "source": [
    "V0 = n1.getTotalVolume()                 \n",
    "n1.runForwardProblem(dt) \n",
    "V1= n1.getTotalVolume()\n",
    "print \"The total run time is %f s, the total volume change is %f %f cubic meters\" %(n1.solve_time, V1,V0)"
   ]
  },
  {
   "cell_type": "markdown",
   "metadata": {},
   "source": [
    "# 1.1 Pressure Head of Pipe_interest Changes With Time, Dynamic Picture\n",
    "# (Simultaneous and Overlap)\n",
    "## Note: can also get pressure along pipe at a certain time"
   ]
  },
  {
   "cell_type": "code",
   "execution_count": null,
   "metadata": {
    "collapsed": false,
    "scrolled": false
   },
   "outputs": [],
   "source": [
    "#*********************************************************************************\n",
    "pipe_interest=[4,7,8]\n",
    "t_delta=1              # unit: s\n",
    "t_start=1100               # unit:s\n",
    "t_end=1800               # unit: s\n",
    "#*********************************************************************************\n",
    "\n",
    "# create x axis\n",
    "x_interest=[]\n",
    "pipe_length=0\n",
    "for j in pipe_interest: \n",
    "    x = np.linspace(0,n1.Ls[j],n1.Ns[j])\n",
    "    x_interest.append(x)\n",
    "\n",
    "#create initial figure\n",
    "from matplotlib import animation\n",
    "fig = plt.figure(figsize= (10,5))\n",
    "plt.xlim(0,x_interest[-1][-1]+1)\n",
    "plt.ylim(-0.1, 1)\n",
    "lines = [plt.plot([], [],label='pipe {}'.format(pipe_interest[i]))[0] for i in range(len(pipe_interest))] # number of lines plot on the figure\n",
    "plt.xlabel('x (m)')        \n",
    "plt.ylabel('Pressure Head (m)')\n",
    "plt.title('Pressure Head in pipe %s'%str(pipe_interest)) \n",
    "# initialization function: plot the background of each frame\n",
    "\n",
    "def init():\n",
    "    for line in lines:\n",
    "        line.set_data([], [])\n",
    "    return lines\n",
    "\n",
    "Mi_draw=int(t_delta/dt)   # difne how many steps to skip\n",
    "M_start=int(t_start/dt)\n",
    "M_total=int(t_end/dt)\n",
    "\n",
    "def animate(index): \n",
    "    for i,line in enumerate(lines):             \n",
    "        j=pipe_interest[i]\n",
    "        Hx = n1.pressureSpaceSeries(j,M_start+index*Mi_draw)  \n",
    "        #this returns H as a function of x in pipe j at time step m\n",
    "        line.set_data(x_interest[i],Hx)\n",
    "        plt.xlabel('x (m), t=%ds'%((M_start+index*Mi_draw)*dt))\n",
    "        #line.set_label('pipe %d t=%.2f s'%(j,(dt*(M_start+index*Mi_draw))))\n",
    "                      \n",
    "    return lines         \n",
    "    #legend(bbox_to_anchor=(1.05, 1), loc=2, borderaxespad=0.)\n",
    "    \n",
    "\n",
    "step = int((M_total-M_start)/Mi_draw)\n",
    "anim = animation.FuncAnimation(fig, animate, init_func=init,frames=step, interval=150, blit=True)\n",
    "plt.legend()\n",
    "plt.show()\n",
    "#anim.save('/home/xin/pipes/examples/output_data/EpipeFig/a.mp4')\n",
    "\n",
    "#anim = animation.FuncAnimation(fig, animate, init_func=init,frames=3, interval=20, blit=True)\n",
    "#anim.save(\"basic_animation.mp4\")\n",
    "#plt.show()\n",
    "    # time.sleep(0.01)\n",
    "    # bbox_to_anchor: the bbox that the legend will be anchored, 1.05 means 1.05 times of figure length\n",
    "    # borderaxespad: the pad between the axes and legend border\n",
    "    # optional:legend(loc = 'upper left')"
   ]
  },
  {
   "cell_type": "markdown",
   "metadata": {},
   "source": [
    "# 1.2  Pressure Head of Pipe_interest Changes With Time, Dynamic Picture\n",
    "# (Countinuous)\n",
    "## Note: can also get pressure along pipe at a certain time"
   ]
  },
  {
   "cell_type": "code",
   "execution_count": 7,
   "metadata": {
    "collapsed": false,
    "scrolled": false
   },
   "outputs": [
    {
     "data": {
      "image/png": "[encoded data removed]",
      "text/plain": [
       "<matplotlib.figure.Figure at 0x7f6d66fbb610>"
      ]
     },
     "metadata": {},
     "output_type": "display_data"
    }
   ],
   "source": [
    "# Pressure Head of Pipe_interest changes with time, dynamic picture, for continuous pipe\n",
    "\n",
    "#***********************************************************************************\n",
    "pipe_interest=[0,1,2,3,4]\n",
    "t_delta=10               # unit: s\n",
    "t_start=0               # unit:s\n",
    "t_end=1800               # unit: s\n",
    "#***********************************************************************************\n",
    "\n",
    "import pylab as pl\n",
    "from IPython import display\n",
    "plt.ion()\n",
    "plt.show()\n",
    "\n",
    "# create x axis\n",
    "x_interest=[]\n",
    "pipe_length=0\n",
    "for j in pipe_interest: \n",
    "    x = np.linspace(pipe_length,pipe_length+n1.Ls[j],n1.Ns[j])\n",
    "    x_interest.append(x)\n",
    "    pipe_length=pipe_length+n1.Ls[j]\n",
    "\n",
    "# create H_interest which stores all the pressure head data corresponding to x\n",
    "\n",
    "# H_interest_tfixed = [Hx1,Hx2,...,Hxj], pressure head at a certain time along all interesting pipes\n",
    "\n",
    "# H_interested =n [H_interested1, H_interested2,..., H_interestedT], H_interested[i] =  fixed time step at i*Mi_draw\n",
    "# dthen get ata from H_interested_tfixed\n",
    "\n",
    "H_interest=[]\n",
    "Mi_draw=int(t_delta/dt)   # difne how many steps to skip\n",
    "M_start=int(t_start/dt)\n",
    "M_total=int(t_end/dt)\n",
    "x_interest_combine = np.concatenate(x_interest,axis =0)\n",
    "for m in range(M_start,M_total,Mi_draw) :  \n",
    "    H_interest_tfixed=[]\n",
    "    for j in pipe_interest:    \n",
    "        Hx = n1.pressureSpaceSeries(j,m)  \n",
    "        #this returns H as a function of x in pipe j at time step m\n",
    "        H_interest_tfixed.append(Hx)\n",
    "    H_interest.append(H_interest_tfixed)\n",
    "    #plt.figure(figsize= (15,5))    #plot on different figures\n",
    "    H_interest_combine = np.concatenate(H_interest[int((m-M_start)/Mi_draw)],axis =0)\n",
    "    pl.clf()\n",
    "    figsize= (15,5)               #plot on the same figure\n",
    "    pl.plot(x_interest_combine,H_interest_combine, lw = 1,label = 't=%.2f s'%(dt*m))\n",
    "    # m is time step, and should divide m/Mi_draw to get what we need\n",
    "    xlabel('x (m)')        \n",
    "    ylabel('Pressure Head (m)')\n",
    "    xlim(0,x_interest[-1][-1]+1)\n",
    "    Hmax=max(H_interest_combine)\n",
    "    ylim(-0.1,15)\n",
    "    #ylim(-0.1,1.1*Hmax)\n",
    "    legend(bbox_to_anchor=(1.05, 1), loc=2, borderaxespad=0.)\n",
    "    title('Pressure Head along pipe %s'%str(pipe_interest)) \n",
    "    display.display(pl.gcf())\n",
    "    display.clear_output(wait=True)\n",
    "    #time.sleep(0.01)\n",
    "    # bbox_to_anchor: the bbox that the legend will be anchored, 1.05 means 1.05 times of figure length\n",
    "    # borderaxespad: the pad between the axes and legend border\n",
    "    # optional:legend(loc = 'upper left')\n"
   ]
  },
  {
   "cell_type": "markdown",
   "metadata": {},
   "source": [
    "# 2.1 Cross Sectional Area of Pipe_interest  (same as pipe above)\n"
   ]
  },
  {
   "cell_type": "code",
   "execution_count": null,
   "metadata": {
    "collapsed": false,
    "scrolled": true
   },
   "outputs": [],
   "source": [
    "# Print the cross sectional area of pipe_interest (the same pipe above)\n",
    "\n",
    "#pipe_interest=range(0,9)\n",
    "A_pipe=[]\n",
    "for i in range(len(pipe_interest)):\n",
    "    pipe_number=pipe_interest[i]\n",
    "    A_pipe.append(n1.Ds[pipe_number]**2/4*pi)\n",
    "    print 'pipe %d cross sectional area: A=%.4f m^2'%(pipe_number,A_pipe[i])\n"
   ]
  },
  {
   "cell_type": "markdown",
   "metadata": {},
   "source": [
    "# 2.2  The Veolcity (Q/A) in Pipe_interest Changes with Time, Dynamic Picture \n",
    "# (same pipe above)"
   ]
  },
  {
   "cell_type": "code",
   "execution_count": null,
   "metadata": {
    "collapsed": false,
    "scrolled": false
   },
   "outputs": [],
   "source": [
    "# the veolcity in pipe_interest changes with time ,dynamic picture (same pipe above)\n",
    "\n",
    "U_interest=[]\n",
    "def idx_t(i,j,n,N):\n",
    "    return (2*(N+2)*n+(N+2)*i+j)\n",
    "\n",
    "\n",
    "for m in range(0,M_total,Mi_draw) :\n",
    "    U_interest_tfixed=[] \n",
    "    for i in range(len(pipe_interest)):\n",
    "        j = pipe_interest[i]\n",
    "        N = n1.Ns[j]\n",
    "        qh = n1.qhist(j) \n",
    "        Utemp=[]\n",
    "        for k in range(1,N+1):\n",
    "            Ak=qh[idx_t(0,k,m,N)]\n",
    "            AN=qh[idx_t(0,N,m,N)]\n",
    "            Qk=qh[idx_t(1,k,m,N)]\n",
    "            # when Q is actually very samll and its value is due to numerical oscillation, set it as 0\n",
    "            if abs(Ak-AN)<0.1*A_pipe[i] and AN<0.1*A_pipe[i]:  \n",
    "                Qk=0   \n",
    "            vk = Qk/Ak                 \n",
    "            Utemp.append(vk)\n",
    "            #Utemp=[qh[idx_t(1,k,m,N)]/qh[idx_t(0,k,m,N)] for k in range(1,N+1)]\n",
    "        U_interest_tfixed.append(Utemp)\n",
    "    U_interest.append(U_interest_tfixed)\n",
    "    U_interest_combine = np.concatenate(U_interest[int(m/Mi_draw)],axis =0)\n",
    "    # plt.figure(figsize= (15,5))    #plot on different figures\n",
    "    figsize= (15,5)                 #plot on the same figure\n",
    "    pl.clf()\n",
    "    pl.plot(x_interest_combine,U_interest_combine, lw = 1,label = 't=%.2f s'%(dt*m))\n",
    "    '''\n",
    "    #plt.figure(figsize= (15,5))\n",
    "    for i in range(len(pipe_interest)):\n",
    "        figsize(15,5)\n",
    "        plot(x_interest[i],U_interest[int(m/Mi_draw)][i], lw = 1,  label = 'pipe %d, t=%.2f s'%(pipe_interest[i],dt*m))\n",
    "        # m is time step, and should divide m/Mi_draw to get what we need\n",
    "        #plot(x,Hx, lw = 1, color = sMap.to_rgba(m), label = 't=%.2f'%(dt*m))\n",
    "    '''\n",
    "    xlabel('x (m)')        \n",
    "    ylabel('Velocity (m/s)')\n",
    "    xlim(0,x_interest[-1][-1]+1)\n",
    "    Umax=1.1*max(U_interest_combine)\n",
    "    #ylim(-0.1,2.5)\n",
    "    ylim(-0.5,1.2*Umax)\n",
    "    #print int(m/Mi_draw)      #for test\n",
    "    legend(bbox_to_anchor=(1.05, 1), loc=2, borderaxespad=0.)\n",
    "    title('Velocity along pipe %s'%str(pipe_interest))\n",
    "    display.display(pl.gcf())\n",
    "    display.clear_output(wait=True)\n",
    "    #time.sleep(0.01)\n",
    "    # print U_interest[5][1]   # first index is #*Mi timestep, second index is pipe # in pipe_interest list\n",
    "\n"
   ]
  },
  {
   "cell_type": "markdown",
   "metadata": {},
   "source": [
    "# 3.1 Decide Time Reaching Steady State\n",
    "##       Based on standard deviation of pressure gradient along pipes"
   ]
  },
  {
   "cell_type": "code",
   "execution_count": null,
   "metadata": {
    "collapsed": false,
    "scrolled": false
   },
   "outputs": [],
   "source": [
    "#****************************************************************************\n",
    "t_interval = 2                  # unit: s\n",
    "pipe_interest = range(0,9)      # Pipes you want to know \n",
    "#****************************************************************************\n",
    "\n",
    "def get_gradient(distance,pressure_series):\n",
    "    gradient = []\n",
    "    for k in xrange(len(pressure_series)):\n",
    "        gradi = pressure_series[k]/distance\n",
    "        #if gradi == 0:                     # 0 is a const to reflect initial gradient\n",
    "            #return 0\n",
    "        gradient.append(gradi)\n",
    "    return gradient\n",
    "\n",
    "Mi_draw = int(t_interval/dt)\n",
    "for i in xrange(len(pipe_interest)):\n",
    "    pipe_number = pipe_interest[i]\n",
    "    dx = n1.Ls[pipe_number]/n1.Ns[pipe_number]\n",
    "    t_dev=[]\n",
    "    deviation = []\n",
    "    for m in range(0,n1.M+1,Mi_draw):\n",
    "        Hx = n1.pressureSpaceSeries(pipe_number,m)\n",
    "        gradient = get_gradient(dx,Hx[2:-2])           # eliminate first two grids and the last grid\n",
    "        ave = np.mean(gradient)\n",
    "        gradient = [gradient[loc] / ave for loc in range(len(gradient))]  # normalize gradient\n",
    "        deviation.append(np.std(gradient))\n",
    "        t_dev.append(m*dt)\n",
    "    plt.figure(figsize= (10,4)) \n",
    "    plot(t_dev,deviation)   \n",
    "    xlabel('t(s)')\n",
    "    ylabel('pressure gradient (m^3/s)')\n",
    "    title('Pipe %d Pressure Gradient Standard Deviation'%pipe_number)\n",
    "       \n",
    "'''\n",
    "        if gradient != 0:\n",
    "            sigma = np.std(gradient)\n",
    "            if 0 < sigma < 1:                  # using standard deviation of gradient to check if it is steady state or not\n",
    "                print 'At time %d, Pipe %d reach steady state.'(%(int(m*dt),pipe_number))\n",
    "'''"
   ]
  },
  {
   "cell_type": "markdown",
   "metadata": {},
   "source": [
    "# 4.1 Inflow and Outflow for All Pipes in Model (Using ΣQ*dt)"
   ]
  },
  {
   "cell_type": "code",
   "execution_count": null,
   "metadata": {
    "collapsed": false,
    "scrolled": true
   },
   "outputs": [],
   "source": [
    "# Display the inflow and outflow for each pipe (m^3)  (ALl PIPES IN MODEL)\n",
    "\n",
    "\n",
    "# Get Q of two ends of each pipe\n",
    "Q = []\n",
    "Mstep=1\n",
    "#pipe_interest=[0]\n",
    "pipe_interest=range(0,9)   \n",
    "'''Here I redefine the pipe_interest vector'''\n",
    "\n",
    "for i in range(len(pipe_interest)):\n",
    "    Q_pipefix = [] \n",
    "    Q_start=[]\n",
    "    Q_end=[]\n",
    "    for m in xrange(0,n1.M,Mstep) :\n",
    "        j = pipe_interest[i]\n",
    "        N = n1.Ns[j]\n",
    "        qh = n1.qhist(j)\n",
    "        Q_start.append(qh[idx_t(1,1,m,N)])   # Q1\n",
    "        Q_end.append(qh[idx_t(1,N-1,m,N)])     # QN\n",
    "    Q_pipefix.append(Q_start)\n",
    "    Q_pipefix.append(Q_end)\n",
    "    Q.append(Q_pipefix)\n",
    "xt = np.linspace(0, n1.M*dt, n1.M/Mstep)\n",
    "endorstart=['start','end']\n",
    "for i in range(len(pipe_interest)):\n",
    "    plt.figure(figsize= (10,4))                # same pipe on same figure\n",
    "    for j in range(0,2):  \n",
    "        #figsize = (15,5)                        # plot on same figure           \n",
    "        #plt.figure(figsize= (15,5))             # plot on different figures\n",
    "        plot(xt,Q[i][j], lw = 1,label = 'pipe %d, %s'%(pipe_interest[i],endorstart[j]))\n",
    "        #legend(bbox_to_anchor=(1.05, 1), loc=2, borderaxespad=0.)   #legend will be placed out of box and cannot be shown\n",
    "        legend()\n",
    "        xlabel('time (s)')\n",
    "        ylabel('flux (m^3/s)')\n",
    "        title('Flux in pipe %d'%pipe_interest[i])\n",
    "\n",
    "# calculate inflow and outflow, i means pipe number, j means start or end, time means time in vector  \n",
    "delta_t=Mstep*dt\n",
    "Q_total=[]\n",
    "for i in range(len(pipe_interest)):\n",
    "    Q_total_pipefix=[]\n",
    "    for j in range(0,2):\n",
    "        Q_sum=0\n",
    "        for time in range(len(Q[i][j])):\n",
    "            Q_sum += Q[i][j][time]*delta_t\n",
    "        Q_total_pipefix.append(Q_sum)\n",
    "        print 'Pipe %d during %d s have total flow: %.3f m^3 (%s node)'%(pipe_interest[i],n1.T,Q_sum,endorstart[j])\n",
    "    V_dif = Q_total_pipefix[0]- Q_total_pipefix[1]\n",
    "    print V_dif\n",
    "    Q_total.append(Q_total_pipefix)\n",
    "\n",
    "\n",
    "   "
   ]
  },
  {
   "cell_type": "markdown",
   "metadata": {},
   "source": [
    "# 4.2 Calculate total outflow using Q above"
   ]
  },
  {
   "cell_type": "code",
   "execution_count": null,
   "metadata": {
    "collapsed": false
   },
   "outputs": [],
   "source": [
    "# Using the flux above to calculate total outflow\n",
    "outflow_pipe = [4,5,6,7,8]\n",
    "sum_outflow = 0\n",
    "for i in outflow_pipe:\n",
    "    sum_outflow += Q_total[i][1]\n",
    "print 'The total outflow is %.1f m^3, the total volume in pipe is %.1f m^3'%(sum_outflow,V1)\n",
    "print 'Total Inflow - Total Outflow - Water in pipes = %.1f m^3'%(Q_in*n1.T-sum_outflow-V1)"
   ]
  },
  {
   "cell_type": "markdown",
   "metadata": {},
   "source": [
    "# 4.3 Mass Balance for Each Junction"
   ]
  },
  {
   "cell_type": "code",
   "execution_count": null,
   "metadata": {
    "collapsed": false,
    "scrolled": true
   },
   "outputs": [],
   "source": [
    "# Display mass balance for each junction\n",
    "\n",
    "#******************************************************************************************\n",
    "#The following three list must corresponds to each other \n",
    "JunNode=[1,2,3,4]\n",
    "Pipejun_in=[[0],[1],[2],[3]]\n",
    "Pipejun_out=[[1,5],[2,6],[3,7],[4,8]]\n",
    "#******************************************************************************************\n",
    "\n",
    "\n",
    "assert (len(Pipejun_in)==len(Pipejun_out)),\"Different dimensions of Pipejun_in and Pipejun_out!\"\n",
    "\n",
    "# Create x axis\n",
    "xt = np.linspace(0, n1.M*dt, n1.M/Mstep)\n",
    "\n",
    "# Q[i][j][k]   i means pipe number, j means start or end, k means time in vector \n",
    "for i in xrange(len(Pipejun_in)):\n",
    "    Qjun_dif = []\n",
    "    for k in xrange(len(Q[0][1])):\n",
    "        Qinflow = 0\n",
    "        Qoutflow = 0\n",
    "        for j1 in Pipejun_in[i]:\n",
    "            Qinflow += Q[j1][1][k]\n",
    "        for j2 in Pipejun_out[i]:\n",
    "            Qoutflow += Q[j2][0][k]\n",
    "        Qjun_dif.append(Qinflow-Qoutflow)\n",
    "    plt.figure(figsize= (10,4)) \n",
    "    plot(xt,Qjun_dif)   \n",
    "    xlabel('t(s)')\n",
    "    ylabel('Flux difference (m^3/s)')\n",
    "    title('Junction %d Mass Conservation (Qin-Qout)'%JunNode[i])\n"
   ]
  },
  {
   "cell_type": "markdown",
   "metadata": {},
   "source": [
    "# 5.1 Water Volume (using ΣAw*dx) in Pipes Change with Time"
   ]
  },
  {
   "cell_type": "code",
   "execution_count": null,
   "metadata": {
    "collapsed": false,
    "scrolled": false
   },
   "outputs": [],
   "source": [
    "#*****************************************************************************\n",
    "pipe_interest1=range(0,9)\n",
    "#*****************************************************************************\n",
    "\n",
    "# Get A of two ends of each pipe\n",
    "A = [] # all time, all pipes, all A values in grids\n",
    "M_total=n1.M+1\n",
    "Mi_draw=100\n",
    "\n",
    "for m in xrange(0,M_total,Mi_draw) :\n",
    "    A_tfixed=[] # certain time, all pipes, all A values in grids\n",
    "    for i in xrange(len(pipe_interest1)):\n",
    "        j = pipe_interest1[i]\n",
    "        N = n1.Ns[j]\n",
    "        qh = n1.qhist(j) \n",
    "        Atemp=[]  #certain time, certain pipe, all A values in grids\n",
    "        for k in xrange(1,N+1):\n",
    "            Ak=qh[idx_t(0,k,m,N)]      \n",
    "            Atemp.append(Ak)\n",
    "        A_tfixed.append(Atemp)     \n",
    "    A.append(A_tfixed)\n",
    "        \n",
    "#calculate total volumn, i means time, j means pipe number, distance means value of grids  \n",
    "V_total=[]\n",
    "for i in xrange(0,M_total,Mi_draw):\n",
    "    V_total_tfix=[]\n",
    "    for j in xrange(len(pipe_interest1)):\n",
    "        V_sum=0\n",
    "        pipe_number=pipe_interest1[j]\n",
    "        delta_x=n1.Ls[pipe_number]/n1.Ns[pipe_number]\n",
    "        for distance in xrange(len(A[int(i/Mi_draw)][j])):\n",
    "            V_sum += A[int(i/Mi_draw)][j][distance]*delta_x\n",
    "        V_total_tfix.append(V_sum)\n",
    "        #print 'Pipe %d during %d s have total flow: %.3f m^3 '%(pipe_number,i*dt,V_sum)\n",
    "    #print 'The total volumn at t=%d s are                      %.3f m^3'%(i*dt,sum(V_total_tfix))\n",
    "    V_total.append(V_total_tfix)\n",
    "\n",
    "xt1 = np.linspace(0, M_total*dt, M_total/Mi_draw)\n",
    "plt.figure(figsize= (11,5))\n",
    "title('Water Volume in Pipe ~ time')\n",
    "xlabel('t(s)')\n",
    "ylabel('V(m^3)')\n",
    "for j in xrange(len(pipe_interest1)):\n",
    "    pipe_number=pipe_interest1[j]\n",
    "    V_total_pipefix=[]\n",
    "    for i in xrange(1,M_total,Mi_draw):\n",
    "        V_total_pipefix.append(V_total[int(i/Mi_draw)][j])\n",
    "    plot(xt1,V_total_pipefix,label = 'pipe %d'%pipe_number)\n",
    "    legend(bbox_to_anchor=(0.95, 1), loc=2, borderaxespad=0.)\n"
   ]
  },
  {
   "cell_type": "markdown",
   "metadata": {},
   "source": [
    "# 5.2 Show Pipe End Details \n",
    "## Input: pipe, time\n",
    "## Output: flux, water cross-section area, velocity"
   ]
  },
  {
   "cell_type": "code",
   "execution_count": null,
   "metadata": {
    "collapsed": false
   },
   "outputs": [],
   "source": [
    "# illustrate why v is not zero even when empty\n",
    "def ShowQAofPipeEnd(pipe_detect,time_detect,total_time,total_timestep):\n",
    "    timestep=int(time_detect/total_time*total_timestep)\n",
    "    Q=n1.qhist(pipe_detect)[idx_t(1,n1.Ns[pipe_detect],timestep,n1.Ns[pipe_detect])]   #Q at middle of time, end of pipe 4\n",
    "    A=n1.qhist(pipe_detect)[idx_t(0,n1.Ns[pipe_detect],timestep,n1.Ns[pipe_detect])]   #A at middle of time, end of pipe 4\n",
    "    print '**************************************************************************************'\n",
    "    print \"At %ds, at the end of pipe %d:\"%(time_detect,pipe_detect)\n",
    "    print \"  The Flux  is  %.8f m^3/s\" %Q\n",
    "    print \"  The water cross area is %.8f m^2 \"%A\n",
    "    print '  The velocity is %.8f m/s'%(Q/A)\n",
    "    print \"**************************************************************************************\"\n",
    "    \n",
    "#******************************************************************************\n",
    "ShowQAofPipeEnd(4,1800,n1.T,n1.M)\n",
    "#******************************************************************************"
   ]
  },
  {
   "cell_type": "markdown",
   "metadata": {},
   "source": [
    "# 5.3 Pressure Head of Certain Pipe, Certain Location\n",
    "## Input: pipe, location\n",
    "## Output: pressure head (nearest grid) ~ time"
   ]
  },
  {
   "cell_type": "code",
   "execution_count": null,
   "metadata": {
    "collapsed": false,
    "scrolled": false
   },
   "outputs": [],
   "source": [
    "# Plot the Pressure head at the end of all outflow pipes\n",
    "#********************************************************************\n",
    "pipe_interest=[0,1]\n",
    "pipe_location=[99,80]               # unit:m\n",
    "#********************************************************************\n",
    "\n",
    "t = linspace(0,n1.T,n1.M+1)\n",
    "plt.figure(figsize= (5,2))                  # same figure\n",
    "for i in xrange(len(pipe_interest)):\n",
    "    pipe_number=pipe_interest[i]\n",
    "    dx=n1.Ls[pipe_number]/n1.Ns[pipe_number]\n",
    "    pipe_grid = int(pipe_location[i]/dx)\n",
    "    P = n1.pressureTimeSeries(pipe_number,pipe_grid)\n",
    "    #plt.figure(figsize= (10,4))                  # different figure\n",
    "    plt.plot(t,P,label = \"pipe %d, %.1f m\" %(pipe_number,pipe_grid*dx))\n",
    "    xlabel('t(s)')\n",
    "    ylabel('H(m)')\n",
    "    legend()\n",
    "    #legend(bbox_to_anchor=(0.85, 1.13), loc=2, borderaxespad=0.)\n",
    "    title('Pressure Head at pipe %d, %.2f m '%(pipe_number,pipe_grid*dx))\n",
    "savefig('/home/xin/pipes/examples/output_data/EpipeFig/%.1f.png'%1, bbox_inches='tight')\n"
   ]
  },
  {
   "cell_type": "code",
   "execution_count": null,
   "metadata": {
    "collapsed": false
   },
   "outputs": [],
   "source": [
    "print Q_in*1800"
   ]
  },
  {
   "cell_type": "markdown",
   "metadata": {},
   "source": [
    "# Show Layout of Pipe Network"
   ]
  },
  {
   "cell_type": "code",
   "execution_count": null,
   "metadata": {
    "collapsed": false
   },
   "outputs": [],
   "source": [
    "'''\n",
    "(xs,ys,conns,ls) = getBasicConnectivity(fi)\n",
    "Np= shape(conns) [0]\n",
    "plotNetworkLayout (xs, ys, conns, ls, Np) \n",
    "n1.showLayout() \n",
    "'''"
   ]
  },
  {
   "cell_type": "code",
   "execution_count": null,
   "metadata": {
    "collapsed": false,
    "scrolled": false
   },
   "outputs": [],
   "source": [
    "\"\"\"\n",
    "# Velocity of pipe_interest pipes, static image\n",
    "U_interest=[]\n",
    "def idx_t(i,j,n,N):\n",
    "    return (2*(N+2)*n+(N+2)*i+j)\n",
    "\n",
    "Mi_draw=10000\n",
    "for m in range(0,M_total,Mi_draw) :\n",
    "    U_interest_tfixed=[] \n",
    "    for i in range(len(pipe_interest)):\n",
    "        j = pipe_interest[i]\n",
    "        N = n1.Ns[j]\n",
    "        qh = n1.qhist(j) \n",
    "        Utemp=[]\n",
    "        for k in range(1,N+1):\n",
    "            Ak=qh[idx_t(0,k,m,N)]\n",
    "            AN=qh[idx_t(0,N,m,N)]\n",
    "            Qk=qh[idx_t(1,k,m,N)]\n",
    "            # when Q is actually very samll and its value is due to numerical oscillation, set it as 0\n",
    "            if abs(Ak-AN)<0.1*A_pipe[i] and AN<0.1*A_pipe[i]:  \n",
    "                Qk=0   \n",
    "            vk = Qk/Ak                 \n",
    "            Utemp.append(vk)\n",
    "        U_interest_tfixed.append(Utemp)\n",
    "    U_interest.append(U_interest_tfixed)\n",
    "    U_interest_combine = np.concatenate(U_interest[int(m/Mi_draw)],axis =0)\n",
    "    plt.figure(figsize= (10,4))    #plot on different figures\n",
    "    #figsize= (15,5)                 #plot on the same figure\n",
    "    plt.plot(x_interest_combine,U_interest_combine, lw = 1,label = 't=%.2f s'%(dt*m))\n",
    "    '''\n",
    "    #plt.figure(figsize= (15,5))\n",
    "    for i in range(len(pipe_interest)):\n",
    "        figsize(15,5)\n",
    "        plot(x_interest[i],U_interest[int(m/Mi_draw)][i], lw = 1,  label = 'pipe %d, t=%.2f s'%(pipe_interest[i],dt*m))\n",
    "        # m is time step, and should divide m/Mi_draw to get what we need\n",
    "        #plot(x,Hx, lw = 1, color = sMap.to_rgba(m), label = 't=%.2f'%(dt*m))\n",
    "    '''\n",
    "    xlabel('x (m)')        \n",
    "    ylabel('Velocity (m/s)')\n",
    "    xlim(0,x_interest[-1][-1]+1)\n",
    "    Umax=1.1*max(U_interest_combine)\n",
    "    #ylim(-0.1,2.5)\n",
    "    ylim(-0.1,1.2*Umax)\n",
    "    #print int(m/Mi_draw)      #for test\n",
    "    legend(bbox_to_anchor=(1.05, 1), loc=2, borderaxespad=0.)\n",
    "    title('Velocity along pipe %s'%str(pipe_interest))\n",
    "    # print U_interest[5][1]   # first index is #*Mi timestep, second index is pipe # in pipe_interest list\n",
    "\"\"\""
   ]
  },
  {
   "cell_type": "markdown",
   "metadata": {},
   "source": [
    "# Pressure Head at End of All Outflow Pipes"
   ]
  },
  {
   "cell_type": "code",
   "execution_count": null,
   "metadata": {
    "collapsed": false,
    "scrolled": true
   },
   "outputs": [],
   "source": [
    "# Plot the Pressure head at the end of all outflow pipes\n",
    "\n",
    "t = linspace(0,n1.T,n1.M+1)\n",
    "for i in xrange(1,len(jt)):\n",
    "    if jt[i]==1:\n",
    "        pipe_number=i-1\n",
    "        Pend = n1.pressureTimeSeries(int(pipe_number),n1.Ns[pipe_number])\n",
    "        #Pstart=n1.pressureTimeSeries(int(pipe_number),1)\n",
    "        #figsize=(15,5)\n",
    "        #plt.figure(figsize= (10,4))\n",
    "        #plt.plot(t,Pstart,label = \"start of pipe %d\" %(i-1))\n",
    "        #legend()\n",
    "        plt.figure(figsize= (10,4))                  # so that every time it can create a new figure\n",
    "        plt.plot(t,Pend,label = \"End of pipe %d\" %(i-1))\n",
    "        xlabel('t(s)')\n",
    "        ylabel('H(m)')\n",
    "        legend()\n",
    "        title('Pressure Head at end of pipe %d'%pipe_number)"
   ]
  },
  {
   "cell_type": "code",
   "execution_count": null,
   "metadata": {
    "collapsed": true
   },
   "outputs": [],
   "source": [
    "# Use timeanimation\n",
    "# Pressure Head of Pipe_interest changes with time, dynamic picture, overlap them \n",
    "\n",
    "#*********************************************************************************\n",
    "pipe_interest=[6]\n",
    "t_delta=100               # unit: s\n",
    "t_start=200               # unit:s\n",
    "t_end=1800               # unit: s\n",
    "#*********************************************************************************\n",
    "\n",
    "# create x axis\n",
    "x_interest=[]\n",
    "pipe_length=0\n",
    "for j in pipe_interest: \n",
    "    x = np.linspace(0,n1.Ls[j],n1.Ns[j])\n",
    "    x_interest.append(x)\n",
    "\n",
    "#create initial figure\n",
    "from matplotlib import animation\n",
    "fig = plt.figure(figsize= (10,5))\n",
    "plt.xlim(0,x_interest[-1][-1]+1)\n",
    "plt.ylim(-0.1, 6)\n",
    "#line, = plt.plot([], [], lw=2)    \n",
    "plt.xlabel('x (m)')        \n",
    "plt.ylabel('Pressure Head (m)')\n",
    "plt.title('Pressure Head in pipe %s'%str(pipe_interest)) \n",
    "# initialization function: plot the background of each frame\n",
    "'''\n",
    "def init():\n",
    "    line.set_data([], [])\n",
    "    return line,\n",
    "'''\n",
    "Mi_draw=int(t_delta/dt)   # difne how many steps to skip\n",
    "M_start=int(t_start/dt)\n",
    "M_total=int(t_end/dt)\n",
    "#def animate(index):\n",
    "im=[]\n",
    "\n",
    "for m in range(M_start,M_total,Mi_draw) : \n",
    "    for i in xrange(len(pipe_interest)):             \n",
    "        j=pipe_interest[i]\n",
    "        Hx = n1.pressureSpaceSeries(j,m)  \n",
    "            #this returns H as a function of x in pipe j at time step m\n",
    "                      #plot on the same figure\n",
    "        #line.set_data(x_interest[i],Hx)\n",
    "            #, label = 'pipe %d t=%.2f s'%(j,(dt*m))\n",
    "        im.append(plt.plot(x_interest[i],Hx, lw = 1,label = 'pipe %d t=%.2f s'%(j,(dt*m))))   \n",
    "    #legend(bbox_to_anchor=(1.05, 1), loc=2, borderaxespad=0.)\n",
    "    \n",
    "    #return line,\n",
    "\n",
    "\n",
    "im_ani = animation.ArtistAnimation(fig, im, interval=200, repeat_delay=3000,\n",
    "                                   blit=True)\n",
    "\n",
    "im_ani.save('/home/xin/pipes/examples/output_data/EpipeFig/aha.mp4')\n",
    "#anim = animation.FuncAnimation(fig, animate, init_func=init,frames=3, interval=20, blit=True)\n",
    "#anim.save(\"basic_animation.mp4\")\n",
    "plt.show()\n",
    "    # time.sleep(0.01)\n",
    "    # bbox_to_anchor: the bbox that the legend will be anchored, 1.05 means 1.05 times of figure length\n",
    "    # borderaxespad: the pad between the axes and legend border\n",
    "    # optional:legend(loc = 'upper left')\n"
   ]
  }
 ],
 "metadata": {
  "kernelspec": {
   "display_name": "Python 2",
   "language": "python",
   "name": "python2"
  },
  "language_info": {
   "codemirror_mode": {
    "name": "ipython",
    "version": 2
   },
   "file_extension": ".py",
   "mimetype": "text/x-python",
   "name": "python",
   "nbconvert_exporter": "python",
   "pygments_lexer": "ipython2",
   "version": "2.7.11"
  }
 },
 "nbformat": 4,
 "nbformat_minor": 0
}
