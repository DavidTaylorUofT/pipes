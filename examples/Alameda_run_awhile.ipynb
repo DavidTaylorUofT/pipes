{
 "cells": [
  {
   "cell_type": "code",
   "execution_count": 1,
   "metadata": {
    "collapsed": false
   },
   "outputs": [
    {
     "name": "stdout",
     "output_type": "stream",
     "text": [
      "Populating the interactive namespace from numpy and matplotlib\n"
     ]
    }
   ],
   "source": [
    "import sys\n",
    "sys.path.append(\"..\")\n",
    "from allthethings import PyNetwork, PyPipe_ps\n",
    "from allthethings import PyBC_opt_dh\n",
    "import numpy as np\n",
    "import matplotlib.pyplot as plt\n",
    "%pylab inline\n",
    "from scipy import optimize\n",
    "from writeit import rewritePipes\n"
   ]
  },
  {
   "cell_type": "code",
   "execution_count": 2,
   "metadata": {
    "collapsed": true
   },
   "outputs": [],
   "source": [
    "fi = \"../indata/Alamedanewer2.0.inp\"\n",
    "fc = \"../indata/Alamedanewer2.0.config\"\n",
    "n0 = PyNetwork(fi,fc,1)\n",
    "m_per_ft = .3048\n",
    "elevs  =[417,414,324,300,275,256,232,201,177,190,192,197,199,206,209,240,252,250,283,289,316,315,334,340,334,332,333,341,387,426,417]"
   ]
  },
  {
   "cell_type": "code",
   "execution_count": 3,
   "metadata": {
    "collapsed": true
   },
   "outputs": [],
   "source": [
    "def idx_t(i,j,n,N):\n",
    "    return (2*(N+2)*n+(N+2)*i+j)"
   ]
  },
  {
   "cell_type": "code",
   "execution_count": 4,
   "metadata": {
    "collapsed": false
   },
   "outputs": [
    {
     "name": "stdout",
     "output_type": "stream",
     "text": [
      "20\n",
      "23681\n"
     ]
    }
   ],
   "source": [
    "#n0.showLayout()\n",
    "Ls_m = [l*m_per_ft for l in n0.Ls]\n",
    "elevs_m = [float(el)*m_per_ft for el in elevs]\n",
    "#elevs_m = [0*float(el)*m_per_ft for el in elevs]\n",
    "Ds_m = [D/12 for D in n0.Ds]\n",
    "T = 20\n",
    "Mi = 1   #number of time steps in between writes\n",
    "Nt = 2\n",
    "Ttot = Nt*T\n",
    "Np = n0.Nedges\n",
    "a = 100\n",
    "Ns = [int(l) for l in Ls_m]\n",
    "dx = [Ls_m[i]/Ns[i] for i in range(Np)]\n",
    "M = int(T*a/(max(dx)*.8))*10\n",
    "M = (M+Mi-M%Mi)  #round it up to be an even multiple of Mi\n",
    "jt = n0.nodeTypes\n",
    "Nn = len(jt)\n",
    "bt = [1]*Nn\n",
    "bv = [0.]*Nn\n",
    "r = [1]*Nn\n",
    "r[0] = 0\n",
    "bt[0] =1\n",
    "h0s = [0]*Np\n",
    "q0s = [0]*Np\n",
    "Mrs =[0.007]*Np\n",
    "print T\n",
    "print M\n",
    "Nstar =1 #measuring point for each pipe\n",
    "Hs =np.ndarray((Np,M/Mi*Nt))\n"
   ]
  },
  {
   "cell_type": "code",
   "execution_count": 5,
   "metadata": {
    "collapsed": false
   },
   "outputs": [
    {
     "name": "stdout",
     "output_type": "stream",
     "text": [
      "new files are ../indata/Alameda_m3.inp and ../indata/Alameda_m3.config\n"
     ]
    }
   ],
   "source": [
    "fn = \"../indata/Alameda_m3\"\n",
    "oldinp = \"../indata/Alamedanewer2.0.inp\"\n",
    "(fi, fc) = rewritePipes(fn,oldinp, Ns, Ls_m, Mrs, Ds_m, jt, bt, bv, r, h0s, q0s, T, M, a,elevs_m)\n",
    "n1 = PyNetwork(fi,fc,1)\n",
    "dt = n1.T/float(n1.M)\n",
    "Q00 = 0.0087\n",
    "A00 = 0.00793\n",
    "for i in range(0,Np):\n",
    "    A0 = 0*ones(n1.Ns[i])\n",
    "    Q0 = 0*np.ones(n1.Ns[i])\n",
    "    n1.setIC(i,A0,Q0)\n",
    "#n1.setIC(0,A00*np.ones(n1.Ns[0]), Q00*np.ones(n1.Ns[0]))\n",
    "#n1.setIC(1,A00*np.ones(n1.Ns[1]), Q00*np.ones(n1.Ns[1]))\n",
    "Qb = Q00*np.ones(M+1)\n",
    "Ab = A00*np.ones(M+1)\n",
    "n1.setbVal(0,Qb)"
   ]
  },
  {
   "cell_type": "code",
   "execution_count": 6,
   "metadata": {
    "collapsed": false
   },
   "outputs": [
    {
     "name": "stdout",
     "output_type": "stream",
     "text": [
      "0\n",
      "[0.0, 0.25486502426942437]\n",
      "1\n",
      "[0.0, 0.25486502426942437, 0.5113334145736874]\n",
      "CPU times: user 2min 26s, sys: 3.39 s, total: 2min 29s\n",
      "Wall time: 2min 30s\n"
     ]
    }
   ],
   "source": [
    "%%time \n",
    "Vs = [n1.getTotalVolume()]\n",
    "for m in range(Nt):\n",
    "    n1.runForwardProblem(dt)\n",
    "    for j in range(Np):\n",
    "        N = n1.Ns[j]\n",
    "        p0 = PyPipe_ps(N,n1.Ds[j], n1.Ls[j],M,a)\n",
    "        qh = n1.qhist(j)\n",
    "        Htemp = [p0.pbar(qh[idx_t(0,Nstar,n,n1.Ns[j])],False) for n in range(1,M+1,Mi)]\n",
    "        Hs[j,m*(M/Mi):(M/Mi)*(m+1)] = Htemp\n",
    "    Vs.append(n1.getTotalVolume()) \n",
    "    print m\n",
    "    print Vs\n",
    "    n1.reset()    "
   ]
  },
  {
   "cell_type": "code",
   "execution_count": 7,
   "metadata": {
    "collapsed": false
   },
   "outputs": [
    {
     "name": "stdout",
     "output_type": "stream",
     "text": [
      "1\n",
      "(23681,)\n",
      "(23681,)\n",
      "(23681,)\n",
      "(23681,)\n"
     ]
    }
   ],
   "source": [
    "print m\n",
    "print shape(Hs[j,m*(M/Mi):(M/Mi)*(m+1)])\n",
    "print shape(Hs[j,m*(M/Mi):(M/Mi)*(m+1)])\n",
    "print shape(Htemp)\n",
    "print shape(range(1,M+1,Mi))"
   ]
  },
  {
   "cell_type": "code",
   "execution_count": 14,
   "metadata": {
    "collapsed": false
   },
   "outputs": [
    {
     "data": {
      "image/png": "[encoded data removed]",
      "text/plain": [
       "<matplotlib.figure.Figure at 0x13a40fb50>"
      ]
     },
     "metadata": {},
     "output_type": "display_data"
    }
   ],
   "source": [
    "t = linspace(0,Ttot,shape(Hs)[1])\n",
    "for k in range(0,Np):\n",
    "    plot(t,Hs[k,:])"
   ]
  },
  {
   "cell_type": "code",
   "execution_count": 15,
   "metadata": {
    "collapsed": false
   },
   "outputs": [
    {
     "data": {
      "text/plain": [
       "[<matplotlib.lines.Line2D at 0x13c193510>]"
      ]
     },
     "execution_count": 15,
     "metadata": {},
     "output_type": "execute_result"
    },
    {
     "data": {
      "image/png": "[encoded data removed]",
      "text/plain": [
       "<matplotlib.figure.Figure at 0x13a661750>"
      ]
     },
     "metadata": {},
     "output_type": "display_data"
    }
   ],
   "source": [
    "plot(t,Hs[18,:])"
   ]
  },
  {
   "cell_type": "code",
   "execution_count": 16,
   "metadata": {
    "collapsed": false
   },
   "outputs": [
    {
     "data": {
      "text/plain": [
       "229.314638"
      ]
     },
     "execution_count": 16,
     "metadata": {},
     "output_type": "execute_result"
    }
   ],
   "source": [
    "n1.solve_time*Nt"
   ]
  },
  {
   "cell_type": "code",
   "execution_count": 17,
   "metadata": {
    "collapsed": false
   },
   "outputs": [
    {
     "name": "stdout",
     "output_type": "stream",
     "text": [
      "54\n"
     ]
    },
    {
     "data": {
      "text/plain": [
       "[<matplotlib.lines.Line2D at 0x13a687150>]"
      ]
     },
     "execution_count": 17,
     "metadata": {},
     "output_type": "execute_result"
    },
    {
     "data": {
      "image/png": "[encoded data removed]",
      "text/plain": [
       "<matplotlib.figure.Figure at 0x13c1aa6d0>"
      ]
     },
     "metadata": {},
     "output_type": "display_data"
    }
   ],
   "source": [
    "L = len(n1.q(18))\n",
    "plot(n1.q(18)[L/2:])\n",
    "print L\n",
    "plot(n1.q(18)[0:L/2])"
   ]
  },
  {
   "cell_type": "code",
   "execution_count": 12,
   "metadata": {
    "collapsed": false
   },
   "outputs": [
    {
     "data": {
      "text/plain": [
       "[<matplotlib.lines.Line2D at 0x13a4759d0>]"
      ]
     },
     "execution_count": 12,
     "metadata": {},
     "output_type": "execute_result"
    },
    {
     "data": {
      "image/png": "[encoded data removed]",
      "text/plain": [
       "<matplotlib.figure.Figure at 0x13a40fad0>"
      ]
     },
     "metadata": {},
     "output_type": "display_data"
    }
   ],
   "source": [
    "plot(t,Hs[19,:])"
   ]
  },
  {
   "cell_type": "code",
   "execution_count": 18,
   "metadata": {
    "collapsed": true
   },
   "outputs": [],
   "source": [
    "import pickle"
   ]
  },
  {
   "cell_type": "code",
   "execution_count": 23,
   "metadata": {
    "collapsed": false
   },
   "outputs": [],
   "source": [
    "solve_t = (n1.solve_time)*Nt\n",
    "f1=  open('fillingdata_slopenot0.pkl','wb')\n",
    "data = {'Hs':Hs, 'elevs':elevs_m,'T':T,\n",
    "        'conns': n1.conn, 'Ds': n1.Ds, 'Ls':n1.Ls,\n",
    "        'Mrs':Mrs,'M':M, 'Nt': Nt,'Ttot':Ttot,\n",
    "        'Mi': Mi, 'a':a, 'solve_t':solve_t, 'Q00':'Q00',\n",
    "        'notes':\"initial condition zero everywhere. boundary condition is Q00 at node 0. all other junction ones are reflecting. base inp file is alamaded2.0.inp\"}\n",
    "pickle.dump(data,f1)\n",
    "f1.close()"
   ]
  },
  {
   "cell_type": "code",
   "execution_count": 27,
   "metadata": {
    "collapsed": false
   },
   "outputs": [
    {
     "name": "stdout",
     "output_type": "stream",
     "text": [
      "0.0042227946455\n"
     ]
    }
   ],
   "source": [
    "print dt*5"
   ]
  },
  {
   "cell_type": "code",
   "execution_count": 19,
   "metadata": {
    "collapsed": false
   },
   "outputs": [
    {
     "name": "stdout",
     "output_type": "stream",
     "text": [
      "40\n"
     ]
    }
   ],
   "source": [
    "print Ttot"
   ]
  },
  {
   "cell_type": "code",
   "execution_count": null,
   "metadata": {
    "collapsed": true
   },
   "outputs": [],
   "source": [
    "0.004"
   ]
  }
 ],
 "metadata": {
  "kernelspec": {
   "display_name": "Python 2",
   "language": "python",
   "name": "python2"
  },
  "language_info": {
   "codemirror_mode": {
    "name": "ipython",
    "version": 2
   },
   "file_extension": ".py",
   "mimetype": "text/x-python",
   "name": "python",
   "nbconvert_exporter": "python",
   "pygments_lexer": "ipython2",
   "version": "2.7.10"
  }
 },
 "nbformat": 4,
 "nbformat_minor": 0
}
