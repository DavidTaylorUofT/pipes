{
 "cells": [
  {
   "cell_type": "code",
   "execution_count": 1,
   "metadata": {
    "collapsed": false
   },
   "outputs": [
    {
     "name": "stdout",
     "output_type": "stream",
     "text": [
      "Populating the interactive namespace from numpy and matplotlib\n"
     ]
    }
   ],
   "source": [
    "import sys\n",
    "sys.path.append(\"..\")     \n",
    "from allthethings import PyNetwork, PyPipe_ps\n",
    "from allthethings import PyBC_opt_dh\n",
    "import numpy as np\n",
    "import matplotlib.pyplot as plt\n",
    "%pylab inline\n",
    "from writeit import *\n",
    "import pickle\n",
    "import time"
   ]
  },
  {
   "cell_type": "code",
   "execution_count": 2,
   "metadata": {
    "collapsed": false
   },
   "outputs": [],
   "source": [
    "fi = \"../indata/waterhammer.inp\"\n",
    "fc = \"../indata/waterhammer.config\"\n",
    "mtype = 1\n",
    "n0 = PyNetwork(fi,fc,mtype)\n",
    "Ls = n0.Ls\n",
    "N = n0.Ns[0]\n",
    "Ns = [int(l) for l in Ls]               # Ns is a matrix instead of a number\n",
    "a = n0.a[0]                      # a should be a number 1200 rather than [1200]\n",
    "T =n0.T\n",
    "Ds = n0.Ds\n",
    "Mrs =n0.Mrs\n",
    "M=n0.M\n",
    "#dx=Ls/N\n",
    "#M = int(T*a/(dx*.8))                          # M is a number\n",
    "\n",
    "# set BC for junction 0 - reservoir\n",
    "q=0.82*pi*Ds**2/4*(2*9.81*150)**0.5\n",
    "Qin=q[0]*ones(M+1)\n",
    "\n",
    "p0 = PyPipe_ps(N, Ds, Ls, M, a)\n",
    "A00= p0.AofH(15.557,False)\n",
    "Q00= q[0]\n",
    "#n1.setIC(0,A00*ones(n1.Ns[0]), Q00*np.ones(n1.Ns[0]))\n",
    "#n1.setbVal(0,Qin) "
   ]
  },
  {
   "cell_type": "code",
   "execution_count": 3,
   "metadata": {
    "collapsed": false
   },
   "outputs": [
    {
     "name": "stdout",
     "output_type": "stream",
     "text": [
      "[600] [ 600.] [0.012] [ 0.5] [1 1] [0, 1] [0.19636966103224984, 0.0] [0, 1] [15.557] [0.01] 5.0 10000 1200.0 [0, 0]\n"
     ]
    }
   ],
   "source": [
    "#set other parameters these are only initial conditions and boundaryt types!!\n",
    "jt=n0.nodeTypes\n",
    "bt=[0,1]\n",
    "bv=[A00,0.0]\n",
    "r=[0,1]\n",
    "h0s=[15.557]    \n",
    "q0s=[0.01]\n",
    "elevs=[0,0]\n",
    "#Write new files\n",
    "oldinp = \"../indata/waterhammer.inp\"\n",
    "fn = \"../indata/xin_waterhammer\"\n",
    "(fi, fc)=rewritePipes(fn,oldinp, Ns, Ls, Mrs, Ds, jt, bt, bv, r, h0s, q0s, T, M, a, elevs)\n",
    "print  Ns, Ls, Mrs, Ds, jt, bt, bv, r, h0s, q0s, T, M, a, elevs"
   ]
  },
  {
   "cell_type": "code",
   "execution_count": 4,
   "metadata": {
    "collapsed": false
   },
   "outputs": [
    {
     "name": "stdout",
     "output_type": "stream",
     "text": [
      "Junction1s are [0 1]\n",
      "junction 0 has A specified\n",
      "junction 1 has reflection boundary condition\n"
     ]
    },
    {
     "data": {
      "image/png": "[encoded data removed]",
      "text/plain": [
       "<matplotlib.figure.Figure at 0x7fb6629bc850>"
      ]
     },
     "metadata": {},
     "output_type": "display_data"
    }
   ],
   "source": [
    "n1 = PyNetwork(fi,fc,mtype)\n",
    "n1.setIC(0,A00*ones(n1.Ns[0]), 0.01*ones(N))\n",
    "n1.setbVal(0,A00*ones(M+1))              # This is the bvalvalue, it is the boundary condtion!! It changes results!\n",
    "(xs,ys,conns,ls) = getBasicConnectivity(fi)\n",
    "Np= shape(conns) [0]\n",
    "plotNetworkLayout (xs, ys, conns, ls, Np)   \n",
    "#n1.showCurrentData()  \n",
    "n1.showExternalBoundaries()"
   ]
  },
  {
   "cell_type": "code",
   "execution_count": 5,
   "metadata": {
    "collapsed": false
   },
   "outputs": [
    {
     "name": "stdout",
     "output_type": "stream",
     "text": [
      "simulation time is 4.233546 s\n"
     ]
    }
   ],
   "source": [
    "dt = n1.T/float(n1.M)\n",
    "\n",
    "t0=time.clock()\n",
    "n1.runForwardProblem(dt)\n",
    "t1=time.clock()\n",
    "print \"simulation time is %f s\"%(t1-t0)"
   ]
  },
  {
   "cell_type": "code",
   "execution_count": 6,
   "metadata": {
    "collapsed": false
   },
   "outputs": [
    {
     "data": {
      "text/plain": [
       "[<matplotlib.lines.Line2D at 0x7fb64488c2d0>]"
      ]
     },
     "execution_count": 6,
     "metadata": {},
     "output_type": "execute_result"
    },
    {
     "data": {
      "image/png": "[encoded data removed]",
      "text/plain": [
       "<matplotlib.figure.Figure at 0x7fb6449a0750>"
      ]
     },
     "metadata": {},
     "output_type": "display_data"
    }
   ],
   "source": [
    "t = linspace(0,T,M+1)    \n",
    "H = n1.pressureTimeSeries(0,N-1) \n",
    "H0=H[0]\n",
    "Hnormal=H/H0\n",
    "plot(t,Hnormal)"
   ]
  },
  {
   "cell_type": "code",
   "execution_count": null,
   "metadata": {
    "collapsed": true
   },
   "outputs": [],
   "source": []
  }
 ],
 "metadata": {
  "kernelspec": {
   "display_name": "Python 2",
   "language": "python",
   "name": "python2"
  },
  "language_info": {
   "codemirror_mode": {
    "name": "ipython",
    "version": 2
   },
   "file_extension": ".py",
   "mimetype": "text/x-python",
   "name": "python",
   "nbconvert_exporter": "python",
   "pygments_lexer": "ipython2",
   "version": "2.7.11"
  }
 },
 "nbformat": 4,
 "nbformat_minor": 0
}
