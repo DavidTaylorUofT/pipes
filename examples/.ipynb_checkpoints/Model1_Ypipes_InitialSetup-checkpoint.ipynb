{
 "cells": [
  {
   "cell_type": "markdown",
   "metadata": {},
   "source": [
    "<p> The program is used to give a qualitative description of field work in Jamshedpur, Jan 2016</p>\n",
    "<p> All data about pipes are just assigned based on a rough map</p>"
   ]
  },
  {
   "cell_type": "code",
   "execution_count": 25,
   "metadata": {
    "collapsed": false
   },
   "outputs": [
    {
     "name": "stdout",
     "output_type": "stream",
     "text": [
      "Populating the interactive namespace from numpy and matplotlib\n"
     ]
    }
   ],
   "source": [
    "import sys\n",
    "sys.path.append(\"..\")    \n",
    "from allthethings import PyNetwork, PyPipe_ps\n",
    "from allthethings import PyBC_opt_dh\n",
    "import numpy as np\n",
    "import matplotlib.pyplot as plt\n",
    "%pylab inline\n",
    "from writeit import *\n",
    "import pickle\n",
    "import time\n",
    "from __future__ import division "
   ]
  },
  {
   "cell_type": "code",
   "execution_count": 26,
   "metadata": {
    "collapsed": true
   },
   "outputs": [],
   "source": [
    "# Build Model\n",
    "fi = \"../indata/Jamsh-1-2.0.inp\"    \n",
    "fc = \"../indata/Jamsh-1-2.0.config\" \n",
    "mtype=1\n",
    "n0=PyNetwork(fi,fc,mtype)\n",
    " "
   ]
  },
  {
   "cell_type": "code",
   "execution_count": 27,
   "metadata": {
    "collapsed": false
   },
   "outputs": [
    {
     "name": "stdout",
     "output_type": "stream",
     "text": [
      "2.00299319728 [59, 147, 40] [ 118.26  294.44   81.08] [0.012, 0.012, 0.012] [ 0.3   0.25  0.3 ] [1 1 3 1] [1, 2, 0, 2] [0, 0, 0, 0.3] [0, 0, 1, 0] [0.001, 0.001, 0.001] [0.0, 0.0, 0.0] 200 10000 200 80 [0.3, 0.12, 0.24, 0.2]\n"
     ]
    }
   ],
   "source": [
    "# Set BC and IC, assume empty pipes\n",
    "Ls=n0.Ls\n",
    "Ns = [int(l) for l in Ls/2] \n",
    "Mrs=n0.Mrs\n",
    "Ds=n0.Ds\n",
    "jt=n0.nodeTypes\n",
    "\n",
    "bt=[1,2,0,2]\n",
    "#bv=[0]*len(jt)\n",
    "bv=[0,0,0,0.3]\n",
    "r=[0,0,1,0]\n",
    "Np=n0.Nedges        #number of pipes\n",
    "h0s=[0.001]*Np\n",
    "q0s=[0.000]*Np      # carefully set it, it can determine if the model can be run \n",
    "T=200\n",
    "a=80\n",
    "mdx = min([Ls[i]/Ns[i] for i in range (Np)])\n",
    "M = int(T*a/(mdx*.8))\n",
    "Mi=200\n",
    "M= (M+Mi-M%Mi)  \n",
    "elevs=[0.30, 0.12, 0.24, 0.20]\n",
    "print mdx, Ns, Ls, Mrs, Ds, jt, bt, bv, r, h0s, q0s, T, M, Mi, a, elevs"
   ]
  },
  {
   "cell_type": "code",
   "execution_count": 28,
   "metadata": {
    "collapsed": false
   },
   "outputs": [],
   "source": [
    "fn = \"../indata/Jamsh-new\"\n",
    "oldinp = \"../indata/Jamsh-1-2.0.inp\"\n",
    "(fi2,fc2) = rewritePipes(fn,oldinp, Ns, Ls, Mrs, Ds, jt, bt, bv, r, h0s, q0s, T, M, Mi, a, elevs)"
   ]
  },
  {
   "cell_type": "code",
   "execution_count": 29,
   "metadata": {
    "collapsed": true
   },
   "outputs": [],
   "source": [
    "n1 = PyNetwork(fi2,fc2,mtype)"
   ]
  },
  {
   "cell_type": "code",
   "execution_count": 30,
   "metadata": {
    "collapsed": false
   },
   "outputs": [],
   "source": [
    "n1.setbVal(0,0.14*np.ones(M+1))             #set node 0 inflow as BC, v=2m/s"
   ]
  },
  {
   "cell_type": "code",
   "execution_count": 31,
   "metadata": {
    "collapsed": false
   },
   "outputs": [],
   "source": [
    "n1.setbVal(1,n1.Ds[1]*np.ones(M+1))    #specify the opening of node 1"
   ]
  },
  {
   "cell_type": "code",
   "execution_count": null,
   "metadata": {
    "collapsed": false
   },
   "outputs": [],
   "source": [
    "'''\n",
    "When I try to set the boundary condition of node 3, there is always \n",
    "something wrong. I do not know why. It has nothing to do with the\n",
    "rewritepipes function, so I think the problem should arise from the \n",
    "PyNetwork Function. In this function, bv must equal to integer. \n",
    "\n",
    "if bv in .config file is not integer, then it will stop the kernel\n",
    "even if I change node 1 bv value to float, it will also fail\n",
    "\n",
    "But what I cannot understand is that if I comply the rule above, I cannot \n",
    "set the BC of node 3. It is not because I can only set one orifice after\n",
    "trial. Some other reasons need to be identify\n",
    "\n",
    "It is not becasue of PyNetwork, because if I change 0 to 0.3 directly\n",
    "in the file, then PyNetwork still works, so the quesiton may lie in\n",
    "setbVal()\n",
    "\n",
    "I have to manually set the boundary condition in .config file. \n",
    "\n",
    "Then I set a new notebook, ResultOfJamshe.ipynb, to run that modified file \n",
    "'''\n",
    "\n",
    "#n1.setbVal(3,n1.Ds[2]*ones(M+1))    #specify the opening of node 3\n",
    "\n"
   ]
  },
  {
   "cell_type": "code",
   "execution_count": 11,
   "metadata": {
    "collapsed": false
   },
   "outputs": [
    {
     "name": "stdout",
     "output_type": "stream",
     "text": [
      "The total run time is 22.484217 s, the total volume change is 29.200883 0.010799 cubic meters\n"
     ]
    }
   ],
   "source": [
    "'''\n",
    "dt = T/M                   \n",
    "V0 = n1.getTotalVolume()                 \n",
    "n1.runForwardProblem(dt) \n",
    "V1= n1.getTotalVolume()\n",
    "print \"The total run time is %f s, the total volume change is %f %f cubic meters\" %(n1.solve_time, V1,V0)\n",
    "'''"
   ]
  },
  {
   "cell_type": "code",
   "execution_count": 12,
   "metadata": {
    "collapsed": false
   },
   "outputs": [
    {
     "data": {
      "text/plain": [
       "<matplotlib.legend.Legend at 0x7f3f70197c10>"
      ]
     },
     "execution_count": 12,
     "metadata": {},
     "output_type": "execute_result"
    },
    {
     "data": {
      "image/png": "[encoded data removed]",
      "text/plain": [
       "<matplotlib.figure.Figure at 0x7f3f2c982550>"
      ]
     },
     "metadata": {},
     "output_type": "display_data"
    }
   ],
   "source": [
    "'''\n",
    "from matplotlib import cm\n",
    "import matplotlib.colors as colors\n",
    "cNorm  = colors.Normalize(vmin=0, vmax=Np+1)\n",
    "scalarMap = cm.ScalarMappable(norm=cNorm, cmap=cm.get_cmap('hsv') )\n",
    "fig = figure(figsize= (15,5))\n",
    "t = linspace(0,T,M+1)\n",
    "P1 = n1.pressureTimeSeries(0,1) \n",
    "P2 = n1.pressureTimeSeries(1,n1.Ns[1]-1)\n",
    "P3 = n1.pressureTimeSeries(2,n1.Ns[2]-1) \n",
    "P=[P1,P2,P3]\n",
    "for i in range(0,3):\n",
    "    plot(t,P[i],color =scalarMap.to_rgba(i),label = \"pipe %d\" %i)\n",
    "xlabel('t(s)')\n",
    "ylabel('H(m)')\n",
    "legend()\n",
    "'''"
   ]
  },
  {
   "cell_type": "code",
   "execution_count": null,
   "metadata": {
    "collapsed": true
   },
   "outputs": [],
   "source": []
  }
 ],
 "metadata": {
  "kernelspec": {
   "display_name": "Python 2",
   "language": "python",
   "name": "python2"
  },
  "language_info": {
   "codemirror_mode": {
    "name": "ipython",
    "version": 2
   },
   "file_extension": ".py",
   "mimetype": "text/x-python",
   "name": "python",
   "nbconvert_exporter": "python",
   "pygments_lexer": "ipython2",
   "version": "2.7.11"
  }
 },
 "nbformat": 4,
 "nbformat_minor": 0
}
