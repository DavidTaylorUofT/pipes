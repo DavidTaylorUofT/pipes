{
 "cells": [
  {
   "cell_type": "markdown",
   "metadata": {},
   "source": [
    "<p> manually set node 6-9 as full opening </p>\n",
    "<p> change dt from 0.015s to 0.01s (less than 0.015s, 0.012s also works,try now), which always works</p>\n",
    "<p> Courant Number = 0.54 for dt=0.012s, =0.675 for dt=0.015s, more than 0.675 does not work</p>\n",
    "<p> Increase inflow means decreasing dt </p>"
   ]
  },
  {
   "cell_type": "code",
   "execution_count": 1,
   "metadata": {
    "collapsed": false
   },
   "outputs": [
    {
     "name": "stdout",
     "output_type": "stream",
     "text": [
      "Populating the interactive namespace from numpy and matplotlib\n"
     ]
    }
   ],
   "source": [
    "import sys\n",
    "sys.path.append(\"..\")    \n",
    "from allthethings import PyNetwork, PyPipe_ps\n",
    "from allthethings import PyBC_opt_dh\n",
    "import numpy as np\n",
    "import matplotlib.pyplot as plt\n",
    "%pylab inline\n",
    "from writeit import *\n",
    "import pickle\n",
    "import time\n",
    "#from __future__ import division "
   ]
  },
  {
   "cell_type": "code",
   "execution_count": 2,
   "metadata": {
    "collapsed": true
   },
   "outputs": [],
   "source": [
    "fi = \"../indata/Model2/Model2_Epipe_new.inp\"    \n",
    "fc = \"../indata/Model2/Model2_Epipe_new.config\" \n",
    "mtype=1\n",
    "n1=PyNetwork(fi,fc,mtype)"
   ]
  },
  {
   "cell_type": "code",
   "execution_count": 3,
   "metadata": {
    "collapsed": false
   },
   "outputs": [
    {
     "name": "stdout",
     "output_type": "stream",
     "text": [
      "0.012\n"
     ]
    }
   ],
   "source": [
    "v = 0.6\n",
    "Q_in = n1.Ds[0]**2*pi/4*v\n",
    "n1.setbVal(0,Q_in*np.ones(n1.M+1))\n",
    "jt = n1.nodeTypes\n",
    "n1.setbVal(5,n1.Ds[4]*np.ones(n1.M+1))\n",
    "dt = n1.T/n1.M  \n",
    "print dt"
   ]
  },
  {
   "cell_type": "code",
   "execution_count": 4,
   "metadata": {
    "collapsed": false
   },
   "outputs": [
    {
     "name": "stdout",
     "output_type": "stream",
     "text": [
      "The total run time is 336.356710 s, the total volume change is 29.346178 0.019358 cubic meters\n"
     ]
    }
   ],
   "source": [
    "V0 = n1.getTotalVolume()                 \n",
    "n1.runForwardProblem(dt) \n",
    "V1= n1.getTotalVolume()\n",
    "print \"The total run time is %f s, the total volume change is %f %f cubic meters\" %(n1.solve_time, V1,V0)"
   ]
  },
  {
   "cell_type": "markdown",
   "metadata": {},
   "source": [
    "# Pressure Head of Pipe_interest Changes With Time, Dynamic Picture"
   ]
  },
  {
   "cell_type": "code",
   "execution_count": 13,
   "metadata": {
    "collapsed": false,
    "scrolled": false
   },
   "outputs": [
    {
     "data": {
      "image/png": "[encoded data removed]",
      "text/plain": [
       "<matplotlib.figure.Figure at 0x7f142582c650>"
      ]
     },
     "metadata": {},
     "output_type": "display_data"
    }
   ],
   "source": [
    "# Pressure Head of Pipe_interest changes with time, dynamic picture\n",
    "\n",
    "%matplotlib notebook\n",
    "#%matplotlib nbagg\n",
    "import pylab as pl\n",
    "from IPython import display\n",
    "plt.ion()\n",
    "plt.show()\n",
    "\n",
    "pipe_interest=[0,1,2,3,4]\n",
    "\n",
    "# create x axis\n",
    "x_interest=[]\n",
    "pipe_length=0\n",
    "for j in pipe_interest: \n",
    "    x = np.linspace(pipe_length,pipe_length+n1.Ls[j],n1.Ns[j])\n",
    "    x_interest.append(x)\n",
    "    pipe_length=pipe_length+n1.Ls[j]\n",
    "\n",
    "# create H_interest which stores all the pressure head data corresponding to x\n",
    "\n",
    "# H_interest_tfixed = [Hx1,Hx2,...,Hxj], pressure head at a certain time along all interesting pipes\n",
    "\n",
    "# H_interested =n [H_interested1, H_interested2,..., H_interestedT], H_interested[i] =  fixed time step at i*Mi_draw\n",
    "# dthen get ata from H_interested_tfixed\n",
    "\n",
    "H_interest=[]\n",
    "Mi_draw=3000   # difne how many steps to skip\n",
    "M_total=n1.M+1\n",
    "t_start=100  \n",
    "M_start=int(t_start/dt)\n",
    "x_interest_combine = np.concatenate(x_interest,axis =0)\n",
    "for m in range(M_start,M_total,Mi_draw) :  \n",
    "    H_interest_tfixed=[]\n",
    "    for j in pipe_interest:    \n",
    "        Hx = n1.pressureSpaceSeries(j,m)  \n",
    "        #this returns H as a function of x in pipe j at time step m\n",
    "        H_interest_tfixed.append(Hx)\n",
    "    H_interest.append(H_interest_tfixed)\n",
    "    #plt.figure(figsize= (15,5))    #plot on different figures\n",
    "    H_interest_combine = np.concatenate(H_interest[int((m-M_start)/Mi_draw)],axis =0)\n",
    "    pl.clf()\n",
    "    figsize= (15,5)               #plot on the same figure\n",
    "    pl.plot(x_interest_combine,H_interest_combine, lw = 1,label = 't=%.2f s'%(dt*m))\n",
    "    # m is time step, and should divide m/Mi_draw to get what we need\n",
    "    xlabel('x (m)')        \n",
    "    ylabel('Pressure Head (m)')\n",
    "    xlim(0,x_interest[-1][-1]+1)\n",
    "    Hmax=max(H_interest_combine)\n",
    "    ylim(-0.1,10)\n",
    "    #ylim(-0.1,1.1*Hmax)\n",
    "    legend(bbox_to_anchor=(1.05, 1), loc=2, borderaxespad=0.)\n",
    "    title('Pressure Head along pipe %s'%str(pipe_interest)) \n",
    "    display.display(pl.gcf())\n",
    "    display.clear_output(wait=True)\n",
    "    #time.sleep(0.01)\n",
    "    # bbox_to_anchor: the bbox that the legend will be anchored, 1.05 means 1.05 times of figure length\n",
    "    # borderaxespad: the pad between the axes and legend border\n",
    "    # optional:legend(loc = 'upper left')\n"
   ]
  },
  {
   "cell_type": "markdown",
   "metadata": {},
   "source": [
    "# Cross Sectional Area of Pipe_interest \n",
    "# (same pipe above)\n"
   ]
  },
  {
   "cell_type": "code",
   "execution_count": null,
   "metadata": {
    "collapsed": false
   },
   "outputs": [],
   "source": [
    "# Print the cross sectional area of pipe_interest (the same pipe above)\n",
    "\n",
    "A_pipe=[]\n",
    "for i in range(len(pipe_interest)):\n",
    "    pipe_number=pipe_interest[i]\n",
    "    A_pipe.append(n1.Ds[pipe_number]**2/4*pi)\n",
    "    print 'pipe %d cross sectional area: A=%.4f m^2'%(pipe_number,A_pipe[i])"
   ]
  },
  {
   "cell_type": "markdown",
   "metadata": {},
   "source": [
    "# The Veolcity in Pipe_interest Changes with Time, Dynamic Picture \n",
    "# (same pipe above)"
   ]
  },
  {
   "cell_type": "code",
   "execution_count": null,
   "metadata": {
    "collapsed": false,
    "scrolled": false
   },
   "outputs": [],
   "source": [
    "# the veolcity in pipe_interest changes with time ,dynamic picture (same pipe above)\n",
    "\n",
    "U_interest=[]\n",
    "def idx_t(i,j,n,N):\n",
    "    return (2*(N+2)*n+(N+2)*i+j)\n",
    "#M_total=Mi_draw*1+1\n",
    "Mi_draw=3000\n",
    "for m in range(0,M_total,Mi_draw) :\n",
    "    U_interest_tfixed=[] \n",
    "    for i in range(len(pipe_interest)):\n",
    "        j = pipe_interest[i]\n",
    "        N = n1.Ns[j]\n",
    "        qh = n1.qhist(j) \n",
    "        Utemp=[]\n",
    "        for k in range(1,N+1):\n",
    "            Ak=qh[idx_t(0,k,m,N)]\n",
    "            AN=qh[idx_t(0,N,m,N)]\n",
    "            Qk=qh[idx_t(1,k,m,N)]\n",
    "            # when Q is actually very samll and its value is due to numerical oscillation, set it as 0\n",
    "            if abs(Ak-AN)<0.1*A_pipe[i] and AN<0.1*A_pipe[i]:  \n",
    "                Qk=0   \n",
    "            vk = Qk/Ak                 \n",
    "            Utemp.append(vk)\n",
    "            #Utemp=[qh[idx_t(1,k,m,N)]/qh[idx_t(0,k,m,N)] for k in range(1,N+1)]\n",
    "        U_interest_tfixed.append(Utemp)\n",
    "    U_interest.append(U_interest_tfixed)\n",
    "    U_interest_combine = np.concatenate(U_interest[int(m/Mi_draw)],axis =0)\n",
    "    # plt.figure(figsize= (15,5))    #plot on different figures\n",
    "    figsize= (15,5)                 #plot on the same figure\n",
    "    pl.clf()\n",
    "    pl.plot(x_interest_combine,U_interest_combine, lw = 1,label = 't=%.2f s'%(dt*m))\n",
    "    '''\n",
    "    #plt.figure(figsize= (15,5))\n",
    "    for i in range(len(pipe_interest)):\n",
    "        figsize(15,5)\n",
    "        plot(x_interest[i],U_interest[int(m/Mi_draw)][i], lw = 1,  label = 'pipe %d, t=%.2f s'%(pipe_interest[i],dt*m))\n",
    "        # m is time step, and should divide m/Mi_draw to get what we need\n",
    "        #plot(x,Hx, lw = 1, color = sMap.to_rgba(m), label = 't=%.2f'%(dt*m))\n",
    "    '''\n",
    "    xlabel('x (m)')        \n",
    "    ylabel('Velocity (m/s)')\n",
    "    xlim(0,x_interest[-1][-1]+1)\n",
    "    Umax=1.1*max(U_interest_combine)\n",
    "    #ylim(-0.1,2.5)\n",
    "    ylim(-0.5,1.2*Umax)\n",
    "    #print int(m/Mi_draw)      #for test\n",
    "    legend(bbox_to_anchor=(1.05, 1), loc=2, borderaxespad=0.)\n",
    "    title('Velocity along pipe %s'%str(pipe_interest))\n",
    "    display.display(pl.gcf())\n",
    "    display.clear_output(wait=True)\n",
    "    #time.sleep(0.01)\n",
    "    # print U_interest[5][1]   # first index is #*Mi timestep, second index is pipe # in pipe_interest list\n",
    "\n"
   ]
  },
  {
   "cell_type": "markdown",
   "metadata": {},
   "source": [
    "# Pressure Head at End of All Outflow Pipes"
   ]
  },
  {
   "cell_type": "code",
   "execution_count": null,
   "metadata": {
    "collapsed": false,
    "scrolled": false
   },
   "outputs": [],
   "source": [
    "# Plot the Pressure head at the end of all outflow pipes\n",
    "\n",
    "t = linspace(0,n1.T,n1.M+1)\n",
    "print len(t)\n",
    "for i in xrange(1,len(jt)):\n",
    "    if jt[i]==1:\n",
    "        pipe_number=i-1\n",
    "        Pend = n1.pressureTimeSeries(int(pipe_number),n1.Ns[pipe_number])\n",
    "        #Pstart=n1.pressureTimeSeries(int(pipe_number),1)\n",
    "        #figsize=(15,5)\n",
    "        #plt.figure(figsize= (10,4))\n",
    "        #plt.plot(t,Pstart,label = \"start of pipe %d\" %(i-1))\n",
    "        #legend()\n",
    "        plt.figure(figsize= (10,4))                  # so that every time it can create a new figure\n",
    "        plt.plot(t,Pend,label = \"End of pipe %d\" %(i-1))\n",
    "        xlabel('t(s)')\n",
    "        ylabel('H(m)')\n",
    "        legend()\n",
    "        title('Pressure Head at end of pipe %d'%pipe_number)"
   ]
  },
  {
   "cell_type": "markdown",
   "metadata": {},
   "source": [
    "# Inflow and Outflow for All Pipes in Model"
   ]
  },
  {
   "cell_type": "code",
   "execution_count": null,
   "metadata": {
    "collapsed": false,
    "scrolled": false
   },
   "outputs": [],
   "source": [
    "# Display the inflow and outflow for each pipe (m^3)  (ALl PIPES IN MODEL)\n",
    "\n",
    "\n",
    "# Get Q of two ends of each pipe\n",
    "Q = []\n",
    "Mstep=1\n",
    "#pipe_interest=[0]\n",
    "pipe_interest=range(0,9)   \n",
    "'''Here I redefine the pipe_interest vector'''\n",
    "\n",
    "for i in range(len(pipe_interest)):\n",
    "    Q_pipefix = [] \n",
    "    Q_start=[]\n",
    "    Q_end=[]\n",
    "    for m in xrange(0,n1.M,Mstep) :\n",
    "        j = pipe_interest[i]\n",
    "        N = n1.Ns[j]\n",
    "        qh = n1.qhist(j)\n",
    "        Q_start.append(qh[idx_t(1,1,m,N)])   # Q1\n",
    "        Q_end.append(qh[idx_t(1,N,m,N)])     # QN\n",
    "    Q_pipefix.append(Q_start)\n",
    "    Q_pipefix.append(Q_end)\n",
    "    Q.append(Q_pipefix)\n",
    "xt = np.linspace(0, n1.M*dt, n1.M/Mstep)\n",
    "endorstart=['start','end']\n",
    "for i in range(len(pipe_interest)):\n",
    "    plt.figure(figsize= (10,4))                # same pipe on same figure\n",
    "    for j in range(0,2):  \n",
    "        #figsize = (15,5)                        # plot on same figure           \n",
    "        #plt.figure(figsize= (15,5))             # plot on different figures\n",
    "        plot(xt,Q[i][j], lw = 1,label = 'pipe %d, %s'%(pipe_interest[i],endorstart[j]))\n",
    "        #legend(bbox_to_anchor=(1.05, 1), loc=2, borderaxespad=0.)   #legend will be placed out of box and cannot be shown\n",
    "        legend()\n",
    "        xlabel('time (s)')\n",
    "        ylabel('flux (m^3/s)')\n",
    "        title('Flux in pipe %d'%pipe_interest[i])\n",
    "\n",
    "# calculate inflow and outflow, i means pipe number, j means start or end, time means time in vector  \n",
    "delta_t=Mstep*dt\n",
    "#Q_total=[]\n",
    "for i in range(len(pipe_interest)):\n",
    "    Q_total_pipefix=[]\n",
    "    for j in range(0,2):\n",
    "        Q_sum=0\n",
    "        for time in range(len(Q[i][j])):\n",
    "            Q_sum += Q[i][j][time]*delta_t\n",
    "        Q_total_pipefix.append(Q_sum)\n",
    "        print 'Pipe %d during %d s have total flow: %.3f m^3 (%s node)'%(pipe_interest[i],n1.T,Q_sum,endorstart[j])\n",
    "    V_dif = Q_total_pipefix[0]- Q_total_pipefix[1]\n",
    "    print V_dif\n",
    "    #Q_total.append(Q_total_pipefix)                \n",
    "   "
   ]
  },
  {
   "cell_type": "markdown",
   "metadata": {},
   "source": [
    "# Mass Balance for Each Junction"
   ]
  },
  {
   "cell_type": "code",
   "execution_count": null,
   "metadata": {
    "collapsed": false,
    "scrolled": false
   },
   "outputs": [],
   "source": [
    "# Display mass balance for each junction\n",
    "\n",
    "# Create x axis\n",
    "xt = np.linspace(0, n1.M*dt, n1.M/Mstep)\n",
    "\n",
    "#The following three list must corresponds to each other  \n",
    "JunNode=[1,2,3,4]\n",
    "Pipejun_in=[[0],[1],[2],[3]]\n",
    "Pipejun_out=[[1,5],[2,6],[3,7],[4,8]]\n",
    "assert (len(Pipejun_in)==len(Pipejun_out)),\"Different dimensions of Pipejun_in and Pipejun_out!\"\n",
    "\n",
    "# Q[i][j][k]   i means pipe number, j means start or end, k means time in vector \n",
    "for i in xrange(len(Pipejun_in)):\n",
    "    Qjun_dif = []\n",
    "    for k in xrange(len(Q[0][1])):\n",
    "        Qinflow = 0\n",
    "        Qoutflow = 0\n",
    "        for j1 in Pipejun_in[i]:\n",
    "            Qinflow += Q[j1][1][k]\n",
    "        for j2 in Pipejun_out[i]:\n",
    "            Qoutflow += Q[j2][0][k]\n",
    "        Qjun_dif.append(Qinflow-Qoutflow)\n",
    "    plt.figure(figsize= (10,4)) \n",
    "    plot(xt,Qjun_dif)   \n",
    "    xlabel('t(s)')\n",
    "    ylabel('Flux difference (m^3/s)')\n",
    "    title('Junction %d Mass Conservation (Qin-Qout)'%JunNode[i])\n"
   ]
  },
  {
   "cell_type": "markdown",
   "metadata": {},
   "source": [
    "# Water Volume in Pipes Change with Time"
   ]
  },
  {
   "cell_type": "code",
   "execution_count": null,
   "metadata": {
    "collapsed": false,
    "scrolled": false
   },
   "outputs": [],
   "source": [
    "# Get A of two ends of each pipe\n",
    "A = [] # all time, all pipes, all A values in grids\n",
    "pipe_interest1=range(0,9)  \n",
    "'''Here I redefine the pipe_interest vector'''\n",
    "\n",
    "M_total=n1.M+1\n",
    "Mi_draw=5000\n",
    "\n",
    "for m in xrange(0,M_total,Mi_draw) :\n",
    "    A_tfixed=[] # certain time, all pipes, all A values in grids\n",
    "    for i in xrange(len(pipe_interest1)):\n",
    "        j = pipe_interest1[i]\n",
    "        N = n1.Ns[j]\n",
    "        qh = n1.qhist(j) \n",
    "        Atemp=[]  #certain time, certain pipe, all A values in grids\n",
    "        for k in xrange(1,N+1):\n",
    "            Ak=qh[idx_t(0,k,m,N)]      \n",
    "            Atemp.append(Ak)\n",
    "        A_tfixed.append(Atemp)     \n",
    "    A.append(A_tfixed)\n",
    "        \n",
    "#calculate total volumn, i means time, j means pipe number, distance means value of grids  \n",
    "V_total=[]\n",
    "for i in xrange(0,M_total,Mi_draw):\n",
    "    V_total_tfix=[]\n",
    "    for j in xrange(len(pipe_interest1)):\n",
    "        V_sum=0\n",
    "        pipe_number=pipe_interest1[j]\n",
    "        delta_x=n1.Ls[pipe_number]/n1.Ns[pipe_number]\n",
    "        for distance in xrange(len(A[int(i/Mi_draw)][j])):\n",
    "            V_sum += A[int(i/Mi_draw)][j][distance]*delta_x\n",
    "        V_total_tfix.append(V_sum)\n",
    "        #print 'Pipe %d during %d s have total flow: %.3f m^3 '%(pipe_number,i*dt,V_sum)\n",
    "    #print 'The total volumn at t=%d s are                      %.3f m^3'%(i*dt,sum(V_total_tfix))\n",
    "    V_total.append(V_total_tfix)\n",
    "print n1.getTotalVolume()\n",
    "\n",
    "\n",
    "xt1 = np.linspace(0, M_total*dt, M_total/Mi_draw)\n",
    "plt.figure(figsize= (11,5))\n",
    "title('Water Volume in Pipe ~ time')\n",
    "xlabel('t(s)')\n",
    "ylabel('V(m^3)')\n",
    "for j in xrange(len(pipe_interest1)):\n",
    "    pipe_number=pipe_interest1[j]\n",
    "    V_total_pipefix=[]\n",
    "    for i in xrange(1,M_total,Mi_draw):\n",
    "        V_total_pipefix.append(V_total[int(i/Mi_draw)][j])\n",
    "    plot(xt1,V_total_pipefix,label = 'pipe %d'%pipe_number)\n",
    "    legend(bbox_to_anchor=(0.95, 1), loc=2, borderaxespad=0.)\n"
   ]
  },
  {
   "cell_type": "markdown",
   "metadata": {},
   "source": [
    "# Show Pipe End Details \n",
    "## Input: pipe, time\n",
    "## Output: flux, water cross-section area, velocity"
   ]
  },
  {
   "cell_type": "code",
   "execution_count": null,
   "metadata": {
    "collapsed": false
   },
   "outputs": [],
   "source": [
    "# illustrate why v is not zero even when empty\n",
    "def ShowQAofPipeEnd(pipe_detect,time_detect,total_time,total_timestep):\n",
    "    timestep=int(time_detect/total_time*total_timestep)\n",
    "    Q=n1.qhist(pipe_detect)[idx_t(1,n1.Ns[pipe_detect],timestep,n1.Ns[pipe_detect])]   #Q at middle of time, end of pipe 4\n",
    "    A=n1.qhist(pipe_detect)[idx_t(0,n1.Ns[pipe_detect],timestep,n1.Ns[pipe_detect])]   #A at middle of time, end of pipe 4\n",
    "    print 'At %ds, The Flux at the end of pipe %d is %.8f m^3/s, the water cross area is %.8f m^2 '%(time_detect,pipe_detect,Q,A)\n",
    "    print 'The velocity is %.8f m/s'%(Q/A)\n",
    "    \n",
    "ShowQAofPipeEnd(4,1800,n1.T,n1.M)\n",
    "    "
   ]
  },
  {
   "cell_type": "code",
   "execution_count": null,
   "metadata": {
    "collapsed": true
   },
   "outputs": [],
   "source": []
  },
  {
   "cell_type": "code",
   "execution_count": 14,
   "metadata": {
    "collapsed": false
   },
   "outputs": [
    {
     "name": "stdout",
     "output_type": "stream",
     "text": [
      "76.3407014822\n"
     ]
    }
   ],
   "source": [
    "print Q_in*1800"
   ]
  },
  {
   "cell_type": "code",
   "execution_count": null,
   "metadata": {
    "collapsed": false
   },
   "outputs": [],
   "source": [
    "'''\n",
    "(xs,ys,conns,ls) = getBasicConnectivity(fi)\n",
    "Np= shape(conns) [0]\n",
    "plotNetworkLayout (xs, ys, conns, ls, Np) \n",
    "n1.showLayout() \n",
    "'''"
   ]
  },
  {
   "cell_type": "code",
   "execution_count": null,
   "metadata": {
    "collapsed": false,
    "scrolled": false
   },
   "outputs": [],
   "source": [
    "\"\"\"\n",
    "# Velocity of pipe_interest pipes, static image\n",
    "U_interest=[]\n",
    "def idx_t(i,j,n,N):\n",
    "    return (2*(N+2)*n+(N+2)*i+j)\n",
    "\n",
    "Mi_draw=10000\n",
    "for m in range(0,M_total,Mi_draw) :\n",
    "    U_interest_tfixed=[] \n",
    "    for i in range(len(pipe_interest)):\n",
    "        j = pipe_interest[i]\n",
    "        N = n1.Ns[j]\n",
    "        qh = n1.qhist(j) \n",
    "        Utemp=[]\n",
    "        for k in range(1,N+1):\n",
    "            Ak=qh[idx_t(0,k,m,N)]\n",
    "            AN=qh[idx_t(0,N,m,N)]\n",
    "            Qk=qh[idx_t(1,k,m,N)]\n",
    "            # when Q is actually very samll and its value is due to numerical oscillation, set it as 0\n",
    "            if abs(Ak-AN)<0.1*A_pipe[i] and AN<0.1*A_pipe[i]:  \n",
    "                Qk=0   \n",
    "            vk = Qk/Ak                 \n",
    "            Utemp.append(vk)\n",
    "        U_interest_tfixed.append(Utemp)\n",
    "    U_interest.append(U_interest_tfixed)\n",
    "    U_interest_combine = np.concatenate(U_interest[int(m/Mi_draw)],axis =0)\n",
    "    plt.figure(figsize= (10,4))    #plot on different figures\n",
    "    #figsize= (15,5)                 #plot on the same figure\n",
    "    plt.plot(x_interest_combine,U_interest_combine, lw = 1,label = 't=%.2f s'%(dt*m))\n",
    "    '''\n",
    "    #plt.figure(figsize= (15,5))\n",
    "    for i in range(len(pipe_interest)):\n",
    "        figsize(15,5)\n",
    "        plot(x_interest[i],U_interest[int(m/Mi_draw)][i], lw = 1,  label = 'pipe %d, t=%.2f s'%(pipe_interest[i],dt*m))\n",
    "        # m is time step, and should divide m/Mi_draw to get what we need\n",
    "        #plot(x,Hx, lw = 1, color = sMap.to_rgba(m), label = 't=%.2f'%(dt*m))\n",
    "    '''\n",
    "    xlabel('x (m)')        \n",
    "    ylabel('Velocity (m/s)')\n",
    "    xlim(0,x_interest[-1][-1]+1)\n",
    "    Umax=1.1*max(U_interest_combine)\n",
    "    #ylim(-0.1,2.5)\n",
    "    ylim(-0.1,1.2*Umax)\n",
    "    #print int(m/Mi_draw)      #for test\n",
    "    legend(bbox_to_anchor=(1.05, 1), loc=2, borderaxespad=0.)\n",
    "    title('Velocity along pipe %s'%str(pipe_interest))\n",
    "    # print U_interest[5][1]   # first index is #*Mi timestep, second index is pipe # in pipe_interest list\n",
    "\"\"\""
   ]
  }
 ],
 "metadata": {
  "kernelspec": {
   "display_name": "Python 2",
   "language": "python",
   "name": "python2"
  },
  "language_info": {
   "codemirror_mode": {
    "name": "ipython",
    "version": 2
   },
   "file_extension": ".py",
   "mimetype": "text/x-python",
   "name": "python",
   "nbconvert_exporter": "python",
   "pygments_lexer": "ipython2",
   "version": "2.7.11"
  }
 },
 "nbformat": 4,
 "nbformat_minor": 0
}
