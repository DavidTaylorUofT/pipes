{
 "cells": [
  {
   "cell_type": "markdown",
   "metadata": {},
   "source": [
    "<p> Run a simulation corresponding to Trajkovic (1990) experiment</p>\n",
    "<p> Load .csv dataset of approximate empirical data and compare </p>\n",
    "<p> Note that $\\eta =A \\bar{p}/\\rho$ is the term in the conservation law;\n",
    "$H = \\eta/{g A}$ is the pressure head in meters<p>"
   ]
  },
  {
   "cell_type": "code",
   "execution_count": 1,
   "metadata": {
    "collapsed": false
   },
   "outputs": [
    {
     "name": "stdout",
     "output_type": "stream",
     "text": [
      "Populating the interactive namespace from numpy and matplotlib\n"
     ]
    }
   ],
   "source": [
    "import sys\n",
    "sys.path.append(\"..\")\n",
    "from allthethings import PyNetwork, PyPipe_ps\n",
    "from allthethings import PyBC_opt_dh\n",
    "import numpy as np\n",
    "import matplotlib.pyplot as plt\n",
    "%pylab inline"
   ]
  },
  {
   "cell_type": "code",
   "execution_count": 2,
   "metadata": {
    "collapsed": false
   },
   "outputs": [],
   "source": [
    "#input files: we run two simulations\n",
    "#30 seconds with gate closed (reflect=1 BC at x=L)\n",
    "#then start a new simulation with ICs from end of first run\n",
    "#now with orifice outflow with gate height = e0\n",
    "\n",
    "fi = \"../indata/trajkovic1.inp\"\n",
    "fc = \"../indata/trajkovic.config\"\n",
    "fc2 = \"../indata/trajkovic2.config\"\n",
    "mtype = 1\n",
    "n1 = PyNetwork(fi,fc,mtype)\n",
    "M = n1.M # Number of time steps\n",
    "T1 =n1.T # Simulation Time \n",
    "dt = T1/M \n",
    "q = n1.q(0)\n",
    "A0 = q[0]\n",
    "Q0 = q[n1.Ns[0]+1]\n",
    "e0 = 0.008 #choices are 0.008 or 0.015\n"
   ]
  },
  {
   "cell_type": "code",
   "execution_count": 3,
   "metadata": {
    "collapsed": false
   },
   "outputs": [
    {
     "name": "stdout",
     "output_type": "stream",
     "text": [
      "A(t=0)) = 0.000668, Q(t=0) = 0.001300\n",
      "pressure wave speed a= 8.770000, slot width Ts=  0.001001\n"
     ]
    }
   ],
   "source": [
    "#run for 30 seconds with gate closed at x=L\n",
    "n1 = PyNetwork(fi,fc,mtype)\n",
    "n1.runForwardProblem(dt)\n",
    "q = n1.q(0)\n",
    "h = n1.getHofA(0)\n",
    "qhist = n1.qhist(0)\n",
    "#assuming 8.1 m stretch of pipe\n",
    "#n5 = int(5.7/8.1*200)#original measure\n",
    "n5 = int(5.6/8.1*n1.Ns)-1 \n",
    "n7 = int(7.6/8.1*n1.Ns)-1\n",
    "N = n1.Ns[0]\n",
    "dx = n1.Ls[0]/N\n",
    "g = 9.8\n",
    "a = n1.a[0]\n",
    "Af = (n1.Ds[0]**2)/4.*pi\n",
    "P71 = n1.pressureTimeSeries(0,n7) \n",
    "P51 = n1.pressureTimeSeries(0,n5)\n",
    "print \"A(t=0)) = %f, Q(t=0) = %f\"%(A0,Q0)\n",
    "print \"pressure wave speed a= %f, slot width Ts=  %f\"%(n1.a[0], g*Af/(a**2))"
   ]
  },
  {
   "cell_type": "code",
   "execution_count": 4,
   "metadata": {
    "collapsed": false
   },
   "outputs": [],
   "source": [
    "#partially close gate and run for 20 more seconds\n",
    "n2 = PyNetwork(fi, fc2, mtype)\n",
    "M2 = n2.M\n",
    "b0= e0*np.ones(M+1)\n",
    "n2.setbVal(1,b0);\n",
    "n2.setIC(0,q[0:N],q[N:])\n",
    "n2.runForwardProblem(dt)\n",
    "qhist2 = n2.qhist(0)\n",
    "#get pressure data for this run\n",
    "P52 = n2.pressureTimeSeries(0,n5)\n",
    "P72 = n2.pressureTimeSeries(0,n7)\n",
    "#stitch together full time series\n",
    "pnew7 = np.concatenate((P71,P72),axis =0)\n",
    "pnew5 = np.concatenate((P51,P52),axis =0)\n",
    "\n"
   ]
  },
  {
   "cell_type": "code",
   "execution_count": 5,
   "metadata": {
    "collapsed": true
   },
   "outputs": [],
   "source": [
    "#import Trajkovic data\n",
    "import csv\n",
    "fname5='../indata/trajkovic_data/trajkovicp%de0_%1.3f.txt'% (5,e0)\n",
    "fname7 = '../indata/trajkovic_data/trajkovicp%de0_%1.3f.txt'% (7,e0)\n",
    "t5 =[]\n",
    "p5 = []\n",
    "t7 =[]\n",
    "p7 = []\n",
    "c5 = csv.reader(open(fname5,'rb'))\n",
    "c7 = csv.reader(open(fname7,'rb'))\n",
    "\n",
    "for line in c5:\n",
    "    t5.append(float(line[0]))\n",
    "    p5.append(float(line[1]))\n",
    "for line in c7:\n",
    "    t7.append(float(line[0]))\n",
    "    p7.append(float(line[1]))\n"
   ]
  },
  {
   "cell_type": "code",
   "execution_count": 6,
   "metadata": {
    "collapsed": false,
    "scrolled": false
   },
   "outputs": [],
   "source": [
    "#import plotting tools and plot\n",
    "#from matplotlib import rc\n",
    "#rc('text', usetex=True)    #for tex rendering. \n",
    "#rc('font', **{'family':'serif', 'serif':['Computer Modern Roman'], \n",
    "                                #'monospace': ['Computer Modern Typewriter'], 'size'   : 16})\n",
    "#rc('font', family='serif')     #for pretty font \n",
    "\n",
    "#make vector of time steps\n",
    "M2 = n2.M\n",
    "T2 = n2.T\n",
    "T1 = n1.T\n",
    "t1 = linspace(0,T1, M+1)\n",
    "t2 = linspace(T1,T1+T2,M2+1)\n",
    "t = np.concatenate((t1,t2))\n",
    "\n"
   ]
  },
  {
   "cell_type": "code",
   "execution_count": 7,
   "metadata": {
    "collapsed": false
   },
   "outputs": [
    {
     "data": {
      "text/plain": [
       "<matplotlib.text.Annotation at 0x7f7f89c62410>"
      ]
     },
     "execution_count": 7,
     "metadata": {},
     "output_type": "execute_result"
    },
    {
     "data": {
      "image/png": "[encoded data removed]",
      "text/plain": [
       "<matplotlib.figure.Figure at 0x7f7f9155b790>"
      ]
     },
     "metadata": {},
     "output_type": "display_data"
    }
   ],
   "source": [
    "#plot everything\n",
    "fig, ax = plt.subplots(figsize=(12,4))\n",
    "ax.set_xlim(0,50)\n",
    "ax.set_ylim(0,.26)\n",
    "ax.set_xticks(np.linspace(0,50,11))\n",
    "ax.set_yticks(np.linspace(0,0.25,6))\n",
    "sp =10#spacing in data (so you can see both time series)\n",
    "#account for underlying pipe elevation\n",
    "z0 = float(n1.Ns[0]-n7)/n1.Ns[0]*.027*n1.Ls[0]-0.005\n",
    "#put it together\n",
    "ax.plot(t5[0::sp],p5[0::sp],'kx', ms=4,)\n",
    "ax.plot(t,pnew5+z0,'g',lw=1)\n",
    "ax.plot(t7[0::sp],p7[0::sp],'ko', ms=3)\n",
    "ax.plot(t,pnew7+z0, 'b', lw = 1)\n",
    "#ax.grid(True)\n",
    "ax.set_ylabel(r'$H$ $(m)$',size = 16)\n",
    "ax.set_xlabel(r'$t$ $(s)$',size = 16)\n",
    "legend([\"data (P5)\" ,\"model (P5)\",\"data (P7)\" ,\"model (P7)\"], loc = 'lower right',bbox_to_anchor=(1.01,-.01), ncol = 2)\n",
    "ax.plot(t,.1*np.ones(size(t)), 'k:')\n",
    "plt.title('Set Manning Roughness = 0.008',size=20)\n",
    "plt.annotate(\n",
    "    r\"H(t) at P7\", xy=(9, 0.12), xycoords='data',\n",
    "    xytext=(9, 0.12), textcoords='offset points',size = 16)\n",
    "plt.annotate(\n",
    "    r\"H(t) at P5\", xy=(9, 0.06), xycoords='data',\n",
    "    xytext=(9, 0.06), textcoords='offset points',size = 16)\n",
    "#plt.annotate(\n",
    "#    r\"$e_0$=%.3f\"%e0, xy=(1, 0.24), xycoords='data',\n",
    "#    xytext=(1, 0.24), textcoords='offset points')\n",
    "plt.annotate(\n",
    "    r\"pipe crown\", xy=(1, 0.105), xycoords='data',\n",
    "    xytext=(1, 0.105), textcoords='offset points',size = 16)\n",
    "#savefig( \"../exampledatae0_%03.0f.eps\"%(e0*1000), format='eps')\n",
    "#savefig('/home/xin/pipes/examples/output_data/real_Mn_for_Trajkovic.png', bbox_inches='tight')"
   ]
  },
  {
   "cell_type": "code",
   "execution_count": null,
   "metadata": {
    "collapsed": true
   },
   "outputs": [],
   "source": []
  },
  {
   "cell_type": "code",
   "execution_count": null,
   "metadata": {
    "collapsed": true
   },
   "outputs": [],
   "source": []
  }
 ],
 "metadata": {
  "kernelspec": {
   "display_name": "Python 2",
   "language": "python",
   "name": "python2"
  },
  "language_info": {
   "codemirror_mode": {
    "name": "ipython",
    "version": 2
   },
   "file_extension": ".py",
   "mimetype": "text/x-python",
   "name": "python",
   "nbconvert_exporter": "python",
   "pygments_lexer": "ipython2",
   "version": "2.7.11"
  }
 },
 "nbformat": 4,
 "nbformat_minor": 0
}
