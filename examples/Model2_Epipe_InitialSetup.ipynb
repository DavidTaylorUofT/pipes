{
 "cells": [
  {
   "cell_type": "markdown",
   "metadata": {},
   "source": [
    "<p> The program is the following work of Model 1, Here I present a more complex network</p>\n",
    "<p> All data about pipes are estimated and assigned based on a rough map</p>"
   ]
  },
  {
   "cell_type": "code",
   "execution_count": 1,
   "metadata": {
    "collapsed": false
   },
   "outputs": [
    {
     "name": "stdout",
     "output_type": "stream",
     "text": [
      "Populating the interactive namespace from numpy and matplotlib\n"
     ]
    }
   ],
   "source": [
    "import sys\n",
    "sys.path.append(\"..\")    \n",
    "from allthethings import PyNetwork, PyPipe_ps\n",
    "from allthethings import PyBC_opt_dh\n",
    "import numpy as np\n",
    "import matplotlib.pyplot as plt\n",
    "%pylab inline\n",
    "from writeit import *\n",
    "import pickle\n",
    "import time\n",
    "from __future__ import division "
   ]
  },
  {
   "cell_type": "code",
   "execution_count": 2,
   "metadata": {
    "collapsed": true
   },
   "outputs": [],
   "source": [
    "# Build Model\n",
    "fi = \"../indata/Model2/Model2_Epipe-2.0.inp\"    \n",
    "fc = \"../indata/Model2/Model2_Epipe-2.0.config\" \n",
    "mtype=1\n",
    "n0=PyNetwork(fi,fc,mtype)"
   ]
  },
  {
   "cell_type": "code",
   "execution_count": 3,
   "metadata": {
    "collapsed": false
   },
   "outputs": [
    {
     "name": "stdout",
     "output_type": "stream",
     "text": [
      "2.0 [50, 50, 50, 50, 50, 60, 60, 60, 60] [ 100.  100.  100.  100.  100.  120.  120.  120.  120.] [0.012, 0.012, 0.012, 0.012, 0.012, 0.012, 0.012, 0.012, 0.012] [ 0.3   0.3   0.3   0.3   0.3   0.15  0.15  0.15  0.15] [1 3 3 3 3 1 1 1 1 1] [1, 0, 0, 0, 0, 2, 2, 2, 2, 2] [0, 0, 0, 0, 0, 0.29999999999999999, 0.14999999999999999, 0.14999999999999999, 0.14999999999999999, 0.14999999999999999] [0, 1, 1, 1, 1, 0, 0, 0, 0, 0] [0.001, 0.001, 0.001, 0.001, 0.001, 0.001, 0.001, 0.001, 0.001] [0.0, 0.0, 0.0, 0.0, 0.0, 0.0, 0.0, 0.0, 0.0] 600 40000 10000 100 [1, 1, 1, 1, 1, 1, 0, 0, 0, 0]\n"
     ]
    }
   ],
   "source": [
    "# modify the config file, change BC \n",
    "Ls=n0.Ls\n",
    "Ns = [int(l) for l in Ls/2] \n",
    "Mrs=n0.Mrs\n",
    "Ds=n0.Ds\n",
    "jt=n0.nodeTypes     # number of pipes connecting to a certain junction\n",
    "\n",
    "# all pipes are opening except the inflow pipe\n",
    "#bv=[0]*len(jt)\n",
    "bv=[0]\n",
    "bt=[1]\n",
    "r=[0]\n",
    "for i in xrange(1,len(jt)):\n",
    "    if jt[i]==1:\n",
    "        bt.append(2)\n",
    "        r.append(0)\n",
    "        bv.append(n0.Ds[i-1])\n",
    "    else:\n",
    "        bt.append(0)\n",
    "        r.append(1)\n",
    "        bv.append(0)\n",
    "Np=n0.Nedges        #number of pipes\n",
    "h0s=[0.001]*Np\n",
    "q0s=[0.000]*Np      # carefully set it, it can determine if the model can be run \n",
    "T=600\n",
    "a=100\n",
    "mdx = min([Ls[i]/Ns[i] for i in range (Np)])\n",
    "M = int(T*a/(mdx*.8))\n",
    "Mi= 10000\n",
    "M= (M+Mi-M%Mi)  \n",
    "elevs=[1,1,1,1,1,1,0,0,0,0]\n",
    "print mdx, Ns, Ls, Mrs, Ds, jt, bt, bv, r, h0s, q0s, T, M, Mi, a, elevs"
   ]
  },
  {
   "cell_type": "code",
   "execution_count": 4,
   "metadata": {
    "collapsed": false
   },
   "outputs": [],
   "source": [
    "fn = \"../indata/Model2/Model2_Epipe_new\"           # new file name for .inp and .config\n",
    "oldinp = \"../indata/Model2/Model2_Epipe-2.0.inp\"   # old inp file\n",
    "(fi2,fc2) = rewritePipes(fn,oldinp, Ns, Ls, Mrs, Ds, jt, bt, bv, r, h0s, q0s, T, M, Mi, a, elevs)"
   ]
  },
  {
   "cell_type": "code",
   "execution_count": null,
   "metadata": {
    "collapsed": false,
    "scrolled": false
   },
   "outputs": [
    {
     "data": {
      "text/plain": [
       "'\\n(xs,ys,conns,ls) = getBasicConnectivity(fi)\\nNp= shape(conns) [0]\\nplotNetworkLayout (xs, ys, conns, ls, Np) \\nn1.showLayout() \\n'"
      ]
     },
     "execution_count": 7,
     "metadata": {},
     "output_type": "execute_result"
    }
   ],
   "source": [
    "'''\n",
    "(xs,ys,conns,ls) = getBasicConnectivity(fi)\n",
    "Np= shape(conns) [0]\n",
    "plotNetworkLayout (xs, ys, conns, ls, Np) \n",
    "n1.showLayout() \n",
    "'''"
   ]
  },
  {
   "cell_type": "code",
   "execution_count": null,
   "metadata": {
    "collapsed": true
   },
   "outputs": [],
   "source": []
  }
 ],
 "metadata": {
  "kernelspec": {
   "display_name": "Python 2",
   "language": "python",
   "name": "python2"
  },
  "language_info": {
   "codemirror_mode": {
    "name": "ipython",
    "version": 2
   },
   "file_extension": ".py",
   "mimetype": "text/x-python",
   "name": "python",
   "nbconvert_exporter": "python",
   "pygments_lexer": "ipython2",
   "version": "2.7.11"
  }
 },
 "nbformat": 4,
 "nbformat_minor": 0
}
