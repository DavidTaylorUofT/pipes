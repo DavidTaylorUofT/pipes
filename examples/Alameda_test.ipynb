{
 "cells": [
  {
   "cell_type": "code",
   "execution_count": 12,
   "metadata": {
    "collapsed": false
   },
   "outputs": [
    {
     "name": "stdout",
     "output_type": "stream",
     "text": [
      "Populating the interactive namespace from numpy and matplotlib\n"
     ]
    }
   ],
   "source": [
    "import sys\n",
    "sys.path.append(\"..\")\n",
    "from allthethings import PyNetwork, PyPipe_ps\n",
    "from allthethings import PyBC_opt_dh\n",
    "import numpy as np\n",
    "import matplotlib.pyplot as plt\n",
    "%pylab inline\n",
    "from scipy import optimize\n",
    "from writeit import rewritePipes"
   ]
  },
  {
   "cell_type": "code",
   "execution_count": 13,
   "metadata": {
    "collapsed": false
   },
   "outputs": [],
   "source": [
    "fi = \"../indata/Alamedanewer2.0.inp\"\n",
    "fc = \"../indata/Alamedanewer2.0.config\"\n",
    "n0 = PyNetwork(fi,fc,1)\n",
    "m_per_ft = .3048\n",
    "elevs  =[417,414,324,300,275,256,232,201,177,190,192,197,199,206,209,240,252,250,283,289,316,315,334,340,334,332,333,341,387,426,417]"
   ]
  },
  {
   "cell_type": "code",
   "execution_count": 14,
   "metadata": {
    "collapsed": true
   },
   "outputs": [],
   "source": [
    "def idx_t(i,j,n,N):\n",
    "    return (2*(N+2)*n+(N+2)*i+j)"
   ]
  },
  {
   "cell_type": "code",
   "execution_count": 26,
   "metadata": {
    "collapsed": false
   },
   "outputs": [
    {
     "name": "stdout",
     "output_type": "stream",
     "text": [
      "new files are ../indata/Alameda_m3.inp and ../indata/Alameda_m3.config\n",
      "0.01\n",
      "[0.0, 0.0, 0.0, 0.0]\n",
      "1\n"
     ]
    }
   ],
   "source": [
    "#n0.showLayout()\n",
    "Ls_m = [l*m_per_ft for l in n0.Ls]\n",
    "elevs_m = [float(el)*m_per_ft for el in elevs]\n",
    "elevs_m = [0*el for el in elevs_m]\n",
    "Ds_m = [D/12 for D in n0.Ds]\n",
    "Ds_m[17 ]=Ds_m[16]\n",
    "T = 0.01\n",
    "Np = n0.Nedges\n",
    "a = 100\n",
    "Ns = [int(l) for l in Ls_m]\n",
    "dx = [Ls_m[i]/Ns[i] for i in range(Np)]\n",
    "M = int(T*a/(max(dx)*.8))\n",
    "jt = n0.nodeTypes\n",
    "Nn = len(jt)\n",
    "bt = [1]*Nn\n",
    "bv = [0.]*Nn\n",
    "r = [1]*Nn\n",
    "r[0] = 0\n",
    "bt[0] =1\n",
    "h0s = [0]*Np\n",
    "q0s = [0]*Np\n",
    "Mrs =[0.00]*Np\n",
    "fn = \"../indata/Alameda_m3\"\n",
    "oldinp = \"../indata/Alamedanewer2.0.inp\"\n",
    "(fi, fc) = rewritePipes(fn,oldinp, Ns, Ls_m, Mrs, Ds_m, jt, bt, bv, r, h0s, q0s, T, M, a,elevs_m)\n",
    "n1 = PyNetwork(fi,fc,1)\n",
    "dt = n1.T/float(n1.M)\n",
    "Q00 = 0.0087\n",
    "for i in range(0,Np):\n",
    "    A0 = 0.00*ones(n1.Ns[i])\n",
    "    Q0 = 0.*np.ones(n1.Ns[i])\n",
    "    if(i==17):\n",
    "        A0[-1] = 0.001\n",
    "    #elif(i==16):\n",
    "    #    A0[0] =0.001\n",
    "    n1.setIC(i,A0,Q0)\n",
    "#for i in range(0,16):\n",
    "#    A0 = 0.001*ones(n1.Ns[i])\n",
    "#    Q0 = 0.*np.ones(n1.Ns[i])\n",
    "#    n1.setIC(i,A0,Q0)\n",
    "Qb = Q00*np.ones(M+1)\n",
    "n1.setbVal(0,Qb)\n",
    "print dt\n",
    "print elevs_m[15:19]\n",
    "print M\n"
   ]
  },
  {
   "cell_type": "code",
   "execution_count": 27,
   "metadata": {
    "collapsed": false
   },
   "outputs": [
    {
     "name": "stdout",
     "output_type": "stream",
     "text": [
      "dV = 0.000291\n",
      "CPU times: user 500 µs, sys: 81 µs, total: 581 µs\n",
      "Wall time: 584 µs\n"
     ]
    }
   ],
   "source": [
    "%%time\n",
    "V0 = n1.getTotalVolume()\n",
    "n1.runForwardProblem(dt)\n",
    "Vf = n1.getTotalVolume()\n",
    "dV = Vf-V0\n",
    "Vs =[Vf]\n",
    "print \"dV = %f\" %dV"
   ]
  },
  {
   "cell_type": "code",
   "execution_count": 17,
   "metadata": {
    "collapsed": false
   },
   "outputs": [],
   "source": [
    "Hlong = []\n",
    "for i in range(Np):\n",
    "    p0 = PyPipe_ps(n1.Ns[i], n1.Ds[i], n1.Ls[i], M, a)\n",
    "    Nstar = 1\n",
    "    Hlong.append([n1.qhist(i)[idx_t(0,Nstar,n,n1.Ns[i])] for n in range(M+1)])"
   ]
  },
  {
   "cell_type": "code",
   "execution_count": 24,
   "metadata": {
    "collapsed": false
   },
   "outputs": [
    {
     "name": "stdout",
     "output_type": "stream",
     "text": [
      "   pipe | start node | end node\n",
      "-----------------------------------\n",
      "     0  |  0         | 1\n",
      "     1  |  1         | 2\n",
      "     2  |  2         | 3\n",
      "     3  |  3         | 4\n",
      "     4  |  4         | 5\n",
      "     5  |  5         | 6\n",
      "     6  |  6         | 7\n",
      "     7  |  7         | 8\n",
      "     8  |  8         | 9\n",
      "     9  |  9         | 10\n",
      "     10  |  10         | 11\n",
      "     11  |  11         | 12\n",
      "     12  |  12         | 13\n",
      "     13  |  13         | 14\n",
      "     14  |  14         | 15\n",
      "     15  |  15         | 16\n",
      "     16  |  16         | 17\n",
      "     17  |  16         | 18\n",
      "     18  |  19         | 18\n",
      "     19  |  18         | 20\n",
      "     20  |  20         | 21\n",
      "     21  |  20         | 22\n",
      "     22  |  23         | 22\n",
      "     23  |  22         | 24\n",
      "     24  |  24         | 25\n",
      "     25  |  25         | 26\n",
      "     26  |  26         | 27\n",
      "     27  |  27         | 28\n",
      "     28  |  28         | 29\n",
      "\n",
      "\n",
      "   node | #incoming pipes\n",
      "-------------------------\n",
      "  0     |  1\n",
      "  1     |  2\n",
      "  2     |  2\n",
      "  3     |  2\n",
      "  4     |  2\n",
      "  5     |  2\n",
      "  6     |  2\n",
      "  7     |  2\n",
      "  8     |  2\n",
      "  9     |  2\n",
      "  10     |  2\n",
      "  11     |  2\n",
      "  12     |  2\n",
      "  13     |  2\n",
      "  14     |  2\n",
      "  15     |  2\n",
      "  16     |  3\n",
      "  17     |  1\n",
      "  18     |  3\n",
      "  19     |  1\n",
      "  20     |  3\n",
      "  21     |  1\n",
      "  22     |  3\n",
      "  23     |  1\n",
      "  24     |  2\n",
      "  25     |  2\n",
      "  26     |  2\n",
      "  27     |  2\n",
      "  28     |  2\n",
      "  29     |  1\n",
      "0.00844380646796\n"
     ]
    }
   ],
   "source": [
    "n1.showLayout()\n",
    "print dt"
   ]
  },
  {
   "cell_type": "code",
   "execution_count": 29,
   "metadata": {
    "collapsed": false
   },
   "outputs": [
    {
     "name": "stdout",
     "output_type": "stream",
     "text": [
      "[  8.64932517e-07   3.09464662e-09   7.59420426e-12   0.00000000e+00\n",
      "   0.00000000e+00   0.00000000e+00   0.00000000e+00   0.00000000e+00\n",
      "   0.00000000e+00   0.00000000e+00   0.00000000e+00   0.00000000e+00\n",
      "   0.00000000e+00   0.00000000e+00   0.00000000e+00   0.00000000e+00\n",
      "   0.00000000e+00   0.00000000e+00   0.00000000e+00   0.00000000e+00\n",
      "   0.00000000e+00   6.63559670e-07   2.37634146e-09   5.83490199e-12\n",
      "   0.00000000e+00   0.00000000e+00   0.00000000e+00   0.00000000e+00\n",
      "   0.00000000e+00   0.00000000e+00   0.00000000e+00   0.00000000e+00\n",
      "   0.00000000e+00   0.00000000e+00   0.00000000e+00   0.00000000e+00\n",
      "   0.00000000e+00   0.00000000e+00   0.00000000e+00   0.00000000e+00\n",
      "   0.00000000e+00   0.00000000e+00]\n",
      "0.001\n"
     ]
    }
   ],
   "source": [
    "J = 19\n",
    "qh = n1.q(J)\n",
    "print qh\n",
    "print max(n1.qhist(17))"
   ]
  },
  {
   "cell_type": "code",
   "execution_count": 23,
   "metadata": {
    "collapsed": false
   },
   "outputs": [
    {
     "name": "stdout",
     "output_type": "stream",
     "text": [
      "23686\n",
      "31\n",
      "0.686492676772\n",
      "2.10657214222\n"
     ]
    },
    {
     "data": {
      "image/png": "[encoded data removed]",
      "text/plain": [
       "<matplotlib.figure.Figure at 0x11aabfad0>"
      ]
     },
     "metadata": {},
     "output_type": "display_data"
    }
   ],
   "source": [
    "n  = M\n",
    "print n\n",
    "J = 20\n",
    "print n1.Ns[16]\n",
    "hh=4\n",
    "#plot([n1.qhist(J)[idx_t(0,k+1,n,n1.Ns[J])] for k in range(n1.Ns[J])])\n",
    "\n",
    "plot([n1.qhist(J)[idx_t(0,1,n,n1.Ns[J])] for n in range(M+1)])\n",
    "title('tol=(1e-8)*D, t = %.2f'%T)\n",
    "#for hh in range(0,n1.Ns[J]+1):\n",
    "#    print \"%.2e  %.2e\"%(n1.qhist(J)[idx_t(0,hh,n,n1.Ns[J])],n1.qhist(J)[idx_t(1,hh,n,n1.Ns[J])])\n",
    "    \n",
    "print max(n1.cmax)*dt/min(dx)\n",
    "#print n1.cmax\n",
    "print n1.cmax[10]"
   ]
  },
  {
   "cell_type": "code",
   "execution_count": 8,
   "metadata": {
    "collapsed": false
   },
   "outputs": [
    {
     "name": "stdout",
     "output_type": "stream",
     "text": [
      "new files are ../indata/Alameda_m3.inp and ../indata/Alameda_m3.config\n",
      "5210\n",
      "11\n",
      "0.0021113243762\n",
      "0.0021113243762\n"
     ]
    }
   ],
   "source": [
    "T2 = T/2\n",
    "M2 = M/2\n",
    "dt2 = T2/float(M2)\n",
    "(fi, fc) = rewritePipes(fn,oldinp, Ns, Ls_m, Mrs, Ds_m, jt, bt, bv, r, h0s, q0s, T2, M2, a,elevs_m)\n",
    "n2 = PyNetwork(fi,fc,1)\n",
    "Q00 = 0.0087\n",
    "for i in range(0,Np):\n",
    "    A0 = 0.00*ones(n2.Ns[i])\n",
    "    Q0 = 0.*np.ones(n2.Ns[i])\n",
    "    n2.setIC(i,A0,Q0)\n",
    "Qb = Q00*np.ones(M2+1)\n",
    "n2.setbVal(0,Qb)\n",
    "print M2\n",
    "print T2\n",
    "print dt2\n",
    "print dt"
   ]
  },
  {
   "cell_type": "code",
   "execution_count": null,
   "metadata": {
    "collapsed": false
   },
   "outputs": [],
   "source": []
  },
  {
   "cell_type": "code",
   "execution_count": 10,
   "metadata": {
    "collapsed": false
   },
   "outputs": [
    {
     "name": "stdout",
     "output_type": "stream",
     "text": [
      "dV = 0.111925\n",
      "0.223850249516\n",
      "CPU times: user 2.15 s, sys: 581 µs, total: 2.15 s\n",
      "Wall time: 2.15 s\n"
     ]
    }
   ],
   "source": [
    "%%time\n",
    "V0 = n2.getTotalVolume()\n",
    "n2.runForwardProblem(dt2)\n",
    "Vf = n2.getTotalVolume()\n",
    "dV = Vf-V0\n",
    "Vs =[Vf]\n",
    "print \"dV = %f\" %dV\n",
    "print dV*2"
   ]
  },
  {
   "cell_type": "code",
   "execution_count": 11,
   "metadata": {
    "collapsed": false
   },
   "outputs": [],
   "source": [
    "Hshort1 = []\n",
    "for i in range(Np):\n",
    "    p0 = PyPipe_ps(n1.Ns[i], n1.Ds[i], n1.Ls[i], M2, a)\n",
    "    Nstar = 1\n",
    "    Hshort1.append([n2.qhist(i)[idx_t(0,Nstar,n,n1.Ns[i])] for n in range(M2+1)])"
   ]
  },
  {
   "cell_type": "code",
   "execution_count": 12,
   "metadata": {
    "collapsed": true
   },
   "outputs": [],
   "source": [
    "n2.reset()\n",
    "n2.runForwardProblem(dt2)"
   ]
  },
  {
   "cell_type": "code",
   "execution_count": 13,
   "metadata": {
    "collapsed": false
   },
   "outputs": [
    {
     "name": "stdout",
     "output_type": "stream",
     "text": [
      "0.219267754846\n"
     ]
    }
   ],
   "source": [
    "print n2.getTotalVolume()\n",
    "Hshort2 = []\n",
    "for i in range(Np):\n",
    "    Nstar = 1\n",
    "    Hshort2.append([n2.qhist(i)[idx_t(0,Nstar,n,n1.Ns[i])] for n in range(0,M2+1)])"
   ]
  },
  {
   "cell_type": "code",
   "execution_count": 14,
   "metadata": {
    "collapsed": false
   },
   "outputs": [
    {
     "ename": "ValueError",
     "evalue": "operands could not be broadcast together with shapes (10420,) (10422,) ",
     "output_type": "error",
     "traceback": [
      "\u001b[0;31m---------------------------------------------------------------------------\u001b[0m",
      "\u001b[0;31mValueError\u001b[0m                                Traceback (most recent call last)",
      "\u001b[0;32m<ipython-input-14-5c61a6d0dc5f>\u001b[0m in \u001b[0;36m<module>\u001b[0;34m()\u001b[0m\n\u001b[1;32m      2\u001b[0m \u001b[0mj\u001b[0m \u001b[0;34m=\u001b[0m \u001b[0;36m0\u001b[0m\u001b[0;34m\u001b[0m\u001b[0m\n\u001b[1;32m      3\u001b[0m \u001b[0;32mfor\u001b[0m \u001b[0mj\u001b[0m \u001b[0;32min\u001b[0m \u001b[0mrange\u001b[0m\u001b[0;34m(\u001b[0m\u001b[0mNp\u001b[0m\u001b[0;34m)\u001b[0m\u001b[0;34m:\u001b[0m\u001b[0;34m\u001b[0m\u001b[0m\n\u001b[0;32m----> 4\u001b[0;31m     \u001b[0merr\u001b[0m \u001b[0;34m=\u001b[0m\u001b[0mHlong\u001b[0m\u001b[0;34m[\u001b[0m\u001b[0mj\u001b[0m\u001b[0;34m]\u001b[0m\u001b[0;34m[\u001b[0m\u001b[0;36m0\u001b[0m\u001b[0;34m:\u001b[0m\u001b[0mM\u001b[0m\u001b[0;34m]\u001b[0m\u001b[0;34m-\u001b[0m\u001b[0mnp\u001b[0m\u001b[0;34m.\u001b[0m\u001b[0mconcatenate\u001b[0m\u001b[0;34m(\u001b[0m\u001b[0;34m(\u001b[0m\u001b[0mHshort1\u001b[0m\u001b[0;34m[\u001b[0m\u001b[0mj\u001b[0m\u001b[0;34m]\u001b[0m\u001b[0;34m,\u001b[0m \u001b[0mHshort2\u001b[0m\u001b[0;34m[\u001b[0m\u001b[0mj\u001b[0m\u001b[0;34m]\u001b[0m\u001b[0;34m)\u001b[0m\u001b[0;34m)\u001b[0m\u001b[0;34m\u001b[0m\u001b[0m\n\u001b[0m\u001b[1;32m      5\u001b[0m     \u001b[0;32mprint\u001b[0m \u001b[0mnorm\u001b[0m\u001b[0;34m(\u001b[0m\u001b[0merr\u001b[0m\u001b[0;34m)\u001b[0m\u001b[0;34m\u001b[0m\u001b[0m\n\u001b[1;32m      6\u001b[0m     \u001b[0mplot\u001b[0m\u001b[0;34m(\u001b[0m\u001b[0merr\u001b[0m\u001b[0;34m)\u001b[0m\u001b[0;34m\u001b[0m\u001b[0m\n",
      "\u001b[0;31mValueError\u001b[0m: operands could not be broadcast together with shapes (10420,) (10422,) "
     ]
    }
   ],
   "source": [
    "t = linspace(0,20,2*(M2+1))\n",
    "j = 0\n",
    "for j in range(Np):\n",
    "    err =Hlong[j][0:M]-np.concatenate((Hshort1[j], Hshort2[j]))\n",
    "    print norm(err)\n",
    "    plot(err)"
   ]
  },
  {
   "cell_type": "code",
   "execution_count": null,
   "metadata": {
    "collapsed": false
   },
   "outputs": [],
   "source": [
    "print n2.getTotalVolume()\n",
    "print n1.getTotalVolume()\n",
    "print len(np.concatenate((Hshort1[0],Hshort2[0])))\n",
    "print len(Hlong[0])"
   ]
  },
  {
   "cell_type": "code",
   "execution_count": null,
   "metadata": {
    "collapsed": false
   },
   "outputs": [],
   "source": [
    "%%time\n",
    "MM=1\n",
    "Ttot = T\n",
    "for m in range(MM):\n",
    "    A0s = []\n",
    "    Q0s = []\n",
    "    Empty=[]\n",
    "    for j in range(0,Np):\n",
    "        qj =n2.q(j)\n",
    "        A0s.append(np.copy(qj[0:n2.Ns[j]]))\n",
    "        Q0s.append(np.copy(qj[n2.Ns[j]:]))\n",
    "        if sum(A0s[j])<1e-4:\n",
    "            Empty.append(j)\n",
    "    (fi, fc) = rewritePipes(fn,oldinp, Ns, Ls_m, Mrs, Ds_m, jt, bt, bv, r, h0s, q0s, T2, M2, a,elevs_m)\n",
    "    n3 = PyNetwork(fi,fc,1)\n",
    "    for j in range(0,Np):\n",
    "        A0 = A0s[j]\n",
    "        Q0 = Q0s[j]\n",
    "        n3.setIC(j,A0,Q0)\n",
    "    Qb = Q00*np.ones(M+1)\n",
    "    n3.setbVal(0,Qb)\n",
    "    #V0 = n2.getTotalVolume()\n",
    "    #n2.runForwardProblem(dt2)\n",
    "    #Vf= n2.getTotalVolume()\n",
    "    #Vs.append(Vf)\n",
    "    #Ttot+=T\n",
    "    ##print \"T =%f, Volume = %f\"%(Ttot,Vf)\n",
    "    #print \"Empty Pipes are\"\n",
    "    #print Empty"
   ]
  },
  {
   "cell_type": "code",
   "execution_count": 21,
   "metadata": {
    "collapsed": false
   },
   "outputs": [
    {
     "name": "stdout",
     "output_type": "stream",
     "text": [
      "0.0\n"
     ]
    }
   ],
   "source": [
    "print Hshort2[0][0]"
   ]
  },
  {
   "cell_type": "code",
   "execution_count": 14,
   "metadata": {
    "collapsed": false
   },
   "outputs": [
    {
     "name": "stdout",
     "output_type": "stream",
     "text": [
      "T = 10.00\n"
     ]
    },
    {
     "data": {
      "text/plain": [
       "<matplotlib.text.Text at 0x1159cbb90>"
      ]
     },
     "execution_count": 14,
     "metadata": {},
     "output_type": "execute_result"
    },
    {
     "data": {
      "image/png": "[encoded data removed]",
      "text/plain": [
       "<matplotlib.figure.Figure at 0x115b41c90>"
      ]
     },
     "metadata": {},
     "output_type": "display_data"
    }
   ],
   "source": [
    "rc('text', usetex=True)        #for tex rendering. \n",
    "rc('font', **{'family':'serif', 'serif':['Computer Modern Roman'], \n",
    "                                'monospace': ['Computer Modern Typewriter'], 'size'   : 16})\n",
    "from matplotlib import cm\n",
    "import matplotlib.colors as colors\n",
    "cNorm  = colors.Normalize(vmin=0, vmax=Np+1)\n",
    "scalarMap = cm.ScalarMappable(norm=cNorm, cmap=cm.get_cmap('ocean') )\n",
    "print \"T = %.2f\"%T\n",
    "for i in range(0,Np):\n",
    "    p0 = PyPipe_ps(n1.Ns[i], n1.Ds[i], n1.Ls[i], M, a)\n",
    "    qf = n1.qhist(i)\n",
    "    #ah = []\n",
    "    #print i|\n",
    "    #for n in range(M+1):\n",
    "    #    ah.append([qf[idx_t(0,j,n,Ns[i])] for j in range(Ns[i])])\n",
    "    #print (find(ah<0))\n",
    "    Nstar = n1.Ns[i]/2\n",
    "    cval = scalarMap.to_rgba(i)\n",
    "    Af = (n1.Ds[i]**2)/(pi*4)\n",
    "    A= [qf[idx_t(0,Nstar,n,n1.Ns[i])] for n in range(M+1)];\n",
    "    H=[p0.pbar(qf[idx_t(0,Nstar,n,n1.Ns[i])],False) for n in range(M+1)]\n",
    "    t = linspace(0,T,M+1)\n",
    "    plot(t,H, color = cval,label= \"pipe %d\"%i)\n",
    "#legend(loc='upper left')\n",
    "#ylim(0,1)\n",
    "xlabel('t')\n",
    "ylabel(r'$\\bar{p}$')\n",
    "title(r'$\\bar{p}(t)$ at center of each pipe')"
   ]
  },
  {
   "cell_type": "code",
   "execution_count": 29,
   "metadata": {
    "collapsed": false
   },
   "outputs": [
    {
     "data": {
      "image/png": "[encoded data removed]",
      "text/plain": [
       "<matplotlib.figure.Figure at 0x113041f10>"
      ]
     },
     "metadata": {},
     "output_type": "display_data"
    }
   ],
   "source": [
    "\n",
    "t = linspace(0,T,M+1)\n",
    "for i in range(0,1):\n",
    "    p0 = PyPipe_ps(n1.Ns[i], n1.Ds[i], n1.Ls[i], M, a)\n",
    "    qf = n1.qhist(i)\n",
    "    Nstar = 0\n",
    "    cval = scalarMap.to_rgba(i)\n",
    "    Af = (n0.Ds[i]**2)/(pi*4)\n",
    "    Q=[qf[idx_t(0,Nstar,n,n1.Ns[i])] for n in range(M+1)]\n",
    "    plot(t,Q, color = cval,label= \"pipe %d\"%i)\n",
    "#legend(loc='upper right')\n",
    "#print H"
   ]
  },
  {
   "cell_type": "code",
   "execution_count": 25,
   "metadata": {
    "collapsed": false
   },
   "outputs": [
    {
     "name": "stdout",
     "output_type": "stream",
     "text": [
      "0.844451950684\n"
     ]
    }
   ],
   "source": [
    "dx =[n1.Ls[i]/n1.Ns[i] for i in range(Np)]\n",
    "print max([a*dt/d for d in dx])"
   ]
  },
  {
   "cell_type": "code",
   "execution_count": 18,
   "metadata": {
    "collapsed": false
   },
   "outputs": [
    {
     "name": "stdout",
     "output_type": "stream",
     "text": [
      "0.00793018096379\n",
      "18.6738789702\n"
     ]
    }
   ],
   "source": [
    "pp = PyPipe_ps(n1.Ns[0],n1.Ds[0],n1.Ls[0],M,a)\n",
    "print pp.AofH(10,True)\n",
    "print pp.pbar(0.008,True)\n"
   ]
  },
  {
   "cell_type": "code",
   "execution_count": 27,
   "metadata": {
    "collapsed": false
   },
   "outputs": [
    {
     "name": "stdout",
     "output_type": "stream",
     "text": [
      "[17 16]\n",
      "3\n"
     ]
    }
   ],
   "source": [
    "print n1.conn[16]\n",
    "print n1.nodeTypes[16]"
   ]
  },
  {
   "cell_type": "code",
   "execution_count": 21,
   "metadata": {
    "collapsed": false
   },
   "outputs": [
    {
     "name": "stdout",
     "output_type": "stream",
     "text": [
      "0.00785398163397\n",
      "0.1\n"
     ]
    },
    {
     "data": {
      "image/png": "[encoded data removed]",
      "text/plain": [
       "<matplotlib.figure.Figure at 0x1134e0bd0>"
      ]
     },
     "metadata": {},
     "output_type": "display_data"
    }
   ],
   "source": [
    "i = 1\n",
    "p0 = PyPipe_ps(n1.Ns[i], n1.Ds[i], n1.Ls[i], M, a)\n",
    "Af = (n1.Ds[i]**2)*pi/(4)\n",
    "As = linspace(0,Af*1.1,100)\n",
    "pbars= [p0.pbar(A,True) for A in As]\n",
    "plot(As,pbars)\n",
    "print Af\n",
    "print n1.Ds[i]"
   ]
  },
  {
   "cell_type": "code",
   "execution_count": 30,
   "metadata": {
    "collapsed": false
   },
   "outputs": [
    {
     "name": "stdout",
     "output_type": "stream",
     "text": [
      "dV = -0.060104\n",
      "0.27755\n",
      "0.217446361768\n"
     ]
    }
   ],
   "source": [
    "dV = Vf-V0\n",
    "print \"dV = %f\"%(dV)\n",
    "print V0\n",
    "print Vf"
   ]
  },
  {
   "cell_type": "code",
   "execution_count": 32,
   "metadata": {
    "collapsed": false
   },
   "outputs": [
    {
     "name": "stdout",
     "output_type": "stream",
     "text": [
      "[ 0.0016467   0.00145512  0.0013167   0.00121088  0.00112667  0.00105766\n",
      "  0.00099979  0.00095037  0.00090754  0.00086996  0.00083665  0.00080686\n",
      "  0.00078001  0.00075565  0.00073342  0.00071304  0.00069424  0.00067685\n",
      "  0.0006607   0.00064564  0.00063156  0.00061836  0.00060595  0.00059425\n",
      "  0.0005832   0.00057275  0.00056283  0.00055341  0.00054444  0.00053589\n",
      "  0.00052774  0.00051994  0.00051247  0.00050532  0.00049846  0.00049187\n",
      "  0.00048553  0.00047943  0.00047356  0.00046789  0.00046242  0.00045714\n",
      "  0.00045203  0.0004471   0.00044232  0.00043768  0.0004332   0.00042884\n",
      "  0.00042462  0.00042051  0.00041653  0.00041265  0.00040888  0.00040521\n",
      "  0.00040164  0.00039816  0.00039477  0.00039146  0.00038824  0.00038509\n",
      "  0.00038202  0.00037902  0.00037609  0.00037323  0.00037043]\n",
      "[ 0.0087  0.0087  0.0087  0.0087  0.0087  0.0087  0.0087  0.0087  0.0087\n",
      "  0.0087  0.0087  0.0087  0.0087  0.0087  0.0087  0.0087  0.0087  0.0087\n",
      "  0.0087  0.0087  0.0087  0.0087  0.0087]\n"
     ]
    }
   ],
   "source": [
    "print A0s[1]\n",
    "print Q0s[10]"
   ]
  },
  {
   "cell_type": "code",
   "execution_count": 19,
   "metadata": {
    "collapsed": false
   },
   "outputs": [
    {
     "name": "stdout",
     "output_type": "stream",
     "text": [
      "[ 0.  0.  0.  0.  0.  0.  0.  0.  0.  0.  0.  0.  0.  0.  0.  0.  0.  0.\n",
      "  0.  0.  0.  0.  0.  0.  0.  0.  0.  0.  0.  0.  0.  0.  0.  0.  0.  0.\n",
      "  0.  0.  0.  0.  0.  0.  0.  0.  0.  0.  0.  0.  0.  0.  0.  0.  0.  0.]\n"
     ]
    }
   ],
   "source": [
    "q = n1.q(18)\n",
    "print q"
   ]
  },
  {
   "cell_type": "code",
   "execution_count": null,
   "metadata": {
    "collapsed": false
   },
   "outputs": [],
   "source": [
    "for i in range(0,Np):\n",
    "    p0 = PyPipe_ps(n1.Ns[i], n1.Ds[i], n1.Ls[i], M, a)\n",
    "    qf = n1.qhist(i)\n",
    "    #ah = []\n",
    "    #print i|\n",
    "    #for n in range(M+1):\n",
    "    #    ah.append([qf[idx_t(0,j,n,Ns[i])] for j in range(Ns[i])])\n",
    "    #print (find(ah<0))\n",
    "    Nstar = 2\n",
    "    cval = scalarMap.to_rgba(i)\n",
    "    Af = (n1.Ds[i]**2)/(pi*4)\n",
    "    A= [qf[idx_t(0,Nstar,n,n1.Ns[i])] for n in range(M+1)];\n",
    "    H=[p0.pbar(qf[idx_t(0,Nstar,n,n1.Ns[i])],False) for n in range(M+1)]\n",
    "    t = linspace(0,T,M+1)\n",
    "    plot(t,H, color = cval,label= \"pipe %d\"%i)"
   ]
  },
  {
   "cell_type": "code",
   "execution_count": null,
   "metadata": {
    "collapsed": false
   },
   "outputs": [],
   "source": [
    "qh = n1.qhist(0)\n",
    "print [qh[idx_t(0,k,0,n1.Ns[i])] for k in range(35)]"
   ]
  },
  {
   "cell_type": "code",
   "execution_count": null,
   "metadata": {
    "collapsed": false
   },
   "outputs": [],
   "source": [
    "print n1.q(0)[35:]\n",
    "print n1.q(0)[0:35]"
   ]
  },
  {
   "cell_type": "code",
   "execution_count": null,
   "metadata": {
    "collapsed": false
   },
   "outputs": [],
   "source": []
  },
  {
   "cell_type": "code",
   "execution_count": 64,
   "metadata": {
    "collapsed": false
   },
   "outputs": [],
   "source": [
    "A0s =[]\n",
    "Q0s = []\n",
    "A0s.append(np.copy(n1.q(0)[0:n1.Ns[0]]))\n",
    "Q0s.append(np.copy(n1.q(0)[n1.Ns[0]:]))"
   ]
  },
  {
   "cell_type": "code",
   "execution_count": 65,
   "metadata": {
    "collapsed": false
   },
   "outputs": [
    {
     "name": "stdout",
     "output_type": "stream",
     "text": [
      "35\n"
     ]
    }
   ],
   "source": []
  },
  {
   "cell_type": "code",
   "execution_count": null,
   "metadata": {
    "collapsed": true
   },
   "outputs": [],
   "source": []
  }
 ],
 "metadata": {
  "kernelspec": {
   "display_name": "Python 2",
   "language": "python",
   "name": "python2"
  },
  "language_info": {
   "codemirror_mode": {
    "name": "ipython",
    "version": 2
   },
   "file_extension": ".py",
   "mimetype": "text/x-python",
   "name": "python",
   "nbconvert_exporter": "python",
   "pygments_lexer": "ipython2",
   "version": "2.7.10"
  }
 },
 "nbformat": 4,
 "nbformat_minor": 0
}
