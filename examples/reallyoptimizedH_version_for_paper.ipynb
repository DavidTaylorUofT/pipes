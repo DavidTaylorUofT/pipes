{
 "cells": [
  {
   "cell_type": "code",
   "execution_count": 1,
   "metadata": {
    "collapsed": false
   },
   "outputs": [
    {
     "name": "stdout",
     "output_type": "stream",
     "text": [
      "Populating the interactive namespace from numpy and matplotlib\n"
     ]
    }
   ],
   "source": [
    "##Demonstration for optimization of boundary conditions to minimize <dH/dx>, average variation in pressure head \n",
    "import sys\n",
    "sys.path.append(\"..\")\n",
    "from allthethings import PyNetwork, PyPipe_ps\n",
    "from allthethings import PyBC_opt_dh\n",
    "import numpy as np\n",
    "import matplotlib.pyplot as plt\n",
    "from writeit import rewritePipes\n",
    "%pylab inline"
   ]
  },
  {
   "cell_type": "code",
   "execution_count": 23,
   "metadata": {
    "collapsed": false
   },
   "outputs": [],
   "source": [
    "##Set up initial conditions and various parameters. Three test cases (described in paper) are available below\n",
    "case =1; #case =1,2, or 3. Corresponds to test cases (I), (II), and (III) from paper\n",
    "Ds = [1.]*3  #pipe diameters\n",
    "jt = [1,3,1,1] #junction types\n",
    "bt = [1,1,1,1] #boundary types\n",
    "bv = [0,0,0,0] #boundary values\n",
    "r = [0,0,1,1]  #reflect \n",
    "elevs =[0,0,0,0]#elevations\n",
    "ndof =15    #degrees of freedom for optimization\n",
    "mult = 2\n",
    "#case (I)\n",
    "if case==1:\n",
    "    Ls = [100,100,25] #lengths\n",
    "    Ns = [100,100,25] #number of grid cells\n",
    "    T = 60.     #final time\n",
    "    M = 7500*mult   #number of time steps\n",
    "    dt = T/M\n",
    "    a = 100\n",
    "    h0s = [0,0,0]   #initial water heights in each pipe\n",
    "    q0s = [0,0,0]   #initial discharge in each pipe\n",
    "    Mrs = [0.015]*3  #manning roughness coeffs\n",
    "    md = 0           #mode for interpolation (0 =Hermite)\n",
    "    Q00 = 2.*np.ones(M+1)  #time series for Q(x=0,t) for node being optimizaed over)\n",
    "    Vin = dt*sum(Q00)  #inflow volume\n",
    "    x0 = np.zeros(ndof)  \n",
    "    for i in range((ndof-1)/2):\n",
    "        x0[2*i+1]= Vin/T\n",
    "#Case(II) and (III) differ only in a\n",
    "if case >1:\n",
    "    Ls = [100,100,50]\n",
    "    Ns = [200,200,100]\n",
    "    Mrs = [0.008]*3\n",
    "    x0 = np.array([0.,0.,0.,0., 0.,0.,0.,0.,1.591549430918954,0.,0.530516476972984,0.,0.318309886183791,0.,0.227364204416993])\n",
    "    #x0 = np.array([0.,0.,0.,0., 0.,0.,0.,0., 0.,0.,0.,0, 0.,0.,0.,0.,\\\n",
    "    #               1.591549430918954,0.,0.530516476972984,0.,0.318309886183791,0.,0.227364204416993,\\\n",
    "    #               0.,0.17683882565,0., 0.1446863119 , 0., 0.1224268793 ,0., 0.10610329539   ])\n",
    "    if case==2:#Case(II)\n",
    "        a = 10\n",
    "        T = 120\n",
    "        Vin = 150\n",
    "        M = 4000*mult\n",
    "        Q00 = np.zeros(M+1)\n",
    "        for i in range(M+1/2):\n",
    "            Q00[i] = Vin/T\n",
    "        h0s = [10,0,0]\n",
    "        q0s = [5,0,0]\n",
    "        md = 1\n",
    "    elif case ==3:#Case(III)\n",
    "        a =100\n",
    "        T = 16\n",
    "        M = 3600*mult\n",
    "        Vin = 20\n",
    "        Q00 = np.zeros(M+1)\n",
    "        for i in range(M+1/2):\n",
    "            Q00[i] = Vin/T\n",
    "        h0s = [10,0,0]\n",
    "        q0s = [2.5,0,0]\n",
    "        md = 1\n",
    "        \n",
    "\n"
   ]
  },
  {
   "cell_type": "code",
   "execution_count": 24,
   "metadata": {
    "collapsed": false
   },
   "outputs": [],
   "source": [
    "#x0= np.array([0.011079696485735,   2.552967350903286,  -0.052790523608485,   2.496799960817641,   0.027911116042672,\\\n",
    "#     2.494589236059767, 0.013933565390256,   2.436916318621484,    -0.074060118101019,  2.410513952765013,\\\n",
    "#    -0.062699631460831, -2.687539185883663,    -1.140300988520731,   0.313049865386880,    1.429338969101706])\n"
   ]
  },
  {
   "cell_type": "code",
   "execution_count": 25,
   "metadata": {
    "collapsed": false
   },
   "outputs": [],
   "source": [
    "fn = \"../indata/dhoptimization\"  #base name of new .inp and .config files \n",
    "oldinp = \"../indata/better3pipes.inp\" #old .inp file used to determine network connectivity\n",
    "(fi, fc) = rewritePipes(fn,oldinp, Ns, Ls, Mrs, Ds, jt, bt, bv, r, h0s, q0s, T, M, a,elevs)\n",
    "mtype =1\n",
    "n0 = PyNetwork(fi, fc, mtype)\n",
    "M = n0.M\n"
   ]
  },
  {
   "cell_type": "code",
   "execution_count": 26,
   "metadata": {
    "collapsed": false
   },
   "outputs": [],
   "source": [
    "dt = n0.T/n0.M\n",
    "V0 = n0.getTotalVolume()#get initial volume\n",
    "n0.setbVal(0,Q00)        #set boundary value time series at node 0 to Q00\n",
    "n0.runForwardProblem(dt)  #solve up to time T\n",
    "Vf = n0.getTotalVolume()  #get final volume\n"
   ]
  },
  {
   "cell_type": "code",
   "execution_count": 27,
   "metadata": {
    "collapsed": false
   },
   "outputs": [
    {
     "data": {
      "image/png": "[encoded data removed]",
      "text/plain": [
       "<matplotlib.figure.Figure at 0x14691e650>"
      ]
     },
     "metadata": {},
     "output_type": "display_data"
    }
   ],
   "source": [
    "#plot the water height in each pipe at time T\n",
    "from matplotlib import gridspec\n",
    "hi = [n0.getHofA(i) for i in range(3)]\n",
    "#fig,ax = plt.subplots(nrows = n0.Nedges, figsize= (10,5))\n",
    "x00 = [0,0,0]\n",
    "#ax1 = plt.subplot2grid((3,3), (0,0), colspan=3)\n",
    "\n",
    "for k in range(n0.Nedges):\n",
    "    x = np.arange(0,n0.Ls[k], n0.Ls[k]/n0.Ns[k])+x00[k]*np.ones(size(hi[k]))\n",
    "    H = n0.pressureSpaceSeries(k,M)\n",
    "    if k<2:\n",
    "        cspan=4\n",
    "    else:\n",
    "        cspan=1\n",
    "    ax = plt.subplot2grid((3,3), (k,0), colspan=cspan)\n",
    "    ax.plot(x,H,'b')\n",
    "    gca().set_ylabel('H (m)')\n",
    "gca().set_xlabel('x (m)')\n",
    "suptitle('M=%d'%M)\n",
    "dx = n0.Ls[0]/n0.Ns[0]\n",
    "savefig('/Users/lieba/Desktop/solutionH_M%d.eps'%M)"
   ]
  },
  {
   "cell_type": "code",
   "execution_count": 7,
   "metadata": {
    "collapsed": false
   },
   "outputs": [
    {
     "name": "stdout",
     "output_type": "stream",
     "text": [
      "CFL = 0.266667 \n",
      "space-average grad(H)\n",
      "        Q = 0       reflecting\n",
      "max  1.846703  \n",
      "mean 26.609089  \n"
     ]
    },
    {
     "data": {
      "image/png": "[encoded data removed]",
      "text/plain": [
       "<matplotlib.figure.Figure at 0x1088badd0>"
      ]
     },
     "metadata": {},
     "output_type": "display_data"
    }
   ],
   "source": [
    "#plot the gradient pressure head at over time\n",
    "print \"CFL = %f \" %(dt/dx*n0.a[0])\n",
    "Hbar = [n0.getAveGradH(i) for i in range(n0.M+1)]\n",
    "t = np.linspace(0,n0.T,n0.M+1)\n",
    "kk = 1\n",
    "plot(t,Hbar,'m')\n",
    "legend([\"max  %f  , mean %f\" %(max(Hbar),mean(Hbar))], loc ='upper left')\n",
    "#savefig(\"../../gradH_r66.pdf\", format='pdf')\n",
    "title(\"L0/L2 = %.f/%.f and M = %d, dx = %f\"%(n0.Ls[0],n0.Ls[2], n0.M, n0.Ls[0]/n0.Ns[0]))\n",
    "print \"space-average grad(H)\"\n",
    "print \"        Q = 0       reflecting\"\n",
    "print \"max  %f  \" %(max(Hbar)/sqrt(n0.M))\n",
    "print \"mean %f  \" %(mean(Hbar))\n",
    "dx = n0.Ls[0]/n0.Ns[0]\n"
   ]
  },
  {
   "cell_type": "code",
   "execution_count": 8,
   "metadata": {
    "collapsed": true
   },
   "outputs": [],
   "source": [
    "def idx_t(i,j,n,N):\n",
    "    return (2*(N+2)*n+(N+2)*i+j)"
   ]
  },
  {
   "cell_type": "code",
   "execution_count": 8,
   "metadata": {
    "collapsed": false
   },
   "outputs": [
    {
     "name": "stdout",
     "output_type": "stream",
     "text": [
      "15\n"
     ]
    }
   ],
   "source": [
    "Mstart = 15000\n",
    "\n",
    "#optimal solution for M = 7500\n",
    "if Mstart==7500:\n",
    "    x0 = np.array([ 0.001104467015525,   2.003837895658089,   -0.004644045391606,   1.997175965146338,   -0.023331482749487,\\\n",
    "   1.999186920724476,   -0.004431457428225,   2.001297246462507,   -0.001088129079379,   2.001414344330595,\\\n",
    "   -0.002074450582142,   2.000853623702620,   -0.001326299989290,   1.999803945461978,   0.000805467534120])\n",
    "#optimal solution for M = 15000\n",
    "elif Mstart ==15000:\n",
    "    x0 = np.array([   0.196373689783578,  1.284624749675717, -3.135561017062915, 2.911496290652327,   -0.212268261676944,\\\n",
    "  1.823137160142219, 0.111416767094591, 1.990141852896665,  -0.032064798946064,  1.969530699120267,\\\n",
    "   -0.120847998899830,   2.114570563072279,   -0.009206054403212,  2.263814772519339,  0.530362267445412])\n",
    "#optimal solution for M =22500\n",
    "elif Mstart ==22500:\n",
    "    x0 = np.array([0.272470224779243,2.112963891559315,0.015607557740878,1.951650261241615,-0.011603631970708,\\\n",
    "  2.087901681311433,0.026579883859530,1.948201308835470,0.122353133794649,1.705122529377127,\\\n",
    " -0.131176050778393,1.892751418528797,-0.121332837307185,2.115530486772169,   0.030950487415913] )\n",
    "print len(x0)\n",
    "\n",
    "\n"
   ]
  },
  {
   "cell_type": "code",
   "execution_count": 9,
   "metadata": {
    "collapsed": false
   },
   "outputs": [
    {
     "name": "stdout",
     "output_type": "stream",
     "text": [
      "f is 2.943301\n",
      "T is 60.000000\n",
      "Using Hermite modes\n",
      "8.57142857143\n",
      "22500\n"
     ]
    },
    {
     "data": {
      "image/png": "[encoded data removed]",
      "text/plain": [
       "<matplotlib.figure.Figure at 0x1088bab90>"
      ]
     },
     "metadata": {},
     "output_type": "display_data"
    }
   ],
   "source": [
    "Af = np.pi/4.\n",
    "wn=0;#which node you're optimizing the boundary time series for\n",
    "opt1 = PyBC_opt_dh(fi, fc, ndof, x0, wn, Vin, md)#set up instance of optimization class\n",
    "Q0orig = opt1.getBCtimeseries()\n",
    "plot(Q0orig)\n",
    "opt1.compute_f()\n",
    "f0 = opt1.f\n",
    "print \"f is %f\" %f0\n",
    "print \"T is %f\" %opt1.T\n",
    "print \"Using %s modes\" %opt1.modetype\n",
    "print T/(7.)\n",
    "print M"
   ]
  },
  {
   "cell_type": "code",
   "execution_count": 10,
   "metadata": {
    "collapsed": false
   },
   "outputs": [
    {
     "name": "stdout",
     "output_type": "stream",
     "text": [
      "Vin (specified) = 120.005333\n",
      "Vin (acutal) = 120.005334\n"
     ]
    }
   ],
   "source": [
    "Vin2 = np.trapz(Q0orig, x=t)\n",
    "print \"Vin (specified) = %f\" %Vin\n",
    "print \"Vin (acutal) = %f\" %Vin2\n",
    "Q0orig = opt1.getBCtimeseries()\n",
    "\n",
    "\n",
    "    "
   ]
  },
  {
   "cell_type": "code",
   "execution_count": 11,
   "metadata": {
    "collapsed": false
   },
   "outputs": [],
   "source": [
    "#solve!\n",
    "opt1.solve()"
   ]
  },
  {
   "cell_type": "code",
   "execution_count": 12,
   "metadata": {
    "collapsed": false
   },
   "outputs": [
    {
     "name": "stdout",
     "output_type": "stream",
     "text": [
      "f is 2.924469\n",
      "Improvement f_0/f_f is 0.993602\n",
      "components of x_f are\n",
      " i    x_i\n",
      "******************\n",
      " 1    0.195951 \n",
      " 2    1.284209 \n",
      " 3    -3.134404 \n",
      " 4    2.909793 \n",
      " 5    -0.214029 \n",
      " 6    1.825007 \n",
      " 7    0.108760 \n",
      " 8    1.991345 \n",
      " 9    -0.034465 \n",
      "10    1.969691 \n",
      "11    -0.117855 \n",
      "12    2.114696 \n",
      "13    -0.010261 \n",
      "14    2.261066 \n",
      "15    0.532594 \n"
     ]
    }
   ],
   "source": [
    "print \"f is %f\" %opt1.f\n",
    "ff = opt1.f\n",
    "xf = opt1.x\n",
    "print \"Improvement f_0/f_f is %f\" %(ff/f0)\n",
    "print \"components of x_f are\\n i    x_i\\n******************\"\n",
    "for i in range(len(opt1.x)):\n",
    "    print \"%2d    %f \"%(i+1,xf[i]) "
   ]
  },
  {
   "cell_type": "code",
   "execution_count": 13,
   "metadata": {
    "collapsed": false
   },
   "outputs": [],
   "source": [
    "x02 = np.array(opt1.x)\n",
    "opt2 = PyBC_opt_dh(fi, fc, ndof, x02, wn, Vin, md)\n",
    "Q02 =opt2.getBCtimeseries()\n",
    "#from opt1. routine: sumQ = 16.252167, x[0] = 4.526393, Dt = 8.571429, T = 60.000000"
   ]
  },
  {
   "cell_type": "code",
   "execution_count": 14,
   "metadata": {
    "collapsed": false
   },
   "outputs": [
    {
     "name": "stdout",
     "output_type": "stream",
     "text": [
      "15\n",
      "0\n",
      "120.005333333\n",
      "[ 0.  0.  0.  0.  0.  0.  0.  0.  0.  0.  0.  0.  0.  0.  0.]\n",
      "2.92446900093\n",
      "2.92446900093\n",
      "0.0\n",
      "../indata/dhoptimization.inp\n",
      "../indata/dhoptimization.config\n"
     ]
    },
    {
     "data": {
      "image/png": "[encoded data removed]",
      "text/plain": [
       "<matplotlib.figure.Figure at 0x110d3b750>"
      ]
     },
     "metadata": {},
     "output_type": "display_data"
    }
   ],
   "source": [
    "plot(Q02)\n",
    "print ndof\n",
    "print md\n",
    "print Vin\n",
    "print np.array(opt1.x)-np.array(opt2.x)\n",
    "opt1.compute_f()\n",
    "print opt1.f\n",
    "opt2.compute_f()\n",
    "print opt2.f\n",
    "print norm(np.array(opt1.r)-np.array(opt2.r))\n",
    "print fi\n",
    "print fc"
   ]
  },
  {
   "cell_type": "code",
   "execution_count": 15,
   "metadata": {
    "collapsed": false
   },
   "outputs": [],
   "source": [
    "#make a place to put the data\n",
    "import os\n",
    "lucky = 1e6  #you feeling lucky today pal? use this to use include a random number in filename to ensure you don't write over old data\n",
    "kk = np.int(lucky*np.random.rand())\n",
    "#where = \"../dhdx_results_ndof%d_wavespeed_%03.f_improvement_%f/\"%(ndof,n0.a[0],ff/f0)\n",
    "#where = \"/Users/lieba/Desktop/dhdx_case%d_ndof%d_M%dimprovement_%f/\"%(case,ndof,opt1.M,ff/f0)\n",
    "where = \"/Users/lieba/Desktop/dhdx_case%d_ndof%d_M%d_start_with%d_impr%f/\"%(case,ndof,opt1.M,Mstart,ff/f0)\n",
    "if not os.path.exists(where):\n",
    "    os.makedirs(where)"
   ]
  },
  {
   "cell_type": "code",
   "execution_count": 16,
   "metadata": {
    "collapsed": false
   },
   "outputs": [
    {
     "data": {
      "image/png": "[encoded data removed]",
      "text/plain": [
       "<matplotlib.figure.Figure at 0x138898050>"
      ]
     },
     "metadata": {},
     "output_type": "display_data"
    }
   ],
   "source": [
    "#plot the boundary time series before and after optimization\n",
    "rc('text', usetex=True)\n",
    "rc('font', family='serif')\n",
    "ff = opt1.f\n",
    "Q01 = opt1.getBCtimeseries()\n",
    "t = np.linspace(0,opt1.T, opt1.M+1)\n",
    "fig,ax = plt.subplots(nrows = 1)\n",
    "ax.plot(t,Q0orig,'k:', linewidth = 2)#,t,np.zeros(opt1.M+1),'r')\n",
    "ax.plot(t,Q01,'g', linewidth = 2)\n",
    "ax.set_ylabel('Q1(t)')\n",
    "s0 = \"%.3e\"%f0\n",
    "sf = \"%.3e\"%ff\n",
    "w0 = s0.find('e')\n",
    "wf = sf.find('e')\n",
    "p0 = int(s0[w0+2:])\n",
    "pf = int(sf[wf+2:])\n",
    "legend([r'original, f=%.4f'%f0,'final, f=%.4f'%ff])\n",
    "#legend([r'original, $f = %s\\times10^%1.d$'%(s0[0:w0],p0), r'optimized,$f = %s\\times10^%1.d$'%(sf[0:wf],pf)], loc = 'upper right')\n",
    "ax.set_xlabel('t (s)')\n",
    "#title('difference is %.6e'% norm(np.array(Q0orig)-np.array(Q01)))\n",
    "title('M= %d'%M)\n",
    "savefig(where+\"case%d_opt_Q_nodf%d_M%d.eps\"%(case,ndof,M), format='eps')"
   ]
  },
  {
   "cell_type": "code",
   "execution_count": 17,
   "metadata": {
    "collapsed": false
   },
   "outputs": [
    {
     "data": {
      "image/png": "[encoded data removed]",
      "text/plain": [
       "<matplotlib.figure.Figure at 0x138885e90>"
      ]
     },
     "metadata": {},
     "output_type": "display_data"
    }
   ],
   "source": [
    "#plot <dH/dx> as a function of time for each bc time series\n",
    "n2 = PyNetwork(fi, fc, mtype)\n",
    "\n",
    "n3 = PyNetwork(fi,fc, mtype)\n",
    "n2.setbVal(0,Q0orig)\n",
    "n3.setbVal(0,Q01)\n",
    "n2.runForwardProblem(dt)\n",
    "n3.runForwardProblem(dt)\n",
    "xf = opt1.x\n",
    "Hbar2 = [n2.getAveGradH(i) for i in range(n0.M+1)]\n",
    "Hbar3 = [n3.getAveGradH(i) for i in range(n0.M+1)]\n",
    "plot(t,Hbar2, 'k', t,Hbar3,'g', linewidth=2)\n",
    "ax = gca()\n",
    "legend(['original', 'optimized'], loc = 'upper left')\n",
    "ax.set_xlabel('t (s)')\n",
    "ax.set_ylabel(r\"$\\langle dH/dx \\rangle$\")\n",
    "title('M= %d'%M)\n",
    "savefig(where+\"case%d_opt_dh_nodf%d_M%d.eps\"%(case,ndof,M), format='eps')\n"
   ]
  },
  {
   "cell_type": "code",
   "execution_count": 18,
   "metadata": {
    "collapsed": false
   },
   "outputs": [
    {
     "name": "stdout",
     "output_type": "stream",
     "text": [
      "2.94330131746\n",
      "2.92446900093\n",
      "120.011055356\n",
      "120.011057102\n"
     ]
    },
    {
     "data": {
      "text/plain": [
       "120.00533353322609"
      ]
     },
     "execution_count": 18,
     "metadata": {},
     "output_type": "execute_result"
    },
    {
     "data": {
      "image/png": "[encoded data removed]",
      "text/plain": [
       "<matplotlib.figure.Figure at 0x128d39350>"
      ]
     },
     "metadata": {},
     "output_type": "display_data"
    }
   ],
   "source": [
    "print sum([abs(hi) for hi in Hbar2])/(2.*M)\n",
    "print sum([abs(hi) for hi in Hbar3])/(2.*M)\n",
    "Q022 = opt2.getBCTimeSeries2()\n",
    "plot(Q022)\n",
    "plot(Q02)\n",
    "print sum(Q0orig)*dt\n",
    "print sum(Q01)*dt\n",
    "plot(Q01)\n",
    "import scipy\n",
    "scipy.trapz(Q01,linspace(0,T,M+1))\n"
   ]
  },
  {
   "cell_type": "code",
   "execution_count": 19,
   "metadata": {
    "collapsed": false
   },
   "outputs": [
    {
     "name": "stdout",
     "output_type": "stream",
     "text": [
      "results saved to /Users/lieba/Desktop/dhdx_case1_ndof15_M22500_start_with15000_impr0.993602/\n"
     ]
    }
   ],
   "source": [
    "#save results to a labeled folder \n",
    "with open(where+\"more_info.txt\",'w') as fout:\n",
    "    fout.write(\"data (Q0, Qf) pickled to Q0.p and Qf.p\\n\\n\")\n",
    "    fout.write(\"to generate whole history, load them and run:\\n\\\n",
    "                n0 = PyNetwork(fi,fc, 1)\\n\\\n",
    "                n0.setbVal(0,Q)\\n\\\n",
    "                n0.runForwardProblem(dt)\\n\\\n",
    "                for Q = Q00 or Q = Qf\\n\\n\")\n",
    "    fout.write(\"***************************************************************\\n\")\n",
    "    fout.write( \"interpolation   CPU solve t  actual solve t    f0             ff            ff/f0      Vin   \\n\")  \n",
    "    fout.write( \"%s         %.2f    %.2f     %e     %e    %.5f   %.2f\\n\"%(opt1.modetype,opt1.solve_t, opt1.wsolve_t,f0, ff, ff/f0, Vin))\n",
    "    fout.write(\"***************************************************************\\n\")\n",
    "    fout.write(\"x0                   xf\\n\")\n",
    "    for i in range(len(x0)):\n",
    "        fout.write(\"%.15f    %.15f\\n\"%(x0[i],xf[i]))\n",
    "import shutil\n",
    "shutil.copy(fi,where)\n",
    "shutil.copy(fc,where)\n",
    "import pickle\n",
    "pickle.dump(Q00, open(where+\"Q0.p\", \"wb\"))\n",
    "pickle.dump(Q01, open(where+\"Qf.p\", \"wb\"))\n",
    "print \"results saved to %s\"%where"
   ]
  },
  {
   "cell_type": "code",
   "execution_count": 20,
   "metadata": {
    "collapsed": false
   },
   "outputs": [
    {
     "name": "stdout",
     "output_type": "stream",
     "text": [
      "CPU solve t  actual solve t    ff/f0\n",
      " 6775.48         912.94         0.99360\n"
     ]
    }
   ],
   "source": [
    "print \"CPU solve t  actual solve t    ff/f0\"  \n",
    "print \" %.2f         %.2f         %.5f\"%(opt1.solve_t, opt1.wsolve_t,ff/f0)"
   ]
  },
  {
   "cell_type": "code",
   "execution_count": 21,
   "metadata": {
    "collapsed": false
   },
   "outputs": [
    {
     "data": {
      "text/plain": [
       "22500"
      ]
     },
     "execution_count": 21,
     "metadata": {},
     "output_type": "execute_result"
    }
   ],
   "source": [
    "M"
   ]
  },
  {
   "cell_type": "code",
   "execution_count": null,
   "metadata": {
    "collapsed": true
   },
   "outputs": [],
   "source": []
  },
  {
   "cell_type": "code",
   "execution_count": null,
   "metadata": {
    "collapsed": true
   },
   "outputs": [],
   "source": []
  }
 ],
 "metadata": {
  "kernelspec": {
   "display_name": "Python 2",
   "language": "python",
   "name": "python2"
  },
  "language_info": {
   "codemirror_mode": {
    "name": "ipython",
    "version": 2
   },
   "file_extension": ".py",
   "mimetype": "text/x-python",
   "name": "python",
   "nbconvert_exporter": "python",
   "pygments_lexer": "ipython2",
   "version": "2.7.10"
  }
 },
 "nbformat": 4,
 "nbformat_minor": 0
}
