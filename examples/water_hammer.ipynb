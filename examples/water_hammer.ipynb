{
 "cells": [
  {
   "cell_type": "code",
   "execution_count": 28,
   "metadata": {
    "collapsed": false
   },
   "outputs": [
    {
     "name": "stdout",
     "output_type": "stream",
     "text": [
      "Populating the interactive namespace from numpy and matplotlib\n"
     ]
    }
   ],
   "source": [
    "from allthethings import PyNetwork, PyPipe_ps\n",
    "from allthethings import PyBC_opt_dh\n",
    "import numpy as np\n",
    "import matplotlib.pyplot as plt\n",
    "%pylab inline"
   ]
  },
  {
   "cell_type": "code",
   "execution_count": 54,
   "metadata": {
    "collapsed": false
   },
   "outputs": [],
   "source": [
    "fi = \"indata/waterhammer.inp\"\n",
    "fc = \"indata/waterhammer.config\"\n",
    "mtype = 1\n",
    "n1 = PyNetwork(fi,fc,mtype)\n",
    "M = n1.M\n",
    "N = n1.Ns[0]\n",
    "L = n1.Ls[0]\n",
    "a = n1.a[0]\n",
    "T1 =n1.T\n",
    "D = n1.Ds[0]\n",
    "p1 = PyPipe_ps(N, D, L, M, a)\n",
    "dt = T1/M\n"
   ]
  },
  {
   "cell_type": "code",
   "execution_count": 55,
   "metadata": {
    "collapsed": false
   },
   "outputs": [],
   "source": [
    "n1.runForwardProblem(dt)"
   ]
  },
  {
   "cell_type": "code",
   "execution_count": 56,
   "metadata": {
    "collapsed": false
   },
   "outputs": [],
   "source": [
    "q = n1.q(0)\n",
    "h = n1.getHofA(0)\n",
    "qhist = n1.qhist(0)"
   ]
  },
  {
   "cell_type": "code",
   "execution_count": 57,
   "metadata": {
    "collapsed": true
   },
   "outputs": [],
   "source": [
    "def idx_t(i,j,n):\n",
    "    return (2*(N+2)*n+(N+2)*i+j)"
   ]
  },
  {
   "cell_type": "code",
   "execution_count": 75,
   "metadata": {
    "collapsed": false
   },
   "outputs": [
    {
     "name": "stdout",
     "output_type": "stream",
     "text": [
      "0.600025462176\n",
      "Af =0.196350 \n",
      "dH/dV = 122.448959\n",
      "a/g = 122.448980\n",
      "||dH/dV-a/g || = 0.000020\n"
     ]
    },
    {
     "data": {
      "image/png": "[encoded data removed]",
      "text/plain": [
       "<matplotlib.figure.Figure at 0x11b24f710>"
      ]
     },
     "metadata": {},
     "output_type": "display_data"
    }
   ],
   "source": [
    "\n",
    "T1 = n1.T\n",
    "t = linspace(0,T1, M+1)\n",
    "n7 = 599\n",
    "#A0 = 150\n",
    "#A0 = p1.AofH(150,True)\n",
    "A0 = qhist[idx_t(0,n7,0)]\n",
    "H0 = p1.Eta(A0,True)/A0;\n",
    "Q0 = qhist[idx_t(1,n7,0)]\n",
    "g = 9.8\n",
    "#A = [p1.HofA(qhist[idx_t(0,n7,n)], True)/(A0) for n in range(M+1)]\n",
    "H = [p1.Eta(qhist[idx_t(0,n7,n)], True)/(Af*H0) for n in range(M+1)]\n",
    "Q = [qhist[idx_t(1,0,n)]/Q0 for n in range(M+1)]\n",
    "Q2 = [qhist[idx_t(1,5,n)] for n in range(M+1)]\n",
    "#P0 = [p1.HofA(qhist[idx_t(0,0,n)], False) for n in range(M+1)]\n",
    "\n",
    "rc('text', usetex=True)        #for tex rendering. \n",
    "rc('font', family='serif')     #for pretty font \n",
    "print dt/n1.Ls[0]*n1.Ns[0]*n1.cmax[0]\n",
    "fig = plt.figure(figsize=(10,3))\n",
    "ax = fig.add_subplot(111)\n",
    "Af =.25**2*np.pi\n",
    "print \"Af =%f \"%Af\n",
    "dH = (max(H)-min(H[0:-2]))*H0/g\n",
    "dV = 2*Q0/Af\n",
    "print \"dH/dV = %f\" %(dH/dV)\n",
    "print \"a/g = %f\" %(a/9.8)\n",
    "ax.plot(t,H,linewidth=2)\n",
    "ax.plot(t,Q,'--',lw=2)\n",
    "ax.set_xlabel('t (s)')\n",
    "ax.set_ylim((-1.65,1.5))\n",
    "ax.legend([r'$H/H_0$',r'$Q/Q_0$'],loc = 'lower left', ncol=2)#bbox_to_anchor=(0., 1.02, 1., .102), loc=3,\n",
    "#           ncol=2, borderaxespad=0.)\n",
    "#title(\"|dH/dV - a/g| = %.4f\" %(fabs(dH/dV-a/9.8)))\n",
    "savefig(\"../waterhammergood.eps\", format='eps')\n",
    "print \"||dH/dV-a/g || = %f\" %abs(dH/dV-a/g) "
   ]
  },
  {
   "cell_type": "code",
   "execution_count": 59,
   "metadata": {
    "collapsed": false
   },
   "outputs": [
    {
     "name": "stdout",
     "output_type": "stream",
     "text": [
      "0.6\n"
     ]
    }
   ],
   "source": [
    "dx = n1.Ls[0]/n1.Ns[0]\n",
    "print dt/dx*n1.a[0]"
   ]
  },
  {
   "cell_type": "code",
   "execution_count": 60,
   "metadata": {
    "collapsed": false
   },
   "outputs": [
    {
     "name": "stdout",
     "output_type": "stream",
     "text": [
      "149.993230006\n",
      "0.196369661032\n"
     ]
    }
   ],
   "source": [
    "print H0\n",
    "print p1.AofH(15.557,True)"
   ]
  },
  {
   "cell_type": "code",
   "execution_count": 63,
   "metadata": {
    "collapsed": false
   },
   "outputs": [
    {
     "name": "stdout",
     "output_type": "stream",
     "text": [
      "1.40756608642\n",
      "0.0199999974405\n"
     ]
    }
   ],
   "source": [
    "print max(H)\n",
    "print (max(Q)-min(Q))*Q0"
   ]
  },
  {
   "cell_type": "code",
   "execution_count": 62,
   "metadata": {
    "collapsed": false
   },
   "outputs": [
    {
     "name": "stdout",
     "output_type": "stream",
     "text": [
      "0.592656134561\n"
     ]
    }
   ],
   "source": [
    "print min(H)"
   ]
  },
  {
   "cell_type": "code",
   "execution_count": 40,
   "metadata": {
    "collapsed": true
   },
   "outputs": [],
   "source": [
    "H = np.array([p1.Eta(qhist[idx_t(0,n7,n)], True)/(qhist[idx_t(0,n7,n)]) for n in range(M+1)])"
   ]
  },
  {
   "cell_type": "code",
   "execution_count": null,
   "metadata": {
    "collapsed": false
   },
   "outputs": [],
   "source": []
  },
  {
   "cell_type": "code",
   "execution_count": 41,
   "metadata": {
    "collapsed": false
   },
   "outputs": [],
   "source": [
    "dH = max(H)-min(H)"
   ]
  },
  {
   "cell_type": "code",
   "execution_count": 42,
   "metadata": {
    "collapsed": false
   },
   "outputs": [
    {
     "name": "stdout",
     "output_type": "stream",
     "text": [
      "76.0096822281\n"
     ]
    }
   ],
   "source": [
    "print dH/dV/9.8"
   ]
  },
  {
   "cell_type": "code",
   "execution_count": 43,
   "metadata": {
    "collapsed": false
   },
   "outputs": [
    {
     "name": "stdout",
     "output_type": "stream",
     "text": [
      "122.448979592\n"
     ]
    }
   ],
   "source": [
    "print a/9.8"
   ]
  },
  {
   "cell_type": "code",
   "execution_count": 44,
   "metadata": {
    "collapsed": false
   },
   "outputs": [
    {
     "name": "stdout",
     "output_type": "stream",
     "text": [
      "0.379254261804\n"
     ]
    }
   ],
   "source": [
    "print (a/9.8-dH/dV/9.8)/(a/9.8)"
   ]
  },
  {
   "cell_type": "code",
   "execution_count": 45,
   "metadata": {
    "collapsed": false
   },
   "outputs": [
    {
     "data": {
      "text/plain": [
       "150.00860000009277"
      ]
     },
     "execution_count": 45,
     "metadata": {},
     "output_type": "execute_result"
    }
   ],
   "source": [
    "p1.Eta(p1.AofH(15.557,True),True)/Af"
   ]
  },
  {
   "cell_type": "code",
   "execution_count": null,
   "metadata": {
    "collapsed": true
   },
   "outputs": [],
   "source": []
  }
 ],
 "metadata": {
  "kernelspec": {
   "display_name": "Python 2",
   "language": "python",
   "name": "python2"
  },
  "language_info": {
   "codemirror_mode": {
    "name": "ipython",
    "version": 2
   },
   "file_extension": ".py",
   "mimetype": "text/x-python",
   "name": "python",
   "nbconvert_exporter": "python",
   "pygments_lexer": "ipython2",
   "version": "2.7.10"
  }
 },
 "nbformat": 4,
 "nbformat_minor": 0
}
