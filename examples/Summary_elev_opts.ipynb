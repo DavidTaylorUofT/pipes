{
 "cells": [
  {
   "cell_type": "code",
   "execution_count": 1,
   "metadata": {
    "collapsed": false
   },
   "outputs": [
    {
     "name": "stdout",
     "output_type": "stream",
     "text": [
      "Populating the interactive namespace from numpy and matplotlib\n"
     ]
    }
   ],
   "source": [
    "import sys\n",
    "sys.path.append(\"..\")\n",
    "from allthethings import PyNetwork, PyPipe_ps\n",
    "from allthethings import PyBC_opt_dh\n",
    "import numpy as np\n",
    "import matplotlib.pyplot as plt\n",
    "%pylab inline\n",
    "from scipy import optimize\n",
    "from writeit import rewritePipes"
   ]
  },
  {
   "cell_type": "code",
   "execution_count": 2,
   "metadata": {
    "collapsed": true
   },
   "outputs": [],
   "source": [
    "def idx_t(i,j,n,N):\n",
    "    return (2*(N+2)*n+(N+2)*i+j)"
   ]
  },
  {
   "cell_type": "code",
   "execution_count": 3,
   "metadata": {
    "collapsed": true
   },
   "outputs": [],
   "source": [
    "efs3 = [(8.9381271260359245,7.630651190977825,6.7159547268865341,\n",
    "6.9738486035512617, 7.9573769268773953, 9.0219969015283947),\n",
    "       (8.8243783531405349,7.5344073470672601,6.5902105793246486,\n",
    "8.9248285077595746, 9.3892931083845959, 9.6926128162354566),\n",
    "       (8.7367567246589495,7.4103824075236799,6.6173529607348094,\n",
    "7.5105239547305445, 8.443248306246991, 9.219006907136631),\n",
    "       (9.0227632008125127,7.6926086616255906,6.7518615008119616,\n",
    "7.0158885390239325, 8.024216900028474, 9.0069885818761133),\n",
    "        (8.75512982,  7.44330083,  6.54405584,  7.05562264,  8.11023126,\n",
    "        9.05479754)]\n",
    "ef0s3 = [(9,8,7,7,8,9),(10,7,8,11,8.5,8.5),(9,5,7,11,10,9),(8,9,6,5,7,9),(8.5, 9, 7.5, 8, 9, 11)]\n",
    "fi = [77074.919455,112655.831073,110580.174190,94608.944936,90337.059934]\n",
    "ff = [76822.339443, 77378.352009,76951.906317,76844.979712,76820.739246757774]"
   ]
  },
  {
   "cell_type": "code",
   "execution_count": 4,
   "metadata": {
    "collapsed": false
   },
   "outputs": [],
   "source": [
    "case = 1\n",
    "\n",
    "Mi = 10\n",
    "Nt = 1\n",
    "Nstar = 1\n",
    "Np  =8\n",
    "Nn = 9\n",
    "L = 10\n",
    "T = 24\n",
    "a = 100\n",
    "D = .1\n",
    "Ltot = 48\n",
    "Mr = 0.007\n",
    "Qin = 0.0087\n",
    "p0 = PyPipe_ps(10,D,Ltot,10,a)\n",
    "h0 = p0.HofA(0.01*D*D*pi/4.,False)\n",
    "if case ==1:\n",
    "    Np =6\n",
    "    Nn = Np+1\n",
    "    oldinp = \"../indata/DFDpleasework7.inp\"\n",
    "    e0,e1,e2,e3 =[7.5, 6.5, 7.5, 8.5]\n",
    "    e0,e1,e2,e3 =[8.7409181741445288, 6.4482813556630605, 7.8603789169278508, 7.8071324922307346]\n",
    "    elevs = [10,e0,e1,6,e2,e3,10]\n",
    "    Nn = len(elevs)\n",
    "    L = Ltot/float(Np)\n",
    "    N = int(L)\n",
    "    dx = L/float(N)\n",
    "    M = max(int(T*a/(dx*.8))*5,1)\n",
    "    dt = T/float(M)\n",
    "    Ns = [N]*Np\n",
    "    Ls = [L]*Np\n",
    "    Mrs = [Mr]*Np  #manning roughness coeffs\n",
    "    Ds = [D]*Np      #pipe diameter (m) \n",
    "    h0s = [h0]*Np    #IC for h\n",
    "    q0s = [0]*Np    #IC for Q\n",
    "    jt = [1]+[2]*(Nn-2)+[1]  #for DFDpleasework2.inp\n",
    "    bt = [1]*Nn\n",
    "    bv = [0]+[1]*(Nn-1)\n",
    "    r =  [0]+[1]*(Nn-2)+[1]\n",
    "    \n",
    "\n",
    "fn = \"../indata/DFD_crap\"\n",
    "\n",
    "(fi, fc) = rewritePipes(fn,oldinp, Ns, Ls, Mrs, Ds, jt, bt, bv, r, h0s, q0s, T, M, a, elevs)\n",
    "n1 = PyNetwork(fi,fc,1)\n",
    "Q00 = Qin*np.ones(M+1)\n",
    "n1.setbVal(0,Q00)\n"
   ]
  },
  {
   "cell_type": "code",
   "execution_count": 5,
   "metadata": {
    "collapsed": true
   },
   "outputs": [],
   "source": [
    "n1.runForwardProblem(dt)"
   ]
  },
  {
   "cell_type": "code",
   "execution_count": 6,
   "metadata": {
    "collapsed": false
   },
   "outputs": [
    {
     "name": "stdout",
     "output_type": "stream",
     "text": [
      "28572.1049899\n"
     ]
    }
   ],
   "source": [
    "print (sum([n1.getAveGradH(i) for i in range(M+1)]))"
   ]
  },
  {
   "cell_type": "code",
   "execution_count": 10,
   "metadata": {
    "collapsed": false
   },
   "outputs": [
    {
     "name": "stdout",
     "output_type": "stream",
     "text": [
      "Using Hermite modes\n",
      "0.00393649870568\n"
     ]
    },
    {
     "data": {
      "image/png": "[encoded data removed]",
      "text/plain": [
       "<matplotlib.figure.Figure at 0x1054bcf50>"
      ]
     },
     "metadata": {},
     "output_type": "display_data"
    }
   ],
   "source": [
    "ndof = 7\n",
    "x0 = np.zeros(ndof)\n",
    "#x0[0] = q0s[0]\n",
    "for k in range(ndof/2):\n",
    "    x0[2*k+1]=Qin\n",
    "wn =0\n",
    "#x0 = np.array([-0.00020307339245325895, 0.008490629195457455, 0.0009253416251179748,0.009677741661820796, 0.0015352015270792105, 0.009917824124532194, -0.003963271068308179])\n",
    "x0 =np.array([-0.001588089210705911, 0.008777164931212892, -0.0017525333453959123, 0.008388792963416304, -0.00032168574174775186, 0.009635039432584236, -0.004810498765067617])\n",
    "Vin =Qin*T\n",
    "opt1 = PyBC_opt_dh(fi, fc, ndof, x0, wn,Vin,0)\n",
    "print \"Using %s modes\" %opt1.modetype\n",
    "bval = opt1.getBCtimeseries()\n",
    "plot(bval)\n",
    "print bval[0]"
   ]
  },
  {
   "cell_type": "code",
   "execution_count": 9,
   "metadata": {
    "collapsed": false
   },
   "outputs": [
    {
     "name": "stdout",
     "output_type": "stream",
     "text": [
      "f is 23897.403110\n",
      "T is 24.000000\n"
     ]
    }
   ],
   "source": [
    "opt1.compute_f()\n",
    "f0 = opt1.f\n",
    "print \"f is %f\" %opt1.f\n",
    "print \"T is %f\" %opt1.T\n"
   ]
  },
  {
   "cell_type": "code",
   "execution_count": 22,
   "metadata": {
    "collapsed": false
   },
   "outputs": [],
   "source": [
    "opt1.solve()"
   ]
  },
  {
   "cell_type": "code",
   "execution_count": 23,
   "metadata": {
    "collapsed": false,
    "scrolled": true
   },
   "outputs": [
    {
     "name": "stdout",
     "output_type": "stream",
     "text": [
      "[10, 8.740918174144529, 6.4482813556630605, 6, 7.860378916927851, 7.807132492230735, 10]\n",
      "[ 0.      0.0087  0.      0.0087  0.      0.0087  0.    ]\n",
      "[-0.001588089210705911, 0.008777164931212892, -0.0017525333453959123, 0.008388792963416304, -0.00032168574174775186, 0.009635039432584236, -0.004810498765067617]\n",
      "f_0 = 23897.403110, f_f = 2259.081636, f_f/f_0 = 0.094533\n"
     ]
    }
   ],
   "source": [
    "print elevs\n",
    "print x0\n",
    "print opt1.x\n",
    "print \"f_0 = %f, f_f = %f, f_f/f_0 = %f\"%(f0,opt1.f,opt1.f/f0)"
   ]
  },
  {
   "cell_type": "code",
   "execution_count": 11,
   "metadata": {
    "collapsed": false
   },
   "outputs": [
    {
     "data": {
      "text/plain": [
       "[<matplotlib.lines.Line2D at 0x111fd5250>]"
      ]
     },
     "execution_count": 11,
     "metadata": {},
     "output_type": "execute_result"
    },
    {
     "data": {
      "image/png": "[encoded data removed]",
      "text/plain": [
       "<matplotlib.figure.Figure at 0x10b87c4d0>"
      ]
     },
     "metadata": {},
     "output_type": "display_data"
    }
   ],
   "source": [
    "bval = opt1.getBCtimeseries()\n",
    "plot(bval)"
   ]
  },
  {
   "cell_type": "code",
   "execution_count": 18,
   "metadata": {
    "collapsed": false
   },
   "outputs": [],
   "source": [
    "n1 = PyNetwork(fi,fc,1)"
   ]
  },
  {
   "cell_type": "code",
   "execution_count": 19,
   "metadata": {
    "collapsed": false
   },
   "outputs": [],
   "source": [
    "n1.setbVal(0,bval)\n",
    "Ain = 0.0087*ones(M+1)\n",
    "#A00 = 0.01*D*D*pi/4.*np.ones(Ns[0])\n",
    "#Q00 = np.zeros(Ns[0])\n",
    "#for k in range(0,Np):\n",
    "#    n1.setIC(k,A00,Q00)\n",
    "n1.setbVal(0,Ain)\n",
    "dt = n1.T/float(n1.M)\n",
    "V0 = n1.getTotalVolume()"
   ]
  },
  {
   "cell_type": "code",
   "execution_count": 20,
   "metadata": {
    "collapsed": false
   },
   "outputs": [],
   "source": [
    "n1.runForwardProblem(dt)"
   ]
  },
  {
   "cell_type": "code",
   "execution_count": 7,
   "metadata": {
    "collapsed": false
   },
   "outputs": [
    {
     "data": {
      "text/plain": [
       "<matplotlib.legend.Legend at 0x108f804d0>"
      ]
     },
     "execution_count": 7,
     "metadata": {},
     "output_type": "execute_result"
    },
    {
     "data": {
      "image/png": "[encoded data removed]",
      "text/plain": [
       "<matplotlib.figure.Figure at 0x10301f990>"
      ]
     },
     "metadata": {},
     "output_type": "display_data"
    }
   ],
   "source": [
    "from matplotlib import cm\n",
    "import matplotlib.colors as colors  \n",
    "cNorm  = colors.Normalize(vmin=0, vmax=Np+1)\n",
    "scalarMap = cm.ScalarMappable(norm=cNorm, cmap=cm.get_cmap('ocean'))\n",
    "Mi = 10\n",
    "m = 0\n",
    "t = linspace(0,T,M/Mi)\n",
    "Hs =np.ndarray((Np,M/Mi*Nt))\n",
    "for j in range(Np):\n",
    "    N = n1.Ns[j]\n",
    "    p0 = PyPipe_ps(N,n1.Ds[j], n1.Ls[j],M,a)\n",
    "    qh = n1.qhist(j)\n",
    "    Htemp = [p0.pbar(qh[idx_t(0,Nstar,n,n1.Ns[j])],False) for n in range(1,M+1,Mi)]\n",
    "    Hs[j,m*(M/Mi):(M/Mi)*(m+1)] = Htemp\n",
    "    plot(t,Hs[j,:], color = scalarMap.to_rgba(j), label = '%d'%j)\n",
    "    title('dH = %f'%sum([n1.getAveGradH(i) for i in range(M+1)]))\n",
    "legend()\n"
   ]
  },
  {
   "cell_type": "code",
   "execution_count": 17,
   "metadata": {
    "collapsed": false
   },
   "outputs": [
    {
     "name": "stdout",
     "output_type": "stream",
     "text": [
      "0.2088\n",
      "0.00376931188082\n",
      "0.208810856543\n",
      "0.214951855578\n"
     ]
    }
   ],
   "source": [
    "print Vin\n",
    "print V0\n",
    "print sum(bval)*dt\n",
    "print n1.getTotalVolume()-V0"
   ]
  },
  {
   "cell_type": "code",
   "execution_count": 85,
   "metadata": {
    "collapsed": false
   },
   "outputs": [
    {
     "name": "stdout",
     "output_type": "stream",
     "text": [
      "0.158603619276\n"
     ]
    }
   ],
   "source": [
    "Q00 = x0[1]\n",
    "print Q00*T"
   ]
  },
  {
   "cell_type": "code",
   "execution_count": 8,
   "metadata": {
    "collapsed": false
   },
   "outputs": [
    {
     "name": "stdout",
     "output_type": "stream",
     "text": [
      "264489.325107\n"
     ]
    }
   ],
   "source": [
    "print sum([n1.getAveGradH(i) for i in range(M+1)])"
   ]
  },
  {
   "cell_type": "code",
   "execution_count": 87,
   "metadata": {
    "collapsed": false
   },
   "outputs": [
    {
     "name": "stdout",
     "output_type": "stream",
     "text": [
      "79150.2155557\n"
     ]
    }
   ],
   "source": [
    "print sum([n1.getAveGradH(i) for i in range(M+1)])"
   ]
  },
  {
   "cell_type": "code",
   "execution_count": 88,
   "metadata": {
    "collapsed": false
   },
   "outputs": [],
   "source": [
    "e0,e1,e2,e3,e4,e5,e6=(8.7981831100736905, 7.5383846965114314, 6.6122455959638113, 6.7449211689495092, 7.4885904774335481, 8.3439731634532635, 9.252878640650918)"
   ]
  },
  {
   "cell_type": "code",
   "execution_count": 89,
   "metadata": {
    "collapsed": true
   },
   "outputs": [],
   "source": [
    "elevs = [10,e0,e1,e2,6,e3,e4,e5,e6,10]"
   ]
  },
  {
   "cell_type": "code",
   "execution_count": 33,
   "metadata": {
    "collapsed": false
   },
   "outputs": [
    {
     "data": {
      "text/plain": [
       "(0, 12)"
      ]
     },
     "execution_count": 33,
     "metadata": {},
     "output_type": "execute_result"
    },
    {
     "data": {
      "image/png": "[encoded data removed]",
      "text/plain": [
       "<matplotlib.figure.Figure at 0x10c3d3290>"
      ]
     },
     "metadata": {},
     "output_type": "display_data"
    }
   ],
   "source": [
    "#Np = 9\n",
    "#Nn =10\n",
    "Ltot = 0\n",
    "E = elevs[0]\n",
    "xs = []\n",
    "\n",
    "\n",
    "fig,ax = plt.subplots(nrows=1, figsize=(15,5))\n",
    "\n",
    "for k in range(Nn-1):\n",
    "    L = n1.Ls[0]\n",
    "    x = linspace(0,L)\n",
    "    cval = scalarMap.to_rgba(k)\n",
    "    ax.plot(x+Ltot,x*(elevs[k+1]-elevs[k])/L+E,color = cval, lw = 2)\n",
    "    xs.append(Ltot)\n",
    "    Ltot+=L\n",
    "    E = elevs[k+1]\n",
    "xs.append(Ltot)\n",
    "gca().set_xticks(xs);\n",
    "gca().xaxis.grid(True)\n",
    "gca().set_xticklabels(arange(0,Nn+1));\n",
    "gca().set_ylim(0,12)"
   ]
  },
  {
   "cell_type": "code",
   "execution_count": 26,
   "metadata": {
    "collapsed": false
   },
   "outputs": [
    {
     "name": "stdout",
     "output_type": "stream",
     "text": [
      "[-0.0001066476701876127, 0.008652197074194894, -0.00014412284576527522, 0.0087011934889728, -0.0001255987679996523, 0.008664463809669733, 1.701696617699915e-05]\n"
     ]
    }
   ],
   "source": [
    "print opt1.x"
   ]
  },
  {
   "cell_type": "code",
   "execution_count": 22,
   "metadata": {
    "collapsed": false
   },
   "outputs": [
    {
     "name": "stdout",
     "output_type": "stream",
     "text": [
      "0.00328335033016\n"
     ]
    }
   ],
   "source": [
    "print h0"
   ]
  },
  {
   "cell_type": "code",
   "execution_count": null,
   "metadata": {
    "collapsed": true
   },
   "outputs": [],
   "source": []
  }
 ],
 "metadata": {
  "kernelspec": {
   "display_name": "Python 2",
   "language": "python",
   "name": "python2"
  },
  "language_info": {
   "codemirror_mode": {
    "name": "ipython",
    "version": 2
   },
   "file_extension": ".py",
   "mimetype": "text/x-python",
   "name": "python",
   "nbconvert_exporter": "python",
   "pygments_lexer": "ipython2",
   "version": "2.7.10"
  }
 },
 "nbformat": 4,
 "nbformat_minor": 0
}
