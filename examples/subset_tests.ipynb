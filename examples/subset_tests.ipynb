{
 "cells": [
  {
   "cell_type": "code",
   "execution_count": 1,
   "metadata": {
    "collapsed": false
   },
   "outputs": [
    {
     "name": "stdout",
     "output_type": "stream",
     "text": [
      "Populating the interactive namespace from numpy and matplotlib\n"
     ]
    }
   ],
   "source": [
    "import sys\n",
    "sys.path.append(\"..\")\n",
    "from allthethings import PyNetwork, PyPipe_ps\n",
    "from allthethings import PyBC_opt_dh\n",
    "import numpy as np\n",
    "import matplotlib.pyplot as plt\n",
    "%pylab inline\n",
    "from scipy import optimize\n",
    "from writeit import rewritePipes"
   ]
  },
  {
   "cell_type": "code",
   "execution_count": 2,
   "metadata": {
    "collapsed": true
   },
   "outputs": [],
   "source": [
    "def idx_t(i,j,n,N):\n",
    "    return (2*(N+2)*n+(N+2)*i+j)"
   ]
  },
  {
   "cell_type": "code",
   "execution_count": 8,
   "metadata": {
    "collapsed": false
   },
   "outputs": [
    {
     "name": "stdout",
     "output_type": "stream",
     "text": [
      "new files are ../indata/DFD_crap.inp and ../indata/DFD_crap.config\n",
      "[10, 10, 10, 10, 10]\n",
      "[10, 10, 10, 10, 10]\n"
     ]
    }
   ],
   "source": [
    "oldinp = \"../indata/DFDgoddamnit.inp\"\n",
    "fn = \"../indata/DFD_crap\"\n",
    "Mi = 10\n",
    "Nt = 1\n",
    "Nstar = 5\n",
    "Np  =5\n",
    "Nn = 6\n",
    "L = 10\n",
    "T = 20\n",
    "a = 100\n",
    "D = .1\n",
    "Ls = [L]*Np\n",
    "Ns = [int(l) for l in Ls]\n",
    "#jt = [1,3,1,3,1,3,1,1]#for DFDpleasework.inp\n",
    "jt = [1,2,3,1,2,1]    #forDFDgoddamnit.inp\n",
    "#jt = [1,2,2,2,2,2,2,1]\n",
    "bt = [1,1,1,1,1,1]\n",
    "bv = [0,0,0,0,0,0]\n",
    "r =  [0,0,0,0,0,0]\n",
    "r =  [0,-1,-1,-1,-1,-1]\n",
    "h0s = [0]*Np\n",
    "q0s = [0]*Np\n",
    "dx = [L/Ns[0]]\n",
    "Mrs = [0.015,.0015,.015,.015,.015]\n",
    "Mrs = [0.008,.008,.008,.008,.008]\n",
    "Mrs = [0.01]*Nn\n",
    "#Mrs = [0]*Nn\n",
    "elevs = [0]*Nn\n",
    "#elevs =[10,9,8,7,6,5,4,3]\n",
    "#elevs =[10, 9,8,5,6,4,4,3]\n",
    "#elevs = [10,9,8,7,6,5,4,3]\n",
    "#elevs = [10,9.5,9,8.5,8,7,6,3]\n",
    "elevs = [10, 9,8,7,8,10]\n",
    "elevs  =[10]*Nn\n",
    "Ds = [D,D,D,D,D]\n",
    "M = max(int(T*a/(max(dx)*.8))*5,1)\n",
    "Ls = [L]*Np\n",
    "(fi, fc) = rewritePipes(fn,oldinp, Ns, Ls, Mrs, Ds, jt, bt, bv, r, h0s, q0s, T, M, a, elevs)\n",
    "dt = T/float(M)\n",
    "Hs =np.zeros((M/Mi*Nt,sum(Ns)))#[H0(t0), H1(t0),,,H7(t0);H0(t1)...; ]\n",
    "Qs =np.zeros((M/Mi*Nt,sum(Ns)))\n",
    "Us =np.zeros((M/Mi*Nt,sum(Ns)))\n",
    "print Ls\n",
    "print Ns"
   ]
  },
  {
   "cell_type": "code",
   "execution_count": 9,
   "metadata": {
    "collapsed": false
   },
   "outputs": [
    {
     "name": "stdout",
     "output_type": "stream",
     "text": [
      "At time t = 0.000000\n",
      "Data from pipe 0\n",
      "A           Q\n",
      "0.000793    0.000000\n",
      "0.000793    0.000000\n",
      "0.000793    0.000000\n",
      "0.000793    0.000000\n",
      "0.000793    0.000000\n",
      "0.000793    0.000000\n",
      "0.000793    0.000000\n",
      "0.000793    0.000000\n",
      "0.000793    0.000000\n",
      "0.000793    0.000000\n",
      "Data from pipe 1\n",
      "A           Q\n",
      "0.000000    0.000000\n",
      "0.000000    0.000000\n",
      "0.000000    0.000000\n",
      "0.000000    0.000000\n",
      "0.000000    0.000000\n",
      "0.000000    0.000000\n",
      "0.000000    0.000000\n",
      "0.000000    0.000000\n",
      "0.000000    0.000000\n",
      "0.000000    0.000000\n",
      "Data from pipe 2\n",
      "A           Q\n",
      "0.000000    0.000000\n",
      "0.000000    0.000000\n",
      "0.000000    0.000000\n",
      "0.000000    0.000000\n",
      "0.000000    0.000000\n",
      "0.000000    0.000000\n",
      "0.000000    0.000000\n",
      "0.000000    0.000000\n",
      "0.000000    0.000000\n",
      "0.000000    0.000000\n",
      "Data from pipe 3\n",
      "A           Q\n",
      "0.000000    0.000000\n",
      "0.000000    0.000000\n",
      "0.000000    0.000000\n",
      "0.000000    0.000000\n",
      "0.000000    0.000000\n",
      "0.000000    0.000000\n",
      "0.000000    0.000000\n",
      "0.000000    0.000000\n",
      "0.000000    0.000000\n",
      "0.000000    0.000000\n",
      "Data from pipe 4\n",
      "A           Q\n",
      "0.000000    0.000000\n",
      "0.000000    0.000000\n",
      "0.000000    0.000000\n",
      "0.000000    0.000000\n",
      "0.000000    0.000000\n",
      "0.000000    0.000000\n",
      "0.000000    0.000000\n",
      "0.000000    0.000000\n",
      "0.000000    0.000000\n",
      "0.000000    0.000000\n"
     ]
    }
   ],
   "source": [
    "n1 = PyNetwork(fi,fc,1)\n",
    "Q00 = 0.0087\n",
    "j = 0\n",
    "p0 = PyPipe_ps(n1.Ns[j],n1.Ds[j], n1.Ls[j],M,a)\n",
    "Ain = p0.AofH(10.,False)\n",
    "Q0 = Q00*np.ones(M+1)\n",
    "A00 = Ain*np.ones(M+1)\n",
    "n1.setbVal(0,A00)\n",
    "A0 = 0.1*Ain*np.ones(Ns[0])\n",
    "Q0 = Q00*0*np.ones(Ns[0])\n",
    "#for k in range(1,Np):\n",
    "#    n1.setIC(0,A0,Q0)\n",
    "n1.setIC(0,A0,Q0)\n",
    "n1.showCurrentData()"
   ]
  },
  {
   "cell_type": "code",
   "execution_count": 10,
   "metadata": {
    "collapsed": false
   },
   "outputs": [
    {
     "name": "stderr",
     "output_type": "stream",
     "text": [
      "/Users/lieba/anaconda/lib/python2.7/site-packages/IPython/kernel/__main__.py:12: RuntimeWarning: invalid value encountered in double_scalars\n"
     ]
    }
   ],
   "source": [
    "Vs = [n1.getTotalVolume()]\n",
    "dHs = []\n",
    "for mm in range(Nt):\n",
    "    n1.runForwardProblem(dt)\n",
    "    for j in range(Np):\n",
    "        N = n1.Ns[j]\n",
    "        p0 = PyPipe_ps(N,n1.Ds[j], n1.Ls[j],M,a)\n",
    "        qh = n1.qhist(j)\n",
    "        for m in range(1,M+1,Mi):     \n",
    "            Htemp=[p0.pbar(qh[idx_t(0,k,m,N)],False) for k in range(1,N+1)]\n",
    "            #Qtemp = [qh[idx_t(1,k,m,N)] for k in range(1,N+1)]\n",
    "            Utemp = [qh[idx_t(1,k,m,N)]/max(0,qh[idx_t(0,k,m,N)]) for k in range(1,N+1)]\n",
    "            Hs[(m-1)/Mi+mm*(M/Mi),j*N:(j+1)*N] = Htemp\n",
    "            Us[(m-1)/Mi+mm*(M/Mi),j*N:(j+1)*N] = Utemp\n",
    "            #Qs[(m-1)/Mi+mm*(M/Mi),j*N:(j+1)*N] = Qtemp\n",
    "        #print Htemp\n",
    "    Vs.append(n1.getTotalVolume()) \n",
    "    dHs.append([n1.getAveGradH(i) for i in range(M+1)])\n",
    "    n1.reset()\n"
   ]
  },
  {
   "cell_type": "code",
   "execution_count": 11,
   "metadata": {
    "collapsed": false
   },
   "outputs": [
    {
     "name": "stdout",
     "output_type": "stream",
     "text": [
      "1250\n",
      "1250\n",
      "[[0 1]\n",
      " [1 2]\n",
      " [2 4]\n",
      " [2 3]\n",
      " [3 5]]\n",
      "(1250, 50)\n"
     ]
    }
   ],
   "source": [
    "print len(range(1,M+1,Mi))\n",
    "print M/Mi\n",
    "print n1.conn\n",
    "print shape(Hs)\n"
   ]
  },
  {
   "cell_type": "code",
   "execution_count": 12,
   "metadata": {
    "collapsed": false
   },
   "outputs": [
    {
     "name": "stdout",
     "output_type": "stream",
     "text": [
      "40.509852144\n",
      "20\n"
     ]
    }
   ],
   "source": [
    "m32gal=264.172052\n",
    "print (Vs[-1]-Vs[0])*m32gal\n",
    "\n",
    "print T*Nt"
   ]
  },
  {
   "cell_type": "code",
   "execution_count": 13,
   "metadata": {
    "collapsed": false
   },
   "outputs": [
    {
     "name": "stdout",
     "output_type": "stream",
     "text": [
      "0.153346471882\n",
      "(1250, 50)\n",
      "20\n",
      "[0.007930180963787689, 0.1612766528456089]\n"
     ]
    },
    {
     "data": {
      "image/png": "[encoded data removed]",
      "text/plain": [
       "<matplotlib.figure.Figure at 0x109768110>"
      ]
     },
     "metadata": {},
     "output_type": "display_data"
    }
   ],
   "source": [
    "m2psi = 1.42\n",
    "from matplotlib import cm\n",
    "import matplotlib.colors as colors  \n",
    "cNorm  = colors.Normalize(vmin=0, vmax=30)\n",
    "fig,ax = plt.subplots(nrows=Np, figsize=(15,10))\n",
    "scalarMap = cm.ScalarMappable(norm=cNorm, cmap=cm.get_cmap('ocean'))\n",
    "Ttot= T*Nt\n",
    "t=linspace(0,T*Nt,Nt*M/Mi)\n",
    "MM=M/Mi-1\n",
    "x = linspace(0,L,N)\n",
    "for n in range(0,1):\n",
    "    for j in range(0,Np):\n",
    "        ax[j].plot(t,m2psi*Hs[:,j*N+n], color = scalarMap.to_rgba(n), label = \"pipe %d\"%j)\n",
    "        #ax[j].plot(t,Us[:,j*N+n], color = scalarMap.to_rgba(n), label = \"pipe %d\"%j)\n",
    "        #ax[j].plot(x,Hs[n*740,j*N:(j+1)*N],color = scalarMap.to_rgba(n))\n",
    "        #ax[j].set_xlim((35,40))\n",
    "        #ax[j].set_ylim(0,1)\n",
    "        #xlim(0,50)\n",
    "#legend(ncol=3, loc = 'lower right')\n",
    "ylabel('p (psi)')\n",
    "xlabel('t (s)')\n",
    "ax[0].set_title('<dH/dx>=%f, Manning coeff=%.3f'%(mean(dHs), Mrs[0]))\n",
    "#ax[0].set_ylim(0,35)\n",
    "ax[0].set_ylabel('p(psi)')\n",
    "ax[Np-1].set_xlabel('x (m)')\n",
    "#ax[Np-1].set_xlabel('t(s)')\n",
    "print Vs[-1]-Vs[0]\n",
    "print shape(Hs)\n",
    "print T*Nt\n",
    "print Vs"
   ]
  },
  {
   "cell_type": "code",
   "execution_count": 14,
   "metadata": {
    "collapsed": false
   },
   "outputs": [
    {
     "name": "stdout",
     "output_type": "stream",
     "text": [
      "1248\n",
      "3624\n",
      "19.9839871898\n"
     ]
    },
    {
     "ename": "IndexError",
     "evalue": "index 3624 is out of bounds for axis 0 with size 1250",
     "output_type": "error",
     "traceback": [
      "\u001b[0;31m---------------------------------------------------------------------------\u001b[0m",
      "\u001b[0;31mIndexError\u001b[0m                                Traceback (most recent call last)",
      "\u001b[0;32m<ipython-input-14-33ea0905ce98>\u001b[0m in \u001b[0;36m<module>\u001b[0;34m()\u001b[0m\n\u001b[1;32m      5\u001b[0m \u001b[0;32mprint\u001b[0m \u001b[0mK2\u001b[0m\u001b[0;34m\u001b[0m\u001b[0m\n\u001b[1;32m      6\u001b[0m \u001b[0;32mprint\u001b[0m \u001b[0mt\u001b[0m\u001b[0;34m[\u001b[0m\u001b[0mK1\u001b[0m\u001b[0;34m]\u001b[0m\u001b[0;34m\u001b[0m\u001b[0m\n\u001b[0;32m----> 7\u001b[0;31m \u001b[0;32mprint\u001b[0m \u001b[0mt\u001b[0m\u001b[0;34m[\u001b[0m\u001b[0mK2\u001b[0m\u001b[0;34m]\u001b[0m\u001b[0;34m\u001b[0m\u001b[0m\n\u001b[0m\u001b[1;32m      8\u001b[0m \u001b[0mDeltaT\u001b[0m \u001b[0;34m=\u001b[0m \u001b[0mt\u001b[0m\u001b[0;34m[\u001b[0m\u001b[0mK1\u001b[0m\u001b[0;34m]\u001b[0m\u001b[0;34m-\u001b[0m\u001b[0mt\u001b[0m\u001b[0;34m[\u001b[0m\u001b[0mK2\u001b[0m\u001b[0;34m]\u001b[0m\u001b[0;34m\u001b[0m\u001b[0m\n\u001b[1;32m      9\u001b[0m \u001b[0;32mprint\u001b[0m \u001b[0mDeltaT\u001b[0m\u001b[0;34m\u001b[0m\u001b[0m\n",
      "\u001b[0;31mIndexError\u001b[0m: index 3624 is out of bounds for axis 0 with size 1250"
     ]
    }
   ],
   "source": [
    "dHdt_ = np.zeros(Np) \n",
    "K1 = M/Mi*Nt-2\n",
    "K2 = K1/2+3000\n",
    "print K1\n",
    "print K2\n",
    "print t[K1]\n",
    "print t[K2]\n",
    "DeltaT = t[K1]-t[K2]\n",
    "print DeltaT\n",
    "for i in range(Np):\n",
    "    dHdt_[i] = (Hs[K1,i*N+5]-Hs[K2,i*N+5])/(DeltaT)\n",
    "dHdt.append(dHdt_)\n",
    "MrVals.append(Mrs[0])"
   ]
  },
  {
   "cell_type": "code",
   "execution_count": 177,
   "metadata": {
    "collapsed": false
   },
   "outputs": [
    {
     "name": "stdout",
     "output_type": "stream",
     "text": [
      "[ 3.07152425  3.06998531  2.22067382  3.46938516  3.46800968]\n",
      "[[ 3.07152425  3.06998531  2.22067382  3.46938516  3.46800968]\n",
      " [ 3.05967147  3.05814764  2.51324511  3.4180937   3.41788122]\n",
      " [ 3.17806492  3.17653214  2.90891598  3.40020787  3.40081735]\n",
      " [ 3.46871754  3.46727538  3.43409583  3.543119    3.54366842]\n",
      " [ 3.66080167  3.6600785   3.70504426  3.67241826  3.67303884]]\n",
      "[ 3.06998531  3.05814764  3.17653214  3.46727538  3.6600785 ]\n",
      "[0.0, 0.001, 0.002, 0.004, 0.008]\n"
     ]
    },
    {
     "data": {
      "text/plain": [
       "<matplotlib.text.Text at 0x115366950>"
      ]
     },
     "execution_count": 177,
     "metadata": {},
     "output_type": "execute_result"
    },
    {
     "data": {
      "image/png": "[encoded data removed]",
      "text/plain": [
       "<matplotlib.figure.Figure at 0x10ed0c350>"
      ]
     },
     "metadata": {},
     "output_type": "display_data"
    }
   ],
   "source": [
    "#dHdt[-1] = dHdt_\n",
    "print dHdt[0]\n",
    "slopes = np.array(dHdt)\n",
    "print slopes\n",
    "print slopes[:,1]\n",
    "print MrVals\n",
    "for i in range(Np):\n",
    "    plot(MrVals,slopes[:,i])\n",
    "xlabel('Mr')\n",
    "ylabel('slope dH/dt at pressurization')"
   ]
  },
  {
   "cell_type": "code",
   "execution_count": 17,
   "metadata": {
    "collapsed": false
   },
   "outputs": [
    {
     "data": {
      "text/plain": [
       "(0, 0.1)"
      ]
     },
     "execution_count": 17,
     "metadata": {},
     "output_type": "execute_result"
    },
    {
     "data": {
      "image/png": "[encoded data removed]",
      "text/plain": [
       "<matplotlib.figure.Figure at 0x10f4e7690>"
      ]
     },
     "metadata": {},
     "output_type": "display_data"
    }
   ],
   "source": [
    "\n",
    "t = linspace(0,T*Nt,shape(Hs)[0])\n",
    "for j in range(Np):\n",
    "    plot(t,Hs[:,j*N+1],color = scalarMap.to_rgba(n))\n",
    "ylim(0,.1)"
   ]
  },
  {
   "cell_type": "code",
   "execution_count": 29,
   "metadata": {
    "collapsed": false
   },
   "outputs": [
    {
     "data": {
      "text/plain": [
       "(0, 11)"
      ]
     },
     "execution_count": 29,
     "metadata": {},
     "output_type": "execute_result"
    },
    {
     "data": {
      "image/png": "[encoded data removed]",
      "text/plain": [
       "<matplotlib.figure.Figure at 0x10d92c3d0>"
      ]
     },
     "metadata": {},
     "output_type": "display_data"
    }
   ],
   "source": [
    "Ltot = 0\n",
    "E = elevs[0]\n",
    "xs = []\n",
    "#fig,ax = plt.subplots(figsize=(15,5))\n",
    "for k in range(Nn-1):\n",
    "    L = n1.Ls[k]\n",
    "    x = linspace(0,L)\n",
    "    cval = scalarMap.to_rgba(k)\n",
    "    ax[1].plot(x+Ltot,x*(elevs[k+1]-elevs[k])/L+E,color = cval, lw = 2)\n",
    "    xs.append(Ltot)\n",
    "    Ltot+=L\n",
    "    E = elevs[k+1]\n",
    "xs.append(Ltot)\n",
    "#ax.set_xticks(xs);\n",
    "#ax.xaxis.grid(True)\n",
    "#ax.set_xticklabels(arange(0,Nn+1));\n",
    "ylabel('elevation (m)')\n",
    "xlabel('junction')\n",
    "ylim(0,11)"
   ]
  },
  {
   "cell_type": "code",
   "execution_count": 34,
   "metadata": {
    "collapsed": false
   },
   "outputs": [
    {
     "name": "stdout",
     "output_type": "stream",
     "text": [
      "a = 120.000000 m/s\n",
      "inflow volume = 42.13 gallons\n"
     ]
    }
   ],
   "source": [
    "m32gal=264.172052\n",
    "print \"a = %f m/s\" %a\n",
    "print \"inflow volume = %.2f gallons\"%((Vs[-1]-Vs[0])*m32gal)"
   ]
  },
  {
   "cell_type": "code",
   "execution_count": 14,
   "metadata": {
    "collapsed": false,
    "scrolled": true
   },
   "outputs": [
    {
     "name": "stdout",
     "output_type": "stream",
     "text": [
      "[[0 1]\n",
      " [1 2]\n",
      " [2 4]\n",
      " [2 3]\n",
      " [3 5]]\n"
     ]
    }
   ],
   "source": [
    "print n1.conn\n",
    "\n"
   ]
  },
  {
   "cell_type": "code",
   "execution_count": null,
   "metadata": {
    "collapsed": false
   },
   "outputs": [],
   "source": []
  },
  {
   "cell_type": "code",
   "execution_count": 152,
   "metadata": {
    "collapsed": false
   },
   "outputs": [
    {
     "name": "stdout",
     "output_type": "stream",
     "text": [
      "0.000115042548567\n"
     ]
    },
    {
     "data": {
      "text/plain": [
       "[<matplotlib.lines.Line2D at 0x10991c510>]"
      ]
     },
     "execution_count": 152,
     "metadata": {},
     "output_type": "execute_result"
    },
    {
     "data": {
      "image/png": "[encoded data removed]",
      "text/plain": [
       "<matplotlib.figure.Figure at 0x10ac6ab50>"
      ]
     },
     "metadata": {},
     "output_type": "display_data"
    }
   ],
   "source": [
    "cNorm2  = colors.Normalize(vmin=0, vmax=50)\n",
    "map2 = cm.ScalarMappable(norm=cNorm2, cmap=cm.get_cmap('gray'))\n",
    "diffs = Hs[:,3*N:4*N]-Hs[:,2*N:3*N]\n",
    "print norm(diffs)/(M/Mi)\n",
    "plot(diffs[300,:])\n"
   ]
  },
  {
   "cell_type": "code",
   "execution_count": 26,
   "metadata": {
    "collapsed": false
   },
   "outputs": [
    {
     "name": "stdout",
     "output_type": "stream",
     "text": [
      "[[0 1]\n",
      " [1 2]\n",
      " [2 4]\n",
      " [2 3]\n",
      " [3 5]]\n"
     ]
    }
   ],
   "source": [
    "print M\n"
   ]
  },
  {
   "cell_type": "code",
   "execution_count": 106,
   "metadata": {
    "collapsed": false
   },
   "outputs": [
    {
     "name": "stdout",
     "output_type": "stream",
     "text": [
      "10\n"
     ]
    }
   ],
   "source": [
    "print Mi"
   ]
  },
  {
   "cell_type": "code",
   "execution_count": 46,
   "metadata": {
    "collapsed": false
   },
   "outputs": [],
   "source": [
    "j = 0\n",
    "p0 = PyPipe_ps(N,n1.Ds[j], n1.Ls[j],M,a)\n",
    "ys = linspace(0,.01)\n",
    "thetas = [2*arccos(1.-2*y/D) for y in ys]\n"
   ]
  },
  {
   "cell_type": "code",
   "execution_count": 47,
   "metadata": {
    "collapsed": false
   },
   "outputs": [
    {
     "name": "stdout",
     "output_type": "stream",
     "text": [
      "[ 0.          0.00020408  0.00040816  0.00061224  0.00081633  0.00102041\n",
      "  0.00122449  0.00142857  0.00163265  0.00183673  0.00204082  0.0022449\n",
      "  0.00244898  0.00265306  0.00285714  0.00306122  0.00326531  0.00346939\n",
      "  0.00367347  0.00387755  0.00408163  0.00428571  0.0044898   0.00469388\n",
      "  0.00489796  0.00510204  0.00530612  0.0055102   0.00571429  0.00591837\n",
      "  0.00612245  0.00632653  0.00653061  0.00673469  0.00693878  0.00714286\n",
      "  0.00734694  0.00755102  0.0077551   0.00795918  0.00816327  0.00836735\n",
      "  0.00857143  0.00877551  0.00897959  0.00918367  0.00938776  0.00959184\n",
      "  0.00979592  0.01      ]\n"
     ]
    }
   ],
   "source": [
    "print ys"
   ]
  },
  {
   "cell_type": "code",
   "execution_count": null,
   "metadata": {
    "collapsed": true
   },
   "outputs": [],
   "source": []
  }
 ],
 "metadata": {
  "kernelspec": {
   "display_name": "Python 2",
   "language": "python",
   "name": "python2"
  },
  "language_info": {
   "codemirror_mode": {
    "name": "ipython",
    "version": 2
   },
   "file_extension": ".py",
   "mimetype": "text/x-python",
   "name": "python",
   "nbconvert_exporter": "python",
   "pygments_lexer": "ipython2",
   "version": "2.7.10"
  }
 },
 "nbformat": 4,
 "nbformat_minor": 0
}
