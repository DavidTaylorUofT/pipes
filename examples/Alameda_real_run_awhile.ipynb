{
 "cells": [
  {
   "cell_type": "code",
   "execution_count": 1,
   "metadata": {
    "collapsed": false
   },
   "outputs": [
    {
     "name": "stdout",
     "output_type": "stream",
     "text": [
      "Populating the interactive namespace from numpy and matplotlib\n"
     ]
    }
   ],
   "source": [
    "import sys\n",
    "sys.path.append(\"..\")\n",
    "from allthethings import PyNetwork, PyPipe_ps\n",
    "from allthethings import PyBC_opt_dh\n",
    "import numpy as np\n",
    "import matplotlib.pyplot as plt\n",
    "%pylab inline\n",
    "from scipy import optimize\n",
    "from writeit import rewritePipes"
   ]
  },
  {
   "cell_type": "code",
   "execution_count": 2,
   "metadata": {
    "collapsed": true
   },
   "outputs": [],
   "source": [
    "def idx_t(i,j,n,N):\n",
    "    return (2*(N+2)*n+(N+2)*i+j)"
   ]
  },
  {
   "cell_type": "code",
   "execution_count": 3,
   "metadata": {
    "collapsed": false
   },
   "outputs": [
    {
     "name": "stdout",
     "output_type": "stream",
     "text": [
      "[ 116.43  214.15   57.79   62.33   70.59   37.98   73.46   77.42   75.9\n",
      "  101.19   77.72   82.91   41.45   39.93   75.22  108.51  104.24   58.83\n",
      "  103.33  101.5   123.14   40.84   58.83   19.81   20.42  256.03  130.76\n",
      "   10.36   60.96   91.44   13.11   60.96   91.44]\n",
      "[24 43 12 13 15  8 15 16 16 21 16 17  9  8 16 22 21 12 21 21 25  9 12  4  5\n",
      " 52 27  3 13 19  3 13 19]\n",
      "0.051\n"
     ]
    }
   ],
   "source": [
    "fi = \"../indata/Alameda62.0.0.inp\" \n",
    "fc = \"../indata/Alameda62.0.config\"\n",
    "n0 = PyNetwork(fi,fc,1)\n",
    "print n0.Ls\n",
    "print n0.Ns\n",
    "print min(n0.Ds)"
   ]
  },
  {
   "cell_type": "code",
   "execution_count": 4,
   "metadata": {
    "collapsed": false
   },
   "outputs": [
    {
     "name": "stdout",
     "output_type": "stream",
     "text": [
      "20\n",
      "23980\n",
      "0.0833930630718\n",
      "10\n"
     ]
    }
   ],
   "source": [
    "Ls = n0.Ls\n",
    "Ds = n0.Ds\n",
    "T = 20\n",
    "Mi = 10   #number of time steps in between writes\n",
    "Nt = 20\n",
    "Ttot = Nt*T\n",
    "Np = n0.Nedges\n",
    "a = 100\n",
    "Ns = [int(l) for l in Ls]\n",
    "dx = [Ls[i]/Ns[i] for i in range(Np)]\n",
    "M = int(T*a/(max(dx)*.8))*10\n",
    "M = (M+Mi-M%Mi)  #round it up to be an even multiple of Mi\n",
    "jt = n0.nodeTypes\n",
    "Nn = len(jt)\n",
    "bt = [1]*Nn\n",
    "bv = [0]*Nn\n",
    "r = [1]*Nn\n",
    "r[0] = 0\n",
    "bt[0] =1\n",
    "h0s = [0]*Np\n",
    "h0s = [.1*d*d/4*np.pi for d in Ds]\n",
    "q0s = [0]*Np\n",
    "Mrs =[0.007]*Np\n",
    "#Mrs =[0.0]*Np\n",
    "print T\n",
    "print M\n",
    "Nstar =1 #measuring point for each pipe\n",
    "Hs =np.ndarray((Np,M/Mi*Nt))\n",
    "print (T/float(M))/min(dx)*a\n",
    "print min(Ns)\n",
    "elevs = [127.10, 126.19, 98.76, 91.44, 83.82, 78.029, 70.74, 61.26, 53.95, 57.9, 58.52, 60.05, 60.66, 62.79, 63.70, 73.15, 76.81, 76.2, 86.26, 84.43, 88.09, 96.32, 96.012, 99.67, 101.80, 103.63, 101.80, 101.19, 101.50, 103.95, 117.96, 129.84, 87.48, 97.23]"
   ]
  },
  {
   "cell_type": "code",
   "execution_count": 5,
   "metadata": {
    "collapsed": false
   },
   "outputs": [
    {
     "name": "stdout",
     "output_type": "stream",
     "text": [
      "new files are ../indata/Alameda_m3.inp and ../indata/Alameda_m3.config\n",
      "[ 0.1   0.1   0.1   0.1   0.1   0.1   0.1   0.1   0.1   0.1   0.1   0.1\n",
      "  0.1   0.1   0.1   0.1   0.05  0.1   0.05  0.05  0.1   0.05  0.05  0.05\n",
      "  0.05  0.05  0.05  0.1   0.1   0.05  0.1   0.1   0.05]\n",
      "[ 0.102  0.102  0.102  0.102  0.102  0.102  0.102  0.102  0.102  0.102\n",
      "  0.102  0.102  0.102  0.102  0.102  0.102  0.051  0.102  0.051  0.051\n",
      "  0.102  0.051  0.051  0.051  0.051  0.051  0.051  0.102  0.102  0.051\n",
      "  0.102  0.102  0.051]\n",
      "0    116\n",
      "1    214\n",
      "2    57\n",
      "3    62\n",
      "4    70\n",
      "5    37\n",
      "6    73\n",
      "7    77\n",
      "8    75\n",
      "9    101\n",
      "10    77\n",
      "11    82\n",
      "12    41\n",
      "13    39\n",
      "14    75\n",
      "15    108\n",
      "16    104\n",
      "17    58\n",
      "18    103\n",
      "19    101\n",
      "20    123\n",
      "21    40\n",
      "22    58\n",
      "23    19\n",
      "24    20\n",
      "25    256\n",
      "26    130\n",
      "27    10\n",
      "28    60\n",
      "29    91\n",
      "30    13\n",
      "31    60\n",
      "32    91\n"
     ]
    }
   ],
   "source": [
    "fn = \"../indata/Alameda_m3\"\n",
    "oldinp = \"../indata/Alameda62.0.0.inp\"\n",
    "(fi, fc) = rewritePipes(fn,oldinp, Ns, Ls, Mrs, Ds, jt, bt, bv, r, h0s, q0s, T, M, a, elevs)\n",
    "n1 = PyNetwork(fi,fc,1)\n",
    "dt = n1.T/float(n1.M)\n",
    "Q00 = 0.0087\n",
    "#Q00 = 0.007\n",
    "A00 = 0.00793\n",
    "for i in range(0,Np):\n",
    "    Ai = .0*(Ds[i]**2)/4*np.pi\n",
    "    A0 = Ai*ones(n1.Ns[i])\n",
    "    Q0 = 0*np.ones(n1.Ns[i])\n",
    "    n1.setIC(i,A0,Q0)\n",
    "n1.setIC(0,A00*np.ones(n1.Ns[0]), Q00*np.ones(n1.Ns[0]))\n",
    "n1.setIC(1,A00*np.ones(n1.Ns[1]), Q00*np.ones(n1.Ns[1]))\n",
    "Qb = Q00*np.ones(M+1)\n",
    "Qo = 0.04*np.ones(M+1)\n",
    "Ab = A00*np.ones(M+1)\n",
    "#aa=arange(0,len(n1.nodeTypes))\n",
    "#for j in range(len(aa[n1.nodeTypes==1])):\n",
    "#    n1.setbVal(j,n1.Ds[i]*np.ones(M+1))\n",
    "n1.setbVal(0,Qb)\n",
    "print n1.Ds\n",
    "print Ds\n",
    "for i in range(n1.Nedges):\n",
    "    print \"%d    %d\" %(i,n1.Ns[i])\n",
    "p0 = PyPipe_ps(n1.Ns[11],n1.Ds[11], n1.Ls[11],M, a)"
   ]
  },
  {
   "cell_type": "code",
   "execution_count": 8,
   "metadata": {
    "collapsed": false
   },
   "outputs": [
    {
     "name": "stdout",
     "output_type": "stream",
     "text": [
      "1.0\n",
      "0.05\n",
      "0.000834028356964\n",
      "0.00196349540849\n"
     ]
    }
   ],
   "source": [
    "#c= p0.Cgrav(1e-6,False) \n",
    "#print c\n",
    "print n1.Ls[16]/n1.Ns[16]\n",
    "print n1.Ds[16]\n",
    "print dt\n",
    "print np.pi*(.05**2)/4."
   ]
  },
  {
   "cell_type": "code",
   "execution_count": null,
   "metadata": {
    "collapsed": false
   },
   "outputs": [
    {
     "name": "stdout",
     "output_type": "stream",
     "text": [
      "0\n",
      "[2.616899999999998, 2.7908999456773116]\n",
      "1\n",
      "[2.616899999999998, 2.7908999456773116, 3.115811492077269]\n",
      "2\n",
      "[2.616899999999998, 2.7908999456773116, 3.115811492077269, 3.6203563537091656]\n",
      "3\n",
      "[2.616899999999998, 2.7908999456773116, 3.115811492077269, 3.6203563537091656, 3.80336055561007]\n",
      "4\n",
      "[2.616899999999998, 2.7908999456773116, 3.115811492077269, 3.6203563537091656, 3.80336055561007, 4.097177481794783]\n",
      "5"
     ]
    }
   ],
   "source": [
    "%%time \n",
    "Vs = [n1.getTotalVolume()]\n",
    "for m in range(Nt):\n",
    "    n1.runForwardProblem(dt)\n",
    "    for j in range(Np):\n",
    "        N = n1.Ns[j]\n",
    "        p0 = PyPipe_ps(N,n1.Ds[j], n1.Ls[j],M,a)\n",
    "        qh = n1.qhist(j)\n",
    "        Htemp = [p0.pbar(qh[idx_t(0,Nstar,n,n1.Ns[j])],False) for n in range(1,M+1,Mi)]\n",
    "        Hs[j,m*(M/Mi):(M/Mi)*(m+1)] = Htemp\n",
    "    Vs.append(n1.getTotalVolume()) \n",
    "    print m\n",
    "    print Vs\n",
    "    n1.reset()"
   ]
  },
  {
   "cell_type": "code",
   "execution_count": null,
   "metadata": {
    "collapsed": false
   },
   "outputs": [],
   "source": [
    "m2psi = 1.42\n",
    "t = linspace(0,Ttot,shape(Hs)[1])\n",
    "for k in range(0,Np):\n",
    "    plot(t,m2psi*Hs[k,:])\n",
    "xlabel('t (s)')\n",
    "ylabel('pressure head (psi)')"
   ]
  },
  {
   "cell_type": "code",
   "execution_count": null,
   "metadata": {
    "collapsed": false
   },
   "outputs": [],
   "source": [
    "interesting = [32]\n",
    "for i in interesting:\n",
    "    plot(t,m2psi*Hs[i,:],label= 'pipe %d, L = %.f m'%(i,n1.Ls[i]))\n",
    "print dt\n",
    "print a\n",
    "#xticks(linspace(280,290,11))\n",
    "grid(True)\n",
    "xlabel('t')\n",
    "ylabel('pressure head (psi)')\n",
    "print n1.Ls[18]\n",
    "print n1.Ls[19]\n",
    "print n1.Ls[20]\n",
    "legend(loc = 'upper left')\n",
    "print n1.Ls"
   ]
  },
  {
   "cell_type": "code",
   "execution_count": null,
   "metadata": {
    "collapsed": true
   },
   "outputs": [],
   "source": [
    "# combination that works to 140 s: Q0 = 0.05Af, r = -1 everywhere."
   ]
  },
  {
   "cell_type": "code",
   "execution_count": null,
   "metadata": {
    "collapsed": true
   },
   "outputs": [],
   "source": []
  }
 ],
 "metadata": {
  "kernelspec": {
   "display_name": "Python 2",
   "language": "python",
   "name": "python2"
  },
  "language_info": {
   "codemirror_mode": {
    "name": "ipython",
    "version": 2
   },
   "file_extension": ".py",
   "mimetype": "text/x-python",
   "name": "python",
   "nbconvert_exporter": "python",
   "pygments_lexer": "ipython2",
   "version": "2.7.10"
  }
 },
 "nbformat": 4,
 "nbformat_minor": 0
}
