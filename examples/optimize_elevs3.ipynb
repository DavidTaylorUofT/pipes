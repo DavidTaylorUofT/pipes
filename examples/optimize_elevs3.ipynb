{
 "cells": [
  {
   "cell_type": "code",
   "execution_count": 1,
   "metadata": {
    "collapsed": false
   },
   "outputs": [
    {
     "name": "stdout",
     "output_type": "stream",
     "text": [
      "Populating the interactive namespace from numpy and matplotlib\n"
     ]
    }
   ],
   "source": [
    "import sys\n",
    "sys.path.append(\"..\")\n",
    "from allthethings import PyNetwork, PyPipe_ps\n",
    "from allthethings import PyBC_opt_dh\n",
    "import numpy as np\n",
    "import matplotlib.pyplot as plt\n",
    "%pylab inline\n",
    "from scipy import optimize\n",
    "from writeit import rewritePipes"
   ]
  },
  {
   "cell_type": "code",
   "execution_count": 2,
   "metadata": {
    "collapsed": false
   },
   "outputs": [
    {
     "name": "stdout",
     "output_type": "stream",
     "text": [
      "15000\n"
     ]
    }
   ],
   "source": [
    "case = 1\n",
    "\n",
    "D = .1            #pipe diameter (m)\n",
    "Mr = 0.007        #manning roughness coeffs\n",
    "T = 24           #simulation time (s)\n",
    "a = 100            #pressure wavespeed\n",
    "Ltot = 48\n",
    "\n",
    "if case ==0:\n",
    "    Np = 4\n",
    "    Nn = Np+1\n",
    "    oldinp = \"../indata/DFDpleasework5.inp\"\n",
    "\n",
    "if case ==1:\n",
    "    Np =6\n",
    "    Nn = Np+1\n",
    "    oldinp = \"../indata/DFDpleasework7.inp\"\n",
    "\n",
    "if case ==2:\n",
    "    Np = 8\n",
    "    Nn = Np+1\n",
    "    oldinp = \"../indata/DFDpleasework4.inp\"\n",
    "\n",
    "Ndof = Nn-3\n",
    "    \n",
    "L = Ltot/float(Np)\n",
    "N = int(L)\n",
    "dx = L/float(N)\n",
    "M = max(int(T*a/(dx*.8))*5,1)\n",
    "Qin =0.0087\n",
    "Ain =  0.00793018096379\n",
    "\n",
    "fn = \"../indata/optim_elev_test\"\n",
    "params= (D,N,L,Mr,T,M,a,Qin,Ain,Np,fn,oldinp)\n",
    "print M"
   ]
  },
  {
   "cell_type": "code",
   "execution_count": 3,
   "metadata": {
    "collapsed": false
   },
   "outputs": [],
   "source": [
    "def f(z,*params):\n",
    "    #e0,e1,e2,e3,e4,e5 = z\n",
    "    #elevs = [10,e0,e1,e2,6,e3,e4,e5,10]#junction elevations\n",
    "    e0,e1,e2,e3 = z\n",
    "    elevs = [10,e0,e1,6,e2,e3,10]\n",
    "    #e0,e1 = z\n",
    "    #elevs = [10,e0,6,e1,10]#\n",
    "    h0 =0.00328335033016\n",
    "    Nn = len(elevs)\n",
    "    D,N,L,Mr,T,M,a,Qin,Ain,Np,fn,oldinp = params\n",
    "    dt = T/float(M)\n",
    "    Ns = [N]*Np\n",
    "    Ls = [L]*Np\n",
    "    Mrs = [Mr]*Np  #manning roughness coeffs\n",
    "    Ds = [D]*Np      #pipe diameter (m) \n",
    "    h0s = [h0]*Np    #IC for h\n",
    "    q0s = [0]*Np    #IC for Q\n",
    "    jt = [1]+[2]*(Nn-2)+[1]  #for DFDpleasework2.inp\n",
    "    bt = [1]*Nn\n",
    "    bv = [0]+[1]*(Nn-1)\n",
    "    r =  [0]+[1]*(Nn-2)+[-1]\n",
    "    \n",
    "    (fi, fc) = rewritePipes(fn,oldinp, Ns, Ls, Mrs, Ds, jt, bt, bv, r, h0s, q0s, T, M, a, elevs)\n",
    "    n1 = PyNetwork(fi,fc,1)\n",
    "    Q00 = Qin*np.ones(M+1)\n",
    "    #A00 =Ain*np.ones(M+1)\n",
    "    n1.setbVal(0,Q00)\n",
    "    #A0 = Ain*np.ones(Ns[0])\n",
    "    #Q0 = np.zeros(Ns[0])\n",
    "    #n1.setIC(0,A0,Q0)\n",
    "    #Ain = 0.0087*ones(M+1)\n",
    "    #A00 = 0.01*D*D*pi/4.*np.ones(Ns[0])\n",
    "    #Q00 = np.zeros(Ns[0])\n",
    "    #for k in range(0,Np):\n",
    "    #    n1.setIC(k,A00,Q00)\n",
    "    n1.runForwardProblem(dt)\n",
    "    H = sum([n1.getAveGradH(i) for i in range(M+1)])\n",
    "    #print \"elevs = [10,%f, %f, %f, 6, %f, %f, 10] and H = %f\"%(e0,e1,e2,e3,e4,H)\n",
    "    return H"
   ]
  },
  {
   "cell_type": "code",
   "execution_count": 5,
   "metadata": {
    "collapsed": false
   },
   "outputs": [
    {
     "data": {
      "text/plain": [
       "620155.43193668046"
      ]
     },
     "execution_count": 5,
     "metadata": {},
     "output_type": "execute_result"
    }
   ],
   "source": [
    "z0 = (7,8)\n",
    "z0 = (7.5,6.5,7.5,8.5)\n",
    "z0 = (8.5,7.5,8.5,9.5)\n",
    "\n",
    "#z0 = (9,10,8,7,8,10)\n",
    "#z0 = (7,7,7,8,8,8)\n",
    "#z0  = (10,7,8,11,8.5,8,7.5)\n",
    "#z0 = (9,5,7,11,10,9)\n",
    "#z0 =(8,9,6,5,7,9)\n",
    "#z0 = (9,8,7,7,8, 9)\n",
    "#z0 = (8.5,9,7.5,8,9,11)\n",
    "#z0 = 10\n",
    "\n",
    "f(z0,*params)"
   ]
  },
  {
   "cell_type": "code",
   "execution_count": 6,
   "metadata": {
    "collapsed": false
   },
   "outputs": [],
   "source": [
    "if case==0:\n",
    "    cons = ({'type': 'ineq', 'fun': lambda x:  x[0] -4},\n",
    "        {'type': 'ineq', 'fun': lambda x: -x[0] +12},\n",
    "        {'type': 'ineq', 'fun': lambda x:  x[1] -4},\n",
    "        {'type': 'ineq', 'fun': lambda x: -x[1] +12},\n",
    "       )\n",
    "elif case==1:\n",
    "    cons = ({'type': 'ineq', 'fun': lambda x:  x[0] -4},\n",
    "        {'type': 'ineq', 'fun': lambda x: -x[0] +12},\n",
    "        {'type': 'ineq', 'fun': lambda x:  x[1] -4},\n",
    "        {'type': 'ineq', 'fun': lambda x: -x[1] +12},\n",
    "        {'type': 'ineq', 'fun': lambda x:  x[2] -4},\n",
    "        {'type': 'ineq', 'fun': lambda x: -x[2] +12},\n",
    "        {'type': 'ineq', 'fun': lambda x:  x[3] -4},\n",
    "        {'type': 'ineq', 'fun': lambda x: -x[3] +12},\n",
    "       )\n",
    "elif case==2:\n",
    "    cons = ({'type': 'ineq', 'fun': lambda x:  x[0] -4},\n",
    "        {'type': 'ineq', 'fun': lambda x: -x[0] +12},\n",
    "        {'type': 'ineq', 'fun': lambda x:  x[1] -4},\n",
    "        {'type': 'ineq', 'fun': lambda x: -x[1] +12},\n",
    "        {'type': 'ineq', 'fun': lambda x:  x[2] -4},\n",
    "        {'type': 'ineq', 'fun': lambda x: -x[2] +12},\n",
    "        {'type': 'ineq', 'fun': lambda x:  x[3] -4},\n",
    "        {'type': 'ineq', 'fun': lambda x: -x[3] +12},\n",
    "        {'type': 'ineq', 'fun': lambda x:  x[4] -4},\n",
    "        {'type': 'ineq', 'fun': lambda x: -x[4] +12},\n",
    "        {'type': 'ineq', 'fun': lambda x:  x[5] -4},\n",
    "        {'type': 'ineq', 'fun': lambda x: -x[5] +12},\n",
    "       )"
   ]
  },
  {
   "cell_type": "code",
   "execution_count": 7,
   "metadata": {
    "collapsed": false
   },
   "outputs": [],
   "source": [
    "class MyBounds(object):\n",
    "    def __init__(self, xmax=[12]*Ndof, xmin=[4]*Ndof):\n",
    "        self.xmax = np.array(xmax) \n",
    "        self.xmin = np.array(xmin)\n",
    "    def __call__(self, **kwargs):\n",
    "        x = kwargs[\"x_new\"]\n",
    "        tmax = bool(np.all(x <= self.xmax))\n",
    "        tmin = bool(np.all(x >= self.xmin))\n",
    "        return tmax and tmin"
   ]
  },
  {
   "cell_type": "code",
   "execution_count": 8,
   "metadata": {
    "collapsed": true
   },
   "outputs": [],
   "source": [
    "def print_f(x,f,accepted):\n",
    "    print \"f = %f x = %s, accepted = %d\"%(f,str(x), int(accepted))"
   ]
  },
  {
   "cell_type": "code",
   "execution_count": null,
   "metadata": {
    "collapsed": false
   },
   "outputs": [],
   "source": [
    "minimizer_kwargs = {\"method\": \"COBYLA\",\"constraints\":cons,\"args\":params}\n",
    "np.random.seed(555)\n",
    "mybounds = MyBounds()\n",
    "ret = optimize.basinhopping(f, z0,  minimizer_kwargs=minimizer_kwargs,\n",
    "                   niter=5, accept_test = mybounds, callback=print_f)\n",
    "\n",
    "#res = optimize.anneal(f, z, args=params, schedule='boltzmann',\n",
    "#                          full_output=True, maxiter=50, lower=20,\n",
    "#                          upper=250, dwell=50, disp=True, feps = 1e-3)"
   ]
  },
  {
   "cell_type": "code",
   "execution_count": null,
   "metadata": {
    "collapsed": false
   },
   "outputs": [],
   "source": [
    "ret\n"
   ]
  },
  {
   "cell_type": "code",
   "execution_count": null,
   "metadata": {
    "collapsed": false
   },
   "outputs": [],
   "source": [
    "f0 = f(z0,*params)\n",
    "ff = ret.fun\n",
    "print T"
   ]
  },
  {
   "cell_type": "code",
   "execution_count": null,
   "metadata": {
    "collapsed": false
   },
   "outputs": [],
   "source": [
    "print \"Np = &%d\"%Np\n",
    "print \"Nfev = &%d\"%ret.nfev\n",
    "print \"z_0= &%s\"%(str(list(z0)))\n",
    "print \"z_f =& %s\"%(str(list(ret.x)))\n",
    "print \"f_0 =& %f, f_f = %f, f_f/f_0=%f\"%(f0,ff,ff/f0)"
   ]
  },
  {
   "cell_type": "code",
   "execution_count": null,
   "metadata": {
    "collapsed": false
   },
   "outputs": [],
   "source": [
    "print \"z_0&= %s\"%(str(z0))\n",
    "print \"z_f& = %s\"%(str(ret.x))\n",
    "print \"f_0& = %f, f_f = %f, f_f/f_0=%f\"%(f0,ff,ff/f0)"
   ]
  },
  {
   "cell_type": "code",
   "execution_count": null,
   "metadata": {
    "collapsed": false
   },
   "outputs": [],
   "source": [
    "\n",
    "Np = &6\n",
    "Nfev = &340\n",
    "z_0= &[7.5, 6.5, 7.5, 8.5]\n",
    "z_f =& [8.7409181741445288, 6.4482813556630605, 7.8603789169278508, 7.8071324922307346]\n",
    "f_0 =& 625689.371403, f_f = 110665.153922, f_f/f_0=0.176869"
   ]
  },
  {
   "cell_type": "code",
   "execution_count": 14,
   "metadata": {
    "collapsed": false
   },
   "outputs": [
    {
     "data": {
      "text/plain": [
       "array([ 8.93812713,  7.63065119,  6.71595473,  6.9738486 ,  7.95737693,\n",
       "        9.0219969 ])"
      ]
     },
     "execution_count": 14,
     "metadata": {},
     "output_type": "execute_result"
    }
   ],
   "source": [
    "ret.x"
   ]
  }
 ],
 "metadata": {
  "kernelspec": {
   "display_name": "Python 2",
   "language": "python",
   "name": "python2"
  },
  "language_info": {
   "codemirror_mode": {
    "name": "ipython",
    "version": 2
   },
   "file_extension": ".py",
   "mimetype": "text/x-python",
   "name": "python",
   "nbconvert_exporter": "python",
   "pygments_lexer": "ipython2",
   "version": "2.7.10"
  }
 },
 "nbformat": 4,
 "nbformat_minor": 0
}
