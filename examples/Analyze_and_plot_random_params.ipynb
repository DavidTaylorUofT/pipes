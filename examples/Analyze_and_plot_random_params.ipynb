{
 "cells": [
  {
   "cell_type": "code",
   "execution_count": 1,
   "metadata": {
    "collapsed": false
   },
   "outputs": [
    {
     "name": "stdout",
     "output_type": "stream",
     "text": [
      "Populating the interactive namespace from numpy and matplotlib\n"
     ]
    }
   ],
   "source": [
    "%pylab inline\n",
    "import numpy as np\n",
    "import pickle\n",
    "import networkx as nx\n",
    "from scipy import stats\n",
    "from networkx import graphviz_layout"
   ]
  },
  {
   "cell_type": "code",
   "execution_count": 2,
   "metadata": {
    "collapsed": false
   },
   "outputs": [],
   "source": [
    "FinalSummary = dict()"
   ]
  },
  {
   "cell_type": "code",
   "execution_count": 3,
   "metadata": {
    "collapsed": false
   },
   "outputs": [
    {
     "name": "stdout",
     "output_type": "stream",
     "text": [
      "summary_N10_samples100.txt                         summary_N_10_dH1.761596.txt\r\n",
      "summary_N10_samples100_wilson.pkl                  summary_N_10_dH1.761596timeseries.png\r\n",
      "summary_N10_samples100_wilson.txt                  summary_N_10_dH2.594713.png\r\n",
      "summary_N20_samples100_spine_9spurs.pkl            summary_N_10_dH2.594713.txt\r\n",
      "summary_N20_samples100_spine_9spurs.txt            summary_N_10_dH2.594713timeseries.png\r\n",
      "summary_N20_samples100_spine_random_BC.pkl         summary_N_10_dH3.269438.png\r\n",
      "summary_N20_samples100_spine_random_BC.txt         summary_N_10_dH3.269438.txt\r\n",
      "summary_N20_samples100_spine_random_Mr.pkl         summary_N_10_dH3.269438timeseries.png\r\n",
      "summary_N20_samples100_spine_random_Mr.txt         summary_N_10_dH3.404951.png\r\n",
      "summary_N20_samples100_spine_random_h0.pkl         summary_N_10_dH3.404951.txt\r\n",
      "summary_N20_samples100_spine_random_length.pkl     summary_N_10_dH3.404951timeseries.png\r\n",
      "summary_N20_samples100_spine_random_length.txt     summary_N_10_dH3.915981.png\r\n",
      "summary_N20_samples100_spine_random_wavespeed.pkl  summary_N_10_dH3.915981.txt\r\n",
      "summary_N20_samples100_spine_random_wavespeed.txt  summary_N_10_dH3.915981timeseries.png\r\n",
      "summary_N20_samples100_spine_variable_spurs.pkl    summary_N_10_dH39.842476.png\r\n",
      "summary_N20_samples100_spine_variable_spurs.txt    summary_N_10_dH39.842476.txt\r\n",
      "summary_N20_samples100_wilson                      summary_N_10_dH39.842476timeseries.png\r\n",
      "summary_N20_samples100_wilson.pkl                  summary_N_10_dH40.622809.png\r\n",
      "summary_N20_samples100_wilson.txt                  summary_N_10_dH40.622809.txt\r\n",
      "summary_N20_samples34_spine_random_elevs.pkl       summary_N_10_dH40.622809timeseries.png\r\n",
      "summary_N_10_dH1.761596.png\r\n"
     ]
    }
   ],
   "source": [
    "ls 'output_data/random_networks/'"
   ]
  },
  {
   "cell_type": "code",
   "execution_count": 4,
   "metadata": {
    "collapsed": false
   },
   "outputs": [],
   "source": [
    "def ave_slope(elevs,conns,L):\n",
    "    Np = shape(conns)[0]\n",
    "    s = [(elevs[conns[k,1]]-elevs[conns[k,0]])/L for k in range(Np)]\n",
    "    return mean(s)"
   ]
  },
  {
   "cell_type": "code",
   "execution_count": 140,
   "metadata": {
    "collapsed": true
   },
   "outputs": [],
   "source": [
    "def namestuff(which_p):\n",
    "    if which_p =='h0':\n",
    "        name = loc+'summary_N20_samples100_spine_random_h0.pkl'\n",
    "        xlims = [0,0.1]\n",
    "        xlab = r'$h_0 (m)$'\n",
    "    elif which_p=='elevs':\n",
    "        name = loc+'summary_N20_samples34_spine_random_elevs.pkl'\n",
    "        xlims = [-.06,.06]\n",
    "        xlab= r'$\\langle S_0 \\rangle$'\n",
    "    elif which_p =='Q0':\n",
    "        name = loc+'summary_N20_samples100_spine_random_BC.pkl'\n",
    "        xlims = [90,190]\n",
    "        xlab = r'$Q_0$ (gal/min)'\n",
    "    elif which_p =='Mr':\n",
    "        name = loc+'summary_N20_samples100_spine_random_Mr.pkl'\n",
    "        xlims =[0.002,.016]\n",
    "        xlab = r'$M_r$'\n",
    "    elif which_p =='a':\n",
    "        name = loc+'summary_N20_samples100_spine_random_wavespeed.pkl'\n",
    "        xlims =[80,240]\n",
    "        xlab = 'a'\n",
    "    elif which_p =='conn1deg3':\n",
    "        name =loc+'summary_N20_samples100_wilson.pkl'\n",
    "        xlims = [0,9]\n",
    "        xlab= '# nodes degree 3'\n",
    "    elif which_p =='conn2deg3':\n",
    "        name =loc+'Summary_N20_samples100_spine_variable_spurs.pkl'\n",
    "        xlims = [0,9]\n",
    "        xlab= '# nodes degree 3'\n",
    "    elif which_p =='conn1diam':\n",
    "        name =loc+'summary_N20_samples100_wilson.pkl'\n",
    "        xlims = [6,20]\n",
    "        xlab = 'network diameter'\n",
    "    elif which_p =='conn2diam':\n",
    "        name =loc+'Summary_N20_samples100_spine_variable_spurs.pkl'\n",
    "        xlims = [9,20]\n",
    "        xlab = 'network diameter'\n",
    "    return(name, xlims, xlab)"
   ]
  },
  {
   "cell_type": "code",
   "execution_count": 164,
   "metadata": {
    "collapsed": false
   },
   "outputs": [],
   "source": [
    "#N = 14\n",
    "m32gal = 264.172\n",
    "s2min = 60.\n",
    "loc = 'output_data/random_networks/'\n",
    "\n",
    "names = ['h0','Q0','a','Mr','conn1diam','conn2deg3']\n",
    "defaults = [1,0,0.0087,100.,0.007,14,5]     #values of x for parameters not being varied\n",
    "\n",
    "Nparam = len(defaults)-1\n",
    "Nvary = len(names)\n",
    "Ntr = 100 # I just know this (should load trial data and then decide...)\n",
    "N = 14\n",
    "z =  np.kron(defaults,np.ones((Ntr*Nvary,1)))#parameter sample matrix\n",
    "y0 = np.zeros(Nvary*Ntr)   #time to pressurization\n",
    "y1 = np.zeros(Nvary*Ntr)   #mean (dH)\n",
    "y2 = np.zeros(Nvary*Ntr)   #stddev(arrival times in each pipe)\n",
    "y3 = np.zeros(Nvary*Ntr)   #mean(max H in each pipe)\n"
   ]
  },
  {
   "cell_type": "code",
   "execution_count": 165,
   "metadata": {
    "collapsed": false
   },
   "outputs": [
    {
     "name": "stdout",
     "output_type": "stream",
     "text": [
      "h0\n",
      "['mean_dH', 'h0', 'Vin', 'max_H', 'last_arrive_t', 'nodeTypes', 'max_arrive_t', 'conn', 'min_arrive_t']\n",
      "100\n",
      "0\n",
      "100\n",
      "(600, 7)\n",
      "Q0\n",
      "['elevs', 'mean_dH', 'Vin', 'max_H', 'last_arrive_t', 'conn', 'Q00', 'max_arrive_t', 'nodeTypes', 'min_arrive_t']\n",
      "100\n",
      "100\n",
      "200\n",
      "(600, 7)\n",
      "a\n",
      "['a', 'mean_dH', 'Vin', 'max_H', 'last_arrive_t', 'nodeTypes', 'max_arrive_t', 'conn', 'min_arrive_t']\n",
      "100\n",
      "200\n",
      "300\n",
      "(600, 7)\n",
      "Mr\n",
      "['mean_dH', 'Vin', 'max_H', 'Mrs', 'last_arrive_t', 'nodeTypes', 'max_arrive_t', 'conn', 'min_arrive_t']\n",
      "100\n",
      "300\n",
      "400\n",
      "(600, 7)\n",
      "conn1diam\n",
      "['mean_dH', 'Vin', 'max_H', 'last_arrive_t', 'nodeTypes', 'max_arrive_t', 'conn', 'min_arrive_t']\n",
      "100\n",
      "400\n",
      "500\n",
      "(600, 7)\n",
      "conn2deg3\n",
      "['mean_dH', 'Vin', 'max_H', 'last_arrive_t', 'nodeTypes', 'max_arrive_t', 'conn', 'min_arrive_t']\n",
      "100\n",
      "500\n",
      "600\n",
      "(600, 7)\n"
     ]
    }
   ],
   "source": [
    "for W in range(0,Nvary):\n",
    "    which_p = names[W]\n",
    "    print which_p\n",
    "    (name, xlims, xlab )= namestuff(which_p)\n",
    "    f = open(name,'rb')\n",
    "    Summary = pickle.load(f)\n",
    "    f.close()\n",
    "    #Ntr = len(Summary)\n",
    "\n",
    "#x will be the vector of parameters\n",
    "    ztemp = defaults\n",
    "    print Summary[0].keys()\n",
    "    Np = len(Summary[0]['max_H'])\n",
    "    x = np.zeros(Ntr)\n",
    "\n",
    "    if which_p[0:3] =='con':\n",
    "        Np =N+10\n",
    "    \n",
    "    Ntr = len(Summary)\n",
    "    late = np.zeros(Ntr)\n",
    "    diams = np.zeros(Ntr)\n",
    "    maxHs = np.zeros((Ntr,Np))\n",
    "    meandH = np.zeros(Ntr)\n",
    "    arrive_t = np.zeros((Ntr,Np))\n",
    "    deg = np.zeros((Ntr,3))\n",
    "    farthest = np.zeros(Ntr,int)\n",
    "\n",
    "    \n",
    "    \n",
    "    for k in range(Ntr):\n",
    "        late[k] = Summary[k]['last_arrive_t']\n",
    "        Np = len(Summary[k]['max_H'])\n",
    "        maxHs[k,0:Np] =Summary[k]['max_H'][0:Np]\n",
    "        meandH[k] = Summary[k]['mean_dH']\n",
    "        arrive_t[k,0:Np]=Summary[k]['min_arrive_t'][0:Np]\n",
    "        if which_p =='h0':\n",
    "            x[k] = Summary[k]['h0']\n",
    "        elif which_p =='elevs':\n",
    "            x[k] = ave_slope(Summary[k]['elevs'],Summary[k]['conn'],20.)\n",
    "        elif which_p =='Q0':\n",
    "            x[k] = Summary[k]['Q00']    \n",
    "        elif which_p =='Mr':\n",
    "            x[k] = Summary[k]['Mrs'][0]\n",
    "        elif which_p=='a':\n",
    "            x[k] =Summary[k]['a']\n",
    "        elif which_p[0:3] =='con':\n",
    "            c = [Summary[k]['nodeTypes'].count(j) for j in range(1,4)]\n",
    "            deg[k,:] = (c[0], c[1],c[2])\n",
    "            conns = Summary[k]['conn']\n",
    "            Np = shape(conns)[0]\n",
    "            G=nx.Graph()\n",
    "            for j in range(Np):\n",
    "                G.add_edge('%d'%conns[j,0],'%d'%conns[j,1])\n",
    "            Dorig = nx.single_source_shortest_path_length(G,'0')\n",
    "            x = Dorig.values()\n",
    "            ftemp= Dorig.keys()[x.index(max(x))]\n",
    "            zt = find(conns==int(ftemp))\n",
    "            farthest[k] =zt[0]/2\n",
    "            diams[k] =nx.diameter(G)\n",
    "\n",
    "\n",
    "    if which_p[-1]  =='m':\n",
    "        x = diams\n",
    "    elif which_p[-1] =='3':\n",
    "        x = deg[:,2]\n",
    "    sa = std(arrive_t,1)\n",
    "    mmH = mean(maxHs,1)\n",
    "    mmH = maxHs.max(1)\n",
    "    print len(x)\n",
    "    print W*Ntr\n",
    "    print (W+1)*Ntr\n",
    "    print shape(z)\n",
    "    z[W*Ntr:(W+1)*Ntr, W+1] = x\n",
    "    y0[W*Ntr:(W+1)*Ntr] = late\n",
    "    y1[W*Ntr:(W+1)*Ntr] = meandH\n",
    "    y2[W*Ntr:(W+1)*Ntr] = sa\n",
    "    y3[W*Ntr:(W+1)*Ntr] = mmH"
   ]
  },
  {
   "cell_type": "code",
   "execution_count": 166,
   "metadata": {
    "collapsed": false
   },
   "outputs": [
    {
     "name": "stdout",
     "output_type": "stream",
     "text": [
      "                 R      h0        Q0        a         Mr        diam     #deg3\n",
      "max(T_a)      0.941960  0.647443  0.062840  0.000479  0.004491  0.008936 0.217771\n",
      "mean(dH)      0.378973  0.004279  0.000002  0.013379  0.008403  0.000045 0.352865\n",
      "std(T_a)      0.844438  0.581925  0.060662  0.003766  0.001590  0.026699 0.169796\n",
      "mean(max(H))  0.882643  0.842149  0.000293  0.030248  0.003190  0.000004 0.006758\n"
     ]
    }
   ],
   "source": [
    "ys = [y0,y1,y2,y3]\n",
    "\n",
    "bh2 = np.zeros((4,Nparam))\n",
    "r = np.zeros(4)\n",
    "print \"                 R      h0        Q0        a         Mr        diam     #deg3\"\n",
    "s = ['max(T_a)     ', 'mean(dH)     ', 'std(T_a)     ','mean(max(H)) ']\n",
    "for i in range(4):\n",
    "    y = ys[i]\n",
    "    sol = np.linalg.lstsq(z,y)\n",
    "    sigmay = np.std(y)\n",
    "    b = sol[0]#least squares coeffs for y = b0+\\sum_i b_i z_i for parameters z\n",
    "    bz= b[1:] #coeffs corresponding to params\n",
    "\n",
    "    for K in range(Nparam):\n",
    "        sigmaz = np.std(z[:,K+1])\n",
    "        bh2[i,K]=(bz[K]*sigmaz/sigmay)**2\n",
    "    r[i] = sum(bh for bh in bh2[i,:])\n",
    "    print \"%s %f  %f  %f  %f  %f  %f %f\"%tuple([s[i],r[i]]+[bh for bh in bh2[i,:]])\n"
   ]
  },
  {
   "cell_type": "code",
   "execution_count": null,
   "metadata": {
    "collapsed": true
   },
   "outputs": [],
   "source": [
    "\n",
    "                 R      h0        Q0        a         Mr        diam     #deg3\n",
    "max(T_a)      0.846388  0.750102  0.075692  0.000026  0.008642  0.006974 0.004951\n",
    "mean(dH)      0.111342  0.003929  0.000000  0.056920  0.039428  0.003523 0.007543\n",
    "std(T_a)      0.762890  0.664876  0.065295  0.008095  0.000206  0.019528 0.004892\n",
    "mean(max(H))  0.876646  0.840606  0.000298  0.031575  0.003728  0.000011 0.000428"
   ]
  },
  {
   "cell_type": "code",
   "execution_count": 158,
   "metadata": {
    "collapsed": false
   },
   "outputs": [
    {
     "name": "stdout",
     "output_type": "stream",
     "text": [
      "Q0\n"
     ]
    },
    {
     "data": {
      "image/png": "[encoded data removed]",
      "text/plain": [
       "<matplotlib.figure.Figure at 0x10f49b290>"
      ]
     },
     "metadata": {},
     "output_type": "display_data"
    }
   ],
   "source": [
    "W = 1\n",
    "which_p = names[W]\n",
    "x = z[W*Ntr:(W+1)*Ntr, W+1]\n",
    "if W==1:\n",
    "    x = x*m32gal*s2min\n",
    "late = y0[W*Ntr:(W+1)*Ntr]\n",
    "meandH =  y1[W*Ntr:(W+1)*Ntr]\n",
    "mmH = y3[W*Ntr:(W+1)*Ntr]\n",
    "sa =  y2[W*Ntr:(W+1)*Ntr]\n",
    "\n",
    "print which_p\n",
    "(name, xlims, xlab )= namestuff(which_p)\n",
    "fig, ax = plt.subplots(figsize = (10,10), ncols =2, nrows = 2)\n",
    "fig.suptitle('parameter is '+which_p)\n",
    "ax[0,0].scatter(x,late)\n",
    "ax[0,0].set_ylabel(r'$\\max(T_a)$ (s)')\n",
    "ax[0,1].scatter(x,meandH)\n",
    "ax[0,1].set_ylabel(r'$\\langle dH/dx\\rangle$')\n",
    "ax[1,0].scatter(x,mmH)\n",
    "ax[1,0].set_ylabel(r'$\\max (H)$ (m)')\n",
    "ax[1,1].scatter(x,sa)\n",
    "ax[1,1].set_ylabel(r'$\\sigma(T_a)$ (s)')\n",
    "for i in range(2):\n",
    "    for k in range(2):\n",
    "        ax[i,k].set_xlim(xlims) \n",
    "        ax[i,k].set_xlabel(xlab)\n",
    "\n"
   ]
  },
  {
   "cell_type": "code",
   "execution_count": 44,
   "metadata": {
    "collapsed": false
   },
   "outputs": [
    {
     "data": {
      "text/plain": [
       "['mean_dH',\n",
       " 'Vin',\n",
       " 'max_H',\n",
       " 'last_arrive_t',\n",
       " 'nodeTypes',\n",
       " 'max_arrive_t',\n",
       " 'conn',\n",
       " 'min_arrive_t']"
      ]
     },
     "execution_count": 44,
     "metadata": {},
     "output_type": "execute_result"
    }
   ],
   "source": [
    "Summary[0].keys()"
   ]
  },
  {
   "cell_type": "code",
   "execution_count": 77,
   "metadata": {
    "collapsed": false
   },
   "outputs": [
    {
     "name": "stdout",
     "output_type": "stream",
     "text": [
      "{'conn1diam': array([-0.09924485,  0.09466247,  0.19319863, -0.24203086]), 'conn2deg3': array([ 0.97485695, -0.66607605,  0.56694451,  0.92378564]), 'conn1deg3': array([ 0.24377254, -0.13344113, -0.0944433 ,  0.3194522 ]), 'conn2diam': array([ 0.,  0.,  0.,  0.])}\n"
     ]
    }
   ],
   "source": [
    "print FinalSummary"
   ]
  },
  {
   "cell_type": "code",
   "execution_count": 22,
   "metadata": {
    "collapsed": false
   },
   "outputs": [
    {
     "name": "stdout",
     "output_type": "stream",
     "text": [
      "late arrivals\n",
      "[ 0 28 49 62 73 94]\n",
      "early arrivals\n",
      "[ 1  8 19 41 70 76 85 86]\n",
      "arrival time range is [190.648000, 399.632000]\n",
      "small dH/dx\n",
      "[17 32 97]\n",
      "large dH/dx\n",
      "[ 1  8 19 41 48 70 76 85 86]\n",
      "dH/dx range is [3.357562, 58.896550]\n"
     ]
    },
    {
     "data": {
      "text/plain": [
       "<matplotlib.text.Text at 0x108666290>"
      ]
     },
     "execution_count": 22,
     "metadata": {},
     "output_type": "execute_result"
    },
    {
     "data": {
      "image/png": "[encoded data removed]",
      "text/plain": [
       "<matplotlib.figure.Figure at 0x107ebf710>"
      ]
     },
     "metadata": {},
     "output_type": "display_data"
    }
   ],
   "source": [
    "#hist(meandH, bins = 50)\n",
    "#print find(meandH ==max(meandH))\n",
    "print \"late arrivals\" \n",
    "print find(late >max(late)*.95)\n",
    "print \"early arrivals\"\n",
    "print find(late < min(late)*1.05)\n",
    "print \"arrival time range is [%f, %f]\"%(min(late), max(late))\n",
    "print \"small dH/dx\"\n",
    "print find(meandH <min(meandH)*1.05)\n",
    "print \"large dH/dx\"\n",
    "print find(meandH>max(meandH)*.95)\n",
    "print \"dH/dx range is [%f, %f]\"%(min(meandH),max(meandH))\n",
    "\n",
    "Hs1 = maxHs.min(axis=1)\n",
    "Hs2 = maxHs.max(axis=1)\n",
    "#hist(Hs1, bins = 50)\n",
    "#hist(Hs2, bins = 50)\n",
    "#scatter(mean(maxHs,1),mean(arrive_t,1))\n",
    "#scatter([arrive_t[k,farthest[k]] for k in range(Ntr)],deg[:,2])\n",
    "#scatter(deg[:,2],[maxHs[k,farthest[k]] for k in range(Ntr)])\n",
    "\n",
    "#scatter(deg[:,2],[arrive_t[k,farthest[k]] for k in range(Ntr)])\n",
    "\n",
    "#for spine data\n",
    "#scatter(deg[:,2],late)\n",
    "#scatter(mean(maxHs,1),late)\n",
    "#scatter(deg[:,2],mean(maxHs,1))\n",
    "scatter(deg[:,2],meandH)\n",
    "xlabel('number of spurs')\n",
    "ylabel('<dH/dx>')\n"
   ]
  },
  {
   "cell_type": "code",
   "execution_count": 17,
   "metadata": {
    "collapsed": false
   },
   "outputs": [
    {
     "name": "stdout",
     "output_type": "stream",
     "text": [
      "(6, 600)\n",
      "(600,)\n"
     ]
    }
   ],
   "source": [
    "print shape(z)\n",
    "print shape(y1)"
   ]
  },
  {
   "cell_type": "code",
   "execution_count": 120,
   "metadata": {
    "collapsed": false
   },
   "outputs": [
    {
     "name": "stdout",
     "output_type": "stream",
     "text": [
      "88.5327917421\n"
     ]
    }
   ],
   "source": [
    "print np.std(y3)\n",
    "print np.std()"
   ]
  },
  {
   "cell_type": "code",
   "execution_count": 388,
   "metadata": {
    "collapsed": false
   },
   "outputs": [],
   "source": [
    "conns = Summary[0]['conn']\n",
    "Np = shape(conns)[0]\n",
    "G=nx.Graph()\n",
    "for j in range(Np):\n",
    "    G.add_edge('%d'%conns[j,0],'%d'%conns[j,1])\n",
    "Dorig = nx.single_source_shortest_path_length(G,'0')\n",
    "x = Dorig.values()\n",
    "ftemp= Dorig.keys()[x.index(max(x))]"
   ]
  },
  {
   "cell_type": "code",
   "execution_count": 393,
   "metadata": {
    "collapsed": false
   },
   "outputs": [
    {
     "name": "stdout",
     "output_type": "stream",
     "text": [
      "1\n",
      "{'11': 6, '10': 4, '13': 3, '12': 2, '15': 4, '14': 6, '17': 4, '16': 5, '19': 6, '18': 3, '1': 8, '0': 0, '3': 7, '2': 8, '5': 7, '4': 5, '7': 8, '6': 5, '9': 4, '8': 1}\n",
      "[[ 5  1]\n",
      " [ 3  2]\n",
      " [11  3]\n",
      " [15  4]\n",
      " [11  5]\n",
      " [15  6]\n",
      " [ 3  7]\n",
      " [ 0  8]\n",
      " [13  9]\n",
      " [13 10]\n",
      " [16 11]\n",
      " [ 8 12]\n",
      " [12 13]\n",
      " [ 6 14]\n",
      " [18 15]\n",
      " [10 16]\n",
      " [18 17]\n",
      " [12 18]\n",
      " [ 6 19]]\n"
     ]
    },
    {
     "data": {
      "image/png": "[encoded data removed]",
      "text/plain": [
       "<matplotlib.figure.Figure at 0x10fba81d0>"
      ]
     },
     "metadata": {},
     "output_type": "display_data"
    }
   ],
   "source": [
    "print ftemp\n",
    "print Dorig\n",
    "pos = nx.graphviz_layout(G)\n",
    "nx.draw_networkx_nodes(G,pos,node_size=200,node_color = '#A0CBE2')\n",
    "# edges\n",
    "nx.draw_networkx_edges(G,pos,width=1,edge_cmap=plt.cm.ocean)\n",
    "#nx.draw_networkx_edges(G,pos,width=3,alpha=0.2)\n",
    "# labels\n",
    "nx.draw_networkx_labels(G,pos,font_size=8,font_family='sans-serif')\n",
    "plt.axis('off')\n",
    "print conns"
   ]
  },
  {
   "cell_type": "code",
   "execution_count": 376,
   "metadata": {
    "collapsed": false
   },
   "outputs": [
    {
     "data": {
      "text/plain": [
       "(100, 100)"
      ]
     },
     "execution_count": 376,
     "metadata": {},
     "output_type": "execute_result"
    }
   ],
   "source": [
    "shape(arrive_t[:,transpose(farthest)])"
   ]
  },
  {
   "cell_type": "code",
   "execution_count": 21,
   "metadata": {
    "collapsed": false
   },
   "outputs": [
    {
     "name": "stdout",
     "output_type": "stream",
     "text": [
      "[]\n"
     ]
    }
   ],
   "source": [
    "print find(late==0)"
   ]
  },
  {
   "cell_type": "code",
   "execution_count": 98,
   "metadata": {
    "collapsed": false
   },
   "outputs": [
    {
     "name": "stdout",
     "output_type": "stream",
     "text": [
      "[ 0.24377254 -0.13344113 -0.0944433   0.3194522 ]\n"
     ]
    }
   ],
   "source": [
    "r = np.zeros(4)\n",
    "b00,b10,r[0],p0,err0 = stats.linregress(x,late)\n",
    "b01,b11,r[1],p1,err1 = stats.linregress(x,meandH)\n",
    "b02,b12,r[2],p2,err2 = stats.linregress(x,mmH)\n",
    "b03,b13,r[3],p3,err3 = stats.linregress(x,sa)\n",
    "print r\n",
    "FinalSummary[which_p] = r"
   ]
  },
  {
   "cell_type": "code",
   "execution_count": 460,
   "metadata": {
    "collapsed": false
   },
   "outputs": [
    {
     "data": {
      "text/plain": [
       "<matplotlib.image.AxesImage at 0x1140cbf10>"
      ]
     },
     "execution_count": 460,
     "metadata": {},
     "output_type": "execute_result"
    },
    {
     "data": {
      "image/png": "[encoded data removed]",
      "text/plain": [
       "<matplotlib.figure.Figure at 0x112ac9bd0>"
      ]
     },
     "metadata": {},
     "output_type": "display_data"
    }
   ],
   "source": [
    "imshow(arrive_t>0)"
   ]
  },
  {
   "cell_type": "code",
   "execution_count": 25,
   "metadata": {
    "collapsed": false
   },
   "outputs": [
    {
     "name": "stdout",
     "output_type": "stream",
     "text": [
      "['11', '10', '13', '12', '1', '0', '3', '2', '5', '4', '7', '6', '9', '8']\n",
      "58.8965497546\n"
     ]
    },
    {
     "data": {
      "image/png": "[encoded data removed]",
      "text/plain": [
       "<matplotlib.figure.Figure at 0x10b7b18d0>"
      ]
     },
     "metadata": {},
     "output_type": "display_data"
    }
   ],
   "source": [
    "G2 = nx.Graph()\n",
    "fig, ax = plt.subplots(figsize = (5,5))\n",
    "Np = N-1\n",
    "for k in range(Np):\n",
    "    G2.add_edge('%d'%conns[k,0],'%d'%conns[k,1])\n",
    "print G2.nodes()\n",
    "pos2 ={k:pos[k] for k in G2.nodes()}\n",
    "values = [(scale*xx,scale*yy) for xx,yy in pos2.values()]\n",
    "posbig = {'%d'%k:values[k] for k in range(N)}\n",
    "# nodes\n",
    "nx.draw_networkx_nodes(G2,pos2,node_size=200,node_color = '#A0CBE2')\n",
    "# edges\n",
    "nx.draw_networkx_edges(G2,pos2,width=1,edge_cmap=plt.cm.ocean)\n",
    "#nx.draw_networkx_edges(G,pos,width=3,alpha=0.2)\n",
    "# labels\n",
    "nx.draw_networkx_labels(G2,pos2,font_size=8,font_family='sans-serif')\n",
    "plt.axis('off')\n",
    "xmax=1.14*max(xx for xx,yy in pos2.values())\n",
    "ymax=1.14*max(yy for xx,yy in pos2.values())\n",
    "xmin=min(xx for xx,yy in pos2.values())\n",
    "ymin=min(yy for xx,yy in pos2.values())\n",
    "plt.xlim(-sign(xmin)*1.1*xmin,xmax)\n",
    "plt.ylim(-sign(ymin)*1.1*ymin,ymax)\n",
    "#savefig('/Users/lieba/Desktop/spineN14.eps')\n",
    "print Summary[which]['mean_dH']"
   ]
  },
  {
   "cell_type": "code",
   "execution_count": 479,
   "metadata": {
    "collapsed": false
   },
   "outputs": [
    {
     "name": "stdout",
     "output_type": "stream",
     "text": [
      "0\n",
      "0\n",
      "0\n",
      "0\n",
      "0\n",
      "0\n",
      "0\n",
      "0\n",
      "0\n",
      "0\n",
      "0\n",
      "0\n",
      "0\n",
      "22\n"
     ]
    }
   ],
   "source": [
    "for k in range(14):\n",
    "    print len(find(arrive_t[:,k]==0))"
   ]
  },
  {
   "cell_type": "code",
   "execution_count": 33,
   "metadata": {
    "collapsed": false
   },
   "outputs": [
    {
     "name": "stdout",
     "output_type": "stream",
     "text": [
      "7\n",
      "14\n",
      "5\n"
     ]
    },
    {
     "data": {
      "image/png": "[encoded data removed]",
      "text/plain": [
       "<matplotlib.figure.Figure at 0x10ac86390>"
      ]
     },
     "metadata": {},
     "output_type": "display_data"
    }
   ],
   "source": [
    "#cool graphs! 87,1,40,73,17...? \n",
    "#for spine data:  min dH is 17, small ones are also...5,97\n",
    "#                 maxdH is [ 1  8 19 41 70 76 85 86] (these have no spurs) and also 48\n",
    "#                max late is 42\n",
    "#                min late is [ 1  8 19 41 70 76 85 86]\n",
    "which = 1\n",
    "conns = Summary[which]['conn']\n",
    "Np = shape(conns)[0]\n",
    "scale = 20\n",
    "G=nx.Graph()\n",
    "for k in range(Np):\n",
    "    G.add_edge('%d'%conns[k,0],'%d'%conns[k,1])\n",
    "\n",
    "pos=nx.graphviz_layout(G,root=0)\n",
    "fig, ax = plt.subplots(figsize = (5,5))\n",
    "values = [(scale*xx,scale*yy) for xx,yy in pos.values()]\n",
    "posbig = {'%d'%k:values[k] for k in range(Np)}\n",
    "# nodes\n",
    "nx.draw_networkx_nodes(G,pos,node_size=200,node_color = '#A0CBE2')\n",
    "# edges\n",
    "nx.draw_networkx_edges(G,pos,width=1,edge_cmap=plt.cm.ocean)\n",
    "#nx.draw_networkx_edges(G,pos,width=3,alpha=0.2)\n",
    "# labels\n",
    "nx.draw_networkx_labels(G,pos,font_size=8,font_family='sans-serif')\n",
    "plt.axis('off')\n",
    "xmax=1.14*max(xx for xx,yy in pos.values())\n",
    "ymax=1.14*max(yy for xx,yy in pos.values())\n",
    "xmin=min(xx for xx,yy in pos.values())\n",
    "ymin=min(yy for xx,yy in pos.values())\n",
    "plt.xlim(-sign(xmin)*1.1*xmin,xmax)\n",
    "plt.ylim(-sign(ymin)*1.1*ymin,ymax)\n",
    "print nx.radius(G)\n",
    "print nx.diameter(G)\n",
    "print Summary[0]['nodeTypes'].count(3)"
   ]
  },
  {
   "cell_type": "code",
   "execution_count": 43,
   "metadata": {
    "collapsed": false
   },
   "outputs": [
    {
     "name": "stdout",
     "output_type": "stream",
     "text": [
      "[0, 0.0087, 100.0, 0.007, 14, 5]\n"
     ]
    }
   ],
   "source": [
    "print defaults"
   ]
  },
  {
   "cell_type": "code",
   "execution_count": 228,
   "metadata": {
    "collapsed": false
   },
   "outputs": [
    {
     "name": "stdout",
     "output_type": "stream",
     "text": [
      "20\n",
      "23\n"
     ]
    }
   ],
   "source": [
    "print len(Summary[2]['max_H'])\n",
    "print len(Summary[0]['max_arrive_t'])"
   ]
  },
  {
   "cell_type": "code",
   "execution_count": 60,
   "metadata": {
    "collapsed": false
   },
   "outputs": [
    {
     "data": {
      "text/plain": [
       "(10, 6)"
      ]
     },
     "execution_count": 60,
     "metadata": {},
     "output_type": "execute_result"
    }
   ],
   "source": [
    "shape(np.kron(defaults,np.ones((10,1))))"
   ]
  },
  {
   "cell_type": "code",
   "execution_count": 65,
   "metadata": {
    "collapsed": false
   },
   "outputs": [],
   "source": [
    "z =  np.transpose(np.kron(defaults,np.ones((Ntr*Nvary,1))))"
   ]
  },
  {
   "cell_type": "code",
   "execution_count": 48,
   "metadata": {
    "collapsed": false
   },
   "outputs": [],
   "source": [
    "\n"
   ]
  },
  {
   "cell_type": "code",
   "execution_count": 102,
   "metadata": {
    "collapsed": false
   },
   "outputs": [
    {
     "name": "stdout",
     "output_type": "stream",
     "text": [
      "[0.72701925133619938, 0.0020470414755661514, 5.7410757018944981e-05, 0.011172638575508945, 0.0048722546745884852, 0.0045076506398830755]\n",
      "0.749676247459\n",
      "0.438431547932\n"
     ]
    }
   ],
   "source": []
  },
  {
   "cell_type": "code",
   "execution_count": 88,
   "metadata": {
    "collapsed": false
   },
   "outputs": [
    {
     "data": {
      "text/plain": [
       "array([246, 289, 401, 402, 404, 409, 435, 439, 444, 445, 451, 454, 467,\n",
       "       473, 477, 490, 491, 532, 538, 545, 547, 548, 558, 563, 590, 592])"
      ]
     },
     "execution_count": 88,
     "metadata": {},
     "output_type": "execute_result"
    }
   ],
   "source": [
    "find(y3<10)"
   ]
  },
  {
   "cell_type": "raw",
   "metadata": {},
   "source": []
  }
 ],
 "metadata": {
  "kernelspec": {
   "display_name": "Python 2",
   "language": "python",
   "name": "python2"
  },
  "language_info": {
   "codemirror_mode": {
    "name": "ipython",
    "version": 2
   },
   "file_extension": ".py",
   "mimetype": "text/x-python",
   "name": "python",
   "nbconvert_exporter": "python",
   "pygments_lexer": "ipython2",
   "version": "2.7.10"
  }
 },
 "nbformat": 4,
 "nbformat_minor": 0
}
