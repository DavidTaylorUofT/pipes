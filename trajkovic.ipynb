{
 "cells": [
  {
   "cell_type": "code",
   "execution_count": 1,
   "metadata": {
    "collapsed": false
   },
   "outputs": [
    {
     "name": "stdout",
     "output_type": "stream",
     "text": [
      "Populating the interactive namespace from numpy and matplotlib\n"
     ]
    }
   ],
   "source": [
    "from allthethings import PyNetwork, PyPipe_ps\n",
    "from allthethings import PyBC_opt_dh\n",
    "import numpy as np\n",
    "import matplotlib.pyplot as plt\n",
    "%pylab inline"
   ]
  },
  {
   "cell_type": "code",
   "execution_count": 2,
   "metadata": {
    "collapsed": false
   },
   "outputs": [
    {
     "name": "stdout",
     "output_type": "stream",
     "text": [
      "[8.77]\n",
      "3.56507034616\n",
      "0.000950234814975\n",
      "2.64521901504\n"
     ]
    }
   ],
   "source": [
    "fi = \"indata/trajkovic.inp\"\n",
    "fc = \"indata/trajkovic.config\"\n",
    "fc2 = \"indata/trajkovic2.config\"\n",
    "\n",
    "mtype = 1\n",
    "n1 = PyNetwork(fi,fc,mtype)\n",
    "\n",
    "M = n1.M\n",
    "N = n1.Ns[0]\n",
    "L = n1.Ls[0]\n",
    "a = n1.a[0]\n",
    "T1 =n1.T\n",
    "D = n1.Ds[0]\n",
    "p1 = PyPipe_ps(N, D, L, M, a)\n",
    "dt = T1/M\n",
    "print n1.a\n",
    "e0 = D*D*np.pi/4.-p1.AofH(0.015, False)\n",
    "e0 = [0.028,0.008, 0.015, 0.028]\n",
    "print e0[0]/p1.AofH(D,True)\n",
    "Af =D**2/4.*np.pi\n",
    "print (9.8*Af)/(9.0**2)\n",
    "print sqrt(9.8*Af/.011)"
   ]
  },
  {
   "cell_type": "code",
   "execution_count": 3,
   "metadata": {
    "collapsed": false
   },
   "outputs": [],
   "source": [
    "n1.runForwardProblem(dt)"
   ]
  },
  {
   "cell_type": "code",
   "execution_count": 4,
   "metadata": {
    "collapsed": false
   },
   "outputs": [
    {
     "name": "stdout",
     "output_type": "stream",
     "text": [
      "0.00785398163397\n",
      "187\n",
      "0.00166666666667\n"
     ]
    }
   ],
   "source": [
    "q = n1.q(0)\n",
    "h = n1.getHofA(0)\n",
    "qhist = n1.qhist(0)\n",
    "#b0= e0*2.*np.arctan(np.linspace(0,100,M+1))/np.pi\n",
    "print n1.Ds[0]**2*np.pi/4.\n",
    "n5 = 76*2  #assuming 10 m pipe\n",
    "n7 = 96*2\n",
    "#assuming 8.1 m stretch of pipe\n",
    "n5 = int(5.7/8.1*200)\n",
    "n7 = int(7.6/8.1*200)\n",
    "dx = n1.Ls[0]/n1.Ns[0]\n",
    "print n7\n",
    "n7 = 187\n",
    "P52 = []\n",
    "P72 = []\n",
    "print .5/8.1*.027"
   ]
  },
  {
   "cell_type": "code",
   "execution_count": 5,
   "metadata": {
    "collapsed": true
   },
   "outputs": [],
   "source": [
    "def idx_t(i,j,n):\n",
    "    return (2*(N+2)*n+(N+2)*i+j)"
   ]
  },
  {
   "cell_type": "code",
   "execution_count": 6,
   "metadata": {
    "collapsed": false
   },
   "outputs": [],
   "source": [
    "for i in range(1):\n",
    "    n2 = PyNetwork(fi, fc2, mtype)\n",
    "    M2 = n2.M\n",
    "    b0= e0[i]*np.ones(M+1)\n",
    "    n2.setbVal(1,b0);\n",
    "    n2.setIC(0,q[0:N],q[N:])\n",
    "    n2.runForwardProblem(dt)\n",
    "    qhist2 = n2.qhist(0)\n",
    "    P52.append([p1.HofA(qhist2[idx_t(0,n5,n)], False) for n in range(M2+1)])\n",
    "    P72.append([p1.HofA(qhist2[idx_t(0,n7,n)], False) for n in range(M2+1)])"
   ]
  },
  {
   "cell_type": "code",
   "execution_count": 7,
   "metadata": {
    "collapsed": false
   },
   "outputs": [
    {
     "name": "stdout",
     "output_type": "stream",
     "text": [
      "A =0.00066833 h =0.01400000\n",
      "3636808\n",
      "200\n",
      "0.722081851374\n"
     ]
    },
    {
     "ename": "NameError",
     "evalue": "name 'g' is not defined",
     "output_type": "error",
     "traceback": [
      "\u001b[0;31m---------------------------------------------------------------------------\u001b[0m",
      "\u001b[0;31mNameError\u001b[0m                                 Traceback (most recent call last)",
      "\u001b[0;32m<ipython-input-7-870b1cbd7c9b>\u001b[0m in \u001b[0;36m<module>\u001b[0;34m()\u001b[0m\n\u001b[1;32m     12\u001b[0m \u001b[0mP51\u001b[0m \u001b[0;34m=\u001b[0m \u001b[0;34m[\u001b[0m\u001b[0mp1\u001b[0m\u001b[0;34m.\u001b[0m\u001b[0mHofA\u001b[0m\u001b[0;34m(\u001b[0m\u001b[0mqhist\u001b[0m\u001b[0;34m[\u001b[0m\u001b[0midx_t\u001b[0m\u001b[0;34m(\u001b[0m\u001b[0;36m0\u001b[0m\u001b[0;34m,\u001b[0m\u001b[0mn5\u001b[0m\u001b[0;34m,\u001b[0m\u001b[0mn\u001b[0m\u001b[0;34m)\u001b[0m\u001b[0;34m]\u001b[0m\u001b[0;34m,\u001b[0m \u001b[0mTrue\u001b[0m\u001b[0;34m)\u001b[0m \u001b[0;32mfor\u001b[0m \u001b[0mn\u001b[0m \u001b[0;32min\u001b[0m \u001b[0mrange\u001b[0m\u001b[0;34m(\u001b[0m\u001b[0mM\u001b[0m\u001b[0;34m+\u001b[0m\u001b[0;36m1\u001b[0m\u001b[0;34m)\u001b[0m\u001b[0;34m]\u001b[0m\u001b[0;34m\u001b[0m\u001b[0m\n\u001b[1;32m     13\u001b[0m \u001b[0mP71\u001b[0m \u001b[0;34m=\u001b[0m \u001b[0;34m[\u001b[0m\u001b[0mp1\u001b[0m\u001b[0;34m.\u001b[0m\u001b[0mHofA\u001b[0m\u001b[0;34m(\u001b[0m\u001b[0mqhist\u001b[0m\u001b[0;34m[\u001b[0m\u001b[0midx_t\u001b[0m\u001b[0;34m(\u001b[0m\u001b[0;36m0\u001b[0m\u001b[0;34m,\u001b[0m\u001b[0mn7\u001b[0m\u001b[0;34m,\u001b[0m\u001b[0mn\u001b[0m\u001b[0;34m)\u001b[0m\u001b[0;34m]\u001b[0m\u001b[0;34m,\u001b[0m \u001b[0mTrue\u001b[0m\u001b[0;34m)\u001b[0m \u001b[0;32mfor\u001b[0m \u001b[0mn\u001b[0m \u001b[0;32min\u001b[0m \u001b[0mrange\u001b[0m\u001b[0;34m(\u001b[0m\u001b[0mM\u001b[0m\u001b[0;34m+\u001b[0m\u001b[0;36m1\u001b[0m\u001b[0;34m)\u001b[0m\u001b[0;34m]\u001b[0m\u001b[0;34m\u001b[0m\u001b[0m\n\u001b[0;32m---> 14\u001b[0;31m \u001b[0mplease\u001b[0m \u001b[0;34m=\u001b[0m \u001b[0;34m[\u001b[0m\u001b[0mp1\u001b[0m\u001b[0;34m.\u001b[0m\u001b[0mEta\u001b[0m\u001b[0;34m(\u001b[0m\u001b[0mqhist\u001b[0m\u001b[0;34m[\u001b[0m\u001b[0midx_t\u001b[0m\u001b[0;34m(\u001b[0m\u001b[0;36m0\u001b[0m\u001b[0;34m,\u001b[0m\u001b[0mn7\u001b[0m\u001b[0;34m,\u001b[0m\u001b[0mn\u001b[0m\u001b[0;34m)\u001b[0m\u001b[0;34m]\u001b[0m\u001b[0;34m,\u001b[0m\u001b[0mTrue\u001b[0m\u001b[0;34m)\u001b[0m\u001b[0;34m/\u001b[0m\u001b[0;34m(\u001b[0m\u001b[0mg\u001b[0m\u001b[0;34m*\u001b[0m\u001b[0mqhist\u001b[0m\u001b[0;34m[\u001b[0m\u001b[0midx_t\u001b[0m\u001b[0;34m(\u001b[0m\u001b[0;36m0\u001b[0m\u001b[0;34m,\u001b[0m\u001b[0mn7\u001b[0m\u001b[0;34m,\u001b[0m\u001b[0mn\u001b[0m\u001b[0;34m)\u001b[0m\u001b[0;34m]\u001b[0m\u001b[0;34m)\u001b[0m \u001b[0;32mfor\u001b[0m \u001b[0mn\u001b[0m \u001b[0;32min\u001b[0m \u001b[0mrange\u001b[0m\u001b[0;34m(\u001b[0m\u001b[0mM\u001b[0m\u001b[0;34m+\u001b[0m\u001b[0;36m1\u001b[0m\u001b[0;34m)\u001b[0m\u001b[0;34m]\u001b[0m\u001b[0;34m\u001b[0m\u001b[0m\n\u001b[0m\u001b[1;32m     15\u001b[0m \u001b[0mplease2\u001b[0m \u001b[0;34m=\u001b[0m\u001b[0;34m[\u001b[0m\u001b[0mp1\u001b[0m\u001b[0;34m.\u001b[0m\u001b[0mEta\u001b[0m\u001b[0;34m(\u001b[0m\u001b[0mqhist2\u001b[0m\u001b[0;34m[\u001b[0m\u001b[0midx_t\u001b[0m\u001b[0;34m(\u001b[0m\u001b[0;36m0\u001b[0m\u001b[0;34m,\u001b[0m\u001b[0mn7\u001b[0m\u001b[0;34m,\u001b[0m\u001b[0mn\u001b[0m\u001b[0;34m)\u001b[0m\u001b[0;34m]\u001b[0m\u001b[0;34m,\u001b[0m \u001b[0mFalse\u001b[0m\u001b[0;34m)\u001b[0m\u001b[0;34m/\u001b[0m\u001b[0;34m(\u001b[0m\u001b[0mg\u001b[0m\u001b[0;34m*\u001b[0m\u001b[0mqhist2\u001b[0m\u001b[0;34m[\u001b[0m\u001b[0midx_t\u001b[0m\u001b[0;34m(\u001b[0m\u001b[0;36m0\u001b[0m\u001b[0;34m,\u001b[0m\u001b[0mn7\u001b[0m\u001b[0;34m,\u001b[0m\u001b[0mn\u001b[0m\u001b[0;34m)\u001b[0m\u001b[0;34m]\u001b[0m\u001b[0;34m)\u001b[0m \u001b[0;32mfor\u001b[0m \u001b[0mn\u001b[0m \u001b[0;32min\u001b[0m \u001b[0mrange\u001b[0m\u001b[0;34m(\u001b[0m\u001b[0mM2\u001b[0m\u001b[0;34m+\u001b[0m\u001b[0;36m1\u001b[0m\u001b[0;34m)\u001b[0m\u001b[0;34m]\u001b[0m\u001b[0;34m\u001b[0m\u001b[0m\n\u001b[1;32m     16\u001b[0m \u001b[0;34m\u001b[0m\u001b[0m\n",
      "\u001b[0;31mNameError\u001b[0m: name 'g' is not defined"
     ]
    }
   ],
   "source": [
    "print \"A =%.8f h =%.8f\"%(p1.AofH(0.014,False),.014)\n",
    "M2 = n2.M\n",
    "T2 = n2.T\n",
    "T1 = n1.T\n",
    "t1 = linspace(0,T1, M+1)\n",
    "t2 = linspace(T1,T1+T2,M2+1)\n",
    "t = np.concatenate((t1,t2))\n",
    "\n",
    "print size(qhist)\n",
    "print n1.Ns[0]\n",
    "print n1.cmax[0]*dt*N/L\n",
    "P51 = [p1.HofA(qhist[idx_t(0,n5,n)], True) for n in range(M+1)]\n",
    "P71 = [p1.HofA(qhist[idx_t(0,n7,n)], True) for n in range(M+1)]\n",
    "please = [p1.Eta(qhist[idx_t(0,n7,n)],True)/(g*qhist[idx_t(0,n7,n)]) for n in range(M+1)]\n",
    "please2 =[p1.Eta(qhist2[idx_t(0,n7,n)], False)/(g*qhist2[idx_t(0,n7,n)]) for n in range(M2+1)]\n",
    "\n",
    "import csv\n",
    "t1 =[]\n",
    "q1 = []\n",
    "#c1 = csv.reader(open(\"../../Desktop/trajkovicp7e0_0.008.txt\",'rb'))\n",
    "c1 = csv.reader(open(\"../../Desktop/trajkovicp7e0_0.028.txt\",'rb'))\n",
    "\n",
    "for line in c1:\n",
    "    t1.append(float(line[0]))\n",
    "    q1.append(float(line[1]))\n",
    "pnew = np.array(P71+P72[0])\n",
    "yup = np,array(please+please2)\n",
    "slope = np.ones(len(pnew))*float(n1.Ns[0]-n7)/n1.Ns[0]*.027\n",
    "corr= zeros(len(pnew))\n",
    "#for i in range(len(pnew)):\n",
    "#    if pnew[i]>.015:\n",
    "#        corr[i] = 0.04\n",
    "fig, ax = plt.subplots(figsize=(15,5))\n",
    "ax.set_xlim(0,50)\n",
    "ax.set_ylim(0,.3)\n",
    "ax.set_xticks(np.linspace(0,50,51))\n",
    "ax.set_yticks(np.linspace(0,.30,16))\n",
    "print len(please+please2)\n",
    "damn = please+please2\n",
    "shit = np.array(damn)\n",
    "g = 9.8\n",
    "ax.plot(t1,q1,t,pnew, t,(shit)+.0135,lw=2)\n",
    "ax.grid(True)\n",
    "legend([\"trajkovic data\" ,r'$h(A)$', r'$z_0+\\eta/(gA)$'], loc = 'lower right')\n",
    "savefig(\"../exampledata.png\", format='png')"
   ]
  },
  {
   "cell_type": "code",
   "execution_count": null,
   "metadata": {
    "collapsed": false
   },
   "outputs": [],
   "source": [
    "hh= n1.getHofA(0)\n",
    "print max(hh)\n",
    "print please[0]\n",
    "aa = linspace(0.01,D*.9)\n",
    "yy = [p1.hofA(aa[i])-p1.Eta(aa[i]/g"
   ]
  },
  {
   "cell_type": "code",
   "execution_count": null,
   "metadata": {
    "collapsed": false
   },
   "outputs": [],
   "source": [
    "rc('text', usetex=True)        #for tex rendering. \n",
    "rc('font', **{'family':'serif', 'serif':['Computer Modern Roman'], \n",
    "                                'monospace': ['Computer Modern Typewriter'], 'size'   : 10})\n",
    "rc('font', family='serif')     #for pretty font \n",
    "#fig, ax = plt.subplots(figsize=(7,4))\n",
    "\n",
    "\n",
    "fig = plt.figure(figsize=(8,4))\n",
    "ax1 = fig.add_subplot(211)\n",
    "#title ('Experiments of Trajkovic (1999)')\n",
    "ax2 = fig.add_subplot(212)\n",
    "legs = []\n",
    "for i in range(3):\n",
    "    ax1.plot(t,P71+P72[i])\n",
    "    ax2.plot(t,P51+P52[i])\n",
    "    legs.append(r'$e_0=%1.3f$'%e0[i])\n",
    "ax2.legend(legs, loc='upper left')\n",
    "ax1.set_ylabel('h (m) at P7')\n",
    "ax2.set_ylabel('h (m) at P5')\n",
    "ax2.set_xlabel('t(s)')\n",
    "ax1.set_ylim(0,.28)\n",
    "ax2.set_ylim(0,.28)\n",
    "ax1.plot(t,.1*np.ones(size(t)), 'k:')\n",
    "ax2.plot(t,.1*np.ones(size(t)), 'k:')\n",
    "savefig(\"../trajkovic2.eps\", format='eps')"
   ]
  },
  {
   "cell_type": "code",
   "execution_count": null,
   "metadata": {
    "collapsed": false
   },
   "outputs": [],
   "source": [
    "\n"
   ]
  },
  {
   "cell_type": "code",
   "execution_count": 81,
   "metadata": {
    "collapsed": false
   },
   "outputs": [
    {
     "data": {
      "text/plain": [
       "[<matplotlib.lines.Line2D at 0x114ee4290>]"
      ]
     },
     "execution_count": 81,
     "metadata": {},
     "output_type": "execute_result"
    },
    {
     "data": {
      "image/png": "[encoded data removed]",
      "text/plain": [
       "<matplotlib.figure.Figure at 0x11602da90>"
      ]
     },
     "metadata": {},
     "output_type": "display_data"
    }
   ],
   "source": [
    "\n",
    "\n",
    "aa = linspace(0.0001,p1.At/2)\n",
    "yy = [p1.HofA(aa[i],False)-p1.pbar(aa[i],False)/(g*aa[i]) for i in range(len(aa)) ]\n",
    "plot(aa,yy)"
   ]
  },
  {
   "cell_type": "code",
   "execution_count": null,
   "metadata": {
    "collapsed": false
   },
   "outputs": [],
   "source": [
    "\n",
    "cf = imshow(p2, aspect='auto', origin = 'lower')\n",
    "cf.set_cmap(plt.cm.bone)\n",
    "xlabel('x')\n",
    "ylabel('t')\n",
    "ty = [\".1f\"%(n1.T*float(i)/n1.M) for i in range(0,5)]\n",
    "print ty\n",
    "#plt.gca().set_xticklabels(tx)\n",
    "plt.gca().set_yticklabels(ty)\n",
    "\n",
    "cb = colorbar(cf, ticks = [0,1], orientation = 'horizontal')\n",
    "cb.ax.set_xticklabels(['False', 'True'])"
   ]
  },
  {
   "cell_type": "code",
   "execution_count": null,
   "metadata": {
    "collapsed": false
   },
   "outputs": [],
   "source": [
    "print len(find(p2>0))\n",
    "print len(p2)"
   ]
  },
  {
   "cell_type": "code",
   "execution_count": null,
   "metadata": {
    "collapsed": false
   },
   "outputs": [],
   "source": [
    "p2[0]"
   ]
  },
  {
   "cell_type": "code",
   "execution_count": null,
   "metadata": {
    "collapsed": false
   },
   "outputs": [],
   "source": [
    "cf = imshow(p3, aspect='auto', origin='lower')\n",
    "cf.set_cmap(plt.cm.bone)\n",
    "cb = colorbar(cf, ticks = [0,1], orientation = 'horizontal')\n",
    "cb.ax.set_xticklabels(['False', 'True'])"
   ]
  },
  {
   "cell_type": "code",
   "execution_count": 9,
   "metadata": {
    "collapsed": false
   },
   "outputs": [],
   "source": [
    "PyNetwork?\n"
   ]
  },
  {
   "cell_type": "code",
   "execution_count": 95,
   "metadata": {
    "collapsed": false
   },
   "outputs": [],
   "source": [
    "PyPipe_ps?\n"
   ]
  },
  {
   "cell_type": "code",
   "execution_count": null,
   "metadata": {
    "collapsed": true
   },
   "outputs": [],
   "source": []
  }
 ],
 "metadata": {
  "kernelspec": {
   "display_name": "Python 2",
   "language": "python",
   "name": "python2"
  },
  "language_info": {
   "codemirror_mode": {
    "name": "ipython",
    "version": 2
   },
   "file_extension": ".py",
   "mimetype": "text/x-python",
   "name": "python",
   "nbconvert_exporter": "python",
   "pygments_lexer": "ipython2",
   "version": "2.7.10"
  }
 },
 "nbformat": 4,
 "nbformat_minor": 0
}
