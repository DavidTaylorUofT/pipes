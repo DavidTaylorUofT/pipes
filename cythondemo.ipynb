{
 "cells": [
  {
   "cell_type": "code",
   "execution_count": 1,
   "metadata": {
    "collapsed": false
   },
   "outputs": [],
   "source": [
    "from allthethings import PyNetwork\n",
    "from allthethings import PyBC_opt_dh\n",
    "import numpy as np"
   ]
  },
  {
   "cell_type": "code",
   "execution_count": 2,
   "metadata": {
    "collapsed": false
   },
   "outputs": [
    {
     "name": "stdout",
     "output_type": "stream",
     "text": [
      "Network at address 0x10400f400 with 4 nodes and 3 edges\n",
      "\n"
     ]
    }
   ],
   "source": [
    "fi = \"indata/3pipes1.inp\"     #location of .inp file\n",
    "fc = \"indata/3pipes1.config\"  #location of .config file\n",
    "mtype = 1                     #model used along network edges. 1 for Preissman Slot. 0 for uniform\n",
    "n1 = PyNetwork(fi, fc, mtype) #a network object\n",
    "print n1 \n",
    "#n1.showLayout()               #print the layout of the network\n"
   ]
  },
  {
   "cell_type": "code",
   "execution_count": 3,
   "metadata": {
    "collapsed": false
   },
   "outputs": [],
   "source": [
    "#n1.showCurrentData()    \n",
    "dt = n1.T/n1.M\n",
    "n1.runForwardProblem(dt)  #solve up to time T"
   ]
  },
  {
   "cell_type": "code",
   "execution_count": 5,
   "metadata": {
    "collapsed": false
   },
   "outputs": [
    {
     "name": "stdout",
     "output_type": "stream",
     "text": [
      "At time t = 50.000000\n",
      "Data from pipe 0\n",
      "A           Q\n",
      "0.047972    -0.000526\n",
      "0.047735    -0.001553\n",
      "0.047446    -0.002444\n",
      "0.047443    -0.002980\n",
      "0.048061    -0.002939\n",
      "0.049450    -0.002207\n",
      "0.051576    -0.000778\n",
      "0.054316    0.001317\n",
      "0.057541    0.004039\n",
      "0.061148    0.007368\n",
      "0.065063    0.011291\n",
      "0.069238    0.015809\n",
      "0.073638    0.020927\n",
      "0.078241    0.026654\n",
      "0.083029    0.033003\n",
      "0.087991    0.039987\n",
      "0.093118    0.047622\n",
      "0.098403    0.055920\n",
      "0.103841    0.064896\n",
      "0.109464    0.074544\n",
      "0.115936    0.084554\n",
      "0.132235    0.088072\n",
      "0.196108    0.025745\n",
      "0.306258    -0.166202\n",
      "0.403888    -0.357434\n",
      "Data from pipe 1\n",
      "A           Q\n",
      "0.548813    -0.326850\n",
      "0.491291    -0.516712\n",
      "0.447818    -0.582449\n",
      "0.446270    -0.582611\n",
      "0.457986    -0.564105\n",
      "0.471611    -0.539589\n",
      "0.484875    -0.512170\n",
      "0.497320    -0.482977\n",
      "0.508848    -0.452588\n",
      "0.519457    -0.421396\n",
      "0.529187    -0.389718\n",
      "0.538096    -0.357836\n",
      "0.546250    -0.326008\n",
      "0.553715    -0.294480\n",
      "0.560550    -0.263488\n",
      "0.566806    -0.233251\n",
      "0.572523    -0.203963\n",
      "0.577721    -0.175785\n",
      "0.582406    -0.148825\n",
      "0.586562    -0.123133\n",
      "0.590153    -0.098690\n",
      "0.593130    -0.075398\n",
      "0.595436    -0.053091\n",
      "0.597011    -0.031539\n",
      "0.597812    -0.010459\n",
      "Data from pipe 2\n",
      "A           Q\n",
      "0.548813    -0.326850\n",
      "0.491291    -0.516712\n",
      "0.447818    -0.582449\n",
      "0.446270    -0.582611\n",
      "0.457986    -0.564105\n",
      "0.471611    -0.539589\n",
      "0.484875    -0.512170\n",
      "0.497320    -0.482977\n",
      "0.508848    -0.452588\n",
      "0.519457    -0.421396\n",
      "0.529187    -0.389718\n",
      "0.538096    -0.357836\n",
      "0.546250    -0.326008\n",
      "0.553715    -0.294480\n",
      "0.560550    -0.263488\n",
      "0.566806    -0.233251\n",
      "0.572523    -0.203963\n",
      "0.577721    -0.175785\n",
      "0.582406    -0.148825\n",
      "0.586562    -0.123133\n",
      "0.590153    -0.098690\n",
      "0.593130    -0.075398\n",
      "0.595436    -0.053091\n",
      "0.597011    -0.031539\n",
      "0.597812    -0.010459\n"
     ]
    },
    {
     "data": {
      "text/plain": [
       "[12.0, 12.0, 12.0]"
      ]
     },
     "execution_count": 5,
     "metadata": {},
     "output_type": "execute_result"
    }
   ],
   "source": [
    "n1.showCurrentData()\n",
    "n1.getAveGradH(200)\n",
    "n1.cmax"
   ]
  },
  {
   "cell_type": "code",
   "execution_count": 8,
   "metadata": {
    "collapsed": false
   },
   "outputs": [
    {
     "name": "stdout",
     "output_type": "stream",
     "text": [
      "[0.1, 0.1, 0.1, 0.1, 0.1, 0.1, 0.1, 0.1, 0.1, 0.1, 0.1, 0.1, 0.1, 0.1, 0.1, 0.1, 0.1, 0.1, 0.1, 0.1, 0.1, 0.1, 0.1, 0.1, 0.1, 0.1, 0.1, 0.1, 0.1, 0.1, 0.1, 0.1]\n"
     ]
    }
   ],
   "source": [
    "ndof = 16\n",
    "wn = np.array([1,2])\n",
    "x0 = .1*np.ones(ndof*len(wn))\n",
    "opt1 = PyBC_opt_dh(fi, fc, ndof, x0, 1, wn)"
   ]
  },
  {
   "cell_type": "code",
   "execution_count": null,
   "metadata": {
    "collapsed": false
   },
   "outputs": [],
   "source": [
    "opt1.solve()\n",
    "opt1.x\n",
    "opt1.r\n",
    "opt1.f"
   ]
  },
  {
   "cell_type": "code",
   "execution_count": null,
   "metadata": {
    "collapsed": true
   },
   "outputs": [],
   "source": []
  }
 ],
 "metadata": {
  "kernelspec": {
   "display_name": "Python 2",
   "language": "python",
   "name": "python2"
  },
  "language_info": {
   "codemirror_mode": {
    "name": "ipython",
    "version": 2
   },
   "file_extension": ".py",
   "mimetype": "text/x-python",
   "name": "python",
   "nbconvert_exporter": "python",
   "pygments_lexer": "ipython2",
   "version": "2.7.9"
  }
 },
 "nbformat": 4,
 "nbformat_minor": 0
}
