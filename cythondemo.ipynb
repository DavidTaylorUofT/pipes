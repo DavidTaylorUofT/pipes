{
 "cells": [
  {
   "cell_type": "code",
   "execution_count": 1,
   "metadata": {
    "collapsed": false
   },
   "outputs": [
    {
     "name": "stdout",
     "output_type": "stream",
     "text": [
      "Populating the interactive namespace from numpy and matplotlib\n"
     ]
    }
   ],
   "source": [
    "from allthethings import PyNetwork, PyPipe_ps\n",
    "from allthethings import PyBC_opt_dh\n",
    "import numpy as np\n",
    "import matplotlib.pyplot as plt\n",
    "%pylab inline"
   ]
  },
  {
   "cell_type": "code",
   "execution_count": null,
   "metadata": {
    "collapsed": true
   },
   "outputs": [],
   "source": []
  },
  {
   "cell_type": "code",
   "execution_count": 2,
   "metadata": {
    "collapsed": false
   },
   "outputs": [
    {
     "name": "stdout",
     "output_type": "stream",
     "text": [
      "Network at address 0x108126500 with 4 nodes and 3 edges\n",
      "\n"
     ]
    }
   ],
   "source": [
    "fi =  \"indata/3pipes3.inp\"        #name of .inp file\n",
    "fcr = \"indata/bcs3pipesr.config\"  #name of .config file\n",
    "fc0 = \"indata/bcs3pipes0.config\"  \n",
    "mtype = 1                        #model used along network edges. 1 for Preissman Slot. 0 for uniform\n",
    "n0 = PyNetwork(fi, fc0, mtype)   #a network with Q==0 at boundaries\n",
    "nr = PyNetwork(fi, fcr,mtype)    #a network with reflecting BCs\n",
    "print n0 \n",
    "\n"
   ]
  },
  {
   "cell_type": "code",
   "execution_count": 3,
   "metadata": {
    "collapsed": false
   },
   "outputs": [],
   "source": [
    "#n1.showCurrentData()    \n",
    "dt = n0.T/n0.M\n",
    "V00 = n0.getTotalVolume()\n",
    "n0.runForwardProblem(dt)  #solve up to time T\n",
    "V0r = nr.getTotalVolume()\n",
    "nr.runForwardProblem(dt)\n"
   ]
  },
  {
   "cell_type": "code",
   "execution_count": null,
   "metadata": {
    "collapsed": true
   },
   "outputs": [],
   "source": []
  },
  {
   "cell_type": "code",
   "execution_count": 4,
   "metadata": {
    "collapsed": false
   },
   "outputs": [
    {
     "data": {
      "text/plain": [
       "[<matplotlib.lines.Line2D at 0x109fb4d50>]"
      ]
     },
     "execution_count": 4,
     "metadata": {},
     "output_type": "execute_result"
    },
    {
     "data": {
      "image/png": "[encoded data removed]",
      "text/plain": [
       "<matplotlib.figure.Figure at 0x108902650>"
      ]
     },
     "metadata": {},
     "output_type": "display_data"
    }
   ],
   "source": [
    "Ke = np.array([nr.getKE(i) for i in range(n0.M)])\n",
    "Pe = np.array([nr.getPE(i) for i in range (n0.M)])\n",
    "t= linspace(0,n0.T,n0.M)\n",
    "#plot(t,Ke,t,Pe)\n",
    "E0 = Ke[0]+Pe[0]\n",
    "plot(t,(Ke+Pe)/E0)"
   ]
  },
  {
   "cell_type": "code",
   "execution_count": 5,
   "metadata": {
    "collapsed": false
   },
   "outputs": [
    {
     "name": "stdout",
     "output_type": "stream",
     "text": [
      "Elapsed time is 15.00000 s, solve time is 3.67827 s\n",
      "Initial Volume is 168.393590\n",
      "         Q =0             reflecting       \n",
      "V0       168.39359        168.39359\n",
      "Vf       167.87537        168.39359\n",
      "dV       0.51822          -0.00000\n",
      "dV/V0    3.077442e-03     -4.438614e-12\n"
     ]
    }
   ],
   "source": [
    "print \"Elapsed time is %.5f s, solve time is %.5f s\" %(n0.T,n0.solve_time)\n",
    "print \"Initial Volume is %f\"%V00\n",
    "\n",
    "dV0 = V00-n0.getTotalVolume()\n",
    "dVr = V0r-nr.getTotalVolume()\n",
    "print \"         Q =0             reflecting       \"\n",
    "print \"V0       %3.5f        %3.5f\" %(V00,V0r)\n",
    "print \"Vf       %3.5f        %3.5f\" %(n0.getTotalVolume(), nr.getTotalVolume())\n",
    "print \"dV       %3.5f          %3.5f\" % (dV0,dVr)\n",
    "print \"dV/V0    %e     %e\"%(dV0/V00, dVr/V0r)"
   ]
  },
  {
   "cell_type": "code",
   "execution_count": 6,
   "metadata": {
    "collapsed": false,
    "scrolled": true
   },
   "outputs": [
    {
     "data": {
      "image/png": "[encoded data removed]",
      "text/plain": [
       "<matplotlib.figure.Figure at 0x1028bdf90>"
      ]
     },
     "metadata": {},
     "output_type": "display_data"
    },
    {
     "name": "stdout",
     "output_type": "stream",
     "text": [
      "0.769218180636\n",
      "[120.33334862668688, 120.11976278875906, 120.18812090513553]\n",
      "cmax*dt/dx = 0.727736 \n",
      "3.08355129898\n",
      "1.70813651388\n",
      "1.53238264733\n",
      "max(H(x,T))\n",
      "     Q = 0       reflecting\n",
      "pipe 0  3.083551    2.743045\n",
      "pipe 1  2.002225    2.042987\n",
      "pipe 2  2.075336    1.677040\n",
      "space-average grad(H)\n",
      "        Q = 0       reflecting\n",
      "max  265.566994   117.426281\n",
      "mean 3.836019   2.976733\n"
     ]
    },
    {
     "data": {
      "image/png": "[encoded data removed]",
      "text/plain": [
       "<matplotlib.figure.Figure at 0x10a4ba310>"
      ]
     },
     "metadata": {},
     "output_type": "display_data"
    }
   ],
   "source": [
    "qi = [n0.q(i) for i in range(n0.Nedges)]\n",
    "hi = [n0.getHofA(i) for i in range(3)]\n",
    "hir = [nr.getHofA(i) for i in range(3)]\n",
    "Ai = [qi[i][0:n0.Ns[i]] for i in range(3)]\n",
    "Qi = [qi[i][n0.Ns[i]:] for i in range(3)] \n",
    "u= []\n",
    "ymaxs = [ceil(max(h)) for h in hi]\n",
    "for i in range(3):\n",
    "        u.append([Qi[i][k]/Ai[i][k] for k in range(n0.Ns[i])])\n",
    "\n",
    "fig,ax = plt.subplots(nrows = n0.Nedges)\n",
    "x0 = [0,0,100.-n0.Ns[2]]\n",
    "for k in range(n0.Nedges):\n",
    "    x = np.arange(0,n0.Ls[k], n0.Ls[k]/n0.Ns[k])+x0[k]*np.ones(size(hi[k]))\n",
    "    ax[k].plot(x,hi[k],'b')\n",
    "    ax[k].plot(x,hir[k],'g')\n",
    "    #ax[k].set_ylim([0,ymaxs[i]])\n",
    "    ax[k].set_xlim([0,100])\n",
    "    #ax[k].set_yticks(np.linspace(0,ymaxs[i],6))\n",
    "legend(['Q=0', 'reflect'])\n",
    "savefig(\"../../solultion_r66.pdf\", format='pdf')\n",
    "plt.show()\n",
    "\n",
    "print n0.getAveGradH(600)\n",
    "umax = max(abs(max(ui)) for ui in u)\n",
    "print n0.cmax\n",
    "print \"cmax*dt/dx = %f \"%((max(n0.a)+umax)*dt/n0.Ls[0]*n0.Ns[0])\n",
    "print hi[0][99]\n",
    "print hi[1][0]\n",
    "print hi[2][0]\n",
    "\n",
    "print \"max(H(x,T))\"\n",
    "print \"     Q = 0       reflecting\"\n",
    "for i in range(3):\n",
    "    print \"pipe %d  %f    %f\" %(i, max(hi[i]), max(hir[i]))\n",
    "Hbar = [n0.getAveGradH(i) for i in range(n0.M+1)]\n",
    "Hbarr = [nr.getAveGradH(i) for i in range(nr.M+1)]\n",
    "t = np.linspace(0,n0.T,n0.M+1)\n",
    "plot(t,Hbar,'m')\n",
    "plot(t,Hbarr,'r')\n",
    "legend(['Q=0', 'reflect'], loc ='upper left')\n",
    "savefig(\"../../gradH_r66.pdf\", format='pdf')\n",
    "print \"space-average grad(H)\"\n",
    "print \"        Q = 0       reflecting\"\n",
    "print \"max  %f   %f\" %(max(Hbar),max(Hbarr))\n",
    "print \"mean %f   %f\" %(mean(Hbar), mean(Hbarr))\n",
    "\n"
   ]
  },
  {
   "cell_type": "code",
   "execution_count": null,
   "metadata": {
    "collapsed": true
   },
   "outputs": [],
   "source": [
    "def it(i,n,N):\n",
    "    return (N+2)*n+i;"
   ]
  },
  {
   "cell_type": "code",
   "execution_count": null,
   "metadata": {
    "collapsed": false
   },
   "outputs": [],
   "source": [
    "fig,ax = plt.subplots(nrows = n0.Nedges)\n",
    "x0 = [0,0,100.-n0.Ns[-1]]\n",
    "t = np.linspace(0,n0.T,n0.M+2)\n",
    "for k in range(n0.Nedges):\n",
    "    phist = n0.phist(k)\n",
    "    p = phist.reshape(n0.M+2,n0.Ns[k]+2)\n",
    "    #p = phist.reshape(n0.Ns[k]+2,n0.M+2)\n",
    "    s = shape(p)\n",
    "    p2 = p.astype(int)\n",
    "    x = np.linspace(0,n0.Ls[k], n0.Ns[k]+2)\n",
    "    X,T = np.meshgrid(x,t)\n",
    "    cf = ax[k].imshow(p2, aspect='auto',origin='lower')\n",
    "    cf.set_cmap(plt.cm.bone)\n",
    "#cb = colorbar(cf, ticks = [0,1], orientation = 'horizontal')\n",
    "#cb.ax.set_xticklabels(['False', 'True'])\n",
    "    #ax[k].set_ylim([0,ymaxs[i]])\n",
    "    #ax[k].set_xlim([0,100])\n",
    "print shape(p)\n"
   ]
  },
  {
   "cell_type": "code",
   "execution_count": null,
   "metadata": {
    "collapsed": false
   },
   "outputs": [],
   "source": [
    "fig,ax = plt.subplots(nrows = n0.Nedges)\n",
    "x0 = [0,0,100.-n0.Ns[-1]]\n",
    "t = np.linspace(0,n0.T,n0.M+2)\n",
    "for k in range(n0.Nedges):\n",
    "    phist = nr.phist(k)\n",
    "    p = phist.reshape(n0.M+2,n0.Ns[k]+2)\n",
    "    s = shape(p)\n",
    "    p2 = p.astype(int)\n",
    "    x = np.linspace(0,n0.Ls[k], n0.Ns[k]+2)\n",
    "    X,T = np.meshgrid(x,t)\n",
    "    cf = ax[k].imshow(p2, aspect='auto',origin='lower')\n",
    "    cf.set_cmap(plt.cm.bone)\n",
    "#cb = colorbar(cf, ticks = [0,1], orientation = 'horizontal')\n",
    "#cb.ax.set_xticklabels(['False', 'True'])\n",
    "    #ax[k].set_ylim([0,ymaxs[i]])\n",
    "    #ax[k].set_xlim([0,100])\n",
    "print shape(p)"
   ]
  },
  {
   "cell_type": "code",
   "execution_count": 1,
   "metadata": {
    "collapsed": false
   },
   "outputs": [
    {
     "ename": "NameError",
     "evalue": "name 'hi' is not defined",
     "output_type": "error",
     "traceback": [
      "\u001b[0;31m---------------------------------------------------------------------------\u001b[0m",
      "\u001b[0;31mNameError\u001b[0m                                 Traceback (most recent call last)",
      "\u001b[0;32m<ipython-input-1-784bd687b339>\u001b[0m in \u001b[0;36m<module>\u001b[0;34m()\u001b[0m\n\u001b[0;32m----> 1\u001b[0;31m \u001b[0;32mprint\u001b[0m \u001b[0mhi\u001b[0m\u001b[0;34m[\u001b[0m\u001b[0;36m0\u001b[0m\u001b[0;34m]\u001b[0m\u001b[0;34m[\u001b[0m\u001b[0;34m-\u001b[0m\u001b[0;36m1\u001b[0m\u001b[0;34m]\u001b[0m\u001b[0;34m\u001b[0m\u001b[0m\n\u001b[0m\u001b[1;32m      2\u001b[0m \u001b[0;32mprint\u001b[0m \u001b[0mhi\u001b[0m\u001b[0;34m[\u001b[0m\u001b[0;36m1\u001b[0m\u001b[0;34m]\u001b[0m\u001b[0;34m[\u001b[0m\u001b[0;36m0\u001b[0m\u001b[0;34m]\u001b[0m\u001b[0;34m\u001b[0m\u001b[0m\n\u001b[1;32m      3\u001b[0m \u001b[0;32mprint\u001b[0m \u001b[0mhi\u001b[0m\u001b[0;34m[\u001b[0m\u001b[0;36m2\u001b[0m\u001b[0;34m]\u001b[0m\u001b[0;34m[\u001b[0m\u001b[0;36m0\u001b[0m\u001b[0;34m]\u001b[0m\u001b[0;34m\u001b[0m\u001b[0m\n\u001b[1;32m      4\u001b[0m \u001b[0;32mprint\u001b[0m \u001b[0mn0\u001b[0m\u001b[0;34m.\u001b[0m\u001b[0ma\u001b[0m\u001b[0;34m\u001b[0m\u001b[0m\n",
      "\u001b[0;31mNameError\u001b[0m: name 'hi' is not defined"
     ]
    }
   ],
   "source": [
    "print hi[0][-1]\n",
    "print hi[1][0]\n",
    "print hi[2][0]\n",
    "print n0.a"
   ]
  },
  {
   "cell_type": "code",
   "execution_count": null,
   "metadata": {
    "collapsed": true
   },
   "outputs": [],
   "source": [
    "xgood = [-0.6746336425052268, 0.3929209271302193, 0.1973050791881181, -0.05013525191675948, 0.23496014533696993, 0.05708314708689007, 0.3522406842364152, -0.09905964763856627, 0.0734732917634615, -0.5896266740705881, -0.0792411751293785, -0.07888391087489807, -0.3046798334842904, 0.520074906919188, -0.2943897531723091, -0.14160338303198525, -8.623427645223251e-06, -3.6521105914176848e-06, -1.2484771645342056e-05, 9.792962812864235e-06, 1.0745510279929457e-05, 1.2520849540545679e-05, -4.544559347600004e-06, -1.155025325385363e-06, 9.041571992302412e-06, -2.1574126074518583e-05, -6.199034669364961e-06, 4.843472497262422e-06, -2.7997384888334016e-06, -1.0799020768271911e-05, -3.523753990486484e-06, 5.9742214963075885e-06]"
   ]
  },
  {
   "cell_type": "code",
   "execution_count": null,
   "metadata": {
    "collapsed": false
   },
   "outputs": [],
   "source": [
    "ndof = 32\n",
    "\n",
    "wn = np.array([2])\n",
    "x0 = 0*np.ones(ndof*len(wn))\n",
    "for i in range(ndof*len(wn)/2):\n",
    "    x0[2*i+1] = 0\n",
    "#for i in range(len(x0)):\n",
    "#    x0[i] = xgood[i]\n",
    "opt1 = PyBC_opt_dh(fi, fc0, ndof, x0, 1, wn)\n",
    "\n",
    "\n",
    "opt1.compute_f()\n",
    "\n",
    "f0 = opt1.f\n",
    "print \"f is %f\" %opt1.f\n",
    "print \"T is %f\" %opt1.T\n",
    "print \"Using %s modes\" %opt1.modetype\n"
   ]
  },
  {
   "cell_type": "code",
   "execution_count": null,
   "metadata": {
    "collapsed": true
   },
   "outputs": [],
   "source": [
    "opt1.solve()"
   ]
  },
  {
   "cell_type": "code",
   "execution_count": null,
   "metadata": {
    "collapsed": false
   },
   "outputs": [],
   "source": [
    "print opt1.f\n",
    "print opt1.x\n",
    "ndof2 = 32\n",
    "x02 = np.zeros(ndof2*len(wn));\n",
    "opt2 = PyBC_opt_dh(fi, fc0, ndof2, x02, 0, wn)\n",
    "f02 = opt2.f\n",
    "opt2.compute_f()\n",
    "print \"f is %f\" %opt2.f\n",
    "print \"T is %f\" %opt2.T\n",
    "print \"Using %s modes\" %opt2.modetype\n",
    "\n"
   ]
  },
  {
   "cell_type": "code",
   "execution_count": null,
   "metadata": {
    "collapsed": false
   },
   "outputs": [],
   "source": [
    "\n",
    "opt2.solve()\n",
    "#opt1.x\n",
    "#opt1.r\n"
   ]
  },
  {
   "cell_type": "code",
   "execution_count": null,
   "metadata": {
    "collapsed": false
   },
   "outputs": [],
   "source": [
    "#import matplotlib.pyplot as plt\n",
    "\n",
    "ff = opt1.f\n",
    "ff2 = opt2.f\n",
    "Q1 = opt1.getBCtimeseries(0)\n",
    "#Q2 = opt1.getBCtimeseries(1)\n",
    "Q12 = opt2.getBCtimeseries(0)\n",
    "#Q22  = opt2.getBCtimeseries(1)\n",
    "t = np.linspace(0,opt1.T, opt1.M+1)\n",
    "fig,ax = plt.subplots(nrows = 1)\n",
    "\n",
    "\n",
    "ax.plot(t,Q1,'b')#,t,np.zeros(opt1.M+1),'r')\n",
    "#ax.plot(t,Q12,'g')\n",
    "ax.set_ylabel('Q1(t)')\n",
    "\n",
    "#ax[0].plot(t,Q1,'b')#,t,np.zeros(opt1.M+1),'r')\n",
    "#ax[0].plot(t,Q12,'g')\n",
    "#ax[0].set_ylabel('Q1(t)')\n",
    "#ax[1].plot(t,Q2,'b')#,t,np.zeros(opt1.M+1),'r')\n",
    "#ax[1].plot(t,Q22, 'g')\n",
    "legend([opt1.modetype, opt2.modetype],'unoptimized')\n",
    "#ax[1].set_xlabel('t')\n",
    "#ax[1].set_ylabel('Q2(t)')\n",
    "#savefig(\"../../optcythondemo.pdf\", format='pdf')\n",
    "#print max(abs(Q2[i]) for i in range(len(Q2)))\n",
    "print opt1.x\n",
    "print opt2.x\n",
    "print \"max discrepancy is %e\"%max([Q1[i]-Q12[i] for i in range(len(Q1))])\n",
    "\n"
   ]
  },
  {
   "cell_type": "code",
   "execution_count": null,
   "metadata": {
    "collapsed": false
   },
   "outputs": [],
   "source": [
    "print \"                 %s         %s\"    %(opt1.modetype, opt2.modetype)\n",
    "print \"CPU time (s)     %4.2f     %4.2f\" % (opt1.solve_t, opt2.solve_t)\n",
    "print \"actual time (s)  %4.2f      %4.2f\" % (opt1.wsolve_t,opt2.wsolve_t)\n",
    "print \"parallel speedup %1.1f         %1.1f \"%(opt1.solve_t/opt1.wsolve_t, opt2.solve_t/opt2.wsolve_t)\n",
    "print \"f0               %4.2f      %4.2f\"%(f0,f0)\n",
    "print \"ff               %4.2f       %4.2f\" %(ff,ff2)\n",
    "print \"f0/ff  =         %.5f     %.5f\"%(ff/f0, ff2/f0)\n",
    "#print opt1.x"
   ]
  },
  {
   "cell_type": "code",
   "execution_count": null,
   "metadata": {
    "collapsed": false
   },
   "outputs": [],
   "source": [
    "for i in range(len(x02)):\n",
    "    x02[i] = opt1.x[i]\n",
    "print n0.Ls\n"
   ]
  },
  {
   "cell_type": "code",
   "execution_count": 1,
   "metadata": {
    "collapsed": false
   },
   "outputs": [],
   "source": [
    "opt3 = PyBC_opt_dh(fi, fc0, ndof2, x02, 1, wn)\n",
    "opt3.compute_f()\n",
    "print opt3.f"
   ]
  },
  {
   "cell_type": "code",
   "execution_count": 58,
   "metadata": {
    "collapsed": false
   },
   "outputs": [
    {
     "name": "stdout",
     "output_type": "stream",
     "text": [
      "[-2.1391036499142744e-05, 1.648382344257513e-05, 1.5194130096376555e-05, -3.112453293168686e-06, 3.6663063969128227e-06, 1.5595569649360952e-05, -2.8531609746604885e-06, 4.323900017152339e-06, -2.933914848502068e-06, -2.5953855193414282e-06, -8.825790777987424e-07, 3.192591312220249e-06, -7.797284569099623e-06, 1.3864070077098793e-05, -8.454811140941908e-06, -1.6192167267603107e-06, -7.486915208719089e-06, -2.834786873892471e-06, -2.737500125928461e-05, 1.2222210190481686e-05, 1.445083039525268e-05, -1.8791764113707123e-05, -1.3953853674668765e-05, -2.4005228855731144e-06, 3.426189636393526e-06, 1.005327234569448e-05, -8.360758391124902e-06, -6.287671138515951e-06, -4.601561716178503e-06, -6.262144988132824e-07, 6.7671104141421294e-06, 3.6887823155085387e-06]\n"
     ]
    }
   ],
   "source": [
    "print opt1.x"
   ]
  },
  {
   "cell_type": "code",
   "execution_count": 59,
   "metadata": {
    "collapsed": false
   },
   "outputs": [
    {
     "name": "stdout",
     "output_type": "stream",
     "text": [
      "[0.00047186008942658105, 0.009976883794371963, 0.0008585388332828412, 0.0016967457284392553, 0.03729382733395991, -0.038086684103361364, -0.00011472150548260665, 0.0012747667187105872, 0.010408445021695419, -0.003898117539133023, 0.003673592360069058, -0.017730138602238533, -0.07635612019783604, 0.0009741254041361439, 0.03706282737356269, 0.16242808289098676, 0.001804530652070897, 0.01614181305066116, -0.007453568282335674, 0.10732665559448563, 0.0002879405034638517, 0.010765066807523243, 0.0002728890692430234, 0.0026684459595989482, -0.003081956623248071, -0.7004126838740525, 0.41824598873888486, 0.03561260596278148, 1.3307396518918588, -0.5466717738288066, 0.26158894620473566, -0.26185444020598103]\n"
     ]
    }
   ],
   "source": [
    "print opt2.x"
   ]
  },
  {
   "cell_type": "code",
   "execution_count": 60,
   "metadata": {
    "collapsed": true
   },
   "outputs": [],
   "source": [
    "opt1.dump()"
   ]
  },
  {
   "cell_type": "code",
   "execution_count": 61,
   "metadata": {
    "collapsed": true
   },
   "outputs": [],
   "source": [
    "opt2.dump()"
   ]
  },
  {
   "cell_type": "code",
   "execution_count": null,
   "metadata": {
    "collapsed": true
   },
   "outputs": [],
   "source": []
  }
 ],
 "metadata": {
  "kernelspec": {
   "display_name": "Python 2",
   "language": "python",
   "name": "python2"
  },
  "language_info": {
   "codemirror_mode": {
    "name": "ipython",
    "version": 2
   },
   "file_extension": ".py",
   "mimetype": "text/x-python",
   "name": "python",
   "nbconvert_exporter": "python",
   "pygments_lexer": "ipython2",
   "version": "2.7.9"
  }
 },
 "nbformat": 4,
 "nbformat_minor": 0
}
