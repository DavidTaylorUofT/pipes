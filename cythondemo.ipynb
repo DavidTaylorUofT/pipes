{
 "cells": [
  {
   "cell_type": "code",
   "execution_count": 1,
   "metadata": {
    "collapsed": false
   },
   "outputs": [],
   "source": [
    "from allthethings import PyNetwork\n",
    "from allthethings import PyBC_opt_dh\n",
    "import numpy as np"
   ]
  },
  {
   "cell_type": "code",
   "execution_count": 2,
   "metadata": {
    "collapsed": false
   },
   "outputs": [
    {
     "name": "stdout",
     "output_type": "stream",
     "text": [
      "Network at address 0x10220d130 with 4 nodes and 3 edges\n",
      "\n"
     ]
    }
   ],
   "source": [
    "fi = \"indata/3pipes1.inp\"     #location of .inp file\n",
    "fc = \"indata/3pipes1.config\"  #location of .config file\n",
    "mtype = 1                     #model used along network edges. 1 for Preissman Slot. 0 for uniform\n",
    "n1 = PyNetwork(fi, fc, mtype) #a network object\n",
    "print n1 \n",
    "#n1.showLayout()               #print the layout of the network\n"
   ]
  },
  {
   "cell_type": "code",
   "execution_count": 3,
   "metadata": {
    "collapsed": false
   },
   "outputs": [],
   "source": [
    "#n1.showCurrentData()    \n",
    "dt = n1.T/n1.M\n",
    "#n1.runForwardProblem(dt)  #solve up to time T"
   ]
  },
  {
   "cell_type": "code",
   "execution_count": 4,
   "metadata": {
    "collapsed": false
   },
   "outputs": [],
   "source": [
    "#n1.showCurrentData()"
   ]
  },
  {
   "cell_type": "code",
   "execution_count": 6,
   "metadata": {
    "collapsed": false
   },
   "outputs": [
    {
     "name": "stdout",
     "output_type": "stream",
     "text": [
      "[1.0, 1.0, 1.0, 1.0, 1.0, 1.0, 1.0, 1.0, 1.0, 1.0, 1.0, 1.0, 1.0, 1.0, 1.0, 1.0, 1.0, 1.0, 1.0, 1.0, 1.0, 1.0, 1.0, 1.0, 1.0, 1.0, 1.0, 1.0, 1.0, 1.0, 1.0, 1.0]\n",
      "T = 0.500000\n",
      "[1 2]\n",
      "[1, 2]\n"
     ]
    }
   ],
   "source": [
    "ndof = 16\n",
    "wn = np.array([1,2])\n",
    "x0 = np.ones(ndof*len(wn))\n",
    "opt1 = PyBC_opt_dh(fi, fc, ndof, x0, 0, wn)\n",
    "opt1.solve()\n"
   ]
  },
  {
   "cell_type": "code",
   "execution_count": null,
   "metadata": {
    "collapsed": true
   },
   "outputs": [],
   "source": []
  }
 ],
 "metadata": {
  "kernelspec": {
   "display_name": "Python 2",
   "language": "python",
   "name": "python2"
  },
  "language_info": {
   "codemirror_mode": {
    "name": "ipython",
    "version": 2
   },
   "file_extension": ".py",
   "mimetype": "text/x-python",
   "name": "python",
   "nbconvert_exporter": "python",
   "pygments_lexer": "ipython2",
   "version": "2.7.9"
  }
 },
 "nbformat": 4,
 "nbformat_minor": 0
}
