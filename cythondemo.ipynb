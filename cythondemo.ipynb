{
 "cells": [
  {
   "cell_type": "code",
   "execution_count": 1,
   "metadata": {
    "collapsed": false
   },
   "outputs": [],
   "source": [
    "from allthethings import PyNetwork\n",
    "from allthethings import PyBC_opt_dh\n",
    "import numpy as np"
   ]
  },
  {
   "cell_type": "code",
   "execution_count": 2,
   "metadata": {
    "collapsed": false
   },
   "outputs": [
    {
     "name": "stdout",
     "output_type": "stream",
     "text": [
      "Network at address 0x102207e40 with 4 nodes and 3 edges\n",
      "\n"
     ]
    }
   ],
   "source": [
    "fi = \"indata/3pipes1.inp\"     #location of .inp file\n",
    "fc = \"indata/3pipes1.config\"  #location of .config file\n",
    "mtype = 1                     #model used along network edges. 1 for Preissman Slot. 0 for uniform\n",
    "n1 = PyNetwork(fi, fc, mtype) #a network object\n",
    "print n1 \n",
    "#n1.showLayout()               #print the layout of the network\n"
   ]
  },
  {
   "cell_type": "code",
   "execution_count": 3,
   "metadata": {
    "collapsed": false
   },
   "outputs": [],
   "source": [
    "#n1.showCurrentData()    \n",
    "dt = n1.T/n1.M\n",
    "#n1.runForwardProblem(dt)  #solve up to time T"
   ]
  },
  {
   "cell_type": "code",
   "execution_count": 4,
   "metadata": {
    "collapsed": false
   },
   "outputs": [],
   "source": [
    "#n1.showCurrentData()"
   ]
  },
  {
   "cell_type": "code",
   "execution_count": 5,
   "metadata": {
    "collapsed": false
   },
   "outputs": [
    {
     "name": "stdout",
     "output_type": "stream",
     "text": [
      "[1.0, 1.0, 1.0, 1.0, 1.0, 1.0, 1.0, 1.0, 1.0, 1.0, 1.0, 1.0, 1.0, 1.0, 1.0, 1.0, 1.0, 1.0, 1.0, 1.0, 1.0, 1.0, 1.0, 1.0, 1.0, 1.0, 1.0, 1.0, 1.0, 1.0, 1.0, 1.0]\n"
     ]
    },
    {
     "data": {
      "text/plain": [
       "[0.0,\n",
       " 4.828147792579954e-10,\n",
       " 1.9096836819650393e-09,\n",
       " 4.248887370459575e-09,\n",
       " 7.469547438401231e-09,\n",
       " 1.1541605032046464e-08,\n",
       " 1.6435800035901278e-08,\n",
       " 2.2123650806789927e-08,\n",
       " 2.8577434440869e-08,\n",
       " 3.577016755859321e-08,\n",
       " 4.367558759309574e-08,\n",
       " 5.226813456787569e-08,\n",
       " 6.152293335012874e-08,\n",
       " 7.14157763664571e-08,\n",
       " 8.192310676810488e-08,\n",
       " 9.302200203324085e-08,\n",
       " 1.046901579941779e-07,\n",
       " 1.1690587327781882e-07,\n",
       " 1.296480341478954e-07,\n",
       " 1.4289609973798757e-07,\n",
       " 1.5663008766459054e-07,\n",
       " 1.7083056000978563e-07,\n",
       " 1.854786096634628e-07,\n",
       " 2.00555847015282e-07,\n",
       " 2.1604438698680897e-07,\n",
       " 2.3192683639464596e-07,\n",
       " 2.4818628163554953e-07,\n",
       " 2.64806276684858e-07,\n",
       " 2.817708313997322e-07,\n",
       " 2.9906440011904773e-07,\n",
       " 3.166718705518975e-07,\n",
       " 3.345785529470505e-07,\n",
       " 3.527701695357786e-07,\n",
       " 3.712328442407299e-07,\n",
       " 3.8995309264386237e-07,\n",
       " 4.089178122063813e-07,\n",
       " 4.2811427273414423e-07,\n",
       " 4.475301070819215e-07,\n",
       " 4.671533020902118e-07,\n",
       " 4.869721897485216e-07,\n",
       " 5.069754385790505e-07,\n",
       " 5.271520452350711e-07,\n",
       " 5.474913263083007e-07,\n",
       " 5.67982910339838e-07,\n",
       " 5.886167300292602e-07,\n",
       " 6.093830146368255e-07,\n",
       " 6.302722825736144e-07,\n",
       " 6.512753341748171e-07,\n",
       " 6.723832446513736e-07,\n",
       " 6.935873572153465e-07,\n",
       " 7.148792763745077e-07,\n",
       " 7.362508613918139e-07,\n",
       " 7.576942199055002e-07,\n",
       " 7.792017017056229e-07,\n",
       " 8.007658926630863e-07,\n",
       " 8.223796088072191e-07,\n",
       " 8.440358905480956e-07,\n",
       " 8.65727997039862e-07,\n",
       " 8.874494006816174e-07,\n",
       " 9.091937817521211e-07,\n",
       " 9.309550231751258e-07,\n",
       " 9.52727205411914e-07,\n",
       " 9.745046014778534e-07,\n",
       " 9.962816720798122e-07,\n",
       " 1.0180530608714095e-06,\n",
       " 1.0398135898231263e-06,\n",
       " 1.061558254704331e-06,\n",
       " 1.0832822206745408e-06,\n",
       " 1.1049808179810272e-06,\n",
       " 1.1266495377602055e-06,\n",
       " 1.1482840279401454e-06,\n",
       " 1.1698800892418371e-06,\n",
       " 1.191433671276438e-06,\n",
       " 1.2129408687365164e-06,\n",
       " 1.234397917678619e-06,\n",
       " 1.255801191895081e-06,\n",
       " 1.2771471993728576e-06,\n",
       " 1.298432578837113e-06,\n",
       " 1.3196540963776602e-06,\n",
       " 1.340808642156031e-06,\n",
       " 1.36189322719134e-06,\n",
       " 1.3829049802228842e-06,\n",
       " 1.4038411446477303e-06,\n",
       " 1.4246990755313315e-06,\n",
       " 1.4454762366894534e-06,\n",
       " 1.466170197839703e-06,\n",
       " 1.4867786318208842e-06,\n",
       " 1.5072993118785886e-06,\n",
       " 1.5277301090154262e-06,\n",
       " 1.5480689894042445e-06,\n",
       " 1.5683140118629612e-06,\n",
       " 1.588463325389331e-06,\n",
       " 1.608515166754407e-06,\n",
       " 1.628467858153099e-06,\n",
       " 1.6483198049106165e-06,\n",
       " 1.668069493243268e-06,\n",
       " 1.6877154880725833e-06,\n",
       " 1.7072564308911723e-06,\n",
       " 1.726691037679299e-06,\n",
       " 1.7460180968709164e-06,\n",
       " 1.76523646736795e-06]"
      ]
     },
     "execution_count": 5,
     "metadata": {},
     "output_type": "execute_result"
    }
   ],
   "source": [
    "ndof = 16\n",
    "wn = np.array([1,2])\n",
    "x0 = np.ones(ndof*len(wn))\n",
    "opt1 = PyBC_opt_dh(fi, fc, ndof, x0, 0, wn)\n",
    "opt1.solve()\n",
    "opt1.x\n",
    "opt1.r"
   ]
  },
  {
   "cell_type": "code",
   "execution_count": 6,
   "metadata": {
    "collapsed": false
   },
   "outputs": [
    {
     "data": {
      "text/plain": [
       "4.5261924133711607e-11"
      ]
     },
     "execution_count": 6,
     "metadata": {},
     "output_type": "execute_result"
    }
   ],
   "source": [
    "opt1.f"
   ]
  },
  {
   "cell_type": "code",
   "execution_count": null,
   "metadata": {
    "collapsed": true
   },
   "outputs": [],
   "source": []
  }
 ],
 "metadata": {
  "kernelspec": {
   "display_name": "Python 2",
   "language": "python",
   "name": "python2"
  },
  "language_info": {
   "codemirror_mode": {
    "name": "ipython",
    "version": 2
   },
   "file_extension": ".py",
   "mimetype": "text/x-python",
   "name": "python",
   "nbconvert_exporter": "python",
   "pygments_lexer": "ipython2",
   "version": "2.7.9"
  }
 },
 "nbformat": 4,
 "nbformat_minor": 0
}
