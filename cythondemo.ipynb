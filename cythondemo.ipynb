{
 "cells": [
  {
   "cell_type": "code",
   "execution_count": 1,
   "metadata": {
    "collapsed": false
   },
   "outputs": [
    {
     "name": "stdout",
     "output_type": "stream",
     "text": [
      "Populating the interactive namespace from numpy and matplotlib\n"
     ]
    }
   ],
   "source": [
    "from allthethings import PyNetwork\n",
    "from allthethings import PyBC_opt_dh\n",
    "import numpy as np\n",
    "import matplotlib.pyplot as plt\n",
    "%pylab inline"
   ]
  },
  {
   "cell_type": "code",
   "execution_count": 2,
   "metadata": {
    "collapsed": false
   },
   "outputs": [
    {
     "name": "stdout",
     "output_type": "stream",
     "text": [
      "Network at address 0x102240a80 with 4 nodes and 3 edges\n",
      "\n"
     ]
    }
   ],
   "source": [
    "fi = \"indata/3pipes1.inp\"     #location of .inp file\n",
    "fc = \"indata/3pipes1.config\"  #location of .config file\n",
    "#fi = \"indata/3pipesL1.5.inp\"     #location of .inp file\n",
    "#fc = \"indata/3pipes1L1.5.config\"  #location of .config file\n",
    "mtype = 1                        #model used along network edges. 1 for Preissman Slot. 0 for uniform\n",
    "n1 = PyNetwork(fi, fc, mtype)    #a network object\n",
    "print n1 "
   ]
  },
  {
   "cell_type": "code",
   "execution_count": 3,
   "metadata": {
    "collapsed": false
   },
   "outputs": [
    {
     "name": "stdout",
     "output_type": "stream",
     "text": [
      "Elapsed time is 3.00000 s, solve time is 0.91537 s\n"
     ]
    }
   ],
   "source": [
    "#n1.showCurrentData()    \n",
    "dt = n1.T/n1.M\n",
    "n1.runForwardProblem(dt)  #solve up to time T\n",
    "print \"Elapsed time is %.5f s, solve time is %.5f s\" %(n1.T,n1.solve_time)"
   ]
  },
  {
   "cell_type": "code",
   "execution_count": 4,
   "metadata": {
    "collapsed": false,
    "scrolled": true
   },
   "outputs": [
    {
     "data": {
      "image/png": "[encoded data removed]",
      "text/plain": [
       "<matplotlib.figure.Figure at 0x1062a76d0>"
      ]
     },
     "metadata": {},
     "output_type": "display_data"
    },
    {
     "name": "stdout",
     "output_type": "stream",
     "text": [
      "0.0125657075035\n"
     ]
    }
   ],
   "source": [
    "qi = [n1.q(i) for i in range(n1.Nedges)]\n",
    "hi = [n1.getHofA(i) for i in range(3)]\n",
    "fig,ax = plt.subplots(nrows = n1.Nedges)\n",
    "for k in range(n1.Nedges):\n",
    "    x = np.arange(0,n1.Ls[k], n1.Ls[k]/n1.Ns[k])\n",
    "    ax[k].plot(x,qi[k][0:n1.Ns[k]],'b')\n",
    "plt.show()\n",
    "print n1.getAveGradH(390)"
   ]
  },
  {
   "cell_type": "code",
   "execution_count": 5,
   "metadata": {
    "collapsed": false
   },
   "outputs": [
    {
     "name": "stdout",
     "output_type": "stream",
     "text": [
      "f is 0.000055\n",
      "T is 3.000000\n",
      "Using Hermite modes\n"
     ]
    }
   ],
   "source": [
    "ndof = 16\n",
    "wn = np.array([1,2])\n",
    "x0 = 0*np.ones(ndof*len(wn))\n",
    "for i in range(ndof*len(wn)/2):\n",
    "    x0[2*i+1] = 0\n",
    "opt1 = PyBC_opt_dh(fi, fc, ndof, x0, 0, wn)\n",
    "opt1.compute_f()\n",
    "f0 = opt1.f\n",
    "print \"f is %f\" %opt1.f\n",
    "print \"T is %f\" %opt1.T\n",
    "print \"Using %s modes\" %opt1.modetype"
   ]
  },
  {
   "cell_type": "code",
   "execution_count": null,
   "metadata": {
    "collapsed": false
   },
   "outputs": [],
   "source": [
    "opt1.solve()\n",
    "#opt1.x\n",
    "#opt1.r\n"
   ]
  },
  {
   "cell_type": "code",
   "execution_count": 7,
   "metadata": {
    "collapsed": false
   },
   "outputs": [],
   "source": [
    "#opt1.x"
   ]
  },
  {
   "cell_type": "code",
   "execution_count": null,
   "metadata": {
    "collapsed": false
   },
   "outputs": [],
   "source": [
    "#import matplotlib.pyplot as plt\n",
    "ff = opt1.f\n",
    "Q1 = opt1.getBCtimeseries(0)\n",
    "Q2 = opt1.getBCtimeseries(1)\n",
    "print \"Final f/Initial f  = %f\"%(ff/0.000004)\n",
    "t = np.linspace(0,opt1.T, opt1.M+1)\n",
    "plot(t,Q1,t,np.zeros(opt1.M+1),'r')\n",
    "xlabel('t')\n",
    "ylabel('Q1(t)')\n",
    "\n"
   ]
  },
  {
   "cell_type": "code",
   "execution_count": null,
   "metadata": {
    "collapsed": false
   },
   "outputs": [],
   "source": [
    "plot(t,Q2,t,np.zeros(opt1.M+1),'r')\n",
    "xlabel('t')\n",
    "ylabel('Q2(t)')\n",
    "#print opt1.x"
   ]
  },
  {
   "cell_type": "code",
   "execution_count": null,
   "metadata": {
    "collapsed": true
   },
   "outputs": [],
   "source": []
  }
 ],
 "metadata": {
  "kernelspec": {
   "display_name": "Python 2",
   "language": "python",
   "name": "python2"
  },
  "language_info": {
   "codemirror_mode": {
    "name": "ipython",
    "version": 2
   },
   "file_extension": ".py",
   "mimetype": "text/x-python",
   "name": "python",
   "nbconvert_exporter": "python",
   "pygments_lexer": "ipython2",
   "version": "2.7.9"
  }
 },
 "nbformat": 4,
 "nbformat_minor": 0
}
