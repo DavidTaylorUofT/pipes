{
 "cells": [
  {
   "cell_type": "code",
   "execution_count": 1,
   "metadata": {
    "collapsed": false
   },
   "outputs": [
    {
     "name": "stdout",
     "output_type": "stream",
     "text": [
      "Populating the interactive namespace from numpy and matplotlib\n"
     ]
    }
   ],
   "source": [
    "from allthethings import PyNetwork, PyPipe_ps\n",
    "from allthethings import PyBC_opt_dh\n",
    "import numpy as np\n",
    "import matplotlib.pyplot as plt\n",
    "import matplotlib.cm as cmx\n",
    "%pylab inline"
   ]
  },
  {
   "cell_type": "code",
   "execution_count": 2,
   "metadata": {
    "collapsed": true
   },
   "outputs": [],
   "source": [
    "npipes = 2           #number of pipes. only choose 1,2, or 3. Don't fuck with the relevant config files, please...\n",
    "nref = 5;            #number of refinements, I'd recommend keeping this less than 5\n",
    "refineT = 1\n",
    "refinex = 1\n",
    "if npipes ==1:\n",
    "    sim = '1pipe'   #Example from Leon (2006). Exact solution known\n",
    "if npipes ==2:\n",
    "    sim = '2pipes'\n",
    "    sim = '2pipes2'\n",
    "    sim = '2pipes3'\n",
    "if npipes ==3:\n",
    "    sim = '3pipes1' #Example illustrating triple junction sovles. Exact solution not known"
   ]
  },
  {
   "cell_type": "code",
   "execution_count": 3,
   "metadata": {
    "collapsed": true
   },
   "outputs": [],
   "source": [
    "#read original inp and config files\n",
    "ifile = sim+'.inp'\n",
    "cfile = sim+'.config'\n",
    "where = 'indata/'   #where original files live\n",
    "where2 = 'indata/tmpconfig/'  #where new config files live\n",
    "X = []\n",
    "A = []\n",
    "H = []\n",
    "Q = []\n",
    "dVr = []\n",
    "dE = []\n",
    "runtime = []\n",
    "Nk = []\n",
    "Mk = []"
   ]
  },
  {
   "cell_type": "code",
   "execution_count": 4,
   "metadata": {
    "collapsed": false
   },
   "outputs": [
    {
     "name": "stdout",
     "output_type": "stream",
     "text": [
      "indata/2pipes3.config\n",
      "indata/tmpconfig/2pipes30.config\n",
      "M is 200 and N is 50\n",
      "indata/2pipes3.config\n",
      "indata/tmpconfig/2pipes31.config\n",
      "M is 400 and N is 100\n",
      "indata/2pipes3.config\n",
      "indata/tmpconfig/2pipes32.config\n",
      "M is 800 and N is 200\n",
      "indata/2pipes3.config\n",
      "indata/tmpconfig/2pipes33.config\n",
      "M is 1600 and N is 400\n",
      "indata/2pipes3.config\n",
      "indata/tmpconfig/2pipes34.config\n",
      "M is 3200 and N is 800\n"
     ]
    }
   ],
   "source": [
    "#create nref new config files-- double number of grid points and halve the time step from previous run\n",
    "\n",
    "for k in range(0,nref):\n",
    "    count = 0;\n",
    "    fr = open(where+cfile,'r')\n",
    "    if (k<nref-1):\n",
    "        K = pow(2,k)\n",
    "    else:\n",
    "        K = pow(2,k)\n",
    "    newconfig = where2+sim+(\"%d.config\"%k)\n",
    "    print where+cfile\n",
    "    print newconfig\n",
    "    with open(newconfig, 'w') as fw:\n",
    "        for line in fr:\n",
    "            if '[' in line:\n",
    "                fw.write(line)\n",
    "                count +=1\n",
    "            elif (count ==1) and (\";\" not in line) and len(line.split())>1:\n",
    "                s = line.split()\n",
    "                N = int(s[1]);\n",
    "                if refinex:\n",
    "                    Nnew = K*N\n",
    "                else:\n",
    "                    Nnew = N\n",
    "                fw.write(  \"%s     %i\t  %s     %s\\n\"%(s[0],Nnew, s[2], s[3]))\n",
    "            elif (count ==3) and (\";\" not in line) and len(line.split())>1:\n",
    "                s = line.split()\n",
    "                M =  int(s[1]);\n",
    "                Mi = int(s[2]);\n",
    "                if refineT:\n",
    "                    Mnew = K*M\n",
    "                else:\n",
    "                    Mnew = M\n",
    "                fw.write(\"%s        %i        %i\"%(s[0],Mnew, K*Mi))\n",
    "            else:\n",
    "                fw.write(line)\n",
    "        Nk.append(Nnew)\n",
    "        Mk.append(Mnew)\n",
    "        print \"M is %d and N is %d\"%(Mnew, Nnew)\n",
    "    fr.close()\n",
    "    fw.close()\n",
    "mtype = 1                        #model used along network edges. 1 for Preissman Slot. 0 for uniform"
   ]
  },
  {
   "cell_type": "code",
   "execution_count": 5,
   "metadata": {
    "collapsed": false
   },
   "outputs": [
    {
     "name": "stdout",
     "output_type": "stream",
     "text": [
      "indata/2pipes3.inp\n",
      "indata/tmpconfig/2pipes30.config\n",
      "Vf-(V0+Qin*T) = 1.750554e-02\n",
      "indata/2pipes3.inp\n",
      "indata/tmpconfig/2pipes31.config\n",
      "Vf-(V0+Qin*T) = 1.766999e-02\n",
      "indata/2pipes3.inp\n",
      "indata/tmpconfig/2pipes32.config\n",
      "Vf-(V0+Qin*T) = 1.775221e-02\n",
      "indata/2pipes3.inp\n",
      "indata/tmpconfig/2pipes33.config\n",
      "Vf-(V0+Qin*T) = 1.779332e-02\n",
      "indata/2pipes3.inp\n",
      "indata/tmpconfig/2pipes34.config\n",
      "Vf-(V0+Qin*T) = 1.781388e-02\n"
     ]
    }
   ],
   "source": [
    "for k in range(0,nref):\n",
    "    fi = where+ifile\n",
    "    fc = where2+sim+(\"%d.config\"%k)\n",
    "    print fi\n",
    "    print fc\n",
    "    n0 = PyNetwork(fi, fc, mtype)   \n",
    "    V0 = n0.getTotalVolume()\n",
    "    Ne = n0.Nedges\n",
    "    dt = n0.T/n0.M\n",
    "    n0.runForwardProblem(dt)\n",
    "    Vf = n0.getTotalVolume()\n",
    "    qi = [n0.q(i) for i in range(Ne)]\n",
    "    h = [n0.getHofA(i) for i in range(Ne)]\n",
    "    a = [qi[i][0:n0.Ns[i]] for i in range(Ne)]\n",
    "    q = [qi[i][n0.Ns[i]:] for i in range(Ne)] \n",
    "    x =  [np.linspace(0,n0.Ls[i], n0.Ns[i]) for i in range(Ne)]\n",
    "    dV = (Vf-V0)/V0\n",
    "    print \"Vf-(V0+Qin*T) = %e\" %((Vf-(V0))/V0)\n",
    "    E0 = n0.getKE(0)+n0.getPE(0)\n",
    "    E = n0.getKE(n0.M)+n0.getPE(n0.M)\n",
    "    X.append(x)\n",
    "    A.append(a)\n",
    "    H.append(h)\n",
    "    Q.append(q)\n",
    "    dx = n0.Ls[0]/n0.Ns[0]\n",
    "    dE.append(dx*(E-E0))\n",
    "    dVr.append(dV)\n",
    "    runtime.append(n0.solve_time)\n",
    "    ymax = max([max(h[i]) for i in range(Ne)])"
   ]
  },
  {
   "cell_type": "code",
   "execution_count": 6,
   "metadata": {
    "collapsed": false
   },
   "outputs": [
    {
     "name": "stdout",
     "output_type": "stream",
     "text": [
      "volume loss -1.900115e+02\n"
     ]
    }
   ],
   "source": [
    "print \"volume loss %e\" %(Vf-2*n0.T-V0)"
   ]
  },
  {
   "cell_type": "code",
   "execution_count": 33,
   "metadata": {
    "collapsed": false
   },
   "outputs": [
    {
     "data": {
      "image/png": "[encoded data removed]",
      "text/plain": [
       "<matplotlib.figure.Figure at 0x10d642950>"
      ]
     },
     "metadata": {},
     "output_type": "display_data"
    }
   ],
   "source": [
    "#plot the results \n",
    "rc('text', usetex=True)        #for tex rendering. \n",
    "rc('font', **{'family':'serif', 'serif':['Computer Modern Roman'], \n",
    "                                'monospace': ['Computer Modern Typewriter'], 'size'   : 14})\n",
    "rc('font', family='serif')     #for pretty font \n",
    "import matplotlib.colors as clrs\n",
    "cNorm = clrs.Normalize(vmin = 0, vmax = nref+1)\n",
    "rc('font', **{'family':'serif', 'serif':['Computer Modern Roman'], \n",
    "                                'monospace': ['Computer Modern Typewriter'], 'size'   : 8})\n",
    "scalarMap = cmx.ScalarMappable(norm = cNorm, cmap = 'gnuplot')\n",
    "if(npipes==2):\n",
    "        fig, ax = plt.subplots(figsize=(6,3),ncols= 2)\n",
    "        whereleg = 'lower right'\n",
    "        whereleg = 'upper left'\n",
    "else:\n",
    "        fig, ax  = plt.subplots(nrows=max(npipes,2))\n",
    "legs = []\n",
    "if npipes ==1:\n",
    "        explain = ['reflection']\n",
    "elif npipes==2:\n",
    "        explain = ['', 'reflection']\n",
    "        #explain = ['', 'outflow']\n",
    "elif npipes==3:\n",
    "        explain = ['to pipes 1 and 2', 'outflow', 'reflection']\n",
    "for i in range(nref):\n",
    "        colorVal = scalarMap.to_rgba(nref-i)\n",
    "        dx = X[i][0][1]-X[i][0][0];\n",
    "        if refinex:\n",
    "            legs.append(\"dx=%2.2f\"%dx)\n",
    "        else:\n",
    "            legs.append(\"dt=%.4f\"%(n0.T/Mk[i]))\n",
    "        for jj in range(npipes):\n",
    "                j = npipes-jj-1\n",
    "                ax[j].plot(X[i][j], H[i][j], color = colorVal)\n",
    "                ax[j].set_ylim([0,ymax])\n",
    "                ax[j].set_axis_bgcolor('white')\n",
    "                ax[j].set_yticks(np.arange(0,5)/(4.)*ymax)\n",
    "                #ax[j].set_ylabel('pipe %d'%j)\n",
    "                ax[j].tick_params(axis='y', colors='.5')\n",
    "                ax[j].tick_params(axis='x', colors='.5')\n",
    "                ax[j].set_xticklabels([])\n",
    "        if npipes ==1:\n",
    "                Ni = len(X[i])\n",
    "                htrue = np.zeros(Ni)\n",
    "                for ii in range(Ni):\n",
    "                        if ii/(float(Ni))<.5828:  #using R-H conditions to compute shock speed\n",
    "                                htrue[ii] =  .5\n",
    "                        else:\n",
    "                                htrue[ii] =1.122893 \n",
    "                ax[1].plot(X[i][0], H[i][0]-htrue, color = colorVal)\n",
    "                ax[1].set_ylabel('error')\n",
    "                ax[1].set_axis_bgcolor('black')\n",
    "                ax[1].tick_params(axis='y', colors='.5')\n",
    "                ax[1].tick_params(axis='x', colors='.5')\n",
    "                ax[0].set_ylabel('h')\n",
    "                #failed legend attempts...bloody hell, Matplotlib...\n",
    "if npipes ==2:\n",
    "        ymax = ceil(ymax*4)/4\n",
    "        ymax = 2.8\n",
    "        ax[0].legend(legs, loc =whereleg, ncol =1, fancybox=True, shadow=False)\n",
    "        ax[1].set_yticklabels([])\n",
    "        ax[0].plot((0, 500), (n0.Ds[0], n0.Ds[0]), 'k:', linewidth=2.0)\n",
    "        ax[1].plot((0, 500), (n0.Ds[1], n0.Ds[1]), 'k:', linewidth=2.0)\n",
    "        ax[0].set_ylim(0,ymax)\n",
    "        ax[1].set_ylim(0,ymax)\n",
    "        q0 = Q[0][0][0]\n",
    "        h0 = H[0][0][0]\n",
    "        ax[0].set_ylabel('h (m)')\n",
    "        ax[0].set_xlabel('pipe 0')\n",
    "        ax[1].set_xlabel('pipe 1')\n",
    "        #explain[1] = 'pipe 0, h(x=L) = %1.1f'%(0.1)\n",
    "        #ax[0].set_xlabel('x (m)')\n",
    "else:                         # Put a legend below current axis\n",
    "        box = ax[-1].get_position()\n",
    "        ax[-1].set_position([box.x0, box.y0 + box.height * 0.1,box.width, box.height * 0.9])\n",
    "        ax[-1].legend(legs,loc='upper center', bbox_to_anchor=(0.5, -0.05),fancybox=True, shadow=True, ncol=5)\n",
    "\n",
    "#fig.suptitle('Water height along pipes at time t = %3.1f s'%n0.T, fontsize =10)\n",
    "leg = ax[0].get_legend()\n",
    "legt = leg.get_texts()\n",
    "frame = leg.get_frame()\n",
    "plt.setp(legt, fontsize=8, color = 'black')\n",
    "plt.tight_layout()\n",
    "#frame.set_facecolor('black') \n",
    "#ax[npipes-1].set_xlabel('x (m)')\n",
    "ax[0].annotate(\n",
    "    r\"pipe 0 crown\", xy=(10, 1.1), xycoords='data',\n",
    "    xytext=(10, 1.1), textcoords='offset points')\n",
    "ax[1].annotate(\n",
    "    r\"pipe 1 crown\", xy=(10, 0.9), xycoords='data',\n",
    "    xytext=(1, 0.9), textcoords='offset points')\n",
    "for j in range(1,npipes):\n",
    "        ax2 = ax[j].twinx()\n",
    "        ax2.set_yticklabels([])\n",
    "        ax2.set_xticklabels([])\n",
    "        #ax2.set_ylabel(\"h (m)\")\n",
    "        #ax2.tick_params(axis='y', colors='black')\n",
    "savefig(\"../conv2reallynewer.eps\", format='eps')"
   ]
  },
  {
   "cell_type": "code",
   "execution_count": 34,
   "metadata": {
    "collapsed": false
   },
   "outputs": [
    {
     "name": "stdout",
     "output_type": "stream",
     "text": [
      "[12.0, 12.0]\n"
     ]
    }
   ],
   "source": [
    "print n0.a"
   ]
  },
  {
   "cell_type": "code",
   "execution_count": 35,
   "metadata": {
    "collapsed": false
   },
   "outputs": [
    {
     "name": "stdout",
     "output_type": "stream",
     "text": [
      "[0.017505543336989452, 0.01766998716198618, 0.017752209074467944, 0.017793320030686403, 0.017813875508734138]\n"
     ]
    }
   ],
   "source": [
    "print dVr"
   ]
  },
  {
   "cell_type": "code",
   "execution_count": 36,
   "metadata": {
    "collapsed": false
   },
   "outputs": [
    {
     "name": "stdout",
     "output_type": "stream",
     "text": [
      "[-4.0452376860975123, -4.0358877191937399, -4.0312453159049779, -4.0289321712938708, -4.0277776023917289]\n"
     ]
    }
   ],
   "source": [
    "print [log(abs(dVr[i])) for i in range(len(dVr))]"
   ]
  },
  {
   "cell_type": "code",
   "execution_count": 37,
   "metadata": {
    "collapsed": false
   },
   "outputs": [
    {
     "name": "stdout",
     "output_type": "stream",
     "text": [
      "-0.176217660753\n",
      "1.65516732632\n",
      "1.47894966557\n"
     ]
    },
    {
     "data": {
      "image/png": "[encoded data removed]",
      "text/plain": [
       "<matplotlib.figure.Figure at 0x10e46ff10>"
      ]
     },
     "metadata": {},
     "output_type": "display_data"
    }
   ],
   "source": [
    "htrue = H[-1]\n",
    "einf = np.zeros((nref-1,Ne))\n",
    "eL2 = np.zeros((nref-1,Ne))\n",
    "eL1 = np.zeros((nref-1,Ne))\n",
    "for k in range(nref-1):\n",
    "    for i in range(npipes):\n",
    "        if refinex:\n",
    "            stride = pow(2,nref-k-1)\n",
    "            #hcomp = [(1./stride)*sum(htrue[i][j*stride:stride*(j+1)]) for j in range(Nk[k])]#average all cells, don't just take one!\n",
    "            hcomp = htrue[i][0::stride]\n",
    "        else: \n",
    "            hcomp = htrue[i]\n",
    "        #print i\n",
    "        #print hcomp-H[k][i]\n",
    "        ht = np.array(H[k][i])\n",
    "        hc = np.array(hcomp)\n",
    "        #plot(linspace(i*500,(i+1)*500, Nk[k]), hcomp,'.')\n",
    "        einf[k][i] = max((abs(hcomp-H[k][i])))\n",
    "        dx =n0.Ls[i]/Nk[k]\n",
    "        #print dx\n",
    "        einf[k][i] = max((abs(hc-ht)))\n",
    "        eL2[k][i] = sum((hc-ht)**2)*dx\n",
    "        eL1[k][i] = sum(abs(hc-ht))*dx\n",
    "        #einf[k][i] = max((abs(hcomp-H[k][i])))\n",
    "        #eL2[k][i] = sum([(hcomp[j]-H[k][i][j])**2 for j in range(len(hcomp))])*n0.Ls[i]/Nk[i]\n",
    "        #eL1[k][i] = sum([abs(hcomp[j]-H[k][i][j]) for j in range(len(hcomp))])*n0.Ls[i]/Nk[i]\n",
    "        #plot(linspace(i*500,500+i*500,Nk[k]),H[k][i])\n",
    "legend(['%d'%i for i in range(nref-1)])\n",
    "Einf = [max(einf[k][:]) for k in range(nref-1)]\n",
    "EL2 = [sqrt(sum(eL2[k][:])) for k in range(nref-1)]\n",
    "EL1 = [sum(eL1[k][:]) for k in range(nref-1)]\n",
    "#print einf\n",
    "#print eL2\n",
    "#print eL1\n",
    "#plot(linspace(0,500, Nk[-1]), htrue[0])\n",
    "#plot(linspace(500,1000, Nk[-1]), htrue[1])\n",
    "#plot(linspace(0,500, Nk[-3]), H[-3][0])\n",
    "#print 1./stride*sum(htrue[0][0:stride])\n",
    "#print stride\n",
    "#sum(htrue[0][0:0+stride])/stride\n",
    "\n",
    "#print hcomp[0:10]\n",
    "#print H[k][1][0:10]\n",
    "dh =  htrue[0][-1]-htrue[1][0]\n",
    "print dh\n",
    "#print htrue[2][0]\n",
    "print htrue[1][0]\n",
    "print htrue[0][-1]"
   ]
  },
  {
   "cell_type": "code",
   "execution_count": 38,
   "metadata": {
    "collapsed": false
   },
   "outputs": [
    {
     "name": "stdout",
     "output_type": "stream",
     "text": [
      " $N$   & $M$ &  run time (s)&  $||e||_1$  \\\\\n",
      " 50 &  200 & 0.10   &        0.18251 &    \\\\\n",
      "100 &  400 & 0.42   &        0.10791 &    \\\\\n",
      "200 &  800 & 1.52   &        0.05608 &    \\\\\n",
      "400 & 1600 & 6.30   &        0.02188 &    \\\\\n"
     ]
    }
   ],
   "source": [
    "L = n0.Ls[0]\n",
    "print \" $N$   & $M$ &  run time (s)&  $||e||_1$  \\\\\\\\\"\n",
    "for k in range(nref-1):\n",
    "    #print \"%3d & %4d & %2.2f   &        %1.3e &   %1.3e  &  %1.3e  &  %1.3e\\\\\\\\\"%(Nk[k], Mk[k], runtime[k], dVr[k],dE[k], EL2[k]/L, EL1[k]/L)     \n",
    "    #print \"%3d & %4d & %2.2f   &        %1.5f &   %1.3e &%1.3e \\\\\\\\\"%(Nk[k], Mk[k], runtime[k],EL1[k]/L, dVr[k]/Mk[k], dE[k]-dE[-1] )  \n",
    "    print \"%3d & %4d & %2.2f   &        %1.5f &    \\\\\\\\\"%(Nk[k], Mk[k], runtime[k],EL1[k]/L)     "
   ]
  },
  {
   "cell_type": "code",
   "execution_count": 39,
   "metadata": {
    "collapsed": false
   },
   "outputs": [
    {
     "name": "stdout",
     "output_type": "stream",
     "text": [
      "[50, 100, 200, 400, 800]\n",
      "100.0\n",
      "[-315.21870585586754, -318.12414266158925, -319.85740820323883, -320.90955679795115, -321.54619070851106]\n",
      "-514.473905134\n",
      "116.414140248\n",
      "E0 = 264.383115 and E = -250.090790\n",
      "-1.3862645112\n",
      "-0.636436677785\n",
      "-7.58021392496e-07\n",
      "1.47844227417\n",
      "-12.7014699785\n",
      "-5.81091077772\n",
      "-5.14473905134\n"
     ]
    }
   ],
   "source": [
    "print Nk\n",
    "T = n0.T\n",
    "print T\n",
    "print dE\n",
    "print E-E0\n",
    "print E0-n0.getKE(0)\n",
    "print \"E0 = %f and E = %f\" %(E0,E)\n",
    "print (E-(E0-n0.getKE(0)))/E0\n",
    "\n",
    "N = Nk[-1]\n",
    "A1 = a[0][-1]\n",
    "A2 = a[1][-1]\n",
    "v1 = q[0][-1]/A1\n",
    "v2 = q[1][-1]/A2\n",
    "print v1\n",
    "print v2\n",
    "print A1/A2\n",
    "print (E-E0)/(T*(v1-v2)**2)\n",
    "print (E-E0)/(T*(A1*v1/A2)**2)\n",
    "print (E-E0)/T"
   ]
  },
  {
   "cell_type": "code",
   "execution_count": null,
   "metadata": {
    "collapsed": false
   },
   "outputs": [],
   "source": [
    "print Mk\n",
    "print n0.cmax\n",
    "dx = n0.Ls[0]/n0.Ns[0]\n",
    "print dt/dx\n",
    "print dt/dx*n0.cmax[1]\n"
   ]
  },
  {
   "cell_type": "code",
   "execution_count": null,
   "metadata": {
    "collapsed": false
   },
   "outputs": [],
   "source": [
    "fig2= plt.figure()\n",
    "ax2= fig2.add_subplot(111)\n",
    "ax2.set_yscale('log')\n",
    "ax2.set_xscale('log')\n",
    "if refineT:\n",
    "    #ax2.plot(Mk[0:nref-1], Einf)\n",
    "    ax2.plot(Mk[0:nref-1], EL2,'g')\n",
    "    ax2.plot(Mk[0:nref-1], EL1,'k')\n",
    "    #ax2.plot(Mk[0:2], [pow(Mk[0],-1), pow(Mk[1], -1)],'r')\n",
    "else:    \n",
    "    #ax2.plot(Nk[0:nref-1], Einf)\n",
    "    ax2.plot(Nk[0:nref-1], EL2,'g')\n",
    "    ax2.plot(Nk[0:nref-1], EL1,'k')\n",
    "    ax2.plot(Nk[0:2], [pow(Nk[0],-1)+1, pow(Nk[1], -1)+1],'r')\n",
    "ax2.grid(True)"
   ]
  },
  {
   "cell_type": "code",
   "execution_count": null,
   "metadata": {
    "collapsed": false
   },
   "outputs": [],
   "source": [
    "for k in range(len(Einf)-1):\n",
    "    print \"%f   %f   %f\"  %((dVr[k]-dVr[-1])/(dVr[k+1]-dVr[-1]), EL2[k]/EL2[k+1], EL1[k]/EL1[k+1])"
   ]
  },
  {
   "cell_type": "code",
   "execution_count": null,
   "metadata": {
    "collapsed": false
   },
   "outputs": [],
   "source": [
    "Ke = np.array([n0.getKE(i) for i in range(n0.M)])\n",
    "Pe = np.array([n0.getPE(i) for i in range (n0.M)])\n",
    "t= linspace(0,n0.T,n0.M)\n",
    "u0 = 1./0.6735743589\n",
    "E0 = (Ke[0]+Pe[0])\n",
    "plot(t,((Ke+Pe))/E0)\n",
    "print Ke[-1]-Ke[0]\n",
    "print (Pe[-1]-Pe[0])\n",
    "print n0.T*(u0**2)/(2*9.8)"
   ]
  },
  {
   "cell_type": "code",
   "execution_count": null,
   "metadata": {
    "collapsed": false
   },
   "outputs": [],
   "source": [
    "n0.getKE(n0.M)"
   ]
  },
  {
   "cell_type": "code",
   "execution_count": null,
   "metadata": {
    "collapsed": false
   },
   "outputs": [],
   "source": [
    "n0.getKE(0)"
   ]
  },
  {
   "cell_type": "code",
   "execution_count": null,
   "metadata": {
    "collapsed": false
   },
   "outputs": [],
   "source": [
    "print h0"
   ]
  },
  {
   "cell_type": "code",
   "execution_count": null,
   "metadata": {
    "collapsed": false
   },
   "outputs": [],
   "source": [
    "q[0][0]-q[0][-1]"
   ]
  },
  {
   "cell_type": "code",
   "execution_count": null,
   "metadata": {
    "collapsed": false
   },
   "outputs": [],
   "source": [
    "D0 = n0.Ds[0]\n",
    "D1 = n0.Ds[1]\n",
    "A0 = np.pi*D0**2/4.\n",
    "A1 = np.pi*D1**2/4.\n",
    "v1 = q[0][-1]/a[0][-1]\n",
    "mu = .63-.37*(A1/A0)**3\n",
    "mu = .35\n",
    "dHtheory = 1./(2*9.8)*(1/mu-1)**2*((A0/A1)*v1)**2"
   ]
  },
  {
   "cell_type": "code",
   "execution_count": null,
   "metadata": {
    "collapsed": false
   },
   "outputs": [],
   "source": [
    "print dHtheory\n",
    "print (E-E0)/E0\n",
    "print A0\n",
    "print A1\n",
    "print v1\n",
    "print E0"
   ]
  },
  {
   "cell_type": "code",
   "execution_count": null,
   "metadata": {
    "collapsed": false
   },
   "outputs": [],
   "source": [
    "print -(h[0][-1]-h[1][0])\n",
    "print mu"
   ]
  },
  {
   "cell_type": "code",
   "execution_count": null,
   "metadata": {
    "collapsed": false
   },
   "outputs": [],
   "source": [
    "print a[0][-1]-A0\n",
    "print dE"
   ]
  },
  {
   "cell_type": "code",
   "execution_count": null,
   "metadata": {
    "collapsed": false
   },
   "outputs": [],
   "source": [
    "print [ei-dE[-1] for ei in dE]"
   ]
  },
  {
   "cell_type": "code",
   "execution_count": null,
   "metadata": {
    "collapsed": false
   },
   "outputs": [],
   "source": [
    "max(a[0])"
   ]
  },
  {
   "cell_type": "code",
   "execution_count": null,
   "metadata": {
    "collapsed": false
   },
   "outputs": [],
   "source": [
    "print h[0][-1]\n",
    "print h[1][0]\n",
    "print q[0][0]/a[0][0]"
   ]
  },
  {
   "cell_type": "code",
   "execution_count": null,
   "metadata": {
    "collapsed": true
   },
   "outputs": [],
   "source": [
    "p0 = PyPipe_ps(n0.Ns[0], n0.Ds[0], n0.Ls[0], n0.M, n0.a[0])\n",
    "p1 = PyPipe_ps(n0.Ns[1], n0.Ds[1], n0.Ls[1], n0.M, n0.a[1])"
   ]
  },
  {
   "cell_type": "code",
   "execution_count": null,
   "metadata": {
    "collapsed": false
   },
   "outputs": [],
   "source": [
    "q[0][0]/a[0][0]/p0.Cgrav(a[0][0],False)"
   ]
  },
  {
   "cell_type": "code",
   "execution_count": null,
   "metadata": {
    "collapsed": false
   },
   "outputs": [],
   "source": [
    "print dE[-1]/n0.T "
   ]
  },
  {
   "cell_type": "code",
   "execution_count": null,
   "metadata": {
    "collapsed": false
   },
   "outputs": [],
   "source": [
    "hloss = (E-E0)/n0.T\n",
    "hexp = -(q[0][0]/a[0][0])**2/(2*9.8)\n",
    "hexp = -(q[1][-1]/a[1][-1])**2/(2*9.8)\n",
    "Kl = hloss/hexp\n",
    "print \"actual head loss = %f, K = %f\"% (hloss, Kl)"
   ]
  },
  {
   "cell_type": "code",
   "execution_count": null,
   "metadata": {
    "collapsed": false
   },
   "outputs": [],
   "source": [
    "print dE\n"
   ]
  },
  {
   "cell_type": "code",
   "execution_count": null,
   "metadata": {
    "collapsed": true
   },
   "outputs": [],
   "source": []
  },
  {
   "cell_type": "code",
   "execution_count": null,
   "metadata": {
    "collapsed": true
   },
   "outputs": [],
   "source": []
  },
  {
   "cell_type": "code",
   "execution_count": null,
   "metadata": {
    "collapsed": true
   },
   "outputs": [],
   "source": []
  }
 ],
 "metadata": {
  "kernelspec": {
   "display_name": "Python 2",
   "language": "python",
   "name": "python2"
  },
  "language_info": {
   "codemirror_mode": {
    "name": "ipython",
    "version": 2
   },
   "file_extension": ".py",
   "mimetype": "text/x-python",
   "name": "python",
   "nbconvert_exporter": "python",
   "pygments_lexer": "ipython2",
   "version": "2.7.10"
  }
 },
 "nbformat": 4,
 "nbformat_minor": 0
}
