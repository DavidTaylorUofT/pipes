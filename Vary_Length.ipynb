{
 "cells": [
  {
   "cell_type": "code",
   "execution_count": 2,
   "metadata": {
    "collapsed": false
   },
   "outputs": [
    {
     "ename": "ImportError",
     "evalue": "dlopen(./allthethings.so, 2): Library not loaded: /usr/local/opt/qd/lib/libqd.0.dylib\n  Referenced from: /Users/anna/Dropbox/Research/Network7.0/allthethings.so\n  Reason: image not found",
     "output_type": "error",
     "traceback": [
      "\u001b[0;31m---------------------------------------------------------------------------\u001b[0m",
      "\u001b[0;31mImportError\u001b[0m                               Traceback (most recent call last)",
      "\u001b[0;32m<ipython-input-2-fad6d93d335c>\u001b[0m in \u001b[0;36m<module>\u001b[0;34m()\u001b[0m\n\u001b[0;32m----> 1\u001b[0;31m \u001b[0;32mfrom\u001b[0m \u001b[0mallthethings\u001b[0m \u001b[0;32mimport\u001b[0m \u001b[0mPyNetwork\u001b[0m\u001b[0;34m,\u001b[0m \u001b[0mPyPipe_ps\u001b[0m\u001b[0;34m\u001b[0m\u001b[0m\n\u001b[0m\u001b[1;32m      2\u001b[0m \u001b[0;32mfrom\u001b[0m \u001b[0mallthethings\u001b[0m \u001b[0;32mimport\u001b[0m \u001b[0mPyBC_opt_dh\u001b[0m\u001b[0;34m\u001b[0m\u001b[0m\n\u001b[1;32m      3\u001b[0m \u001b[0;32mimport\u001b[0m \u001b[0mnumpy\u001b[0m \u001b[0;32mas\u001b[0m \u001b[0mnp\u001b[0m\u001b[0;34m\u001b[0m\u001b[0m\n\u001b[1;32m      4\u001b[0m \u001b[0;32mimport\u001b[0m \u001b[0mmatplotlib\u001b[0m\u001b[0;34m.\u001b[0m\u001b[0mpyplot\u001b[0m \u001b[0;32mas\u001b[0m \u001b[0mplt\u001b[0m\u001b[0;34m\u001b[0m\u001b[0m\n\u001b[1;32m      5\u001b[0m \u001b[0mget_ipython\u001b[0m\u001b[0;34m(\u001b[0m\u001b[0;34m)\u001b[0m\u001b[0;34m.\u001b[0m\u001b[0mmagic\u001b[0m\u001b[0;34m(\u001b[0m\u001b[0;34mu'pylab inline'\u001b[0m\u001b[0;34m)\u001b[0m\u001b[0;34m\u001b[0m\u001b[0m\n",
      "\u001b[0;31mImportError\u001b[0m: dlopen(./allthethings.so, 2): Library not loaded: /usr/local/opt/qd/lib/libqd.0.dylib\n  Referenced from: /Users/anna/Dropbox/Research/Network7.0/allthethings.so\n  Reason: image not found"
     ]
    }
   ],
   "source": [
    "from allthethings import PyNetwork, PyPipe_ps\n",
    "from allthethings import PyBC_opt_dh\n",
    "import numpy as np\n",
    "import matplotlib.pyplot as plt\n",
    "%pylab inline"
   ]
  },
  {
   "cell_type": "code",
   "execution_count": 2,
   "metadata": {
    "collapsed": true
   },
   "outputs": [],
   "source": [
    "fi =  \"indata/3pipesL\"         #location of .inp file\n",
    "fc = \"indata/3pipesL\"          #location of .config file\n",
    "mtype = 1                      #model used along network edges. 1 for Preissman Slot. 0 for uniform\n",
    "V0 =[]\n",
    "Vf = []\n",
    "Hbar = []\n",
    "legs = []\n",
    "lr = []"
   ]
  },
  {
   "cell_type": "code",
   "execution_count": 3,
   "metadata": {
    "collapsed": false
   },
   "outputs": [
    {
     "name": "stdout",
     "output_type": "stream",
     "text": [
      "indata/3pipesL0.config\n",
      "T = 25.00 M = 3500 , L = [100, 100, 25]\n",
      "indata/3pipesL1.config\n",
      "T = 25.00 M = 3500 , L = [100, 100, 50]\n",
      "indata/3pipesL2.config\n",
      "T = 25.00 M = 3500 , L = [100, 100, 75]\n",
      "indata/3pipesL3.config\n",
      "T = 25.00 M = 3500 , L = [100, 100, 100]\n",
      "indata/3pipesL4.config\n",
      "T = 25.00 M = 3500 , L = [100, 100, 125]\n",
      "indata/3pipesL5.config\n",
      "T = 25.00 M = 3500 , L = [100, 100, 150]\n",
      "indata/3pipesL6.config\n",
      "T = 25.00 M = 3500 , L = [100, 100, 175]\n",
      "indata/3pipesL7.config\n",
      "T = 25.00 M = 3500 , L = [100, 100, 400]\n"
     ]
    }
   ],
   "source": [
    "for i in range(0,8):\n",
    "    fii = fi+\"%d.inp\"%i\n",
    "    fci = fc+\"%d.config\"%i\n",
    "    print fci\n",
    "    n0 = PyNetwork(fii, fci, mtype)     #a network object\n",
    "    T = n0.T\n",
    "    M = n0.M\n",
    "    dt = T/M\n",
    "    print \"T = %.2f M = %d , L = [%.f, %.f, %.f]\"%(T,M, n0.Ls[0], n0.Ls[1], n0.Ls[2])\n",
    "    V0.append(n0.getTotalVolume())\n",
    "    n0.runForwardProblem(dt)\n",
    "    Vf.append(n0.getTotalVolume())\n",
    "    htmp = [n0.getAveGradH(i) for i in range(n0.M+1)]\n",
    "    Hbar.append(htmp)\n",
    "    #Hmax.append(max([n0.q]))\n",
    "    lr.append(n0.Ls[2]/n0.Ls[1])\n",
    "    legs.append(\"L1/L2 = %1.2f\"%(n0.Ls[2]/n0.Ls[1]))\n"
   ]
  },
  {
   "cell_type": "code",
   "execution_count": 1,
   "metadata": {
    "collapsed": false
   },
   "outputs": [
    {
     "ename": "NameError",
     "evalue": "name 'linspace' is not defined",
     "output_type": "error",
     "traceback": [
      "\u001b[0;31m---------------------------------------------------------------------------\u001b[0m",
      "\u001b[0;31mNameError\u001b[0m                                 Traceback (most recent call last)",
      "\u001b[0;32m<ipython-input-1-25607c0eff2c>\u001b[0m in \u001b[0;36m<module>\u001b[0;34m()\u001b[0m\n\u001b[0;32m----> 1\u001b[0;31m \u001b[0mt\u001b[0m \u001b[0;34m=\u001b[0m \u001b[0mlinspace\u001b[0m\u001b[0;34m(\u001b[0m\u001b[0;36m0\u001b[0m\u001b[0;34m,\u001b[0m\u001b[0mT\u001b[0m\u001b[0;34m,\u001b[0m\u001b[0mM\u001b[0m\u001b[0;34m+\u001b[0m\u001b[0;36m1\u001b[0m\u001b[0;34m)\u001b[0m\u001b[0;34m;\u001b[0m\u001b[0;34m\u001b[0m\u001b[0m\n\u001b[0m\u001b[1;32m      2\u001b[0m \u001b[0mNh\u001b[0m \u001b[0;34m=\u001b[0m \u001b[0mlen\u001b[0m\u001b[0;34m(\u001b[0m\u001b[0mlegs\u001b[0m\u001b[0;34m)\u001b[0m\u001b[0;34m\u001b[0m\u001b[0m\n\u001b[1;32m      3\u001b[0m \u001b[0;32mprint\u001b[0m \u001b[0;34m\"L1/L2 & mean (dH/dx) &  max(dH/dx) &  (V(0)-V(T))/V0\\\\\\n\\hline\\\\\"\u001b[0m\u001b[0;34m\u001b[0m\u001b[0m\n\u001b[1;32m      4\u001b[0m \u001b[0mfig\u001b[0m\u001b[0;34m,\u001b[0m\u001b[0max\u001b[0m \u001b[0;34m=\u001b[0m \u001b[0mplt\u001b[0m\u001b[0;34m.\u001b[0m\u001b[0msubplots\u001b[0m\u001b[0;34m(\u001b[0m\u001b[0mnrows\u001b[0m \u001b[0;34m=\u001b[0m \u001b[0mNh\u001b[0m\u001b[0;34m,\u001b[0m\u001b[0mfigsize\u001b[0m\u001b[0;34m=\u001b[0m\u001b[0;34m(\u001b[0m\u001b[0;36m15\u001b[0m\u001b[0;34m,\u001b[0m\u001b[0;36m15\u001b[0m\u001b[0;34m)\u001b[0m\u001b[0;34m)\u001b[0m\u001b[0;34m\u001b[0m\u001b[0m\n\u001b[1;32m      5\u001b[0m \u001b[0;32mfor\u001b[0m \u001b[0mi\u001b[0m \u001b[0;32min\u001b[0m \u001b[0mrange\u001b[0m\u001b[0;34m(\u001b[0m\u001b[0mNh\u001b[0m\u001b[0;34m)\u001b[0m\u001b[0;34m:\u001b[0m\u001b[0;34m\u001b[0m\u001b[0m\n",
      "\u001b[0;31mNameError\u001b[0m: name 'linspace' is not defined"
     ]
    }
   ],
   "source": [
    "t = linspace(0,T,M+1);\n",
    "Nh = len(legs)\n",
    "print \"L1/L2 & mean (dH/dx) &  max(dH/dx) &  (V(0)-V(T))/V0\\\\\\n\\hline\\\\\"\n",
    "fig,ax = plt.subplots(nrows = Nh,figsize=(15,15))\n",
    "for i in range(Nh):\n",
    "    ax[i].plot(t,Hbar[i],c =(i/8., .1, cos(i)**2),linewidth=2)\n",
    "    print \"%1.2f    & %03.4f    &   %3.4f &  %.4f\\\\\"%(lr[i], mean(Hbar[i]), max(Hbar[i]), (V0[i]-Vf[i])/V0[i])\n",
    "    ax[i].text(20,100,\"L1/L2=%1.2f\"%lr[i])\n",
    "    ax[i].set_ylim([0,120])\n",
    "    ax[i].set_yticks([0,60,120])\n",
    "    if i<Nh-1:\n",
    "        ax[i].set_xticklabels([])\n",
    "    ax[i].set_ylabel('<dH/dx>')\n",
    "ax[i].set_xlabel('t (s)')\n",
    "savefig(\"../../dhdxresults.eps\", format='eps')\n",
    "plt.show()\n",
    "#plot(lr, [max(Hbar[i]) for i in range(len(Hbar))],'o')\n"
   ]
  },
  {
   "cell_type": "code",
   "execution_count": 5,
   "metadata": {
    "collapsed": false
   },
   "outputs": [
    {
     "name": "stdout",
     "output_type": "stream",
     "text": [
      "[100.0, 100.0, 100.0]\n"
     ]
    }
   ],
   "source": [
    "print n0.a\n"
   ]
  },
  {
   "cell_type": "code",
   "execution_count": 6,
   "metadata": {
    "collapsed": false
   },
   "outputs": [
    {
     "name": "stdout",
     "output_type": "stream",
     "text": [
      "[ 100.  100.  400.]\n"
     ]
    }
   ],
   "source": [
    "print n0.Ls"
   ]
  }
 ],
 "metadata": {
  "kernelspec": {
   "display_name": "Python 2",
   "language": "python",
   "name": "python2"
  },
  "language_info": {
   "codemirror_mode": {
    "name": "ipython",
    "version": 2
   },
   "file_extension": ".py",
   "mimetype": "text/x-python",
   "name": "python",
   "nbconvert_exporter": "python",
   "pygments_lexer": "ipython2",
   "version": "2.7.9"
  }
 },
 "nbformat": 4,
 "nbformat_minor": 0
}
