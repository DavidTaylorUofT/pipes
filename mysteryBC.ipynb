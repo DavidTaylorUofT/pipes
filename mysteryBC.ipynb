{
 "cells": [
  {
   "cell_type": "code",
   "execution_count": 1,
   "metadata": {
    "collapsed": false
   },
   "outputs": [
    {
     "name": "stdout",
     "output_type": "stream",
     "text": [
      "Populating the interactive namespace from numpy and matplotlib\n"
     ]
    }
   ],
   "source": [
    "from allthethings import PyNetwork, PyPipe_ps\n",
    "from allthethings import PyBC_opt_dh, PyMystery_BC\n",
    "import numpy as np\n",
    "import matplotlib.pyplot as plt\n",
    "%pylab inline\n",
    "from matplotlib import rc"
   ]
  },
  {
   "cell_type": "code",
   "execution_count": 2,
   "metadata": {
    "collapsed": false
   },
   "outputs": [
    {
     "name": "stdout",
     "output_type": "stream",
     "text": [
      "Network at address 0x10470d630 with 4 nodes and 3 edges\n",
      "\n"
     ]
    },
    {
     "data": {
      "image/png": "[encoded data removed]",
      "text/plain": [
       "<matplotlib.figure.Figure at 0x10887e350>"
      ]
     },
     "metadata": {},
     "output_type": "display_data"
    }
   ],
   "source": [
    "#a = 10; these two work with nodf = 16\n",
    "#fi =  \"indata/3pipes3.inp\"        #name of .inp file\n",
    "#fc = \"indata/3pipes3.config\"  #name of .config file\n",
    "\n",
    "# a = 120; these two work with ndof = 8(maybe with 16 but for sure not with 15 or 31)\n",
    "fi =  \"indata/3pipes4.inp\"       \n",
    "fc = \"indata/3pipes4.config\"\n",
    "mtype = 1                        #model used along network edges. 1 for Preissman Slot. 0 for uniform\n",
    "n0 = PyNetwork(fi, fc, mtype)   #a network with Q==0 at boundaries\n",
    "n1 = PyNetwork(fi, fc, mtype)\n",
    "print n0 \n",
    "T = n0.T\n",
    "M = n0.M\n",
    "s = linspace(0,T,M+1)\n",
    "L = n0.Ls[2]\n",
    "q0 = (.9+.3*exp(-((s-T/4.)*10/T)**2))\n",
    "q1 = 0*q0[0]*np.ones(size(s))\n",
    "plot(s,q0)\n",
    "n0.setbVal(2,q0)\n",
    "n1.setbVal(2,q1)\n"
   ]
  },
  {
   "cell_type": "code",
   "execution_count": 3,
   "metadata": {
    "collapsed": false
   },
   "outputs": [],
   "source": [
    "#n1.showCurrentData()    \n",
    "dt = T/M\n",
    "V00 = n0.getTotalVolume()\n",
    "n0.runForwardProblem(dt)  #solve up to time T\n",
    "n1.runForwardProblem(dt)\n"
   ]
  },
  {
   "cell_type": "code",
   "execution_count": 4,
   "metadata": {
    "collapsed": false
   },
   "outputs": [
    {
     "data": {
      "image/png": "[encoded data removed]",
      "text/plain": [
       "<matplotlib.figure.Figure at 0x104606290>"
      ]
     },
     "metadata": {},
     "output_type": "display_data"
    }
   ],
   "source": [
    "hi0 = [n0.getHofA(i) for i in range(3)]\n",
    "hi1 = [n1.getHofA(i) for i in range(3)]\n",
    "fig,ax = plt.subplots(nrows = n0.Nedges)\n",
    "x0 = [0,0,100.-n0.Ns[2]]\n",
    "for k in range(n0.Nedges):\n",
    "    x = np.arange(0,n0.Ls[k], n0.Ls[k]/n0.Ns[k])+x0[k]*np.ones(size(hi1[k]))\n",
    "    ax[k].plot(x,hi0[k],'b')\n",
    "    ax[k].plot(x,hi1[k],'g')\n",
    "    #ax[k].set_ylim([0,ymaxs[i]])\n",
    "    ax[k].set_xlim([0,100])\n",
    "    #ax[k].set_yticks(np.linspace(0,ymaxs[i],6))"
   ]
  },
  {
   "cell_type": "code",
   "execution_count": 5,
   "metadata": {
    "collapsed": false
   },
   "outputs": [],
   "source": [
    "pj =0\n",
    "Nstar = 80\n",
    "#Nstar = 160\n",
    "qh0 = n0.qhist(pj)\n",
    "qh1 = n1.qhist(pj)\n",
    "p1 = PyPipe_ps(n0.Ns[pj], n0.Ds[pj], n0.Ls[pj], M, n0.a[pj])\n"
   ]
  },
  {
   "cell_type": "code",
   "execution_count": 6,
   "metadata": {
    "collapsed": true
   },
   "outputs": [],
   "source": [
    "def idx_t(i,j,n,N):\n",
    "    return (2*(N+2)*n+(N+2)*i+j)"
   ]
  },
  {
   "cell_type": "code",
   "execution_count": 7,
   "metadata": {
    "collapsed": false
   },
   "outputs": [],
   "source": [
    "hdata0 = np.zeros(M+1)\n",
    "hdata1 = np.zeros(M+1)\n",
    "for n in range(M+1):\n",
    "    a0 = qh0[idx_t(0,Nstar,n,n0.Ns[pj])]\n",
    "    a1 = qh1[idx_t(0,Nstar,n,n0.Ns[pj])]\n",
    "    hdata0[n] = p1.Eta(a0,False)/a0\n",
    "    hdata1[n] = p1.Eta(a1,False)/a1"
   ]
  },
  {
   "cell_type": "code",
   "execution_count": 8,
   "metadata": {
    "collapsed": false
   },
   "outputs": [
    {
     "data": {
      "text/plain": [
       "<matplotlib.text.Text at 0x1093bb310>"
      ]
     },
     "execution_count": 8,
     "metadata": {},
     "output_type": "execute_result"
    },
    {
     "data": {
      "image/png": "[encoded data removed]",
      "text/plain": [
       "<matplotlib.figure.Figure at 0x10930e650>"
      ]
     },
     "metadata": {},
     "output_type": "display_data"
    }
   ],
   "source": [
    "figure()\n",
    "rc('text', usetex=True)\n",
    "rc('font', family='serif')\n",
    "plot(s,hdata0,'k-.',linewidth =3)\n",
    "plot(s,hdata1,'r:', linewidth=2)\n",
    "xlim(0,T)\n",
    "legend([r\"with $Q_{true}(L,t)$\", r\"with $Q_i(L,t)$\"], loc = 'upper left')\n",
    "xlabel('$t$ [$s$]')\n",
    "ylabel('$H^*(t)$ [$m$]')\n",
    "#plt.savefig(\"../optmysteryhofta120.eps\")\n",
    "#savefig('fig_latex.eps')"
   ]
  },
  {
   "cell_type": "code",
   "execution_count": 34,
   "metadata": {
    "collapsed": false
   },
   "outputs": [
    {
     "name": "stdout",
     "output_type": "stream",
     "text": [
      "4.28571428571\n",
      "15.0\n",
      "1.02857142857\n",
      "xstar=200.00\n",
      "slot width = 0.00053 m \n"
     ]
    }
   ],
   "source": [
    "xstar =float(Nstar)/n0.Ns[pj]*n0.Ls[pj]\n",
    "whichnode = 2\n",
    "ndof = 10\n",
    "modetype = 0\n",
    "X = q0[0]*ones(ndof)\n",
    "for i in range(ndof/2):\n",
    "    X[2*i+1] = 0\n",
    "X = zeros(ndof)\n",
    "#print X\n",
    "#X[0] = 2*q0[0]\n",
    "print (100./350)*T\n",
    "print T\n",
    "delay = 0\n",
    "qf = q1\n",
    "dx = n0.Ls[0]/n0.Ns[0]\n",
    "print n0.a[0]*dt/dx\n",
    "a = n0.a[0]\n",
    "D = n0.Ds[0]\n",
    "print \"xstar=%.2f\"%xstar\n",
    "print \"slot width = %.5f m \"%(D**2/4*np.pi*9.8/a**2)"
   ]
  },
  {
   "cell_type": "code",
   "execution_count": 35,
   "metadata": {
    "collapsed": false
   },
   "outputs": [],
   "source": [
    "opt = PyMystery_BC(fi, fc, ndof, np.array(X), hdata0, modetype,pj, xstar, whichnode,qf, delay)\n",
    "opt2 = PyMystery_BC(fi, fc, ndof, np.array(X), hdata0, 1,pj, xstar, whichnode,qf, delay)"
   ]
  },
  {
   "cell_type": "code",
   "execution_count": 36,
   "metadata": {
    "collapsed": false
   },
   "outputs": [],
   "source": [
    "opt.compute_f()\n",
    "f0 = opt.f\n",
    "opt2.compute_f()\n",
    "f02 = opt2.f"
   ]
  },
  {
   "cell_type": "code",
   "execution_count": 37,
   "metadata": {
    "collapsed": false
   },
   "outputs": [],
   "source": [
    "bct = opt.getBCtimeseries(0)"
   ]
  },
  {
   "cell_type": "code",
   "execution_count": null,
   "metadata": {
    "collapsed": false
   },
   "outputs": [],
   "source": [
    "opt.solve()\n"
   ]
  },
  {
   "cell_type": "code",
   "execution_count": null,
   "metadata": {
    "collapsed": true
   },
   "outputs": [],
   "source": [
    "opt2.solve()"
   ]
  },
  {
   "cell_type": "code",
   "execution_count": null,
   "metadata": {
    "collapsed": false
   },
   "outputs": [],
   "source": [
    "opt.dump()\n",
    "opt2.dump()"
   ]
  },
  {
   "cell_type": "code",
   "execution_count": null,
   "metadata": {
    "collapsed": false
   },
   "outputs": [],
   "source": [
    "Q1 = opt.getBCtimeseries(0)\n",
    "Q2 = opt2.getBCtimeseries(0)\n",
    "ff = opt.f\n",
    "ff2 = opt2.f"
   ]
  },
  {
   "cell_type": "code",
   "execution_count": null,
   "metadata": {
    "collapsed": false
   },
   "outputs": [],
   "source": [
    "\n",
    "Td = ((n0.Ls[0]-xstar)+n0.Ls[2])/n0.cmax[0]\n",
    "dM = int(ceil(M*Td/T))\n",
    "s2 = s[0:M-dM]\n",
    "#fig, ax = subplots(ncols= 2)\n",
    "#ax[0].semilogy(s2,abs(Q1[0:M-dM]-q0[0:M-dM]))\n",
    "semilogy(s,abs(q1-q0),'r',linewidth=2)\n",
    "semilogy(s, abs(Q1-q0),'b-o')\n",
    "semilogy(s, abs(Q2-q0),'g--', linewidth = 2)\n",
    "legend([r\"$Q_i(L,t)$, $f$ = %.2e\"%f0, r\"$Q_f(L,t)$ (Hermite), $f$ = %.2e\"%ff,r\"$Q_f(L,t)$ (Fourier), $f$ = %.2e\"%ff2 ],loc = 'upper left', fontsize =10)\n",
    "semilogy((T-Td)*ones(10),linspace(1e-7,1000,10),'k:',linewidth=2)\n",
    "#semilogy(linspace(T-Td,T,10), ones(10)*1e-6,'k',linewidth=2)\n",
    "#semilogy(Td*ones(10),linspace(1e-7,1,10),'k:',linewidth=2)\n",
    "plt.annotate(\n",
    "    '', xy=(T-Td, 6e-6), xycoords='data',\n",
    "    xytext=(T,6e-6), textcoords='data',\n",
    "    arrowprops={'arrowstyle': '<->'})\n",
    "plt.annotate(\n",
    "    r\"$\\delta T$\", xy=(T-Td+1.5, 1e-5), xycoords='data',\n",
    "    xytext=(5, 0), textcoords='offset points')\n",
    "xlabel('$t$ [$s$]')\n",
    "ylabel('$||Q-Q_{true}||$')\n",
    "ylim(1e-6,1e3)\n",
    "xlim(0,T)\n",
    "#X=opt.x\n",
    "#plot(np.linspace(0,T,len(xx)/2),xx[0::2],'*')\n",
    "plt.savefig(\"../optmysteryerrora120_hf.eps\")"
   ]
  },
  {
   "cell_type": "code",
   "execution_count": null,
   "metadata": {
    "collapsed": true
   },
   "outputs": [],
   "source": []
  },
  {
   "cell_type": "code",
   "execution_count": null,
   "metadata": {
    "collapsed": false
   },
   "outputs": [],
   "source": [
    "plot(s, q0[0:],'k-.', linewidth = 3)\n",
    "plot(s,np.zeros(size(s)),'r:', linewidth =2)\n",
    "plot(s, Q1[0:],'b', linewidth=2)\n",
    "plot(s, Q2[0:],'g', linewidth=3)\n",
    "ylim(-.1,1.3)\n",
    "xlabel('$t$ [$s$]')\n",
    "X = opt.x\n",
    "#plot(linspace(0,50,len(X)/2), X[0::2],'*')\n",
    "#legend([r\"$Q_i(L,t)$\", r\"$Q_{true}(L,t)$\"], loc = 'center right')\n",
    "legend([r\"$Q_{true}(L,t)$\",r\"$Q_i(L,t)$\",r\"$Q_f(L,t)$ (Hermite)\", \"$Q_f(L,t)$ (Fourier)\"], loc = 'center left')\n",
    "plt.annotate(\n",
    "    '', xy=(T-Td, .1), xycoords='data',\n",
    "    xytext=(T,.1 ), textcoords='data',\n",
    "    arrowprops={'arrowstyle': '<->'})\n",
    "plt.annotate(\n",
    "    r\"$\\delta T$\", xy=(T-Td+1, .15), xycoords='data',\n",
    "    xytext=(5, 0), textcoords='offset points')\n",
    "ylabel('$Q$  [$m^3/s$]')\n",
    "xlim(0,T)\n",
    "plot((T-Td)*ones(10),linspace(-.1,1.3,10),'k:',linewidth=2)\n",
    "plt.savefig(\"../optmysteryinitial.eps\")\n",
    "#plt.savefig(\"../../optmysterysoln_a120_hf.eps\")"
   ]
  },
  {
   "cell_type": "code",
   "execution_count": null,
   "metadata": {
    "collapsed": true
   },
   "outputs": [],
   "source": [
    "ef = norm(Q1[0:M-dM]-q0[0:M-dM],2)\n",
    "e0 = norm(q0[0:M-dM])\n",
    "ef2 = norm(Q2[0:M-dM]-q0[0:M-dM],2)\n",
    "e02 = norm(q0[0:M-dM])"
   ]
  },
  {
   "cell_type": "code",
   "execution_count": null,
   "metadata": {
    "collapsed": false
   },
   "outputs": [],
   "source": [
    "print \"CPU time (s)   &  %4.2f &%4.2f\\\\\\\\ \"     %(opt.solve_t, opt2.solve_t)\n",
    "print \"actual time (s)&  %4.2f& %4.2f \\\\\\\\ \" %  (opt.wsolve_t, opt2.wsolve_t)\n",
    "print \"parallel speedup& %1.1f& %1.1f\\\\\\\\ \"%(opt.solve_t/opt.wsolve_t, opt.solve_t/opt.wsolve_t)\n",
    "print \"$f_i$            &   %.4e& %.4e\\\\\\\\  \"%(f0, f02)\n",
    "print \"$f_f$            &   %.4e& %.4e\\\\\\\\   \" %(ff, ff2)\n",
    "print \"$f_i/f_f$         &  %.4e &%.4e \\\\\\\\   \"%(ff/f0, ff2/f02)\n",
    "print \"$||Q_i - Q_{true}||$ & %.4f& %.4f\\\\\\\\\"  %(e0, e02)\n",
    "print \"$||Q_f - Q_{true}||$ & %.4f &%.4f\\\\\\\\\" %(ef, ef2)"
   ]
  },
  {
   "cell_type": "code",
   "execution_count": null,
   "metadata": {
    "collapsed": false
   },
   "outputs": [],
   "source": [
    "#plot(s,np.zeros(size(s)),'r:', linewidth =2)\n",
    "plot(s, q0[0:],'k-.', linewidth = 3)\n",
    "plot(s,np.zeros(size(s)),'r:', linewidth =2)\n",
    "ylim(-.1,1.3)\n",
    "xlabel('$t$ [$s$]')\n",
    "X = opt.x\n",
    "\n",
    "legend([r\"$Q_{true}(L,t)$\", r\"$Q_i(L,t)$\"], loc = 'center right')\n",
    "ylabel('$Q$  [$m^3/s$]')\n",
    "plt.savefig(\"../optmysteryinitial.eps\")"
   ]
  },
  {
   "cell_type": "code",
   "execution_count": null,
   "metadata": {
    "collapsed": false
   },
   "outputs": [],
   "source": [
    "print (max(q0)-min(q0))/min(q0)"
   ]
  },
  {
   "cell_type": "code",
   "execution_count": null,
   "metadata": {
    "collapsed": false
   },
   "outputs": [],
   "source": [
    "print norm(Q1[0:M-dM]-q0[0:M-dM],2)\n",
    "print norm(Q1[0:]-q0[0:],2)"
   ]
  },
  {
   "cell_type": "code",
   "execution_count": 24,
   "metadata": {
    "collapsed": false
   },
   "outputs": [
    {
     "data": {
      "text/plain": [
       "22.597821021245942"
      ]
     },
     "execution_count": 24,
     "metadata": {},
     "output_type": "execute_result"
    }
   ],
   "source": [
    "norm(q0[0:M-dM])"
   ]
  },
  {
   "cell_type": "code",
   "execution_count": 25,
   "metadata": {
    "collapsed": false
   },
   "outputs": [
    {
     "data": {
      "text/plain": [
       "0.02142857142857143"
      ]
     },
     "execution_count": 25,
     "metadata": {},
     "output_type": "execute_result"
    }
   ],
   "source": [
    "dt"
   ]
  },
  {
   "cell_type": "code",
   "execution_count": 26,
   "metadata": {
    "collapsed": false
   },
   "outputs": [
    {
     "data": {
      "text/plain": [
       "2.627310528101524"
      ]
     },
     "execution_count": 26,
     "metadata": {},
     "output_type": "execute_result"
    }
   ],
   "source": [
    "n0.cmax[0]*dt"
   ]
  },
  {
   "cell_type": "code",
   "execution_count": 27,
   "metadata": {
    "collapsed": false
   },
   "outputs": [
    {
     "name": "stdout",
     "output_type": "stream",
     "text": [
      "[0.8999658379357183, 0.007463828864851946, 0.9954532389785197, 0.13937157016752316, 1.1653737669550024, -0.14351807300566652, 0.9104228748845264, -0.018949362914109764, 0.900217268083495, -0.0009124647575535132, 0.8998491610753161, -0.0008726725644207356, 0.8703309925663217, -0.051552826885162675, 5.2611787932077225e-11, -5.2611787932077225e-11]\n"
     ]
    }
   ],
   "source": [
    "print X"
   ]
  },
  {
   "cell_type": "code",
   "execution_count": 28,
   "metadata": {
    "collapsed": false
   },
   "outputs": [
    {
     "data": {
      "text/plain": [
       "[120.0, 120.0, 120.0]"
      ]
     },
     "execution_count": 28,
     "metadata": {},
     "output_type": "execute_result"
    }
   ],
   "source": [
    "n0.a"
   ]
  },
  {
   "cell_type": "code",
   "execution_count": null,
   "metadata": {
    "collapsed": true
   },
   "outputs": [],
   "source": []
  },
  {
   "cell_type": "code",
   "execution_count": null,
   "metadata": {
    "collapsed": true
   },
   "outputs": [],
   "source": []
  }
 ],
 "metadata": {
  "kernelspec": {
   "display_name": "Python 2",
   "language": "python",
   "name": "python2"
  },
  "language_info": {
   "codemirror_mode": {
    "name": "ipython",
    "version": 2
   },
   "file_extension": ".py",
   "mimetype": "text/x-python",
   "name": "python",
   "nbconvert_exporter": "python",
   "pygments_lexer": "ipython2",
   "version": "2.7.9"
  }
 },
 "nbformat": 4,
 "nbformat_minor": 0
}
