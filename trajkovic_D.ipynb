{
 "cells": [
  {
   "cell_type": "code",
   "execution_count": 1,
   "metadata": {
    "collapsed": false
   },
   "outputs": [
    {
     "name": "stdout",
     "output_type": "stream",
     "text": [
      "Populating the interactive namespace from numpy and matplotlib\n"
     ]
    }
   ],
   "source": [
    "from allthethings import PyNetwork, PyPipe_ps\n",
    "from allthethings import PyBC_opt_dh\n",
    "import numpy as np\n",
    "import matplotlib.pyplot as plt\n",
    "%pylab inline"
   ]
  },
  {
   "cell_type": "code",
   "execution_count": 2,
   "metadata": {
    "collapsed": false
   },
   "outputs": [
    {
     "name": "stdout",
     "output_type": "stream",
     "text": [
      "[9.0]\n",
      "1.01859154306\n"
     ]
    }
   ],
   "source": [
    "fi = \"indata/trajkovic_D.inp\"\n",
    "fc = \"indata/trajkovic_D.config\"\n",
    "fc2 = \"indata/trajkovic_D2.config\"\n",
    "\n",
    "mtype = 1\n",
    "n1 = PyNetwork(fi,fc,mtype)\n",
    "n2 = PyNetwork(fi, fc2, mtype)\n",
    "M = n1.M\n",
    "N = n1.Ns[0]\n",
    "L = n1.Ls[0]\n",
    "a = n1.a[0]\n",
    "T1 =n1.T\n",
    "D = n1.Ds[0]\n",
    "p1 = PyPipe_ps(N, D, L, M, a)\n",
    "dt = T1/M\n",
    "print n1.a\n",
    "e0 = D*D*np.pi/4.-p1.AofH(0.015, False)\n",
    "e0 = 0.008\n",
    "print e0/p1.AofH(0.1,True)\n",
    "b0= e0*np.ones(M+1)\n"
   ]
  },
  {
   "cell_type": "code",
   "execution_count": 3,
   "metadata": {
    "collapsed": false
   },
   "outputs": [],
   "source": [
    "n1.runForwardProblem(dt)"
   ]
  },
  {
   "cell_type": "code",
   "execution_count": 4,
   "metadata": {
    "collapsed": true
   },
   "outputs": [],
   "source": [
    "def idx_t(i,j,n):\n",
    "    return (2*(N+2)*n+(N+2)*i+j)"
   ]
  },
  {
   "cell_type": "code",
   "execution_count": null,
   "metadata": {
    "collapsed": false
   },
   "outputs": [
    {
     "name": "stdout",
     "output_type": "stream",
     "text": [
      "0.00785398163397\n"
     ]
    }
   ],
   "source": [
    "q = n1.q(0)\n",
    "h = n1.getHofA(0)\n",
    "qhist = n1.qhist(0)\n",
    "e2 = .015\n",
    "\n",
    "#b0= e2*2.*np.arctan(np.linspace(0,100,M+1))/np.pi\n",
    "print n1.Ds[0]**2*np.pi/4.\n"
   ]
  },
  {
   "cell_type": "code",
   "execution_count": null,
   "metadata": {
    "collapsed": false
   },
   "outputs": [],
   "source": [
    "n2.setbVal(1,b0);\n",
    "n2.setIC(0,q[0:N],q[N:])\n",
    "n2.runForwardProblem(dt)"
   ]
  },
  {
   "cell_type": "code",
   "execution_count": null,
   "metadata": {
    "collapsed": false
   },
   "outputs": [],
   "source": [
    "qhist2 = n2.qhist(0)\n",
    "M2 = n2.M\n",
    "T2 = n2.T\n",
    "T1 = n1.T\n",
    "t1 = linspace(0,T1, M+1)\n",
    "t2 = linspace(T1,T1+T2,M2+1)\n",
    "t = np.concatenate((t1,t2))\n",
    "n5 = 76*2\n",
    "n7 = 96*2\n",
    "print size(qhist)\n",
    "print n1.Ns[0]\n",
    "print n1.cmax[0]*dt*N/L\n",
    "P5 = [p1.HofA(qhist[idx_t(0,n5,n)], False) for n in range(M+1)]+[p1.HofA(qhist2[idx_t(0,n5,n)], False) for n in range(M2+1)]\n",
    "P71 = [p1.HofA(qhist[idx_t(0,n7,n)], False) for n in range(M+1)]\n",
    "P72 = [p1.HofA(qhist2[idx_t(0,n7,n)], False) for n in range(M2+1)]\n",
    "P01 = [p1.HofA(qhist[idx_t(0,0,n)], False) for n in range(M+1)]\n",
    "P02 = [p1.HofA(qhist2[idx_t(0,0,n)], False) for n in range(M2+1)]\n",
    "P7 = P71+P72\n",
    "fig = plt.figure(figsize=(10,3))\n",
    "ax = fig.add_subplot(111)\n",
    "ax.plot(t,P7)\n",
    "ax.plot(t,P5)\n",
    "ax.set_ylim([0,.3])\n",
    "ax.plot(t,P01+P02,'r')\n",
    "ylim([0,.25])\n",
    "print size(P7)\n",
    "print size(t)\n",
    "print T2\n",
    "#plot(t,[qhist[idx_t(0,94,n)] for n in range(M+1)])\n",
    "print P01[0]\n",
    "print P02[-1]\n",
    "#print t[700:900:20]\n",
    "#print P7[700:900:20]\n",
    "#print P5[700:800:20]\n",
    "print P71[-10:-1]\n",
    "print P72[0:10]\n",
    "print qhist2[idx_t(0,96,0)]\n",
    "print qhist2[idx_t(0,96,1)]\n",
    "print n1.T/n1.M\n",
    "print n2.T/n2.M\n",
    "print n1.a[0]\n",
    "print n1.cmax[0]*dt/n1.Ns[0]*n1.Ls[0]"
   ]
  },
  {
   "cell_type": "code",
   "execution_count": null,
   "metadata": {
    "collapsed": true
   },
   "outputs": [],
   "source": []
  },
  {
   "cell_type": "code",
   "execution_count": null,
   "metadata": {
    "collapsed": true
   },
   "outputs": [],
   "source": []
  }
 ],
 "metadata": {
  "kernelspec": {
   "display_name": "Python 2",
   "language": "python",
   "name": "python2"
  },
  "language_info": {
   "codemirror_mode": {
    "name": "ipython",
    "version": 2
   },
   "file_extension": ".py",
   "mimetype": "text/x-python",
   "name": "python",
   "nbconvert_exporter": "python",
   "pygments_lexer": "ipython2",
   "version": "2.7.9"
  }
 },
 "nbformat": 4,
 "nbformat_minor": 0
}
