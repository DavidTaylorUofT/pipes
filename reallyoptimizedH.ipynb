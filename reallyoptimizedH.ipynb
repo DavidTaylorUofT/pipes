{
 "cells": [
  {
   "cell_type": "code",
   "execution_count": 12,
   "metadata": {
    "collapsed": false
   },
   "outputs": [
    {
     "name": "stdout",
     "output_type": "stream",
     "text": [
      "Populating the interactive namespace from numpy and matplotlib\n"
     ]
    }
   ],
   "source": [
    "from allthethings import PyNetwork, PyPipe_ps\n",
    "from allthethings import PyBC_opt_dh\n",
    "import numpy as np\n",
    "import matplotlib.pyplot as plt\n",
    "from writeit import rewritePipes\n",
    "%pylab inline"
   ]
  },
  {
   "cell_type": "code",
   "execution_count": 13,
   "metadata": {
    "collapsed": false
   },
   "outputs": [
    {
     "name": "stdout",
     "output_type": "stream",
     "text": [
      "new files are indata/dhoptimization.inp and indata/dhoptimization.config\n"
     ]
    }
   ],
   "source": [
    "Mrs = [0.015]*3\n",
    "Ds = [1.]*3\n",
    "jt = [1,3,1,1]\n",
    "bt = [1,1,1,1]\n",
    "bv = [0,0,0,0]\n",
    "r = [0,0,1,1]\n",
    "h0s = [0,0,0]\n",
    "q0s = [0,0,0]\n",
    "\n",
    "T = 120\n",
    "M = 6000\n",
    "Mi =10\n",
    "a = 100\n",
    "#Ls = [500,500,125]\n",
    "#Ns = [200,200,50]\n",
    "Ls = [100,100,25]\n",
    "Ns = [100,100,25]\n",
    "T = 60\n",
    "M = 7500\n",
    "fn = \"indata/dhoptimization\"\n",
    "oldinp = \"indata/better3pipes.inp\"\n",
    "(fi, fc) = rewritePipes(fn,oldinp, Ns, Ls, Mrs, Ds, jt, bt, bv, r, h0s, q0s, T, M, a)\n"
   ]
  },
  {
   "cell_type": "code",
   "execution_count": 14,
   "metadata": {
    "collapsed": false
   },
   "outputs": [],
   "source": [
    "mtype =1\n",
    "#pressure wave speed a = 10\n",
    "#fi = \"indata/better3pipes.inp\"\n",
    "#fc =  \"indata/better3pipes2.config\"\n",
    "#pressure wave speed a = 120\n",
    "#fi = \"indata/better3pipes.inp\"\n",
    "#fc =  \"indata/better3pipes.config\"\n",
    "#try something else\n",
    "#fi = \"indata/3pipesL1.inp\"\n",
    "#fc = \"indata/3pipesL1.config\"\n",
    "n0 = PyNetwork(fi, fc, mtype)\n",
    "M = n0.M\n",
    "Q00 = 2.5*np.ones(M+1)\n",
    "\n",
    "#for i in range(0,M/2):\n",
    "#for i in range(M/2,M+1):   \n",
    "#    Q00[i] = 1"
   ]
  },
  {
   "cell_type": "code",
   "execution_count": 15,
   "metadata": {
    "collapsed": false
   },
   "outputs": [],
   "source": [
    "x0 = 0.1*np.random.rand(n0.M+1)\n",
    "dt = n0.T/n0.M\n",
    "V0 = n0.getTotalVolume()\n",
    "#n0.setbVal(2,x0)\n",
    "n0.setbVal(0,Q00)\n",
    "n0.runForwardProblem(dt)  #solve up to time T\n",
    "Vf = n0.getTotalVolume()\n"
   ]
  },
  {
   "cell_type": "code",
   "execution_count": 16,
   "metadata": {
    "collapsed": false
   },
   "outputs": [
    {
     "name": "stdout",
     "output_type": "stream",
     "text": [
      "[100.95682463697645, 4.014233421123408, 100.01694594778981]\n",
      "0.008\n",
      "0.008\n"
     ]
    },
    {
     "data": {
      "image/png": "[encoded data removed]",
      "text/plain": [
       "<matplotlib.figure.Figure at 0x10a379710>"
      ]
     },
     "metadata": {},
     "output_type": "display_data"
    }
   ],
   "source": [
    "hi = [n0.getHofA(i) for i in range(3)]\n",
    "fig,ax = plt.subplots(nrows = n0.Nedges)\n",
    "x0 = [0,0,0]\n",
    "for k in range(n0.Nedges):\n",
    "    x = np.arange(0,n0.Ls[k], n0.Ls[k]/n0.Ns[k])+x0[k]*np.ones(size(hi[k]))\n",
    "    ax[k].plot(x,hi[k],'b')\n",
    "legend(['Q=0', 'reflect'])\n",
    "print n0.cmax\n",
    "print dt/(n0.Ls[0]/n0.Ns[0])\n",
    "print dt\n",
    "dx = n0.Ls[0]/n0.Ns[0]"
   ]
  },
  {
   "cell_type": "code",
   "execution_count": 17,
   "metadata": {
    "collapsed": false
   },
   "outputs": [
    {
     "name": "stdout",
     "output_type": "stream",
     "text": [
      "CFL = 0.800000 \n",
      "space-average grad(H)\n",
      "        Q = 0       reflecting\n",
      "max  2.510000  \n",
      "mean 18.173837  \n",
      "[100.95682463697645, 4.014233421123408, 100.01694594778981]\n",
      "[100.0, 100.0, 100.0]\n"
     ]
    },
    {
     "data": {
      "image/png": "[encoded data removed]",
      "text/plain": [
       "<matplotlib.figure.Figure at 0x10a36c4d0>"
      ]
     },
     "metadata": {},
     "output_type": "display_data"
    }
   ],
   "source": [
    "print \"CFL = %f \" %(dt/dx*n0.a[0])\n",
    "Hbar = [n0.getAveGradH(i) for i in range(n0.M+1)]\n",
    "t = np.linspace(0,n0.T,n0.M+1)\n",
    "kk = 1\n",
    "plot(t,Hbar,'m')\n",
    "legend([\"max  %f  , mean %f\" %(max(Hbar),mean(Hbar))], loc ='upper left')\n",
    "#savefig(\"../../gradH_r66.pdf\", format='pdf')\n",
    "title(\"L0/L2 = %.f/%.f and M = %d, dx = %f\"%(n0.Ls[0],n0.Ls[2], n0.M, n0.Ls[0]/n0.Ns[0]))\n",
    "print \"space-average grad(H)\"\n",
    "print \"        Q = 0       reflecting\"\n",
    "print \"max  %f  \" %(max(Hbar)/sqrt(n0.M))\n",
    "print \"mean %f  \" %(mean(Hbar))\n",
    "dx = n0.Ls[0]/n0.Ns[0]\n",
    "\n",
    "print n0.cmax\n",
    "print n0.a"
   ]
  },
  {
   "cell_type": "code",
   "execution_count": 18,
   "metadata": {
    "collapsed": true
   },
   "outputs": [],
   "source": [
    "def idx_t(i,j,n,N):\n",
    "    return (2*(N+2)*n+(N+2)*i+j)"
   ]
  },
  {
   "cell_type": "code",
   "execution_count": 19,
   "metadata": {
    "collapsed": false
   },
   "outputs": [
    {
     "name": "stdout",
     "output_type": "stream",
     "text": [
      "0.000769690200129\n"
     ]
    },
    {
     "data": {
      "text/plain": [
       "[<matplotlib.lines.Line2D at 0x110faac50>]"
      ]
     },
     "execution_count": 19,
     "metadata": {},
     "output_type": "execute_result"
    },
    {
     "data": {
      "image/png": "[encoded data removed]",
      "text/plain": [
       "<matplotlib.figure.Figure at 0x109fb2390>"
      ]
     },
     "metadata": {},
     "output_type": "display_data"
    }
   ],
   "source": [
    "qh = [n0.qhist(i) for i in range(n0.Nedges)]\n",
    "j = 20#n0.Ns[0]\n",
    "K = 2\n",
    "p1 = PyPipe_ps(n0.Ns[0], n0.Ds[K], n0.Ls[K], n0.M, n0.a[K])\n",
    "qtest = [p1.HofA(qh[K][idx_t(0,j,n,n0.Ns[K])],False) for n in range(n0.M+1)]\n",
    "plot(t,qtest)\n",
    "Af = np.pi/4.\n",
    "print (Af*9.8)/(n0.a[0]**2)\n",
    "plot(t,Q00)"
   ]
  },
  {
   "cell_type": "code",
   "execution_count": null,
   "metadata": {
    "collapsed": false
   },
   "outputs": [],
   "source": []
  },
  {
   "cell_type": "code",
   "execution_count": 23,
   "metadata": {
    "collapsed": false
   },
   "outputs": [
    {
     "name": "stdout",
     "output_type": "stream",
     "text": [
      "xfake0 is 2.500000\n"
     ]
    }
   ],
   "source": [
    "ndof = 15\n",
    "\n",
    "wn=0;\n",
    "Vin = dt*sum(Q00[0:-1])\n",
    "#Vin = 125\n",
    "#x00 = 0*np.ones(ndof*len(wn))\n",
    "md = 0\n",
    "#step function...looks cool but sucks, sigh\n",
    "x0s =np.zeros(ndof);\n",
    "x0h = np.zeros(ndof);\n",
    "nf = ndof+1\n",
    "for k in range(0,(nf/4)):\n",
    "    x0s[nf/2+2*k] = 4*Vin/((2.*float(k)+1)*np.pi*n0.T)\n",
    "for k in range(0,nf/4-1):\n",
    "    x0h[2*k+1] = 2*Vin/T\n",
    "x0 = np.zeros(ndof)\n",
    "for i in range(nf/2-1):\n",
    "    x0[2*i+1]= Vin/T\n",
    "#for i in range(nf/4,nf/2-1):\n",
    "#    x0[2*i+1] = 1\n",
    "#x0[0] = 1 #this works!\n",
    "#x0 = x0h\n",
    "opt1 = PyBC_opt_dh(fi, fc, ndof, x0, wn, Vin, md)\n",
    "Q0orig = opt1.getBCtimeseries()\n",
    "opt1.compute_f()\n",
    "\n"
   ]
  },
  {
   "cell_type": "code",
   "execution_count": 24,
   "metadata": {
    "collapsed": false
   },
   "outputs": [
    {
     "name": "stdout",
     "output_type": "stream",
     "text": [
      "-3.2684965845e-12\n",
      "150.0\n",
      "150.0\n",
      "2.5\n",
      "8.57142857143\n",
      "0.0\n",
      "2.5\n",
      "[ 0.   2.5  0.   2.5  0.   2.5  0.   2.5  0.   2.5  0.   2.5  0.   2.5  0. ]\n"
     ]
    },
    {
     "data": {
      "image/png": "[encoded data removed]",
      "text/plain": [
       "<matplotlib.figure.Figure at 0x102ca6c50>"
      ]
     },
     "metadata": {},
     "output_type": "display_data"
    }
   ],
   "source": [
    "plot(Q0orig)\n",
    "Vin2 = np.trapz(Q0orig, x=t)\n",
    "print Vin2-Vin\n",
    "print Vin\n",
    "print Vin2\n",
    "print Q0orig[0]\n",
    "Dt = T/((ndof-1)/2.)\n",
    "print Dt\n",
    "print T/7.*17.5-Vin\n",
    "print Q0orig[0]\n",
    "print x0"
   ]
  },
  {
   "cell_type": "code",
   "execution_count": 25,
   "metadata": {
    "collapsed": false
   },
   "outputs": [
    {
     "name": "stdout",
     "output_type": "stream",
     "text": [
      "f is 68160.976276\n",
      "T is 60.000000\n",
      "Using Hermite modes\n"
     ]
    }
   ],
   "source": [
    "f0 = opt1.f\n",
    "print \"f is %f\" %f0\n",
    "print \"T is %f\" %opt1.T\n",
    "print \"Using %s modes\" %opt1.modetype\n",
    "\n"
   ]
  },
  {
   "cell_type": "code",
   "execution_count": null,
   "metadata": {
    "collapsed": true
   },
   "outputs": [],
   "source": [
    "opt1.solve()"
   ]
  },
  {
   "cell_type": "code",
   "execution_count": null,
   "metadata": {
    "collapsed": false
   },
   "outputs": [],
   "source": [
    "print opt1.f\n",
    "#opt2 = PyBC_opt_dh(fi, fc, 15, np.array(xgood2), wn, Vin)\n",
    "#opt2.compute_f()\n",
    "#xgood = opt1.x"
   ]
  },
  {
   "cell_type": "code",
   "execution_count": null,
   "metadata": {
    "collapsed": false
   },
   "outputs": [],
   "source": [
    "ff = opt1.f\n",
    "#print ff/f0\n",
    "#print xgood\n",
    "print opt1.x\n",
    "#print 2*Vin/n0.T"
   ]
  },
  {
   "cell_type": "code",
   "execution_count": null,
   "metadata": {
    "collapsed": true
   },
   "outputs": [],
   "source": [
    "#make a place to put the data\n",
    "import os\n",
    "lucky = 1e6  #you feeling lucky today pal? 1/lucky are your odds of overwriting old data\n",
    "kk = np.int(lucky*np.random.rand())\n",
    "where = \"../../../results_ndof%d_wavespeed_%03.f_improvement_%f/\"%(ndof,n0.a[0],ff/f0)\n",
    "if not os.path.exists(where):\n",
    "    os.makedirs(where)"
   ]
  },
  {
   "cell_type": "code",
   "execution_count": null,
   "metadata": {
    "collapsed": false
   },
   "outputs": [],
   "source": [
    "rc('text', usetex=True)\n",
    "rc('font', family='serif')\n",
    "ff = opt1.f\n",
    "Q01 = opt1.getBCtimeseries()\n",
    "#Q02 = opt2.getBCtimeseries()\n",
    "t = np.linspace(0,opt1.T, opt1.M+1)\n",
    "fig,ax = plt.subplots(nrows = 1)\n",
    "\n",
    "\n",
    "ax.plot(t,Q0orig,'k:', linewidth = 2)#,t,np.zeros(opt1.M+1),'r')\n",
    "ax.plot(t,Q01,'g', linewidth = 2)\n",
    "ax.set_ylabel('Q1(t)')\n",
    "\n",
    "#ax[0].plot(t,Q1,'b')#,t,np.zeros(opt1.M+1),'r')\n",
    "#ax[0].plot(t,Q12,'g')\n",
    "#ax[0].set_ylabel('Q1(t)')\n",
    "#ax[1].plot(t,Q2,'b')#,t,np.zeros(opt1.M+1),'r')\n",
    "#ax[1].plot(t,Q22, 'g')\n",
    "legend(['original, f = %.3e'%f0, 'optimized, f = %.3e'%ff], loc = 'upper right')\n",
    "ax.set_xlabel('t (s)')\n",
    "#ax[1].set_xlabel('t')\n",
    "#ax[1].set_ylabel('Q2(t)')\n",
    "savefig(where+\"opt_dh_Qblahnod%d.eps\"%ndof, format='eps')\n",
    "#print max(abs(Q2[i]) for i in range(len(Q2)))\n",
    "print opt1.x\n",
    "#print opt2.x\n",
    "#print \"max discrepancy is %e\"%max([Q1[i]-Q12[i] for i in range(len(Q1))])"
   ]
  },
  {
   "cell_type": "code",
   "execution_count": null,
   "metadata": {
    "collapsed": true
   },
   "outputs": [],
   "source": [
    "n2 = PyNetwork(fi, fc, mtype)\n",
    "n3 = PyNetwork(fi,fc, mtype)\n",
    "n2.setbVal(0,Q0orig)\n",
    "n3.setbVal(0,Q01)\n",
    "n2.runForwardProblem(dt)\n",
    "n3.runForwardProblem(dt)"
   ]
  },
  {
   "cell_type": "code",
   "execution_count": null,
   "metadata": {
    "collapsed": false
   },
   "outputs": [],
   "source": [
    "xf = opt1.x\n",
    "print xf"
   ]
  },
  {
   "cell_type": "code",
   "execution_count": null,
   "metadata": {
    "collapsed": false
   },
   "outputs": [],
   "source": [
    "Hbar2 = [n2.getAveGradH(i) for i in range(n0.M+1)]\n",
    "Hbar3 = [n3.getAveGradH(i) for i in range(n0.M+1)]\n",
    "plot(t,Hbar2, 'k', t,Hbar3,'g', linewidth=2)\n",
    "ax = gca()\n",
    "legend(['original', 'optimized'], loc = 'upper left')\n",
    "ax.set_xlabel('t (s)')\n",
    "ax.set_ylabel(r\"$\\langle dH \\rangle$\")\n",
    "savefig(where+\"opt_dh_dhblahnodf%d.eps\"%ndof, format='eps')"
   ]
  },
  {
   "cell_type": "code",
   "execution_count": null,
   "metadata": {
    "collapsed": false
   },
   "outputs": [],
   "source": [
    "with open(where+\"more_info.txt\",'w') as fout:\n",
    "    fout.write(\"data (Q0, Qf) pickled to Q0.p and Qf.p\\n\\n\")\n",
    "    fout.write(\"to generate whole history, load them and run:\\n\\\n",
    "                n0 = PyNetwork(fi,fc, 1)\\n\\\n",
    "                n0.setbVal(0,Q)\\n\\\n",
    "                n0.runForwardProblem(dt)\\n\\\n",
    "                for Q = Q00 or Q = Qf\\n\\n\")\n",
    "    fout.write(\"***************************************************************\\n\")\n",
    "    fout.write( \"CPU solve t  actual solve t    f0             ff            ff/f0      Vin\\n\")  \n",
    "    fout.write( \" %.2f         %.2f     %e     %e    %.5f   %.2f\\n\"%(opt1.solve_t, opt1.wsolve_t,f0, ff, ff/f0, Vin))\n",
    "    fout.write(\"***************************************************************\\n\")\n",
    "    fout.write(\"x0                   xf\\n\")\n",
    "    for i in range(len(x0)):\n",
    "        fout.write(\"%.15f    %.15f\\n\"%(x0[i],xf[i]))\n",
    "import shutil\n",
    "shutil.copy(fi,where)\n",
    "shutil.copy(fc,where)\n"
   ]
  },
  {
   "cell_type": "code",
   "execution_count": 26,
   "metadata": {
    "collapsed": false
   },
   "outputs": [
    {
     "name": "stdout",
     "output_type": "stream",
     "text": [
      "CPU solve t  actual solve t    ff/f0\n"
     ]
    },
    {
     "ename": "NameError",
     "evalue": "name 'ff' is not defined",
     "output_type": "error",
     "traceback": [
      "\u001b[0;31m---------------------------------------------------------------------------\u001b[0m",
      "\u001b[0;31mNameError\u001b[0m                                 Traceback (most recent call last)",
      "\u001b[0;32m<ipython-input-26-67ad9b7a3a9a>\u001b[0m in \u001b[0;36m<module>\u001b[0;34m()\u001b[0m\n\u001b[1;32m      1\u001b[0m \u001b[0;32mprint\u001b[0m \u001b[0;34m\"CPU solve t  actual solve t    ff/f0\"\u001b[0m\u001b[0;34m\u001b[0m\u001b[0m\n\u001b[0;32m----> 2\u001b[0;31m \u001b[0;32mprint\u001b[0m \u001b[0;34m\" %.2f         %.2f         %.5f\"\u001b[0m\u001b[0;34m%\u001b[0m\u001b[0;34m(\u001b[0m\u001b[0mopt1\u001b[0m\u001b[0;34m.\u001b[0m\u001b[0msolve_t\u001b[0m\u001b[0;34m,\u001b[0m \u001b[0mopt1\u001b[0m\u001b[0;34m.\u001b[0m\u001b[0mwsolve_t\u001b[0m\u001b[0;34m,\u001b[0m\u001b[0mff\u001b[0m\u001b[0;34m/\u001b[0m\u001b[0mf0\u001b[0m\u001b[0;34m)\u001b[0m\u001b[0;34m\u001b[0m\u001b[0m\n\u001b[0m",
      "\u001b[0;31mNameError\u001b[0m: name 'ff' is not defined"
     ]
    }
   ],
   "source": [
    "print \"CPU solve t  actual solve t    ff/f0\"  \n",
    "print \" %.2f         %.2f         %.5f\"%(opt1.solve_t, opt1.wsolve_t,ff/f0)"
   ]
  },
  {
   "cell_type": "code",
   "execution_count": null,
   "metadata": {
    "collapsed": false
   },
   "outputs": [],
   "source": [
    "import pickle\n",
    "pickle.dump(Q00, open(where+\"Q0.p\", \"wb\"))\n",
    "pickle.dump(Q01, open(where+\"Qf.p\", \"wb\"))"
   ]
  },
  {
   "cell_type": "code",
   "execution_count": null,
   "metadata": {
    "collapsed": false
   },
   "outputs": [],
   "source": [
    "print where"
   ]
  },
  {
   "cell_type": "code",
   "execution_count": null,
   "metadata": {
    "collapsed": false
   },
   "outputs": [],
   "source": [
    "Vin2 =  np.trapz(Q01,x=t)\n",
    "\n",
    "print Vin2\n",
    "print Vin\n",
    "print np.trapz(Q00,x=t)"
   ]
  },
  {
   "cell_type": "code",
   "execution_count": null,
   "metadata": {
    "collapsed": true
   },
   "outputs": [],
   "source": []
  },
  {
   "cell_type": "code",
   "execution_count": null,
   "metadata": {
    "collapsed": true
   },
   "outputs": [],
   "source": []
  },
  {
   "cell_type": "code",
   "execution_count": null,
   "metadata": {
    "collapsed": true
   },
   "outputs": [],
   "source": []
  }
 ],
 "metadata": {
  "kernelspec": {
   "display_name": "Python 2",
   "language": "python",
   "name": "python2"
  },
  "language_info": {
   "codemirror_mode": {
    "name": "ipython",
    "version": 2
   },
   "file_extension": ".py",
   "mimetype": "text/x-python",
   "name": "python",
   "nbconvert_exporter": "python",
   "pygments_lexer": "ipython2",
   "version": "2.7.9"
  }
 },
 "nbformat": 4,
 "nbformat_minor": 0
}
