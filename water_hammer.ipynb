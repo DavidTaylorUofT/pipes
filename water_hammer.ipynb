{
 "cells": [
  {
   "cell_type": "code",
   "execution_count": 1,
   "metadata": {
    "collapsed": false
   },
   "outputs": [
    {
     "name": "stdout",
     "output_type": "stream",
     "text": [
      "Populating the interactive namespace from numpy and matplotlib\n"
     ]
    }
   ],
   "source": [
    "from allthethings import PyNetwork, PyPipe_ps\n",
    "from allthethings import PyBC_opt_dh\n",
    "import numpy as np\n",
    "import matplotlib.pyplot as plt\n",
    "%pylab inline"
   ]
  },
  {
   "cell_type": "code",
   "execution_count": 2,
   "metadata": {
    "collapsed": false
   },
   "outputs": [
    {
     "name": "stdout",
     "output_type": "stream",
     "text": [
      "[1200.0]\n",
      "0.286164472251\n"
     ]
    }
   ],
   "source": [
    "fi = \"indata/waterhammer.inp\"\n",
    "fc = \"indata/waterhammer.config\"\n",
    "mtype = 1\n",
    "n1 = PyNetwork(fi,fc,mtype)\n",
    "M = n1.M\n",
    "N = n1.Ns[0]\n",
    "L = n1.Ls[0]\n",
    "a = n1.a[0]\n",
    "T1 =n1.T\n",
    "D = n1.Ds[0]\n",
    "p1 = PyPipe_ps(N, D, L, M, a)\n",
    "dt = T1/M\n",
    "print n1.a\n",
    "e0 = D*D*np.pi/4.-p1.AofH(0.015, False)\n",
    "e0 = 0.008\n",
    "print e0/p1.AofH(0.1,True)\n",
    "b0= e0*np.ones(M+1)\n"
   ]
  },
  {
   "cell_type": "code",
   "execution_count": 3,
   "metadata": {
    "collapsed": false
   },
   "outputs": [],
   "source": [
    "n1.runForwardProblem(dt)"
   ]
  },
  {
   "cell_type": "code",
   "execution_count": 4,
   "metadata": {
    "collapsed": false
   },
   "outputs": [],
   "source": [
    "q = n1.q(0)\n",
    "h = n1.getHofA(0)\n",
    "qhist = n1.qhist(0)"
   ]
  },
  {
   "cell_type": "code",
   "execution_count": 5,
   "metadata": {
    "collapsed": true
   },
   "outputs": [],
   "source": [
    "def idx_t(i,j,n):\n",
    "    return (2*(N+2)*n+(N+2)*i+j)"
   ]
  },
  {
   "cell_type": "code",
   "execution_count": 32,
   "metadata": {
    "collapsed": false
   },
   "outputs": [
    {
     "name": "stdout",
     "output_type": "stream",
     "text": [
      "0.6002543885\n",
      "Af =0.196350 \n",
      "dH/dV = 122.448846\n",
      "a/g = 122.448980\n",
      "600\n"
     ]
    },
    {
     "data": {
      "image/png": "[encoded data removed]",
      "text/plain": [
       "<matplotlib.figure.Figure at 0x113762a50>"
      ]
     },
     "metadata": {},
     "output_type": "display_data"
    }
   ],
   "source": [
    "\n",
    "T1 = n1.T\n",
    "t = linspace(0,T1, M+1)\n",
    "\n",
    "\n",
    "A0 = 150;\n",
    "Q0 = .1;\n",
    "n7 = 599\n",
    "\n",
    "A = [p1.HofA(qhist[idx_t(0,n7,n)], True)/A0 for n in range(M+1)]\n",
    "Q = [qhist[idx_t(1,0,n)]/Q0 for n in range(M+1)]\n",
    "Q2 = [qhist[idx_t(1,n7-10,n)] for n in range(M+1)]\n",
    "#P0 = [p1.HofA(qhist[idx_t(0,0,n)], False) for n in range(M+1)]\n",
    "\n",
    "rc('text', usetex=True)        #for tex rendering. \n",
    "rc('font', family='serif')     #for pretty font \n",
    "print dt/n1.Ls[0]*n1.Ns[0]*n1.cmax[0]\n",
    "fig = plt.figure(figsize=(10,3))\n",
    "ax = fig.add_subplot(111)\n",
    "Af =.25**2*np.pi\n",
    "print \"Af =%f \"%Af\n",
    "dH = (max(A)-min(A[0:-2]))*A0\n",
    "dV = 2*Q0/Af\n",
    "print \"dH/dV = %f\" %(dH/dV)\n",
    "print \"a/g = %f\" %(a/9.8)\n",
    "ax.plot(t,A,linewidth=2)\n",
    "ax.plot(t,Q,'--',lw=2)\n",
    "ax.set_xlabel('t (s)')\n",
    "ax.set_ylim((-1.65,1.5))\n",
    "ax.legend([r'$h/h_0$',r'$Q/Q_0$'],loc = 'lower left', ncol=2)#bbox_to_anchor=(0., 1.02, 1., .102), loc=3,\n",
    "#           ncol=2, borderaxespad=0.)\n",
    "#title(\"|dH/dV - a/g| = %.4f\" %(fabs(dH/dV-a/9.8)))\n",
    "print n1.Ns[0]\n",
    "savefig(\"../waterhammergood.eps\", format='eps')\n"
   ]
  },
  {
   "cell_type": "code",
   "execution_count": 7,
   "metadata": {
    "collapsed": false
   },
   "outputs": [],
   "source": [
    "dx = n1.Ls[0]/n1.Ns[0]"
   ]
  },
  {
   "cell_type": "code",
   "execution_count": 8,
   "metadata": {
    "collapsed": false
   },
   "outputs": [
    {
     "name": "stdout",
     "output_type": "stream",
     "text": [
      "0.6\n"
     ]
    }
   ],
   "source": [
    "print dt/dx*n1.a[0]"
   ]
  },
  {
   "cell_type": "raw",
   "metadata": {
    "collapsed": true
   },
   "source": []
  },
  {
   "cell_type": "code",
   "execution_count": 9,
   "metadata": {
    "collapsed": false
   },
   "outputs": [
    {
     "name": "stdout",
     "output_type": "stream",
     "text": [
      "0.000133854104561\n"
     ]
    }
   ],
   "source": [
    "print fabs(dH/dV-a/9.8)"
   ]
  },
  {
   "cell_type": "code",
   "execution_count": 34,
   "metadata": {
    "collapsed": false
   },
   "outputs": [
    {
     "name": "stdout",
     "output_type": "stream",
     "text": [
      "[600]\n"
     ]
    }
   ],
   "source": [
    "print n1.Ns\n",
    "\n"
   ]
  },
  {
   "cell_type": "code",
   "execution_count": null,
   "metadata": {
    "collapsed": true
   },
   "outputs": [],
   "source": []
  }
 ],
 "metadata": {
  "kernelspec": {
   "display_name": "Python 2",
   "language": "python",
   "name": "python2"
  },
  "language_info": {
   "codemirror_mode": {
    "name": "ipython",
    "version": 2
   },
   "file_extension": ".py",
   "mimetype": "text/x-python",
   "name": "python",
   "nbconvert_exporter": "python",
   "pygments_lexer": "ipython2",
   "version": "2.7.9"
  }
 },
 "nbformat": 4,
 "nbformat_minor": 0
}
